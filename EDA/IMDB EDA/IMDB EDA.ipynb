{
 "cells": [
  {
   "cell_type": "markdown",
   "source": [
    "# IMDB EDA"
   ],
   "metadata": {
    "collapsed": false
   }
  },
  {
   "cell_type": "code",
   "execution_count": 46,
   "outputs": [
    {
     "data": {
      "text/html": "        <script type=\"text/javascript\">\n        window.PlotlyConfig = {MathJaxConfig: 'local'};\n        if (window.MathJax && window.MathJax.Hub && window.MathJax.Hub.Config) {window.MathJax.Hub.Config({SVG: {font: \"STIX-Web\"}});}\n        if (typeof require !== 'undefined') {\n        require.undef(\"plotly\");\n        requirejs.config({\n            paths: {\n                'plotly': ['https://cdn.plot.ly/plotly-2.12.1.min']\n            }\n        });\n        require(['plotly'], function(Plotly) {\n            window._Plotly = Plotly;\n        });\n        }\n        </script>\n        "
     },
     "metadata": {},
     "output_type": "display_data"
    },
    {
     "data": {
      "text/html": "        <script type=\"text/javascript\">\n        window.PlotlyConfig = {MathJaxConfig: 'local'};\n        if (window.MathJax && window.MathJax.Hub && window.MathJax.Hub.Config) {window.MathJax.Hub.Config({SVG: {font: \"STIX-Web\"}});}\n        if (typeof require !== 'undefined') {\n        require.undef(\"plotly\");\n        requirejs.config({\n            paths: {\n                'plotly': ['https://cdn.plot.ly/plotly-2.12.1.min']\n            }\n        });\n        require(['plotly'], function(Plotly) {\n            window._Plotly = Plotly;\n        });\n        }\n        </script>\n        "
     },
     "metadata": {},
     "output_type": "display_data"
    }
   ],
   "source": [
    "import pandas as pd\n",
    "import numpy as np\n",
    "import matplotlib.pyplot as plt\n",
    "import seaborn as sns\n",
    "import plotly as py\n",
    "py.offline.init_notebook_mode(connected=True)\n",
    "from plotly.offline import iplot\n",
    "import cufflinks as cf\n",
    "cf.go_offline(connected=True)\n",
    "import warnings\n",
    "warnings.filterwarnings(\"ignore\")"
   ],
   "metadata": {
    "collapsed": false,
    "ExecuteTime": {
     "end_time": "2023-08-02T06:50:46.761251500Z",
     "start_time": "2023-08-02T06:50:46.515584800Z"
    }
   }
  },
  {
   "cell_type": "markdown",
   "source": [
    "## Loading the data"
   ],
   "metadata": {
    "collapsed": false
   }
  },
  {
   "cell_type": "code",
   "execution_count": 48,
   "outputs": [
    {
     "data": {
      "text/plain": "                                           movie  \\\n0                                    The Witcher   \n1  Mission: Impossible - Dead Reckoning Part One   \n2                               Sound of Freedom   \n3                                Secret Invasion   \n4                           Special Ops: Lioness   \n5                             They Cloned Tyrone   \n6                  Star Trek: Strange New Worlds   \n7                                      One Piece   \n8                                  Twisted Metal   \n9                                      The Flash   \n\n                                     genre  runtime certificate  rating  \\\n0     Action, Adventure, Drama               60 min           A     8.1   \n1  Action, Adventure, Thriller              163 min          UA     8.0   \n2     Action, Biography, Drama              131 min       PG-13     7.9   \n3     Action, Adventure, Drama               47 min      UA 16+     6.2   \n4      Action, Drama, Thriller                  NaN         NaN     7.5   \n5      Action, Comedy, Mystery              122 min           R     6.7   \n6    Action, Adventure, Sci-Fi               52 min   Not Rated     8.3   \n7    Action, Adventure, Comedy                  NaN         NaN     NaN   \n8    Action, Adventure, Comedy               30 min         NaN     7.5   \n9   Action, Adventure, Fantasy              144 min          UA     6.9   \n\n                                               stars  \\\n0  ['Henry Cavill, ', 'Freya Allan, ', 'Anya Chal...   \n1  ['Tom Cruise, ', 'Hayley Atwell, ', 'Ving Rham...   \n2  ['Jim Caviezel, ', 'Mira Sorvino, ', 'Bill Cam...   \n3  ['Samuel L. Jackson, ', 'Emilia Clarke, ', 'Do...   \n4  ['Zoe Saldana, ', 'Laysla De Oliveira, ', 'Dav...   \n5  ['John Boyega, ', 'Jamie Foxx, ', 'Teyonah Par...   \n6  ['Anson Mount, ', 'Ethan Peck, ', 'Christina C...   \n7  ['Iñaki Godoy, ', 'Mackenyu, ', 'Emily Rudd, '...   \n8  ['Anthony Mackie, ', 'Tahj Vaughans, ', 'Steph...   \n9  ['Ezra Miller, ', 'Michael Keaton, ', 'Sasha C...   \n\n                                         description     votes  \\\n0  Geralt of Rivia, a solitary monster hunter, st...  5,39,085   \n1  Ethan Hunt and his IMF team must track down a ...  1,06,759   \n2  The incredible true story of a former governme...    41,808   \n3  Fury and Talos try to stop the Skrulls who hav...    40,536   \n4  Joe attempts to balance her personal and profe...     3,203   \n5  A series of eerie events thrusts an unlikely t...    14,271   \n6  A prequel to Star Trek: The Original Series, t...    45,723   \n7  In a seafaring world, a young pirate captain s...       NaN   \n8  Follows a motor-mouthed outsider offered a cha...     4,334   \n9  Barry Allen uses his super speed to change the...  1,26,445   \n\n                    director  \n0                        NaN  \n1  ['Christopher McQuarrie']  \n2   ['Alejandro Monteverde']  \n3                        NaN  \n4                        NaN  \n5            ['Juel Taylor']  \n6                        NaN  \n7                        NaN  \n8                        NaN  \n9        ['Andy Muschietti']  ",
      "text/html": "<div>\n<style scoped>\n    .dataframe tbody tr th:only-of-type {\n        vertical-align: middle;\n    }\n\n    .dataframe tbody tr th {\n        vertical-align: top;\n    }\n\n    .dataframe thead th {\n        text-align: right;\n    }\n</style>\n<table border=\"1\" class=\"dataframe\">\n  <thead>\n    <tr style=\"text-align: right;\">\n      <th></th>\n      <th>movie</th>\n      <th>genre</th>\n      <th>runtime</th>\n      <th>certificate</th>\n      <th>rating</th>\n      <th>stars</th>\n      <th>description</th>\n      <th>votes</th>\n      <th>director</th>\n    </tr>\n  </thead>\n  <tbody>\n    <tr>\n      <th>0</th>\n      <td>The Witcher</td>\n      <td>Action, Adventure, Drama</td>\n      <td>60 min</td>\n      <td>A</td>\n      <td>8.1</td>\n      <td>['Henry Cavill, ', 'Freya Allan, ', 'Anya Chal...</td>\n      <td>Geralt of Rivia, a solitary monster hunter, st...</td>\n      <td>5,39,085</td>\n      <td>NaN</td>\n    </tr>\n    <tr>\n      <th>1</th>\n      <td>Mission: Impossible - Dead Reckoning Part One</td>\n      <td>Action, Adventure, Thriller</td>\n      <td>163 min</td>\n      <td>UA</td>\n      <td>8.0</td>\n      <td>['Tom Cruise, ', 'Hayley Atwell, ', 'Ving Rham...</td>\n      <td>Ethan Hunt and his IMF team must track down a ...</td>\n      <td>1,06,759</td>\n      <td>['Christopher McQuarrie']</td>\n    </tr>\n    <tr>\n      <th>2</th>\n      <td>Sound of Freedom</td>\n      <td>Action, Biography, Drama</td>\n      <td>131 min</td>\n      <td>PG-13</td>\n      <td>7.9</td>\n      <td>['Jim Caviezel, ', 'Mira Sorvino, ', 'Bill Cam...</td>\n      <td>The incredible true story of a former governme...</td>\n      <td>41,808</td>\n      <td>['Alejandro Monteverde']</td>\n    </tr>\n    <tr>\n      <th>3</th>\n      <td>Secret Invasion</td>\n      <td>Action, Adventure, Drama</td>\n      <td>47 min</td>\n      <td>UA 16+</td>\n      <td>6.2</td>\n      <td>['Samuel L. Jackson, ', 'Emilia Clarke, ', 'Do...</td>\n      <td>Fury and Talos try to stop the Skrulls who hav...</td>\n      <td>40,536</td>\n      <td>NaN</td>\n    </tr>\n    <tr>\n      <th>4</th>\n      <td>Special Ops: Lioness</td>\n      <td>Action, Drama, Thriller</td>\n      <td>NaN</td>\n      <td>NaN</td>\n      <td>7.5</td>\n      <td>['Zoe Saldana, ', 'Laysla De Oliveira, ', 'Dav...</td>\n      <td>Joe attempts to balance her personal and profe...</td>\n      <td>3,203</td>\n      <td>NaN</td>\n    </tr>\n    <tr>\n      <th>5</th>\n      <td>They Cloned Tyrone</td>\n      <td>Action, Comedy, Mystery</td>\n      <td>122 min</td>\n      <td>R</td>\n      <td>6.7</td>\n      <td>['John Boyega, ', 'Jamie Foxx, ', 'Teyonah Par...</td>\n      <td>A series of eerie events thrusts an unlikely t...</td>\n      <td>14,271</td>\n      <td>['Juel Taylor']</td>\n    </tr>\n    <tr>\n      <th>6</th>\n      <td>Star Trek: Strange New Worlds</td>\n      <td>Action, Adventure, Sci-Fi</td>\n      <td>52 min</td>\n      <td>Not Rated</td>\n      <td>8.3</td>\n      <td>['Anson Mount, ', 'Ethan Peck, ', 'Christina C...</td>\n      <td>A prequel to Star Trek: The Original Series, t...</td>\n      <td>45,723</td>\n      <td>NaN</td>\n    </tr>\n    <tr>\n      <th>7</th>\n      <td>One Piece</td>\n      <td>Action, Adventure, Comedy</td>\n      <td>NaN</td>\n      <td>NaN</td>\n      <td>NaN</td>\n      <td>['Iñaki Godoy, ', 'Mackenyu, ', 'Emily Rudd, '...</td>\n      <td>In a seafaring world, a young pirate captain s...</td>\n      <td>NaN</td>\n      <td>NaN</td>\n    </tr>\n    <tr>\n      <th>8</th>\n      <td>Twisted Metal</td>\n      <td>Action, Adventure, Comedy</td>\n      <td>30 min</td>\n      <td>NaN</td>\n      <td>7.5</td>\n      <td>['Anthony Mackie, ', 'Tahj Vaughans, ', 'Steph...</td>\n      <td>Follows a motor-mouthed outsider offered a cha...</td>\n      <td>4,334</td>\n      <td>NaN</td>\n    </tr>\n    <tr>\n      <th>9</th>\n      <td>The Flash</td>\n      <td>Action, Adventure, Fantasy</td>\n      <td>144 min</td>\n      <td>UA</td>\n      <td>6.9</td>\n      <td>['Ezra Miller, ', 'Michael Keaton, ', 'Sasha C...</td>\n      <td>Barry Allen uses his super speed to change the...</td>\n      <td>1,26,445</td>\n      <td>['Andy Muschietti']</td>\n    </tr>\n  </tbody>\n</table>\n</div>"
     },
     "execution_count": 48,
     "metadata": {},
     "output_type": "execute_result"
    }
   ],
   "source": [
    "data=pd.read_csv(\"IMBD.csv\")\n",
    "data.head(10)"
   ],
   "metadata": {
    "collapsed": false,
    "ExecuteTime": {
     "end_time": "2023-08-02T06:50:47.642205700Z",
     "start_time": "2023-08-02T06:50:46.571474100Z"
    }
   }
  },
  {
   "cell_type": "markdown",
   "source": [
    "## Preprocessing"
   ],
   "metadata": {
    "collapsed": false
   }
  },
  {
   "cell_type": "code",
   "execution_count": 49,
   "outputs": [
    {
     "name": "stdout",
     "output_type": "stream",
     "text": [
      "<class 'pandas.core.frame.DataFrame'>\n",
      "RangeIndex: 129891 entries, 0 to 129890\n",
      "Data columns (total 9 columns):\n",
      " #   Column       Non-Null Count   Dtype  \n",
      "---  ------       --------------   -----  \n",
      " 0   movie        129891 non-null  object \n",
      " 1   genre        129891 non-null  object \n",
      " 2   runtime      109005 non-null  object \n",
      " 3   certificate  23850 non-null   object \n",
      " 4   rating       114381 non-null  float64\n",
      " 5   stars        124676 non-null  object \n",
      " 6   description  129891 non-null  object \n",
      " 7   votes        114393 non-null  object \n",
      " 8   director     88611 non-null   object \n",
      "dtypes: float64(1), object(8)\n",
      "memory usage: 90.8 MB\n"
     ]
    }
   ],
   "source": [
    "data.info(memory_usage=\"deep\")"
   ],
   "metadata": {
    "collapsed": false,
    "ExecuteTime": {
     "end_time": "2023-08-02T06:50:47.927346600Z",
     "start_time": "2023-08-02T06:50:47.642205700Z"
    }
   }
  },
  {
   "cell_type": "code",
   "execution_count": 50,
   "outputs": [
    {
     "data": {
      "text/plain": "movie               0\ngenre               0\nruntime         20886\ncertificate    106041\nrating          15510\nstars            5215\ndescription         0\nvotes           15498\ndirector        41280\ndtype: int64"
     },
     "execution_count": 50,
     "metadata": {},
     "output_type": "execute_result"
    }
   ],
   "source": [
    "data.isna().sum()"
   ],
   "metadata": {
    "collapsed": false,
    "ExecuteTime": {
     "end_time": "2023-08-02T06:50:48.043228100Z",
     "start_time": "2023-08-02T06:50:47.927346600Z"
    }
   }
  },
  {
   "cell_type": "code",
   "execution_count": 51,
   "outputs": [],
   "source": [
    "data[\"runtime\"]=data[\"runtime\"].fillna(\"0 min\")"
   ],
   "metadata": {
    "collapsed": false,
    "ExecuteTime": {
     "end_time": "2023-08-02T06:50:48.089582Z",
     "start_time": "2023-08-02T06:50:48.043228100Z"
    }
   }
  },
  {
   "cell_type": "code",
   "execution_count": 52,
   "outputs": [
    {
     "data": {
      "text/plain": "        runtime\n0        60 min\n1       163 min\n2       131 min\n3        47 min\n4         0 min\n...         ...\n129886   10 min\n129887   73 min\n129888   60 min\n129889    0 min\n129890    0 min\n\n[129891 rows x 1 columns]",
      "text/html": "<div>\n<style scoped>\n    .dataframe tbody tr th:only-of-type {\n        vertical-align: middle;\n    }\n\n    .dataframe tbody tr th {\n        vertical-align: top;\n    }\n\n    .dataframe thead th {\n        text-align: right;\n    }\n</style>\n<table border=\"1\" class=\"dataframe\">\n  <thead>\n    <tr style=\"text-align: right;\">\n      <th></th>\n      <th>runtime</th>\n    </tr>\n  </thead>\n  <tbody>\n    <tr>\n      <th>0</th>\n      <td>60 min</td>\n    </tr>\n    <tr>\n      <th>1</th>\n      <td>163 min</td>\n    </tr>\n    <tr>\n      <th>2</th>\n      <td>131 min</td>\n    </tr>\n    <tr>\n      <th>3</th>\n      <td>47 min</td>\n    </tr>\n    <tr>\n      <th>4</th>\n      <td>0 min</td>\n    </tr>\n    <tr>\n      <th>...</th>\n      <td>...</td>\n    </tr>\n    <tr>\n      <th>129886</th>\n      <td>10 min</td>\n    </tr>\n    <tr>\n      <th>129887</th>\n      <td>73 min</td>\n    </tr>\n    <tr>\n      <th>129888</th>\n      <td>60 min</td>\n    </tr>\n    <tr>\n      <th>129889</th>\n      <td>0 min</td>\n    </tr>\n    <tr>\n      <th>129890</th>\n      <td>0 min</td>\n    </tr>\n  </tbody>\n</table>\n<p>129891 rows × 1 columns</p>\n</div>"
     },
     "execution_count": 52,
     "metadata": {},
     "output_type": "execute_result"
    }
   ],
   "source": [
    "data[~data[\"runtime\"].str.isnumeric()].loc[:,[\"runtime\"]]"
   ],
   "metadata": {
    "collapsed": false,
    "ExecuteTime": {
     "end_time": "2023-08-02T06:50:48.205957300Z",
     "start_time": "2023-08-02T06:50:48.087509600Z"
    }
   }
  },
  {
   "cell_type": "markdown",
   "source": [
    "I think this list also includes TV series so runtime is kind of useless"
   ],
   "metadata": {
    "collapsed": false
   }
  },
  {
   "cell_type": "markdown",
   "source": [
    "## EDA\n",
    "### Movie with Highest Votes and Rating"
   ],
   "metadata": {
    "collapsed": false
   }
  },
  {
   "cell_type": "code",
   "execution_count": 53,
   "outputs": [],
   "source": [
    "data[\"votes\"].fillna(\"0\",inplace=True)\n"
   ],
   "metadata": {
    "collapsed": false,
    "ExecuteTime": {
     "end_time": "2023-08-02T06:50:48.290583700Z",
     "start_time": "2023-08-02T06:50:48.205957300Z"
    }
   }
  },
  {
   "cell_type": "code",
   "execution_count": 54,
   "outputs": [
    {
     "data": {
      "text/plain": "0         539085\n1         106759\n2          41808\n3          40536\n4           3203\n           ...  \n129886         0\n129887         0\n129888         0\n129889         0\n129890         0\nName: votes, Length: 129891, dtype: object"
     },
     "execution_count": 54,
     "metadata": {},
     "output_type": "execute_result"
    }
   ],
   "source": [
    "data[\"votes\"]=data[\"votes\"].str.replace(\",\",\"\")\n",
    "data[\"votes\"]"
   ],
   "metadata": {
    "collapsed": false,
    "ExecuteTime": {
     "end_time": "2023-08-02T06:50:48.414375100Z",
     "start_time": "2023-08-02T06:50:48.243719100Z"
    }
   }
  },
  {
   "cell_type": "code",
   "execution_count": 55,
   "outputs": [],
   "source": [
    "data[\"votes\"]=data[\"votes\"].str.strip()"
   ],
   "metadata": {
    "collapsed": false,
    "ExecuteTime": {
     "end_time": "2023-08-02T06:50:48.494680800Z",
     "start_time": "2023-08-02T06:50:48.383131100Z"
    }
   }
  },
  {
   "cell_type": "code",
   "execution_count": 56,
   "outputs": [],
   "source": [
    "data.loc[:,\"votes\"][data[\"votes\"].str.isnumeric()==False]=\"0\"\n"
   ],
   "metadata": {
    "collapsed": false,
    "ExecuteTime": {
     "end_time": "2023-08-02T06:50:48.559854Z",
     "start_time": "2023-08-02T06:50:48.463440300Z"
    }
   }
  },
  {
   "cell_type": "code",
   "execution_count": 57,
   "outputs": [],
   "source": [
    "data[\"votes\"]=data[\"votes\"].astype(\"float\").astype(\"Int64\")"
   ],
   "metadata": {
    "collapsed": false,
    "ExecuteTime": {
     "end_time": "2023-08-02T06:50:48.659609900Z",
     "start_time": "2023-08-02T06:50:48.559854Z"
    }
   }
  },
  {
   "cell_type": "code",
   "execution_count": 58,
   "outputs": [
    {
     "data": {
      "text/plain": "                          movie                                 genre  \\\n0               Game of Thrones  Action, Adventure, Drama               \n1                  Breaking Bad    Crime, Drama, Thriller               \n2               Stranger Things    Drama, Fantasy, Horror               \n3              The Walking Dead   Drama, Horror, Thriller               \n4                       Friends           Comedy, Romance               \n...                         ...                                   ...   \n115983                   Covers            Drama, Musical               \n115984            Ode to Harold            Short, Musical               \n115985   Blondie of the Follies           Comedy, Musical               \n115986  Sawan Mein Lag Gayi Aag            Short, Musical               \n115987     The End of the Trail            Short, Western               \n\n        runtime certificate  rating  \\\n0        57 min           A     9.2   \n1        49 min          18     9.5   \n2        51 min          15     8.7   \n3        44 min         18+     8.1   \n4        22 min         13+     8.9   \n...         ...         ...     ...   \n115983  108 min         NaN     NaN   \n115984    0 min         NaN     NaN   \n115985   91 min         NaN     6.4   \n115986    0 min         NaN     NaN   \n115987    0 min         NaN     NaN   \n\n                                                    stars  \\\n0       ['Emilia Clarke, ', 'Peter Dinklage, ', 'Kit H...   \n1       ['Bryan Cranston, ', 'Aaron Paul, ', 'Anna Gun...   \n2       ['Millie Bobby Brown, ', 'Finn Wolfhard, ', 'W...   \n3       ['Andrew Lincoln, ', 'Norman Reedus, ', 'Melis...   \n4       ['Jennifer Aniston, ', 'Courteney Cox, ', 'Lis...   \n...                                                   ...   \n115983  ['Tristan Mack Wilds, ', 'Malcolm M. Mays, ', ...   \n115984                 ['Mark Casimir Dyniewicz Jr.', '']   \n115985  ['Marion Davies, ', 'Robert Montgomery, ', 'Bi...   \n115986  ['Gulshan Grover, ', 'Smriti Malhotra-Irani, '...   \n115987                                                NaN   \n\n                                              description    votes  \\\n0       Nine noble families fight for control over the...  2186980   \n1       A chemistry teacher diagnosed with inoperable ...  2012179   \n2       When a young boy disappears, his mother, a pol...  1261882   \n3       Sheriff Deputy Rick Grimes wakes up from a com...  1038338   \n4       Follows the personal and professional lives of...  1037385   \n...                                                   ...      ...   \n115983           Dark Past. Bright Future. Sound Choices.        0   \n115984  A series of reenacted musical numbers inspired...        0   \n115985  Two young women find their friendship strained...        0   \n115986                                       Add a Plot\\n        0   \n115987  It was only a lovers' quarrel, and had Marion ...        0   \n\n                     director  \n0                         NaN  \n1                         NaN  \n2                         NaN  \n3                         NaN  \n4                         NaN  \n...                       ...  \n115983    ['Malcolm M. Mays']  \n115984                    NaN  \n115985    ['Edmund Goulding']  \n115986                    NaN  \n115987  ['Milton J. Fahrney']  \n\n[115988 rows x 9 columns]",
      "text/html": "<div>\n<style scoped>\n    .dataframe tbody tr th:only-of-type {\n        vertical-align: middle;\n    }\n\n    .dataframe tbody tr th {\n        vertical-align: top;\n    }\n\n    .dataframe thead th {\n        text-align: right;\n    }\n</style>\n<table border=\"1\" class=\"dataframe\">\n  <thead>\n    <tr style=\"text-align: right;\">\n      <th></th>\n      <th>movie</th>\n      <th>genre</th>\n      <th>runtime</th>\n      <th>certificate</th>\n      <th>rating</th>\n      <th>stars</th>\n      <th>description</th>\n      <th>votes</th>\n      <th>director</th>\n    </tr>\n  </thead>\n  <tbody>\n    <tr>\n      <th>0</th>\n      <td>Game of Thrones</td>\n      <td>Action, Adventure, Drama</td>\n      <td>57 min</td>\n      <td>A</td>\n      <td>9.2</td>\n      <td>['Emilia Clarke, ', 'Peter Dinklage, ', 'Kit H...</td>\n      <td>Nine noble families fight for control over the...</td>\n      <td>2186980</td>\n      <td>NaN</td>\n    </tr>\n    <tr>\n      <th>1</th>\n      <td>Breaking Bad</td>\n      <td>Crime, Drama, Thriller</td>\n      <td>49 min</td>\n      <td>18</td>\n      <td>9.5</td>\n      <td>['Bryan Cranston, ', 'Aaron Paul, ', 'Anna Gun...</td>\n      <td>A chemistry teacher diagnosed with inoperable ...</td>\n      <td>2012179</td>\n      <td>NaN</td>\n    </tr>\n    <tr>\n      <th>2</th>\n      <td>Stranger Things</td>\n      <td>Drama, Fantasy, Horror</td>\n      <td>51 min</td>\n      <td>15</td>\n      <td>8.7</td>\n      <td>['Millie Bobby Brown, ', 'Finn Wolfhard, ', 'W...</td>\n      <td>When a young boy disappears, his mother, a pol...</td>\n      <td>1261882</td>\n      <td>NaN</td>\n    </tr>\n    <tr>\n      <th>3</th>\n      <td>The Walking Dead</td>\n      <td>Drama, Horror, Thriller</td>\n      <td>44 min</td>\n      <td>18+</td>\n      <td>8.1</td>\n      <td>['Andrew Lincoln, ', 'Norman Reedus, ', 'Melis...</td>\n      <td>Sheriff Deputy Rick Grimes wakes up from a com...</td>\n      <td>1038338</td>\n      <td>NaN</td>\n    </tr>\n    <tr>\n      <th>4</th>\n      <td>Friends</td>\n      <td>Comedy, Romance</td>\n      <td>22 min</td>\n      <td>13+</td>\n      <td>8.9</td>\n      <td>['Jennifer Aniston, ', 'Courteney Cox, ', 'Lis...</td>\n      <td>Follows the personal and professional lives of...</td>\n      <td>1037385</td>\n      <td>NaN</td>\n    </tr>\n    <tr>\n      <th>...</th>\n      <td>...</td>\n      <td>...</td>\n      <td>...</td>\n      <td>...</td>\n      <td>...</td>\n      <td>...</td>\n      <td>...</td>\n      <td>...</td>\n      <td>...</td>\n    </tr>\n    <tr>\n      <th>115983</th>\n      <td>Covers</td>\n      <td>Drama, Musical</td>\n      <td>108 min</td>\n      <td>NaN</td>\n      <td>NaN</td>\n      <td>['Tristan Mack Wilds, ', 'Malcolm M. Mays, ', ...</td>\n      <td>Dark Past. Bright Future. Sound Choices.</td>\n      <td>0</td>\n      <td>['Malcolm M. Mays']</td>\n    </tr>\n    <tr>\n      <th>115984</th>\n      <td>Ode to Harold</td>\n      <td>Short, Musical</td>\n      <td>0 min</td>\n      <td>NaN</td>\n      <td>NaN</td>\n      <td>['Mark Casimir Dyniewicz Jr.', '']</td>\n      <td>A series of reenacted musical numbers inspired...</td>\n      <td>0</td>\n      <td>NaN</td>\n    </tr>\n    <tr>\n      <th>115985</th>\n      <td>Blondie of the Follies</td>\n      <td>Comedy, Musical</td>\n      <td>91 min</td>\n      <td>NaN</td>\n      <td>6.4</td>\n      <td>['Marion Davies, ', 'Robert Montgomery, ', 'Bi...</td>\n      <td>Two young women find their friendship strained...</td>\n      <td>0</td>\n      <td>['Edmund Goulding']</td>\n    </tr>\n    <tr>\n      <th>115986</th>\n      <td>Sawan Mein Lag Gayi Aag</td>\n      <td>Short, Musical</td>\n      <td>0 min</td>\n      <td>NaN</td>\n      <td>NaN</td>\n      <td>['Gulshan Grover, ', 'Smriti Malhotra-Irani, '...</td>\n      <td>Add a Plot\\n</td>\n      <td>0</td>\n      <td>NaN</td>\n    </tr>\n    <tr>\n      <th>115987</th>\n      <td>The End of the Trail</td>\n      <td>Short, Western</td>\n      <td>0 min</td>\n      <td>NaN</td>\n      <td>NaN</td>\n      <td>NaN</td>\n      <td>It was only a lovers' quarrel, and had Marion ...</td>\n      <td>0</td>\n      <td>['Milton J. Fahrney']</td>\n    </tr>\n  </tbody>\n</table>\n<p>115988 rows × 9 columns</p>\n</div>"
     },
     "execution_count": 58,
     "metadata": {},
     "output_type": "execute_result"
    }
   ],
   "source": [
    "temp=data.sort_values(by=\"votes\",ascending=False).reset_index(drop=True)\n",
    "temp.drop_duplicates(inplace=True,subset=\"movie\",ignore_index=True)\n",
    "temp"
   ],
   "metadata": {
    "collapsed": false,
    "ExecuteTime": {
     "end_time": "2023-08-02T06:50:48.891243900Z",
     "start_time": "2023-08-02T06:50:48.643996800Z"
    }
   }
  },
  {
   "cell_type": "code",
   "execution_count": 59,
   "outputs": [
    {
     "data": {
      "text/plain": "                    movie    votes  rating\n0         Game of Thrones  2186980     9.2\n1            Breaking Bad  2012179     9.5\n2         Stranger Things  1261882     8.7\n3        The Walking Dead  1038338     8.1\n4                 Friends  1037385     8.9\n5                Sherlock   959882     9.1\n6     The Big Bang Theory   835833     8.2\n7               Chernobyl   810896     9.4\n8                  Dexter   743373     8.7\n9   How I Met Your Mother   706458     8.3\n10             The Office   655836     9.0\n11           Black Mirror   602998     8.7\n12         True Detective   602879     8.9\n13         Peaky Blinders   594258     8.8\n14       Better Call Saul   592745     9.0",
      "text/html": "<div>\n<style scoped>\n    .dataframe tbody tr th:only-of-type {\n        vertical-align: middle;\n    }\n\n    .dataframe tbody tr th {\n        vertical-align: top;\n    }\n\n    .dataframe thead th {\n        text-align: right;\n    }\n</style>\n<table border=\"1\" class=\"dataframe\">\n  <thead>\n    <tr style=\"text-align: right;\">\n      <th></th>\n      <th>movie</th>\n      <th>votes</th>\n      <th>rating</th>\n    </tr>\n  </thead>\n  <tbody>\n    <tr>\n      <th>0</th>\n      <td>Game of Thrones</td>\n      <td>2186980</td>\n      <td>9.2</td>\n    </tr>\n    <tr>\n      <th>1</th>\n      <td>Breaking Bad</td>\n      <td>2012179</td>\n      <td>9.5</td>\n    </tr>\n    <tr>\n      <th>2</th>\n      <td>Stranger Things</td>\n      <td>1261882</td>\n      <td>8.7</td>\n    </tr>\n    <tr>\n      <th>3</th>\n      <td>The Walking Dead</td>\n      <td>1038338</td>\n      <td>8.1</td>\n    </tr>\n    <tr>\n      <th>4</th>\n      <td>Friends</td>\n      <td>1037385</td>\n      <td>8.9</td>\n    </tr>\n    <tr>\n      <th>5</th>\n      <td>Sherlock</td>\n      <td>959882</td>\n      <td>9.1</td>\n    </tr>\n    <tr>\n      <th>6</th>\n      <td>The Big Bang Theory</td>\n      <td>835833</td>\n      <td>8.2</td>\n    </tr>\n    <tr>\n      <th>7</th>\n      <td>Chernobyl</td>\n      <td>810896</td>\n      <td>9.4</td>\n    </tr>\n    <tr>\n      <th>8</th>\n      <td>Dexter</td>\n      <td>743373</td>\n      <td>8.7</td>\n    </tr>\n    <tr>\n      <th>9</th>\n      <td>How I Met Your Mother</td>\n      <td>706458</td>\n      <td>8.3</td>\n    </tr>\n    <tr>\n      <th>10</th>\n      <td>The Office</td>\n      <td>655836</td>\n      <td>9.0</td>\n    </tr>\n    <tr>\n      <th>11</th>\n      <td>Black Mirror</td>\n      <td>602998</td>\n      <td>8.7</td>\n    </tr>\n    <tr>\n      <th>12</th>\n      <td>True Detective</td>\n      <td>602879</td>\n      <td>8.9</td>\n    </tr>\n    <tr>\n      <th>13</th>\n      <td>Peaky Blinders</td>\n      <td>594258</td>\n      <td>8.8</td>\n    </tr>\n    <tr>\n      <th>14</th>\n      <td>Better Call Saul</td>\n      <td>592745</td>\n      <td>9.0</td>\n    </tr>\n  </tbody>\n</table>\n</div>"
     },
     "execution_count": 59,
     "metadata": {},
     "output_type": "execute_result"
    }
   ],
   "source": [
    "temp=temp.loc[:,[\"movie\",\"votes\",\"rating\"]]\n",
    "temp=temp.iloc[:15,:]\n",
    "temp"
   ],
   "metadata": {
    "collapsed": false,
    "ExecuteTime": {
     "end_time": "2023-08-02T06:50:49.007138700Z",
     "start_time": "2023-08-02T06:50:48.891243900Z"
    }
   }
  },
  {
   "cell_type": "code",
   "execution_count": 60,
   "outputs": [
    {
     "ename": "ValueError",
     "evalue": "\nImage export using the \"kaleido\" engine requires the kaleido package,\nwhich can be installed using pip:\n    $ pip install -U kaleido\n",
     "output_type": "error",
     "traceback": [
      "\u001B[1;31m---------------------------------------------------------------------------\u001B[0m",
      "\u001B[1;31mValueError\u001B[0m                                Traceback (most recent call last)",
      "Cell \u001B[1;32mIn[60], line 1\u001B[0m\n\u001B[1;32m----> 1\u001B[0m \u001B[43mtemp\u001B[49m\u001B[38;5;241;43m.\u001B[39;49m\u001B[43mset_index\u001B[49m\u001B[43m(\u001B[49m\u001B[38;5;124;43m\"\u001B[39;49m\u001B[38;5;124;43mmovie\u001B[39;49m\u001B[38;5;124;43m\"\u001B[39;49m\u001B[43m)\u001B[49m\u001B[38;5;241;43m.\u001B[39;49m\u001B[43mloc\u001B[49m\u001B[43m[\u001B[49m\u001B[43m:\u001B[49m\u001B[43m,\u001B[49m\u001B[38;5;124;43m\"\u001B[39;49m\u001B[38;5;124;43mvotes\u001B[39;49m\u001B[38;5;124;43m\"\u001B[39;49m\u001B[43m]\u001B[49m\u001B[38;5;241;43m.\u001B[39;49m\u001B[43miplot\u001B[49m\u001B[43m(\u001B[49m\u001B[43mkind\u001B[49m\u001B[38;5;241;43m=\u001B[39;49m\u001B[38;5;124;43m\"\u001B[39;49m\u001B[38;5;124;43mbar\u001B[39;49m\u001B[38;5;124;43m\"\u001B[39;49m\u001B[43m,\u001B[49m\u001B[43mxTitle\u001B[49m\u001B[38;5;241;43m=\u001B[39;49m\u001B[38;5;124;43m\"\u001B[39;49m\u001B[38;5;124;43mTV Series\u001B[39;49m\u001B[38;5;124;43m\"\u001B[39;49m\u001B[43m,\u001B[49m\u001B[43myTitle\u001B[49m\u001B[38;5;241;43m=\u001B[39;49m\u001B[38;5;124;43m\"\u001B[39;49m\u001B[38;5;124;43mVotes\u001B[39;49m\u001B[38;5;124;43m\"\u001B[39;49m\u001B[43m,\u001B[49m\u001B[43mtitle\u001B[49m\u001B[38;5;241;43m=\u001B[39;49m\u001B[38;5;124;43m\"\u001B[39;49m\u001B[38;5;124;43mMost Votes TV Series\u001B[39;49m\u001B[38;5;124;43m\"\u001B[39;49m\u001B[43m)\u001B[49m\n",
      "File \u001B[1;32m~\\anaconda3\\lib\\site-packages\\cufflinks\\plotlytools.py:1216\u001B[0m, in \u001B[0;36m_iplot\u001B[1;34m(self, kind, data, layout, filename, sharing, title, xTitle, yTitle, zTitle, theme, colors, colorscale, fill, width, dash, mode, interpolation, symbol, size, barmode, sortbars, bargap, bargroupgap, bins, histnorm, histfunc, orientation, boxpoints, annotations, keys, bestfit, bestfit_colors, mean, mean_colors, categories, x, y, z, text, gridcolor, zerolinecolor, margin, labels, values, secondary_y, secondary_y_title, subplots, shape, error_x, error_y, error_type, locations, lon, lat, asFrame, asDates, asFigure, asImage, dimensions, asPlot, asUrl, online, **kwargs)\u001B[0m\n\u001B[0;32m   1214\u001B[0m \t\u001B[38;5;28;01mreturn\u001B[39;00m Figure(figure)\n\u001B[0;32m   1215\u001B[0m \u001B[38;5;28;01melse\u001B[39;00m:\n\u001B[1;32m-> 1216\u001B[0m \t\u001B[38;5;28;01mreturn\u001B[39;00m \u001B[43miplot\u001B[49m\u001B[43m(\u001B[49m\u001B[43mfigure\u001B[49m\u001B[43m,\u001B[49m\u001B[43mvalidate\u001B[49m\u001B[38;5;241;43m=\u001B[39;49m\u001B[43mvalidate\u001B[49m\u001B[43m,\u001B[49m\u001B[43msharing\u001B[49m\u001B[38;5;241;43m=\u001B[39;49m\u001B[43msharing\u001B[49m\u001B[43m,\u001B[49m\u001B[43mfilename\u001B[49m\u001B[38;5;241;43m=\u001B[39;49m\u001B[43mfilename\u001B[49m\u001B[43m,\u001B[49m\n\u001B[0;32m   1217\u001B[0m \u001B[43m\t\t \u001B[49m\u001B[43monline\u001B[49m\u001B[38;5;241;43m=\u001B[39;49m\u001B[43monline\u001B[49m\u001B[43m,\u001B[49m\u001B[43masImage\u001B[49m\u001B[38;5;241;43m=\u001B[39;49m\u001B[43masImage\u001B[49m\u001B[43m,\u001B[49m\u001B[43masUrl\u001B[49m\u001B[38;5;241;43m=\u001B[39;49m\u001B[43masUrl\u001B[49m\u001B[43m,\u001B[49m\u001B[43masPlot\u001B[49m\u001B[38;5;241;43m=\u001B[39;49m\u001B[43masPlot\u001B[49m\u001B[43m,\u001B[49m\n\u001B[0;32m   1218\u001B[0m \u001B[43m\t\t \u001B[49m\u001B[43mdimensions\u001B[49m\u001B[38;5;241;43m=\u001B[39;49m\u001B[43mdimensions\u001B[49m\u001B[43m,\u001B[49m\u001B[43mdisplay_image\u001B[49m\u001B[38;5;241;43m=\u001B[39;49m\u001B[43mkwargs\u001B[49m\u001B[38;5;241;43m.\u001B[39;49m\u001B[43mget\u001B[49m\u001B[43m(\u001B[49m\u001B[38;5;124;43m'\u001B[39;49m\u001B[38;5;124;43mdisplay_image\u001B[39;49m\u001B[38;5;124;43m'\u001B[39;49m\u001B[43m,\u001B[49m\u001B[38;5;28;43;01mTrue\u001B[39;49;00m\u001B[43m)\u001B[49m\u001B[43m)\u001B[49m\n",
      "File \u001B[1;32m~\\anaconda3\\lib\\site-packages\\cufflinks\\plotlytools.py:1468\u001B[0m, in \u001B[0;36miplot\u001B[1;34m(figure, validate, sharing, filename, online, asImage, asUrl, asPlot, dimensions, display_image, **kwargs)\u001B[0m\n\u001B[0;32m   1466\u001B[0m \u001B[38;5;66;03m## iplot\u001B[39;00m\n\u001B[0;32m   1467\u001B[0m \u001B[38;5;28;01mif\u001B[39;00m offline\u001B[38;5;241m.\u001B[39mis_offline() \u001B[38;5;129;01mand\u001B[39;00m \u001B[38;5;129;01mnot\u001B[39;00m online:\t\n\u001B[1;32m-> 1468\u001B[0m \t\u001B[38;5;28;01mreturn\u001B[39;00m \u001B[43moffline\u001B[49m\u001B[38;5;241;43m.\u001B[39;49m\u001B[43mpy_offline\u001B[49m\u001B[38;5;241;43m.\u001B[39;49m\u001B[43miplot\u001B[49m\u001B[43m(\u001B[49m\u001B[43mfigure\u001B[49m\u001B[43m,\u001B[49m\u001B[43m \u001B[49m\u001B[43mvalidate\u001B[49m\u001B[38;5;241;43m=\u001B[39;49m\u001B[43mvalidate\u001B[49m\u001B[43m,\u001B[49m\u001B[43m \u001B[49m\u001B[43mfilename\u001B[49m\u001B[38;5;241;43m=\u001B[39;49m\u001B[43mfilename\u001B[49m\u001B[43m,\u001B[49m\u001B[43m \u001B[49m\u001B[43mshow_link\u001B[49m\u001B[38;5;241;43m=\u001B[39;49m\u001B[43mshow_link\u001B[49m\u001B[43m,\u001B[49m\u001B[43m \u001B[49m\u001B[43mlink_text\u001B[49m\u001B[38;5;241;43m=\u001B[39;49m\u001B[43mlink_text\u001B[49m\u001B[43m,\u001B[49m\u001B[43m \u001B[49m\u001B[43mconfig\u001B[49m\u001B[38;5;241;43m=\u001B[39;49m\u001B[43mconfig\u001B[49m\u001B[43m)\u001B[49m\n\u001B[0;32m   1469\u001B[0m \u001B[38;5;28;01melse\u001B[39;00m:\t\t\n\u001B[0;32m   1470\u001B[0m \t\u001B[38;5;28;01mreturn\u001B[39;00m py\u001B[38;5;241m.\u001B[39miplot(figure,validate\u001B[38;5;241m=\u001B[39mvalidate,sharing\u001B[38;5;241m=\u001B[39msharing,\n\u001B[0;32m   1471\u001B[0m \t\t\t\t\tfilename\u001B[38;5;241m=\u001B[39mfilename)\n",
      "File \u001B[1;32m~\\anaconda3\\lib\\site-packages\\plotly\\offline\\offline.py:392\u001B[0m, in \u001B[0;36miplot\u001B[1;34m(figure_or_data, show_link, link_text, validate, image, filename, image_width, image_height, config, auto_play, animation_opts)\u001B[0m\n\u001B[0;32m    387\u001B[0m post_script \u001B[38;5;241m=\u001B[39m build_save_image_post_script(\n\u001B[0;32m    388\u001B[0m     image, filename, image_height, image_width, \u001B[38;5;124m\"\u001B[39m\u001B[38;5;124miplot\u001B[39m\u001B[38;5;124m\"\u001B[39m\n\u001B[0;32m    389\u001B[0m )\n\u001B[0;32m    391\u001B[0m \u001B[38;5;66;03m# Show figure\u001B[39;00m\n\u001B[1;32m--> 392\u001B[0m \u001B[43mpio\u001B[49m\u001B[38;5;241;43m.\u001B[39;49m\u001B[43mshow\u001B[49m\u001B[43m(\u001B[49m\n\u001B[0;32m    393\u001B[0m \u001B[43m    \u001B[49m\u001B[43mfigure\u001B[49m\u001B[43m,\u001B[49m\n\u001B[0;32m    394\u001B[0m \u001B[43m    \u001B[49m\u001B[43mvalidate\u001B[49m\u001B[38;5;241;43m=\u001B[39;49m\u001B[43mvalidate\u001B[49m\u001B[43m,\u001B[49m\n\u001B[0;32m    395\u001B[0m \u001B[43m    \u001B[49m\u001B[43mconfig\u001B[49m\u001B[38;5;241;43m=\u001B[39;49m\u001B[43mconfig\u001B[49m\u001B[43m,\u001B[49m\n\u001B[0;32m    396\u001B[0m \u001B[43m    \u001B[49m\u001B[43mauto_play\u001B[49m\u001B[38;5;241;43m=\u001B[39;49m\u001B[43mauto_play\u001B[49m\u001B[43m,\u001B[49m\n\u001B[0;32m    397\u001B[0m \u001B[43m    \u001B[49m\u001B[43mpost_script\u001B[49m\u001B[38;5;241;43m=\u001B[39;49m\u001B[43mpost_script\u001B[49m\u001B[43m,\u001B[49m\n\u001B[0;32m    398\u001B[0m \u001B[43m    \u001B[49m\u001B[43manimation_opts\u001B[49m\u001B[38;5;241;43m=\u001B[39;49m\u001B[43manimation_opts\u001B[49m\u001B[43m,\u001B[49m\n\u001B[0;32m    399\u001B[0m \u001B[43m\u001B[49m\u001B[43m)\u001B[49m\n",
      "File \u001B[1;32m~\\anaconda3\\lib\\site-packages\\plotly\\io\\_renderers.py:388\u001B[0m, in \u001B[0;36mshow\u001B[1;34m(fig, renderer, validate, **kwargs)\u001B[0m\n\u001B[0;32m    385\u001B[0m fig_dict \u001B[38;5;241m=\u001B[39m validate_coerce_fig_to_dict(fig, validate)\n\u001B[0;32m    387\u001B[0m \u001B[38;5;66;03m# Mimetype renderers\u001B[39;00m\n\u001B[1;32m--> 388\u001B[0m bundle \u001B[38;5;241m=\u001B[39m renderers\u001B[38;5;241m.\u001B[39m_build_mime_bundle(fig_dict, renderers_string\u001B[38;5;241m=\u001B[39mrenderer, \u001B[38;5;241m*\u001B[39m\u001B[38;5;241m*\u001B[39mkwargs)\n\u001B[0;32m    389\u001B[0m \u001B[38;5;28;01mif\u001B[39;00m bundle:\n\u001B[0;32m    390\u001B[0m     \u001B[38;5;28;01mif\u001B[39;00m \u001B[38;5;129;01mnot\u001B[39;00m ipython_display:\n",
      "File \u001B[1;32m~\\anaconda3\\lib\\site-packages\\plotly\\io\\_renderers.py:296\u001B[0m, in \u001B[0;36mRenderersConfig._build_mime_bundle\u001B[1;34m(self, fig_dict, renderers_string, **kwargs)\u001B[0m\n\u001B[0;32m    293\u001B[0m             \u001B[38;5;28;01mif\u001B[39;00m \u001B[38;5;28mhasattr\u001B[39m(renderer, k):\n\u001B[0;32m    294\u001B[0m                 \u001B[38;5;28msetattr\u001B[39m(renderer, k, v)\n\u001B[1;32m--> 296\u001B[0m         bundle\u001B[38;5;241m.\u001B[39mupdate(\u001B[43mrenderer\u001B[49m\u001B[38;5;241;43m.\u001B[39;49m\u001B[43mto_mimebundle\u001B[49m\u001B[43m(\u001B[49m\u001B[43mfig_dict\u001B[49m\u001B[43m)\u001B[49m)\n\u001B[0;32m    298\u001B[0m \u001B[38;5;28;01mreturn\u001B[39;00m bundle\n",
      "File \u001B[1;32m~\\anaconda3\\lib\\site-packages\\plotly\\io\\_base_renderers.py:127\u001B[0m, in \u001B[0;36mImageRenderer.to_mimebundle\u001B[1;34m(self, fig_dict)\u001B[0m\n\u001B[0;32m    126\u001B[0m \u001B[38;5;28;01mdef\u001B[39;00m \u001B[38;5;21mto_mimebundle\u001B[39m(\u001B[38;5;28mself\u001B[39m, fig_dict):\n\u001B[1;32m--> 127\u001B[0m     image_bytes \u001B[38;5;241m=\u001B[39m \u001B[43mto_image\u001B[49m\u001B[43m(\u001B[49m\n\u001B[0;32m    128\u001B[0m \u001B[43m        \u001B[49m\u001B[43mfig_dict\u001B[49m\u001B[43m,\u001B[49m\n\u001B[0;32m    129\u001B[0m \u001B[43m        \u001B[49m\u001B[38;5;28;43mformat\u001B[39;49m\u001B[38;5;241;43m=\u001B[39;49m\u001B[38;5;28;43mself\u001B[39;49m\u001B[38;5;241;43m.\u001B[39;49m\u001B[43mformat\u001B[49m\u001B[43m,\u001B[49m\n\u001B[0;32m    130\u001B[0m \u001B[43m        \u001B[49m\u001B[43mwidth\u001B[49m\u001B[38;5;241;43m=\u001B[39;49m\u001B[38;5;28;43mself\u001B[39;49m\u001B[38;5;241;43m.\u001B[39;49m\u001B[43mwidth\u001B[49m\u001B[43m,\u001B[49m\n\u001B[0;32m    131\u001B[0m \u001B[43m        \u001B[49m\u001B[43mheight\u001B[49m\u001B[38;5;241;43m=\u001B[39;49m\u001B[38;5;28;43mself\u001B[39;49m\u001B[38;5;241;43m.\u001B[39;49m\u001B[43mheight\u001B[49m\u001B[43m,\u001B[49m\n\u001B[0;32m    132\u001B[0m \u001B[43m        \u001B[49m\u001B[43mscale\u001B[49m\u001B[38;5;241;43m=\u001B[39;49m\u001B[38;5;28;43mself\u001B[39;49m\u001B[38;5;241;43m.\u001B[39;49m\u001B[43mscale\u001B[49m\u001B[43m,\u001B[49m\n\u001B[0;32m    133\u001B[0m \u001B[43m        \u001B[49m\u001B[43mvalidate\u001B[49m\u001B[38;5;241;43m=\u001B[39;49m\u001B[38;5;28;43;01mFalse\u001B[39;49;00m\u001B[43m,\u001B[49m\n\u001B[0;32m    134\u001B[0m \u001B[43m        \u001B[49m\u001B[43mengine\u001B[49m\u001B[38;5;241;43m=\u001B[39;49m\u001B[38;5;28;43mself\u001B[39;49m\u001B[38;5;241;43m.\u001B[39;49m\u001B[43mengine\u001B[49m\u001B[43m,\u001B[49m\n\u001B[0;32m    135\u001B[0m \u001B[43m    \u001B[49m\u001B[43m)\u001B[49m\n\u001B[0;32m    137\u001B[0m     \u001B[38;5;28;01mif\u001B[39;00m \u001B[38;5;28mself\u001B[39m\u001B[38;5;241m.\u001B[39mb64_encode:\n\u001B[0;32m    138\u001B[0m         image_str \u001B[38;5;241m=\u001B[39m base64\u001B[38;5;241m.\u001B[39mb64encode(image_bytes)\u001B[38;5;241m.\u001B[39mdecode(\u001B[38;5;124m\"\u001B[39m\u001B[38;5;124mutf8\u001B[39m\u001B[38;5;124m\"\u001B[39m)\n",
      "File \u001B[1;32m~\\anaconda3\\lib\\site-packages\\plotly\\io\\_kaleido.py:133\u001B[0m, in \u001B[0;36mto_image\u001B[1;34m(fig, format, width, height, scale, validate, engine)\u001B[0m\n\u001B[0;32m    131\u001B[0m     \u001B[38;5;66;03m# Raise informative error message if Kaleido is not installed\u001B[39;00m\n\u001B[0;32m    132\u001B[0m     \u001B[38;5;28;01mif\u001B[39;00m scope \u001B[38;5;129;01mis\u001B[39;00m \u001B[38;5;28;01mNone\u001B[39;00m:\n\u001B[1;32m--> 133\u001B[0m         \u001B[38;5;28;01mraise\u001B[39;00m \u001B[38;5;167;01mValueError\u001B[39;00m(\n\u001B[0;32m    134\u001B[0m             \u001B[38;5;124;03m\"\"\"\u001B[39;00m\n\u001B[0;32m    135\u001B[0m \u001B[38;5;124;03mImage export using the \"kaleido\" engine requires the kaleido package,\u001B[39;00m\n\u001B[0;32m    136\u001B[0m \u001B[38;5;124;03mwhich can be installed using pip:\u001B[39;00m\n\u001B[0;32m    137\u001B[0m \u001B[38;5;124;03m    $ pip install -U kaleido\u001B[39;00m\n\u001B[0;32m    138\u001B[0m \u001B[38;5;124;03m\"\"\"\u001B[39;00m\n\u001B[0;32m    139\u001B[0m         )\n\u001B[0;32m    141\u001B[0m     \u001B[38;5;66;03m# Validate figure\u001B[39;00m\n\u001B[0;32m    142\u001B[0m     \u001B[38;5;66;03m# ---------------\u001B[39;00m\n\u001B[0;32m    143\u001B[0m     fig_dict \u001B[38;5;241m=\u001B[39m validate_coerce_fig_to_dict(fig, validate)\n",
      "\u001B[1;31mValueError\u001B[0m: \nImage export using the \"kaleido\" engine requires the kaleido package,\nwhich can be installed using pip:\n    $ pip install -U kaleido\n"
     ]
    }
   ],
   "source": [
    "temp.set_index(\"movie\").loc[:,\"votes\"].iplot(kind=\"bar\",xTitle=\"TV Series\",yTitle=\"Votes\",title=\"Most Votes TV Series\")"
   ],
   "metadata": {
    "collapsed": false,
    "ExecuteTime": {
     "end_time": "2023-08-02T06:50:49.977660200Z",
     "start_time": "2023-08-02T06:50:48.960273800Z"
    }
   }
  },
  {
   "cell_type": "code",
   "execution_count": null,
   "outputs": [],
   "source": [
    "temp.set_index(\"movie\").loc[:,\"rating\"].sort_values(ascending=False).iplot(kind=\"bar\",title=\"Ratings of Most Voted TV Series\",xTitle=\"Tv Series\",yTitle=\"Rating\")"
   ],
   "metadata": {
    "collapsed": false
   }
  },
  {
   "cell_type": "markdown",
   "source": [
    "### Movies by certificate"
   ],
   "metadata": {
    "collapsed": false
   }
  },
  {
   "cell_type": "code",
   "execution_count": null,
   "outputs": [],
   "source": [
    "data[\"certificate\"].value_counts().iloc[:15].iplot(kind=\"bar\",title=\"Count of Certification\",xTitle=\"Certificate\",yTitle=\"Count\",asImage=True)"
   ],
   "metadata": {
    "collapsed": false
   }
  },
  {
   "cell_type": "code",
   "execution_count": null,
   "outputs": [],
   "source": [],
   "metadata": {
    "collapsed": false
   }
  }
 ],
 "metadata": {
  "kernelspec": {
   "display_name": "Python 3",
   "language": "python",
   "name": "python3"
  },
  "language_info": {
   "codemirror_mode": {
    "name": "ipython",
    "version": 2
   },
   "file_extension": ".py",
   "mimetype": "text/x-python",
   "name": "python",
   "nbconvert_exporter": "python",
   "pygments_lexer": "ipython2",
   "version": "2.7.6"
  }
 },
 "nbformat": 4,
 "nbformat_minor": 0
}
