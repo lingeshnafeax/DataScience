{
 "cells": [
  {
   "cell_type": "code",
   "execution_count": 5,
   "id": "ca6cdc31",
   "metadata": {},
   "outputs": [],
   "source": [
    "import pandas as pd\n",
    "import numpy as np\n",
    "import matplotlib.pyplot as plt\n",
    "import statsmodels.api as sm\n",
    "import seaborn as sns\n",
    "sns.set()"
   ]
  },
  {
   "cell_type": "code",
   "execution_count": 6,
   "id": "cc3268a2",
   "metadata": {},
   "outputs": [
    {
     "data": {
      "text/html": [
       "<div>\n",
       "<style scoped>\n",
       "    .dataframe tbody tr th:only-of-type {\n",
       "        vertical-align: middle;\n",
       "    }\n",
       "\n",
       "    .dataframe tbody tr th {\n",
       "        vertical-align: top;\n",
       "    }\n",
       "\n",
       "    .dataframe thead th {\n",
       "        text-align: right;\n",
       "    }\n",
       "</style>\n",
       "<table border=\"1\" class=\"dataframe\">\n",
       "  <thead>\n",
       "    <tr style=\"text-align: right;\">\n",
       "      <th></th>\n",
       "      <th>SAT</th>\n",
       "      <th>GPA</th>\n",
       "    </tr>\n",
       "  </thead>\n",
       "  <tbody>\n",
       "    <tr>\n",
       "      <th>0</th>\n",
       "      <td>1714</td>\n",
       "      <td>2.40</td>\n",
       "    </tr>\n",
       "    <tr>\n",
       "      <th>1</th>\n",
       "      <td>1664</td>\n",
       "      <td>2.52</td>\n",
       "    </tr>\n",
       "    <tr>\n",
       "      <th>2</th>\n",
       "      <td>1760</td>\n",
       "      <td>2.54</td>\n",
       "    </tr>\n",
       "    <tr>\n",
       "      <th>3</th>\n",
       "      <td>1685</td>\n",
       "      <td>2.74</td>\n",
       "    </tr>\n",
       "    <tr>\n",
       "      <th>4</th>\n",
       "      <td>1693</td>\n",
       "      <td>2.83</td>\n",
       "    </tr>\n",
       "    <tr>\n",
       "      <th>...</th>\n",
       "      <td>...</td>\n",
       "      <td>...</td>\n",
       "    </tr>\n",
       "    <tr>\n",
       "      <th>79</th>\n",
       "      <td>1936</td>\n",
       "      <td>3.71</td>\n",
       "    </tr>\n",
       "    <tr>\n",
       "      <th>80</th>\n",
       "      <td>1810</td>\n",
       "      <td>3.71</td>\n",
       "    </tr>\n",
       "    <tr>\n",
       "      <th>81</th>\n",
       "      <td>1987</td>\n",
       "      <td>3.73</td>\n",
       "    </tr>\n",
       "    <tr>\n",
       "      <th>82</th>\n",
       "      <td>1962</td>\n",
       "      <td>3.76</td>\n",
       "    </tr>\n",
       "    <tr>\n",
       "      <th>83</th>\n",
       "      <td>2050</td>\n",
       "      <td>3.81</td>\n",
       "    </tr>\n",
       "  </tbody>\n",
       "</table>\n",
       "<p>84 rows × 2 columns</p>\n",
       "</div>"
      ],
      "text/plain": [
       "     SAT   GPA\n",
       "0   1714  2.40\n",
       "1   1664  2.52\n",
       "2   1760  2.54\n",
       "3   1685  2.74\n",
       "4   1693  2.83\n",
       "..   ...   ...\n",
       "79  1936  3.71\n",
       "80  1810  3.71\n",
       "81  1987  3.73\n",
       "82  1962  3.76\n",
       "83  2050  3.81\n",
       "\n",
       "[84 rows x 2 columns]"
      ]
     },
     "execution_count": 6,
     "metadata": {},
     "output_type": "execute_result"
    }
   ],
   "source": [
    "data=pd.read_csv(r"29587970-1.01.Simple-linear-regression.csv\")\n",
    "data"
   ]
  },
  {
   "cell_type": "code",
   "execution_count": 7,
   "id": "95c3bdbf",
   "metadata": {},
   "outputs": [
    {
     "data": {
      "text/html": [
       "<div>\n",
       "<style scoped>\n",
       "    .dataframe tbody tr th:only-of-type {\n",
       "        vertical-align: middle;\n",
       "    }\n",
       "\n",
       "    .dataframe tbody tr th {\n",
       "        vertical-align: top;\n",
       "    }\n",
       "\n",
       "    .dataframe thead th {\n",
       "        text-align: right;\n",
       "    }\n",
       "</style>\n",
       "<table border=\"1\" class=\"dataframe\">\n",
       "  <thead>\n",
       "    <tr style=\"text-align: right;\">\n",
       "      <th></th>\n",
       "      <th>SAT</th>\n",
       "      <th>GPA</th>\n",
       "    </tr>\n",
       "  </thead>\n",
       "  <tbody>\n",
       "    <tr>\n",
       "      <th>count</th>\n",
       "      <td>84.000000</td>\n",
       "      <td>84.000000</td>\n",
       "    </tr>\n",
       "    <tr>\n",
       "      <th>mean</th>\n",
       "      <td>1845.273810</td>\n",
       "      <td>3.330238</td>\n",
       "    </tr>\n",
       "    <tr>\n",
       "      <th>std</th>\n",
       "      <td>104.530661</td>\n",
       "      <td>0.271617</td>\n",
       "    </tr>\n",
       "    <tr>\n",
       "      <th>min</th>\n",
       "      <td>1634.000000</td>\n",
       "      <td>2.400000</td>\n",
       "    </tr>\n",
       "    <tr>\n",
       "      <th>25%</th>\n",
       "      <td>1772.000000</td>\n",
       "      <td>3.190000</td>\n",
       "    </tr>\n",
       "    <tr>\n",
       "      <th>50%</th>\n",
       "      <td>1846.000000</td>\n",
       "      <td>3.380000</td>\n",
       "    </tr>\n",
       "    <tr>\n",
       "      <th>75%</th>\n",
       "      <td>1934.000000</td>\n",
       "      <td>3.502500</td>\n",
       "    </tr>\n",
       "    <tr>\n",
       "      <th>max</th>\n",
       "      <td>2050.000000</td>\n",
       "      <td>3.810000</td>\n",
       "    </tr>\n",
       "  </tbody>\n",
       "</table>\n",
       "</div>"
      ],
      "text/plain": [
       "               SAT        GPA\n",
       "count    84.000000  84.000000\n",
       "mean   1845.273810   3.330238\n",
       "std     104.530661   0.271617\n",
       "min    1634.000000   2.400000\n",
       "25%    1772.000000   3.190000\n",
       "50%    1846.000000   3.380000\n",
       "75%    1934.000000   3.502500\n",
       "max    2050.000000   3.810000"
      ]
     },
     "execution_count": 7,
     "metadata": {},
     "output_type": "execute_result"
    }
   ],
   "source": [
    "data.describe()"
   ]
  },
  {
   "cell_type": "code",
   "execution_count": 8,
   "id": "c72295b0",
   "metadata": {},
   "outputs": [],
   "source": [
    "y = data[\"GPA\"]\n",
    "x1 = data[\"SAT\"]"
   ]
  },
  {
   "cell_type": "code",
   "execution_count": 9,
   "id": "55babea2",
   "metadata": {},
   "outputs": [
    {
     "data": {
      "image/png": "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\n",
      "text/plain": [
       "<Figure size 640x480 with 1 Axes>"
      ]
     },
     "metadata": {},
     "output_type": "display_data"
    }
   ],
   "source": [
    "plt.scatter(x1,y)\n",
    "plt.xlabel(\"SAT\")\n",
    "plt.ylabel(\"GPA\")\n",
    "plt.show()"
   ]
  },
  {
   "cell_type": "code",
   "execution_count": 14,
   "id": "5f4f41d6",
   "metadata": {},
   "outputs": [
    {
     "data": {
      "text/html": [
       "<table class=\"simpletable\">\n",
       "<caption>OLS Regression Results</caption>\n",
       "<tr>\n",
       "  <th>Dep. Variable:</th>           <td>GPA</td>       <th>  R-squared:         </th> <td>   0.406</td>\n",
       "</tr>\n",
       "<tr>\n",
       "  <th>Model:</th>                   <td>OLS</td>       <th>  Adj. R-squared:    </th> <td>   0.399</td>\n",
       "</tr>\n",
       "<tr>\n",
       "  <th>Method:</th>             <td>Least Squares</td>  <th>  F-statistic:       </th> <td>   56.05</td>\n",
       "</tr>\n",
       "<tr>\n",
       "  <th>Date:</th>             <td>Thu, 29 Jun 2023</td> <th>  Prob (F-statistic):</th> <td>7.20e-11</td>\n",
       "</tr>\n",
       "<tr>\n",
       "  <th>Time:</th>                 <td>19:05:49</td>     <th>  Log-Likelihood:    </th> <td>  12.672</td>\n",
       "</tr>\n",
       "<tr>\n",
       "  <th>No. Observations:</th>      <td>    84</td>      <th>  AIC:               </th> <td>  -21.34</td>\n",
       "</tr>\n",
       "<tr>\n",
       "  <th>Df Residuals:</th>          <td>    82</td>      <th>  BIC:               </th> <td>  -16.48</td>\n",
       "</tr>\n",
       "<tr>\n",
       "  <th>Df Model:</th>              <td>     1</td>      <th>                     </th>     <td> </td>   \n",
       "</tr>\n",
       "<tr>\n",
       "  <th>Covariance Type:</th>      <td>nonrobust</td>    <th>                     </th>     <td> </td>   \n",
       "</tr>\n",
       "</table>\n",
       "<table class=\"simpletable\">\n",
       "<tr>\n",
       "    <td></td>       <th>coef</th>     <th>std err</th>      <th>t</th>      <th>P>|t|</th>  <th>[0.025</th>    <th>0.975]</th>  \n",
       "</tr>\n",
       "<tr>\n",
       "  <th>const</th> <td>    0.2750</td> <td>    0.409</td> <td>    0.673</td> <td> 0.503</td> <td>   -0.538</td> <td>    1.088</td>\n",
       "</tr>\n",
       "<tr>\n",
       "  <th>SAT</th>   <td>    0.0017</td> <td>    0.000</td> <td>    7.487</td> <td> 0.000</td> <td>    0.001</td> <td>    0.002</td>\n",
       "</tr>\n",
       "</table>\n",
       "<table class=\"simpletable\">\n",
       "<tr>\n",
       "  <th>Omnibus:</th>       <td>12.839</td> <th>  Durbin-Watson:     </th> <td>   0.950</td>\n",
       "</tr>\n",
       "<tr>\n",
       "  <th>Prob(Omnibus):</th> <td> 0.002</td> <th>  Jarque-Bera (JB):  </th> <td>  16.155</td>\n",
       "</tr>\n",
       "<tr>\n",
       "  <th>Skew:</th>          <td>-0.722</td> <th>  Prob(JB):          </th> <td>0.000310</td>\n",
       "</tr>\n",
       "<tr>\n",
       "  <th>Kurtosis:</th>      <td> 4.590</td> <th>  Cond. No.          </th> <td>3.29e+04</td>\n",
       "</tr>\n",
       "</table><br/><br/>Notes:<br/>[1] Standard Errors assume that the covariance matrix of the errors is correctly specified.<br/>[2] The condition number is large, 3.29e+04. This might indicate that there are<br/>strong multicollinearity or other numerical problems."
      ],
      "text/plain": [
       "<class 'statsmodels.iolib.summary.Summary'>\n",
       "\"\"\"\n",
       "                            OLS Regression Results                            \n",
       "==============================================================================\n",
       "Dep. Variable:                    GPA   R-squared:                       0.406\n",
       "Model:                            OLS   Adj. R-squared:                  0.399\n",
       "Method:                 Least Squares   F-statistic:                     56.05\n",
       "Date:                Thu, 29 Jun 2023   Prob (F-statistic):           7.20e-11\n",
       "Time:                        19:05:49   Log-Likelihood:                 12.672\n",
       "No. Observations:                  84   AIC:                            -21.34\n",
       "Df Residuals:                      82   BIC:                            -16.48\n",
       "Df Model:                           1                                         \n",
       "Covariance Type:            nonrobust                                         \n",
       "==============================================================================\n",
       "                 coef    std err          t      P>|t|      [0.025      0.975]\n",
       "------------------------------------------------------------------------------\n",
       "const          0.2750      0.409      0.673      0.503      -0.538       1.088\n",
       "SAT            0.0017      0.000      7.487      0.000       0.001       0.002\n",
       "==============================================================================\n",
       "Omnibus:                       12.839   Durbin-Watson:                   0.950\n",
       "Prob(Omnibus):                  0.002   Jarque-Bera (JB):               16.155\n",
       "Skew:                          -0.722   Prob(JB):                     0.000310\n",
       "Kurtosis:                       4.590   Cond. No.                     3.29e+04\n",
       "==============================================================================\n",
       "\n",
       "Notes:\n",
       "[1] Standard Errors assume that the covariance matrix of the errors is correctly specified.\n",
       "[2] The condition number is large, 3.29e+04. This might indicate that there are\n",
       "strong multicollinearity or other numerical problems.\n",
       "\"\"\""
      ]
     },
     "execution_count": 14,
     "metadata": {},
     "output_type": "execute_result"
    }
   ],
   "source": [
    "x=sm.add_constant(x1)\n",
    "result=sm.OLS(y,x).fit()\n",
    "result.summary()"
   ]
  },
  {
   "cell_type": "code",
   "execution_count": 15,
   "id": "1842878c",
   "metadata": {},
   "outputs": [
    {
     "data": {
      "text/plain": [
       "[<matplotlib.lines.Line2D at 0x2733440d660>]"
      ]
     },
     "execution_count": 15,
     "metadata": {},
     "output_type": "execute_result"
    },
    {
     "data": {
      "image/png": "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\n",
      "text/plain": [
       "<Figure size 640x480 with 1 Axes>"
      ]
     },
     "metadata": {},
     "output_type": "display_data"
    }
   ],
   "source": [
    "plt.scatter(x1,y)\n",
    "yhat=0.0017*x1+0.275\n",
    "plt.plot(x1,yhat,c=\"orange\",lw=4,label=\"regression line\")"
   ]
  },
  {
   "cell_type": "code",
   "execution_count": 16,
   "id": "e0621425",
   "metadata": {},
   "outputs": [
    {
     "name": "stdout",
     "output_type": "stream",
     "text": [
      "Enter the SAT Score1809\n",
      "The Predicted GPA is 3.3503\n"
     ]
    }
   ],
   "source": [
    "def predict(x):\n",
    "    return 0.0017*x+0.275\n",
    "test=int(input(\"Enter the SAT Score\"))\n",
    "print(f\"The Predicted GPA is {predict(test)}\")"
   ]
  },
  {
   "cell_type": "code",
   "execution_count": null,
   "id": "0e0f6786",
   "metadata": {},
   "outputs": [],
   "source": []
  }
 ],
 "metadata": {
  "kernelspec": {
   "display_name": "Python 3 (ipykernel)",
   "language": "python",
   "name": "python3"
  },
  "language_info": {
   "codemirror_mode": {
    "name": "ipython",
    "version": 3
   },
   "file_extension": ".py",
   "mimetype": "text/x-python",
   "name": "python",
   "nbconvert_exporter": "python",
   "pygments_lexer": "ipython3",
   "version": "3.10.9"
  }
 },
 "nbformat": 4,
 "nbformat_minor": 5
}
