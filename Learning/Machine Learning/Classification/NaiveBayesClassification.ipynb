{
 "metadata": {
  "kernelspec": {
   "language": "python",
   "display_name": "Python 3",
   "name": "python3"
  },
  "language_info": {
   "name": "python",
   "version": "3.10.12",
   "mimetype": "text/x-python",
   "codemirror_mode": {
    "name": "ipython",
    "version": 3
   },
   "pygments_lexer": "ipython3",
   "nbconvert_exporter": "python",
   "file_extension": ".py"
  }
 },
 "nbformat_minor": 4,
 "nbformat": 4,
 "cells": [
  {
   "cell_type": "markdown",
   "source": [
    "# Naive Bayes Classification"
   ],
   "metadata": {
    "collapsed": false
   }
  },
  {
   "cell_type": "code",
   "source": [
    "import numpy as np\n",
    "import pandas as pd\n",
    "import matplotlib.pyplot as plt"
   ],
   "metadata": {
    "_uuid": "8f2839f25d086af736a60e9eeb907d3b93b6e0e5",
    "_cell_guid": "b1076dfc-b9ad-4769-8c92-a6c4dae69d19",
    "execution": {
     "iopub.status.busy": "2023-09-23T09:22:58.344843Z",
     "iopub.execute_input": "2023-09-23T09:22:58.346023Z",
     "iopub.status.idle": "2023-09-23T09:22:58.356106Z",
     "shell.execute_reply.started": "2023-09-23T09:22:58.345975Z",
     "shell.execute_reply": "2023-09-23T09:22:58.355042Z"
    },
    "trusted": true,
    "ExecuteTime": {
     "end_time": "2023-09-23T09:28:19.732335100Z",
     "start_time": "2023-09-23T09:28:16.402831500Z"
    }
   },
   "execution_count": 1,
   "outputs": []
  },
  {
   "cell_type": "markdown",
   "source": [
    "# Load the data"
   ],
   "metadata": {}
  },
  {
   "cell_type": "code",
   "source": [
    "data = pd.read_csv(\"Data\\\\Social_Network_Ads.csv\")\n",
    "data.head()"
   ],
   "metadata": {
    "execution": {
     "iopub.status.busy": "2023-09-23T09:20:52.512409Z",
     "iopub.execute_input": "2023-09-23T09:20:52.513323Z",
     "iopub.status.idle": "2023-09-23T09:20:52.535678Z",
     "shell.execute_reply.started": "2023-09-23T09:20:52.513279Z",
     "shell.execute_reply": "2023-09-23T09:20:52.534502Z"
    },
    "trusted": true,
    "ExecuteTime": {
     "end_time": "2023-09-23T09:28:21.841139600Z",
     "start_time": "2023-09-23T09:28:21.761375400Z"
    }
   },
   "execution_count": 2,
   "outputs": [
    {
     "data": {
      "text/plain": "    User ID  Gender  Age  EstimatedSalary  Purchased\n0  15624510    Male   19            19000          0\n1  15810944    Male   35            20000          0\n2  15668575  Female   26            43000          0\n3  15603246  Female   27            57000          0\n4  15804002    Male   19            76000          0",
      "text/html": "<div>\n<style scoped>\n    .dataframe tbody tr th:only-of-type {\n        vertical-align: middle;\n    }\n\n    .dataframe tbody tr th {\n        vertical-align: top;\n    }\n\n    .dataframe thead th {\n        text-align: right;\n    }\n</style>\n<table border=\"1\" class=\"dataframe\">\n  <thead>\n    <tr style=\"text-align: right;\">\n      <th></th>\n      <th>User ID</th>\n      <th>Gender</th>\n      <th>Age</th>\n      <th>EstimatedSalary</th>\n      <th>Purchased</th>\n    </tr>\n  </thead>\n  <tbody>\n    <tr>\n      <th>0</th>\n      <td>15624510</td>\n      <td>Male</td>\n      <td>19</td>\n      <td>19000</td>\n      <td>0</td>\n    </tr>\n    <tr>\n      <th>1</th>\n      <td>15810944</td>\n      <td>Male</td>\n      <td>35</td>\n      <td>20000</td>\n      <td>0</td>\n    </tr>\n    <tr>\n      <th>2</th>\n      <td>15668575</td>\n      <td>Female</td>\n      <td>26</td>\n      <td>43000</td>\n      <td>0</td>\n    </tr>\n    <tr>\n      <th>3</th>\n      <td>15603246</td>\n      <td>Female</td>\n      <td>27</td>\n      <td>57000</td>\n      <td>0</td>\n    </tr>\n    <tr>\n      <th>4</th>\n      <td>15804002</td>\n      <td>Male</td>\n      <td>19</td>\n      <td>76000</td>\n      <td>0</td>\n    </tr>\n  </tbody>\n</table>\n</div>"
     },
     "execution_count": 2,
     "metadata": {},
     "output_type": "execute_result"
    }
   ]
  },
  {
   "cell_type": "code",
   "source": [
    "data.info(memory_usage=\"deep\")"
   ],
   "metadata": {
    "execution": {
     "iopub.status.busy": "2023-09-23T09:20:52.537454Z",
     "iopub.execute_input": "2023-09-23T09:20:52.538185Z",
     "iopub.status.idle": "2023-09-23T09:20:52.552186Z",
     "shell.execute_reply.started": "2023-09-23T09:20:52.538142Z",
     "shell.execute_reply": "2023-09-23T09:20:52.551031Z"
    },
    "trusted": true,
    "ExecuteTime": {
     "end_time": "2023-09-23T09:28:42.594970100Z",
     "start_time": "2023-09-23T09:28:42.512191300Z"
    }
   },
   "execution_count": 4,
   "outputs": [
    {
     "name": "stdout",
     "output_type": "stream",
     "text": [
      "<class 'pandas.core.frame.DataFrame'>\n",
      "RangeIndex: 400 entries, 0 to 399\n",
      "Data columns (total 5 columns):\n",
      " #   Column           Non-Null Count  Dtype \n",
      "---  ------           --------------  ----- \n",
      " 0   User ID          400 non-null    int64 \n",
      " 1   Gender           400 non-null    object\n",
      " 2   Age              400 non-null    int64 \n",
      " 3   EstimatedSalary  400 non-null    int64 \n",
      " 4   Purchased        400 non-null    int64 \n",
      "dtypes: int64(4), object(1)\n",
      "memory usage: 36.9 KB\n"
     ]
    }
   ]
  },
  {
   "cell_type": "markdown",
   "source": [
    "## Splitting for X and Y"
   ],
   "metadata": {}
  },
  {
   "cell_type": "code",
   "source": [
    "x = data.iloc[:, 2:4].values\n",
    "y = data.iloc[:, 4].values"
   ],
   "metadata": {
    "execution": {
     "iopub.status.busy": "2023-09-23T09:20:52.555295Z",
     "iopub.execute_input": "2023-09-23T09:20:52.556092Z",
     "iopub.status.idle": "2023-09-23T09:20:52.563095Z",
     "shell.execute_reply.started": "2023-09-23T09:20:52.556044Z",
     "shell.execute_reply": "2023-09-23T09:20:52.561554Z"
    },
    "trusted": true,
    "ExecuteTime": {
     "end_time": "2023-09-23T09:28:43.796804200Z",
     "start_time": "2023-09-23T09:28:43.711025600Z"
    }
   },
   "execution_count": 5,
   "outputs": []
  },
  {
   "cell_type": "markdown",
   "source": [
    "## Preprocessing"
   ],
   "metadata": {}
  },
  {
   "cell_type": "markdown",
   "source": [
    "### Scaling"
   ],
   "metadata": {}
  },
  {
   "cell_type": "code",
   "source": [
    "from sklearn.preprocessing import StandardScaler\n",
    "\n",
    "scaler = StandardScaler()"
   ],
   "metadata": {
    "execution": {
     "iopub.status.busy": "2023-09-23T09:20:52.567185Z",
     "iopub.execute_input": "2023-09-23T09:20:52.567553Z",
     "iopub.status.idle": "2023-09-23T09:20:52.577973Z",
     "shell.execute_reply.started": "2023-09-23T09:20:52.567519Z",
     "shell.execute_reply": "2023-09-23T09:20:52.576598Z"
    },
    "trusted": true,
    "ExecuteTime": {
     "end_time": "2023-09-23T09:28:58.766184300Z",
     "start_time": "2023-09-23T09:28:45.132480700Z"
    }
   },
   "execution_count": 6,
   "outputs": []
  },
  {
   "cell_type": "code",
   "source": [
    "x_scaled = scaler.fit_transform(x)"
   ],
   "metadata": {
    "execution": {
     "iopub.status.busy": "2023-09-23T09:20:52.580065Z",
     "iopub.execute_input": "2023-09-23T09:20:52.580513Z",
     "iopub.status.idle": "2023-09-23T09:20:52.598307Z",
     "shell.execute_reply.started": "2023-09-23T09:20:52.580473Z",
     "shell.execute_reply": "2023-09-23T09:20:52.597328Z"
    },
    "trusted": true,
    "ExecuteTime": {
     "end_time": "2023-09-23T09:28:58.831011800Z",
     "start_time": "2023-09-23T09:28:58.768179900Z"
    }
   },
   "execution_count": 7,
   "outputs": []
  },
  {
   "cell_type": "markdown",
   "source": [
    "### Train Test Split"
   ],
   "metadata": {}
  },
  {
   "cell_type": "code",
   "source": [
    "from sklearn.model_selection import train_test_split\n",
    "\n",
    "x_train, x_test, y_train, y_test = train_test_split(x_scaled, y, test_size=0.2, random_state=0)"
   ],
   "metadata": {
    "execution": {
     "iopub.status.busy": "2023-09-23T09:20:52.602416Z",
     "iopub.execute_input": "2023-09-23T09:20:52.602845Z",
     "iopub.status.idle": "2023-09-23T09:20:52.612833Z",
     "shell.execute_reply.started": "2023-09-23T09:20:52.602810Z",
     "shell.execute_reply": "2023-09-23T09:20:52.611656Z"
    },
    "trusted": true,
    "ExecuteTime": {
     "end_time": "2023-09-23T09:28:59.454344500Z",
     "start_time": "2023-09-23T09:28:58.801092100Z"
    }
   },
   "execution_count": 8,
   "outputs": []
  },
  {
   "cell_type": "markdown",
   "source": [
    "## Creating the Classifier"
   ],
   "metadata": {}
  },
  {
   "cell_type": "code",
   "source": [
    "from sklearn.naive_bayes import GaussianNB\n",
    "\n",
    "classifier = GaussianNB()"
   ],
   "metadata": {
    "execution": {
     "iopub.status.busy": "2023-09-23T09:20:52.614589Z",
     "iopub.execute_input": "2023-09-23T09:20:52.615360Z",
     "iopub.status.idle": "2023-09-23T09:20:52.629808Z",
     "shell.execute_reply.started": "2023-09-23T09:20:52.615317Z",
     "shell.execute_reply": "2023-09-23T09:20:52.628412Z"
    },
    "trusted": true,
    "ExecuteTime": {
     "end_time": "2023-09-23T09:28:59.530140900Z",
     "start_time": "2023-09-23T09:28:59.457337Z"
    }
   },
   "execution_count": 9,
   "outputs": []
  },
  {
   "cell_type": "code",
   "source": [
    "classifier.fit(x_train, y_train)"
   ],
   "metadata": {
    "execution": {
     "iopub.status.busy": "2023-09-23T09:20:52.633722Z",
     "iopub.execute_input": "2023-09-23T09:20:52.634557Z",
     "iopub.status.idle": "2023-09-23T09:20:52.646665Z",
     "shell.execute_reply.started": "2023-09-23T09:20:52.634508Z",
     "shell.execute_reply": "2023-09-23T09:20:52.645396Z"
    },
    "trusted": true,
    "ExecuteTime": {
     "end_time": "2023-09-23T09:28:59.603944400Z",
     "start_time": "2023-09-23T09:28:59.506205300Z"
    }
   },
   "execution_count": 10,
   "outputs": [
    {
     "data": {
      "text/plain": "GaussianNB()",
      "text/html": "<style>#sk-container-id-1 {color: black;background-color: white;}#sk-container-id-1 pre{padding: 0;}#sk-container-id-1 div.sk-toggleable {background-color: white;}#sk-container-id-1 label.sk-toggleable__label {cursor: pointer;display: block;width: 100%;margin-bottom: 0;padding: 0.3em;box-sizing: border-box;text-align: center;}#sk-container-id-1 label.sk-toggleable__label-arrow:before {content: \"▸\";float: left;margin-right: 0.25em;color: #696969;}#sk-container-id-1 label.sk-toggleable__label-arrow:hover:before {color: black;}#sk-container-id-1 div.sk-estimator:hover label.sk-toggleable__label-arrow:before {color: black;}#sk-container-id-1 div.sk-toggleable__content {max-height: 0;max-width: 0;overflow: hidden;text-align: left;background-color: #f0f8ff;}#sk-container-id-1 div.sk-toggleable__content pre {margin: 0.2em;color: black;border-radius: 0.25em;background-color: #f0f8ff;}#sk-container-id-1 input.sk-toggleable__control:checked~div.sk-toggleable__content {max-height: 200px;max-width: 100%;overflow: auto;}#sk-container-id-1 input.sk-toggleable__control:checked~label.sk-toggleable__label-arrow:before {content: \"▾\";}#sk-container-id-1 div.sk-estimator input.sk-toggleable__control:checked~label.sk-toggleable__label {background-color: #d4ebff;}#sk-container-id-1 div.sk-label input.sk-toggleable__control:checked~label.sk-toggleable__label {background-color: #d4ebff;}#sk-container-id-1 input.sk-hidden--visually {border: 0;clip: rect(1px 1px 1px 1px);clip: rect(1px, 1px, 1px, 1px);height: 1px;margin: -1px;overflow: hidden;padding: 0;position: absolute;width: 1px;}#sk-container-id-1 div.sk-estimator {font-family: monospace;background-color: #f0f8ff;border: 1px dotted black;border-radius: 0.25em;box-sizing: border-box;margin-bottom: 0.5em;}#sk-container-id-1 div.sk-estimator:hover {background-color: #d4ebff;}#sk-container-id-1 div.sk-parallel-item::after {content: \"\";width: 100%;border-bottom: 1px solid gray;flex-grow: 1;}#sk-container-id-1 div.sk-label:hover label.sk-toggleable__label {background-color: #d4ebff;}#sk-container-id-1 div.sk-serial::before {content: \"\";position: absolute;border-left: 1px solid gray;box-sizing: border-box;top: 0;bottom: 0;left: 50%;z-index: 0;}#sk-container-id-1 div.sk-serial {display: flex;flex-direction: column;align-items: center;background-color: white;padding-right: 0.2em;padding-left: 0.2em;position: relative;}#sk-container-id-1 div.sk-item {position: relative;z-index: 1;}#sk-container-id-1 div.sk-parallel {display: flex;align-items: stretch;justify-content: center;background-color: white;position: relative;}#sk-container-id-1 div.sk-item::before, #sk-container-id-1 div.sk-parallel-item::before {content: \"\";position: absolute;border-left: 1px solid gray;box-sizing: border-box;top: 0;bottom: 0;left: 50%;z-index: -1;}#sk-container-id-1 div.sk-parallel-item {display: flex;flex-direction: column;z-index: 1;position: relative;background-color: white;}#sk-container-id-1 div.sk-parallel-item:first-child::after {align-self: flex-end;width: 50%;}#sk-container-id-1 div.sk-parallel-item:last-child::after {align-self: flex-start;width: 50%;}#sk-container-id-1 div.sk-parallel-item:only-child::after {width: 0;}#sk-container-id-1 div.sk-dashed-wrapped {border: 1px dashed gray;margin: 0 0.4em 0.5em 0.4em;box-sizing: border-box;padding-bottom: 0.4em;background-color: white;}#sk-container-id-1 div.sk-label label {font-family: monospace;font-weight: bold;display: inline-block;line-height: 1.2em;}#sk-container-id-1 div.sk-label-container {text-align: center;}#sk-container-id-1 div.sk-container {/* jupyter's `normalize.less` sets `[hidden] { display: none; }` but bootstrap.min.css set `[hidden] { display: none !important; }` so we also need the `!important` here to be able to override the default hidden behavior on the sphinx rendered scikit-learn.org. See: https://github.com/scikit-learn/scikit-learn/issues/21755 */display: inline-block !important;position: relative;}#sk-container-id-1 div.sk-text-repr-fallback {display: none;}</style><div id=\"sk-container-id-1\" class=\"sk-top-container\"><div class=\"sk-text-repr-fallback\"><pre>GaussianNB()</pre><b>In a Jupyter environment, please rerun this cell to show the HTML representation or trust the notebook. <br />On GitHub, the HTML representation is unable to render, please try loading this page with nbviewer.org.</b></div><div class=\"sk-container\" hidden><div class=\"sk-item\"><div class=\"sk-estimator sk-toggleable\"><input class=\"sk-toggleable__control sk-hidden--visually\" id=\"sk-estimator-id-1\" type=\"checkbox\" checked><label for=\"sk-estimator-id-1\" class=\"sk-toggleable__label sk-toggleable__label-arrow\">GaussianNB</label><div class=\"sk-toggleable__content\"><pre>GaussianNB()</pre></div></div></div></div></div>"
     },
     "execution_count": 10,
     "metadata": {},
     "output_type": "execute_result"
    }
   ]
  },
  {
   "cell_type": "code",
   "source": [
    "y_pred = classifier.predict(x_test)\n",
    "y_pred"
   ],
   "metadata": {
    "execution": {
     "iopub.status.busy": "2023-09-23T09:20:52.683412Z",
     "iopub.execute_input": "2023-09-23T09:20:52.684118Z",
     "iopub.status.idle": "2023-09-23T09:20:52.693839Z",
     "shell.execute_reply.started": "2023-09-23T09:20:52.684073Z",
     "shell.execute_reply": "2023-09-23T09:20:52.692429Z"
    },
    "trusted": true,
    "ExecuteTime": {
     "end_time": "2023-09-23T09:28:59.715645100Z",
     "start_time": "2023-09-23T09:28:59.584001900Z"
    }
   },
   "execution_count": 11,
   "outputs": [
    {
     "data": {
      "text/plain": "array([0, 0, 0, 0, 0, 0, 0, 1, 0, 1, 0, 0, 0, 0, 0, 1, 0, 0, 1, 0, 0, 1,\n       0, 1, 0, 1, 0, 0, 0, 0, 0, 0, 1, 0, 0, 0, 0, 0, 0, 1, 0, 0, 0, 0,\n       1, 0, 0, 1, 0, 1, 1, 0, 0, 1, 1, 0, 0, 0, 1, 0, 0, 1, 0, 0, 0, 1,\n       0, 0, 0, 0, 1, 0, 0, 0, 0, 0, 0, 0, 1, 1], dtype=int64)"
     },
     "execution_count": 11,
     "metadata": {},
     "output_type": "execute_result"
    }
   ]
  },
  {
   "cell_type": "markdown",
   "source": [
    "## Confusion Matrix"
   ],
   "metadata": {}
  },
  {
   "cell_type": "code",
   "source": [
    "from sklearn.metrics import confusion_matrix"
   ],
   "metadata": {
    "execution": {
     "iopub.status.busy": "2023-09-23T09:20:52.697057Z",
     "iopub.execute_input": "2023-09-23T09:20:52.698074Z",
     "iopub.status.idle": "2023-09-23T09:20:52.703542Z",
     "shell.execute_reply.started": "2023-09-23T09:20:52.698029Z",
     "shell.execute_reply": "2023-09-23T09:20:52.702317Z"
    },
    "trusted": true,
    "ExecuteTime": {
     "end_time": "2023-09-23T09:28:59.718639500Z",
     "start_time": "2023-09-23T09:28:59.631870200Z"
    }
   },
   "execution_count": 12,
   "outputs": []
  },
  {
   "cell_type": "code",
   "source": [
    "cm = confusion_matrix(y_pred, y_test)\n",
    "cm"
   ],
   "metadata": {
    "execution": {
     "iopub.status.busy": "2023-09-23T09:20:52.705910Z",
     "iopub.execute_input": "2023-09-23T09:20:52.707009Z",
     "iopub.status.idle": "2023-09-23T09:20:52.720070Z",
     "shell.execute_reply.started": "2023-09-23T09:20:52.706964Z",
     "shell.execute_reply": "2023-09-23T09:20:52.718996Z"
    },
    "trusted": true,
    "ExecuteTime": {
     "end_time": "2023-09-23T09:28:59.765512800Z",
     "start_time": "2023-09-23T09:28:59.687720Z"
    }
   },
   "execution_count": 13,
   "outputs": [
    {
     "data": {
      "text/plain": "array([[55,  4],\n       [ 3, 18]], dtype=int64)"
     },
     "execution_count": 13,
     "metadata": {},
     "output_type": "execute_result"
    }
   ]
  },
  {
   "cell_type": "code",
   "source": [
    "print(f\"Accuracy for training data {classifier.score(x_train, y_train)}\")\n",
    "print(f\"Accuracy for test data {classifier.score(x_test, y_test)}\")"
   ],
   "metadata": {
    "execution": {
     "iopub.status.busy": "2023-09-23T09:20:52.722335Z",
     "iopub.execute_input": "2023-09-23T09:20:52.723205Z",
     "iopub.status.idle": "2023-09-23T09:20:52.733805Z",
     "shell.execute_reply.started": "2023-09-23T09:20:52.723162Z",
     "shell.execute_reply": "2023-09-23T09:20:52.732465Z"
    },
    "trusted": true,
    "ExecuteTime": {
     "end_time": "2023-09-23T09:28:59.945544800Z",
     "start_time": "2023-09-23T09:28:59.743571200Z"
    }
   },
   "execution_count": 14,
   "outputs": [
    {
     "name": "stdout",
     "output_type": "stream",
     "text": [
      "Accuracy for training data 0.884375\n",
      "Accuracy for test data 0.9125\n"
     ]
    }
   ]
  },
  {
   "cell_type": "markdown",
   "source": [
    "## Visualizing the results"
   ],
   "metadata": {}
  },
  {
   "cell_type": "code",
   "source": [
    "from matplotlib.colors import ListedColormap\n",
    "\n",
    "X_set, y_set = scaler.inverse_transform(x_train), y_train\n",
    "X1, X2 = np.meshgrid(np.arange(start=X_set[:, 0].min() - 10, stop=X_set[:, 0].max() + 10, step=0.25),\n",
    "                     np.arange(start=X_set[:, 1].min() - 1000, stop=X_set[:, 1].max() + 1000, step=0.25))\n",
    "plt.contourf(X1, X2, classifier.predict(scaler.transform(np.array([X1.ravel(), X2.ravel()]).T)).reshape(X1.shape),\n",
    "             alpha=0.75, cmap=ListedColormap(('red', 'green')))\n",
    "plt.xlim(X1.min(), X1.max())\n",
    "plt.ylim(X2.min(), X2.max())\n",
    "for i, j in enumerate(np.unique(y_set)):\n",
    "    plt.scatter(X_set[y_set == j, 0], X_set[y_set == j, 1], c=ListedColormap(('red', 'green'))(i), label=j)\n",
    "plt.title('Naive Bayes Classification (Training set)')\n",
    "plt.xlabel('Age')\n",
    "plt.ylabel('Estimated Salary')\n",
    "plt.legend()\n",
    "plt.show()"
   ],
   "metadata": {
    "execution": {
     "iopub.status.busy": "2023-09-23T09:23:01.581836Z",
     "iopub.execute_input": "2023-09-23T09:23:01.582362Z",
     "iopub.status.idle": "2023-09-23T09:23:37.577535Z",
     "shell.execute_reply.started": "2023-09-23T09:23:01.582316Z",
     "shell.execute_reply": "2023-09-23T09:23:37.576242Z"
    },
    "trusted": true
   },
   "execution_count": 49,
   "outputs": [
    {
     "name": "stderr",
     "text": "/tmp/ipykernel_32/2954061866.py:11: UserWarning: *c* argument looks like a single numeric RGB or RGBA sequence, which should be avoided as value-mapping will have precedence in case its length matches with *x* & *y*.  Please use the *color* keyword-argument or provide a 2D array with a single row if you intend to specify the same RGB or RGBA value for all points.\n  plt.scatter(X_set[y_set == j, 0], X_set[y_set == j, 1], c=ListedColormap(('red', 'green'))(i), label=j)\n",
     "output_type": "stream"
    },
    {
     "output_type": "display_data",
     "data": {
      "text/plain": "<Figure size 640x480 with 1 Axes>",
      "image/png": "[encoded data removed]"
     },
     "metadata": {}
    }
   ]
  }
 ]
}
