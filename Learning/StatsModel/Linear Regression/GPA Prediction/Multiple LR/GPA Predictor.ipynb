{
 "cells": [
  {
   "cell_type": "markdown",
   "source": [
    "# Multiple Linear Regression"
   ],
   "metadata": {
    "collapsed": false
   }
  },
  {
   "cell_type": "code",
   "execution_count": 1,
   "outputs": [],
   "source": [
    "import pandas as pd\n",
    "import numpy as np\n",
    "import matplotlib.pyplot as plt\n",
    "import seaborn as sns\n",
    "import statsmodels.api as sm\n",
    "sns.set()"
   ],
   "metadata": {
    "collapsed": false
   }
  },
  {
   "cell_type": "markdown",
   "source": [
    "## Loading the data"
   ],
   "metadata": {
    "collapsed": false
   }
  },
  {
   "cell_type": "code",
   "execution_count": 2,
   "outputs": [
    {
     "data": {
      "text/plain": "     SAT   GPA  Rand 1,2,3\n0   1714  2.40           1\n1   1664  2.52           3\n2   1760  2.54           3\n3   1685  2.74           3\n4   1693  2.83           2\n..   ...   ...         ...\n79  1936  3.71           3\n80  1810  3.71           1\n81  1987  3.73           3\n82  1962  3.76           1\n83  2050  3.81           2\n\n[84 rows x 3 columns]",
      "text/html": "<div>\n<style scoped>\n    .dataframe tbody tr th:only-of-type {\n        vertical-align: middle;\n    }\n\n    .dataframe tbody tr th {\n        vertical-align: top;\n    }\n\n    .dataframe thead th {\n        text-align: right;\n    }\n</style>\n<table border=\"1\" class=\"dataframe\">\n  <thead>\n    <tr style=\"text-align: right;\">\n      <th></th>\n      <th>SAT</th>\n      <th>GPA</th>\n      <th>Rand 1,2,3</th>\n    </tr>\n  </thead>\n  <tbody>\n    <tr>\n      <th>0</th>\n      <td>1714</td>\n      <td>2.40</td>\n      <td>1</td>\n    </tr>\n    <tr>\n      <th>1</th>\n      <td>1664</td>\n      <td>2.52</td>\n      <td>3</td>\n    </tr>\n    <tr>\n      <th>2</th>\n      <td>1760</td>\n      <td>2.54</td>\n      <td>3</td>\n    </tr>\n    <tr>\n      <th>3</th>\n      <td>1685</td>\n      <td>2.74</td>\n      <td>3</td>\n    </tr>\n    <tr>\n      <th>4</th>\n      <td>1693</td>\n      <td>2.83</td>\n      <td>2</td>\n    </tr>\n    <tr>\n      <th>...</th>\n      <td>...</td>\n      <td>...</td>\n      <td>...</td>\n    </tr>\n    <tr>\n      <th>79</th>\n      <td>1936</td>\n      <td>3.71</td>\n      <td>3</td>\n    </tr>\n    <tr>\n      <th>80</th>\n      <td>1810</td>\n      <td>3.71</td>\n      <td>1</td>\n    </tr>\n    <tr>\n      <th>81</th>\n      <td>1987</td>\n      <td>3.73</td>\n      <td>3</td>\n    </tr>\n    <tr>\n      <th>82</th>\n      <td>1962</td>\n      <td>3.76</td>\n      <td>1</td>\n    </tr>\n    <tr>\n      <th>83</th>\n      <td>2050</td>\n      <td>3.81</td>\n      <td>2</td>\n    </tr>\n  </tbody>\n</table>\n<p>84 rows × 3 columns</p>\n</div>"
     },
     "execution_count": 2,
     "metadata": {},
     "output_type": "execute_result"
    }
   ],
   "source": [
    "data=pd.read_csv(\"29588058-1.02.Multiple-linear-regression.csv\")\n",
    "data"
   ],
   "metadata": {
    "collapsed": false
   }
  },
  {
   "cell_type": "code",
   "execution_count": 3,
   "outputs": [
    {
     "data": {
      "text/plain": "               SAT        GPA  Rand 1,2,3\ncount    84.000000  84.000000   84.000000\nmean   1845.273810   3.330238    2.059524\nstd     104.530661   0.271617    0.855192\nmin    1634.000000   2.400000    1.000000\n25%    1772.000000   3.190000    1.000000\n50%    1846.000000   3.380000    2.000000\n75%    1934.000000   3.502500    3.000000\nmax    2050.000000   3.810000    3.000000",
      "text/html": "<div>\n<style scoped>\n    .dataframe tbody tr th:only-of-type {\n        vertical-align: middle;\n    }\n\n    .dataframe tbody tr th {\n        vertical-align: top;\n    }\n\n    .dataframe thead th {\n        text-align: right;\n    }\n</style>\n<table border=\"1\" class=\"dataframe\">\n  <thead>\n    <tr style=\"text-align: right;\">\n      <th></th>\n      <th>SAT</th>\n      <th>GPA</th>\n      <th>Rand 1,2,3</th>\n    </tr>\n  </thead>\n  <tbody>\n    <tr>\n      <th>count</th>\n      <td>84.000000</td>\n      <td>84.000000</td>\n      <td>84.000000</td>\n    </tr>\n    <tr>\n      <th>mean</th>\n      <td>1845.273810</td>\n      <td>3.330238</td>\n      <td>2.059524</td>\n    </tr>\n    <tr>\n      <th>std</th>\n      <td>104.530661</td>\n      <td>0.271617</td>\n      <td>0.855192</td>\n    </tr>\n    <tr>\n      <th>min</th>\n      <td>1634.000000</td>\n      <td>2.400000</td>\n      <td>1.000000</td>\n    </tr>\n    <tr>\n      <th>25%</th>\n      <td>1772.000000</td>\n      <td>3.190000</td>\n      <td>1.000000</td>\n    </tr>\n    <tr>\n      <th>50%</th>\n      <td>1846.000000</td>\n      <td>3.380000</td>\n      <td>2.000000</td>\n    </tr>\n    <tr>\n      <th>75%</th>\n      <td>1934.000000</td>\n      <td>3.502500</td>\n      <td>3.000000</td>\n    </tr>\n    <tr>\n      <th>max</th>\n      <td>2050.000000</td>\n      <td>3.810000</td>\n      <td>3.000000</td>\n    </tr>\n  </tbody>\n</table>\n</div>"
     },
     "execution_count": 3,
     "metadata": {},
     "output_type": "execute_result"
    }
   ],
   "source": [
    "data.describe()"
   ],
   "metadata": {
    "collapsed": false
   }
  },
  {
   "cell_type": "markdown",
   "source": [],
   "metadata": {
    "collapsed": false
   }
  },
  {
   "cell_type": "markdown",
   "source": [
    "## Splitting the data"
   ],
   "metadata": {
    "collapsed": false
   }
  },
  {
   "cell_type": "code",
   "execution_count": 4,
   "outputs": [],
   "source": [
    "y=data[\"GPA\"]\n",
    "x1=data[[\"SAT\",\"Rand 1,2,3\"]]"
   ],
   "metadata": {
    "collapsed": false
   }
  },
  {
   "cell_type": "markdown",
   "source": [
    "## Creating BestFit by OLS"
   ],
   "metadata": {
    "collapsed": false
   }
  },
  {
   "cell_type": "code",
   "execution_count": 7,
   "outputs": [
    {
     "data": {
      "text/plain": "<class 'statsmodels.iolib.summary.Summary'>\n\"\"\"\n                            OLS Regression Results                            \n==============================================================================\nDep. Variable:                    GPA   R-squared:                       0.407\nModel:                            OLS   Adj. R-squared:                  0.392\nMethod:                 Least Squares   F-statistic:                     27.76\nDate:                Fri, 30 Jun 2023   Prob (F-statistic):           6.58e-10\nTime:                        12:04:12   Log-Likelihood:                 12.720\nNo. Observations:                  84   AIC:                            -19.44\nDf Residuals:                      81   BIC:                            -12.15\nDf Model:                           2                                         \nCovariance Type:            nonrobust                                         \n==============================================================================\n                 coef    std err          t      P>|t|      [0.025      0.975]\n------------------------------------------------------------------------------\nconst          0.2960      0.417      0.710      0.480      -0.533       1.125\nSAT            0.0017      0.000      7.432      0.000       0.001       0.002\nRand 1,2,3    -0.0083      0.027     -0.304      0.762      -0.062       0.046\n==============================================================================\nOmnibus:                       12.992   Durbin-Watson:                   0.948\nProb(Omnibus):                  0.002   Jarque-Bera (JB):               16.364\nSkew:                          -0.731   Prob(JB):                     0.000280\nKurtosis:                       4.594   Cond. No.                     3.33e+04\n==============================================================================\n\nNotes:\n[1] Standard Errors assume that the covariance matrix of the errors is correctly specified.\n[2] The condition number is large, 3.33e+04. This might indicate that there are\nstrong multicollinearity or other numerical problems.\n\"\"\"",
      "text/html": "<table class=\"simpletable\">\n<caption>OLS Regression Results</caption>\n<tr>\n  <th>Dep. Variable:</th>           <td>GPA</td>       <th>  R-squared:         </th> <td>   0.407</td>\n</tr>\n<tr>\n  <th>Model:</th>                   <td>OLS</td>       <th>  Adj. R-squared:    </th> <td>   0.392</td>\n</tr>\n<tr>\n  <th>Method:</th>             <td>Least Squares</td>  <th>  F-statistic:       </th> <td>   27.76</td>\n</tr>\n<tr>\n  <th>Date:</th>             <td>Fri, 30 Jun 2023</td> <th>  Prob (F-statistic):</th> <td>6.58e-10</td>\n</tr>\n<tr>\n  <th>Time:</th>                 <td>12:04:12</td>     <th>  Log-Likelihood:    </th> <td>  12.720</td>\n</tr>\n<tr>\n  <th>No. Observations:</th>      <td>    84</td>      <th>  AIC:               </th> <td>  -19.44</td>\n</tr>\n<tr>\n  <th>Df Residuals:</th>          <td>    81</td>      <th>  BIC:               </th> <td>  -12.15</td>\n</tr>\n<tr>\n  <th>Df Model:</th>              <td>     2</td>      <th>                     </th>     <td> </td>   \n</tr>\n<tr>\n  <th>Covariance Type:</th>      <td>nonrobust</td>    <th>                     </th>     <td> </td>   \n</tr>\n</table>\n<table class=\"simpletable\">\n<tr>\n       <td></td>         <th>coef</th>     <th>std err</th>      <th>t</th>      <th>P>|t|</th>  <th>[0.025</th>    <th>0.975]</th>  \n</tr>\n<tr>\n  <th>const</th>      <td>    0.2960</td> <td>    0.417</td> <td>    0.710</td> <td> 0.480</td> <td>   -0.533</td> <td>    1.125</td>\n</tr>\n<tr>\n  <th>SAT</th>        <td>    0.0017</td> <td>    0.000</td> <td>    7.432</td> <td> 0.000</td> <td>    0.001</td> <td>    0.002</td>\n</tr>\n<tr>\n  <th>Rand 1,2,3</th> <td>   -0.0083</td> <td>    0.027</td> <td>   -0.304</td> <td> 0.762</td> <td>   -0.062</td> <td>    0.046</td>\n</tr>\n</table>\n<table class=\"simpletable\">\n<tr>\n  <th>Omnibus:</th>       <td>12.992</td> <th>  Durbin-Watson:     </th> <td>   0.948</td>\n</tr>\n<tr>\n  <th>Prob(Omnibus):</th> <td> 0.002</td> <th>  Jarque-Bera (JB):  </th> <td>  16.364</td>\n</tr>\n<tr>\n  <th>Skew:</th>          <td>-0.731</td> <th>  Prob(JB):          </th> <td>0.000280</td>\n</tr>\n<tr>\n  <th>Kurtosis:</th>      <td> 4.594</td> <th>  Cond. No.          </th> <td>3.33e+04</td>\n</tr>\n</table><br/><br/>Notes:<br/>[1] Standard Errors assume that the covariance matrix of the errors is correctly specified.<br/>[2] The condition number is large, 3.33e+04. This might indicate that there are<br/>strong multicollinearity or other numerical problems."
     },
     "execution_count": 7,
     "metadata": {},
     "output_type": "execute_result"
    }
   ],
   "source": [
    "x=sm.add_constant(x1)\n",
    "result=sm.OLS(y,x).fit()\n",
    "result.summary()"
   ],
   "metadata": {
    "collapsed": false
   }
  },
  {
   "cell_type": "markdown",
   "source": [
    "## Not significant than Simple LR\n",
    "#### F value is lower and Adj R^2 is also lower"
   ],
   "metadata": {
    "collapsed": false
   }
  }
 ],
 "metadata": {
  "kernelspec": {
   "display_name": "Python 3",
   "language": "python",
   "name": "python3"
  },
  "language_info": {
   "codemirror_mode": {
    "name": "ipython",
    "version": 2
   },
   "file_extension": ".py",
   "mimetype": "text/x-python",
   "name": "python",
   "nbconvert_exporter": "python",
   "pygments_lexer": "ipython2",
   "version": "2.7.6"
  }
 },
 "nbformat": 4,
 "nbformat_minor": 0
}
