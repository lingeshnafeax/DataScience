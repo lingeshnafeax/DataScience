{
 "cells": [
  {
   "cell_type": "markdown",
   "source": [
    "# Bank Dataset"
   ],
   "metadata": {
    "collapsed": false
   }
  },
  {
   "cell_type": "code",
   "execution_count": 116,
   "outputs": [],
   "source": [
    "import numpy as np\n",
    "import pandas as pd\n",
    "import matplotlib.pyplot as plt\n",
    "import seaborn as sns\n",
    "sns.set_style(\"whitegrid\")\n",
    "import statsmodels.api as sm"
   ],
   "metadata": {
    "collapsed": false
   }
  },
  {
   "cell_type": "markdown",
   "source": [
    "## Loading the data"
   ],
   "metadata": {
    "collapsed": false
   }
  },
  {
   "cell_type": "code",
   "execution_count": 117,
   "outputs": [
    {
     "data": {
      "text/plain": "   Unnamed: 0  duration    y\n0           0       117   no\n1           1       274  yes\n2           2       167   no\n3           3       686  yes\n4           4       157   no",
      "text/html": "<div>\n<style scoped>\n    .dataframe tbody tr th:only-of-type {\n        vertical-align: middle;\n    }\n\n    .dataframe tbody tr th {\n        vertical-align: top;\n    }\n\n    .dataframe thead th {\n        text-align: right;\n    }\n</style>\n<table border=\"1\" class=\"dataframe\">\n  <thead>\n    <tr style=\"text-align: right;\">\n      <th></th>\n      <th>Unnamed: 0</th>\n      <th>duration</th>\n      <th>y</th>\n    </tr>\n  </thead>\n  <tbody>\n    <tr>\n      <th>0</th>\n      <td>0</td>\n      <td>117</td>\n      <td>no</td>\n    </tr>\n    <tr>\n      <th>1</th>\n      <td>1</td>\n      <td>274</td>\n      <td>yes</td>\n    </tr>\n    <tr>\n      <th>2</th>\n      <td>2</td>\n      <td>167</td>\n      <td>no</td>\n    </tr>\n    <tr>\n      <th>3</th>\n      <td>3</td>\n      <td>686</td>\n      <td>yes</td>\n    </tr>\n    <tr>\n      <th>4</th>\n      <td>4</td>\n      <td>157</td>\n      <td>no</td>\n    </tr>\n  </tbody>\n</table>\n</div>"
     },
     "execution_count": 117,
     "metadata": {},
     "output_type": "execute_result"
    }
   ],
   "source": [
    "data_1=pd.read_csv(\"15451783-Example-bank-data.csv\")\n",
    "data_1.head()"
   ],
   "metadata": {
    "collapsed": false
   }
  },
  {
   "cell_type": "code",
   "execution_count": 118,
   "outputs": [
    {
     "data": {
      "text/plain": "   duration    y\n0       117   no\n1       274  yes\n2       167   no\n3       686  yes\n4       157   no",
      "text/html": "<div>\n<style scoped>\n    .dataframe tbody tr th:only-of-type {\n        vertical-align: middle;\n    }\n\n    .dataframe tbody tr th {\n        vertical-align: top;\n    }\n\n    .dataframe thead th {\n        text-align: right;\n    }\n</style>\n<table border=\"1\" class=\"dataframe\">\n  <thead>\n    <tr style=\"text-align: right;\">\n      <th></th>\n      <th>duration</th>\n      <th>y</th>\n    </tr>\n  </thead>\n  <tbody>\n    <tr>\n      <th>0</th>\n      <td>117</td>\n      <td>no</td>\n    </tr>\n    <tr>\n      <th>1</th>\n      <td>274</td>\n      <td>yes</td>\n    </tr>\n    <tr>\n      <th>2</th>\n      <td>167</td>\n      <td>no</td>\n    </tr>\n    <tr>\n      <th>3</th>\n      <td>686</td>\n      <td>yes</td>\n    </tr>\n    <tr>\n      <th>4</th>\n      <td>157</td>\n      <td>no</td>\n    </tr>\n  </tbody>\n</table>\n</div>"
     },
     "execution_count": 118,
     "metadata": {},
     "output_type": "execute_result"
    }
   ],
   "source": [
    "data_1=data_1.drop([\"Unnamed: 0\"],axis=1)\n",
    "data_1.head()"
   ],
   "metadata": {
    "collapsed": false
   }
  },
  {
   "cell_type": "code",
   "execution_count": 119,
   "outputs": [
    {
     "data": {
      "text/plain": "           duration    y\ncount    518.000000  518\nunique          NaN    2\ntop             NaN   no\nfreq            NaN  259\nmean     382.177606  NaN\nstd      344.295990  NaN\nmin        9.000000  NaN\n25%      155.000000  NaN\n50%      266.500000  NaN\n75%      482.750000  NaN\nmax     2653.000000  NaN",
      "text/html": "<div>\n<style scoped>\n    .dataframe tbody tr th:only-of-type {\n        vertical-align: middle;\n    }\n\n    .dataframe tbody tr th {\n        vertical-align: top;\n    }\n\n    .dataframe thead th {\n        text-align: right;\n    }\n</style>\n<table border=\"1\" class=\"dataframe\">\n  <thead>\n    <tr style=\"text-align: right;\">\n      <th></th>\n      <th>duration</th>\n      <th>y</th>\n    </tr>\n  </thead>\n  <tbody>\n    <tr>\n      <th>count</th>\n      <td>518.000000</td>\n      <td>518</td>\n    </tr>\n    <tr>\n      <th>unique</th>\n      <td>NaN</td>\n      <td>2</td>\n    </tr>\n    <tr>\n      <th>top</th>\n      <td>NaN</td>\n      <td>no</td>\n    </tr>\n    <tr>\n      <th>freq</th>\n      <td>NaN</td>\n      <td>259</td>\n    </tr>\n    <tr>\n      <th>mean</th>\n      <td>382.177606</td>\n      <td>NaN</td>\n    </tr>\n    <tr>\n      <th>std</th>\n      <td>344.295990</td>\n      <td>NaN</td>\n    </tr>\n    <tr>\n      <th>min</th>\n      <td>9.000000</td>\n      <td>NaN</td>\n    </tr>\n    <tr>\n      <th>25%</th>\n      <td>155.000000</td>\n      <td>NaN</td>\n    </tr>\n    <tr>\n      <th>50%</th>\n      <td>266.500000</td>\n      <td>NaN</td>\n    </tr>\n    <tr>\n      <th>75%</th>\n      <td>482.750000</td>\n      <td>NaN</td>\n    </tr>\n    <tr>\n      <th>max</th>\n      <td>2653.000000</td>\n      <td>NaN</td>\n    </tr>\n  </tbody>\n</table>\n</div>"
     },
     "execution_count": 119,
     "metadata": {},
     "output_type": "execute_result"
    }
   ],
   "source": [
    "data_1.describe(include=\"all\")"
   ],
   "metadata": {
    "collapsed": false
   }
  },
  {
   "cell_type": "code",
   "execution_count": 120,
   "outputs": [],
   "source": [
    "data_1[\"y\"]=data_1[\"y\"].map({\"yes\":1,\"no\":0})"
   ],
   "metadata": {
    "collapsed": false
   }
  },
  {
   "cell_type": "markdown",
   "source": [
    "## Plotting the data"
   ],
   "metadata": {
    "collapsed": false
   }
  },
  {
   "cell_type": "code",
   "execution_count": 121,
   "outputs": [
    {
     "data": {
      "text/plain": "<matplotlib.collections.PathCollection at 0x1781b71f820>"
     },
     "execution_count": 121,
     "metadata": {},
     "output_type": "execute_result"
    },
    {
     "data": {
      "text/plain": "<Figure size 640x480 with 1 Axes>",
      "image/png": "[encoded data removed]"
     },
     "metadata": {},
     "output_type": "display_data"
    }
   ],
   "source": [
    "plt.scatter(data_1[\"duration\"],data_1[\"y\"])"
   ],
   "metadata": {
    "collapsed": false
   }
  },
  {
   "cell_type": "markdown",
   "source": [
    "## Regression\n",
    "### Splitting the data"
   ],
   "metadata": {
    "collapsed": false
   }
  },
  {
   "cell_type": "code",
   "execution_count": 122,
   "outputs": [],
   "source": [
    "x1=data_1[\"duration\"]\n",
    "y=data_1[\"y\"]"
   ],
   "metadata": {
    "collapsed": false
   }
  },
  {
   "cell_type": "code",
   "execution_count": 123,
   "outputs": [
    {
     "name": "stdout",
     "output_type": "stream",
     "text": [
      "Optimization terminated successfully.\n",
      "         Current function value: 0.546118\n",
      "         Iterations 7\n"
     ]
    }
   ],
   "source": [
    "x=sm.add_constant(x1)\n",
    "reg_log=sm.Logit(y,x)\n",
    "result=reg_log.fit()"
   ],
   "metadata": {
    "collapsed": false
   }
  },
  {
   "cell_type": "code",
   "execution_count": 124,
   "outputs": [
    {
     "data": {
      "text/plain": "<class 'statsmodels.iolib.summary.Summary'>\n\"\"\"\n                           Logit Regression Results                           \n==============================================================================\nDep. Variable:                      y   No. Observations:                  518\nModel:                          Logit   Df Residuals:                      516\nMethod:                           MLE   Df Model:                            1\nDate:                Thu, 06 Jul 2023   Pseudo R-squ.:                  0.2121\nTime:                        17:24:28   Log-Likelihood:                -282.89\nconverged:                       True   LL-Null:                       -359.05\nCovariance Type:            nonrobust   LLR p-value:                 5.387e-35\n==============================================================================\n                 coef    std err          z      P>|z|      [0.025      0.975]\n------------------------------------------------------------------------------\nconst         -1.7001      0.192     -8.863      0.000      -2.076      -1.324\nduration       0.0051      0.001      9.159      0.000       0.004       0.006\n==============================================================================\n\"\"\"",
      "text/html": "<table class=\"simpletable\">\n<caption>Logit Regression Results</caption>\n<tr>\n  <th>Dep. Variable:</th>           <td>y</td>        <th>  No. Observations:  </th>  <td>   518</td>  \n</tr>\n<tr>\n  <th>Model:</th>                 <td>Logit</td>      <th>  Df Residuals:      </th>  <td>   516</td>  \n</tr>\n<tr>\n  <th>Method:</th>                 <td>MLE</td>       <th>  Df Model:          </th>  <td>     1</td>  \n</tr>\n<tr>\n  <th>Date:</th>            <td>Thu, 06 Jul 2023</td> <th>  Pseudo R-squ.:     </th>  <td>0.2121</td>  \n</tr>\n<tr>\n  <th>Time:</th>                <td>17:24:28</td>     <th>  Log-Likelihood:    </th> <td> -282.89</td> \n</tr>\n<tr>\n  <th>converged:</th>             <td>True</td>       <th>  LL-Null:           </th> <td> -359.05</td> \n</tr>\n<tr>\n  <th>Covariance Type:</th>     <td>nonrobust</td>    <th>  LLR p-value:       </th> <td>5.387e-35</td>\n</tr>\n</table>\n<table class=\"simpletable\">\n<tr>\n      <td></td>        <th>coef</th>     <th>std err</th>      <th>z</th>      <th>P>|z|</th>  <th>[0.025</th>    <th>0.975]</th>  \n</tr>\n<tr>\n  <th>const</th>    <td>   -1.7001</td> <td>    0.192</td> <td>   -8.863</td> <td> 0.000</td> <td>   -2.076</td> <td>   -1.324</td>\n</tr>\n<tr>\n  <th>duration</th> <td>    0.0051</td> <td>    0.001</td> <td>    9.159</td> <td> 0.000</td> <td>    0.004</td> <td>    0.006</td>\n</tr>\n</table>"
     },
     "execution_count": 124,
     "metadata": {},
     "output_type": "execute_result"
    }
   ],
   "source": [
    "result.summary()"
   ],
   "metadata": {
    "collapsed": false
   }
  },
  {
   "cell_type": "code",
   "execution_count": 125,
   "outputs": [
    {
     "data": {
      "text/plain": "Text(0, 0.5, 'Yes or No')"
     },
     "execution_count": 125,
     "metadata": {},
     "output_type": "execute_result"
    },
    {
     "data": {
      "text/plain": "<Figure size 640x480 with 1 Axes>",
      "image/png": "[encoded data removed]"
     },
     "metadata": {},
     "output_type": "display_data"
    }
   ],
   "source": [
    "plt.scatter(x1,y)\n",
    "plt.xlabel(\"Duration\")\n",
    "plt.ylabel(\"Yes or No\")"
   ],
   "metadata": {
    "collapsed": false
   }
  },
  {
   "cell_type": "code",
   "execution_count": 126,
   "outputs": [
    {
     "data": {
      "text/plain": "array([0.24936904, 0.42571348, 0.30019503, 0.85898342, 0.28956627,\n       0.2580803 , 0.21914028, 0.16614452, 0.86976608, 0.31987434,\n       0.55276776, 0.22532533, 0.30234734, 0.39480294, 0.35411888,\n       0.489064  , 0.29167414, 0.25225084, 0.50567672, 0.82802726,\n       0.84413091, 0.5890681 , 0.45848474, 0.40215497, 0.44961416,\n       0.20546539, 0.4157464 , 0.42321571, 0.58286683, 0.2580803 ,\n       0.17928751, 0.2580803 , 0.85711543, 0.43322907, 0.293791  ,\n       0.32658401, 0.98373368, 0.21652721, 0.99665611, 0.62920727,\n       0.2639969 , 0.49417474, 0.30885632, 0.27711089, 0.28746746,\n       0.2474601 , 0.19643708, 0.30342677, 0.30559213, 0.4712014 ,\n       0.87376626, 0.20132396, 0.22177596, 0.28642146, 0.25612742,\n       0.49417474, 0.27916371, 0.20214723, 0.88872861, 0.53501481,\n       0.23806331, 0.24556099, 0.90211616, 0.40092648, 0.51078751,\n       0.45975425, 0.28019361, 0.30450837, 0.87432905, 0.23713725,\n       0.18231618, 0.3706541 , 0.4724754 , 0.38144917, 0.54009814,\n       0.26499142, 0.40955126, 0.57163945, 0.29273144, 0.20713955,\n       0.34366753, 0.43448476, 0.29912217, 0.45721577, 0.40584778,\n       0.96977349, 0.30234734, 0.52865053, 0.40092648, 0.22981841,\n       0.35646087, 0.22001633, 0.37423872, 0.31876317, 0.77188171,\n       0.81375221, 0.79693085, 0.19805601, 0.98331956, 0.30450837,\n       0.93048438, 0.34366753, 0.89270915, 0.41202599, 0.49800865,\n       0.50184279, 0.41823205, 0.34597743, 0.41823205, 0.5171727 ,\n       0.53882805, 0.24556099, 0.30667805, 0.20546539, 0.7418059 ,\n       0.17928751, 0.2512878 , 0.88304484, 0.60015818, 0.47629948,\n       0.23254427, 0.17188814, 0.39847323, 0.99446526, 0.47629948,\n       0.96015351, 0.36471144, 0.59277546, 0.34251534, 0.4157464 ,\n       0.28537775, 0.33109711, 0.47885045, 0.90256666, 0.45848474,\n       0.68332439, 0.57414123, 0.42821504, 0.42696379, 0.30885632,\n       0.2580803 , 0.23437399, 0.83728563, 0.44077551, 0.83518536,\n       0.6457452 , 0.3826561 , 0.25710265, 0.99958344, 0.26004286,\n       0.95936376, 0.74763705, 0.97094956, 0.86083095, 0.19724529,\n       0.28851573, 0.81759521, 0.96545422, 0.82212514, 0.97724027,\n       0.46992777, 0.56536922, 0.93244242, 0.41326503, 0.30667805,\n       0.44329726, 0.28642146, 0.28329719, 0.22265954, 0.57788676,\n       0.67328529, 0.49673063, 0.44834942, 0.27303329, 0.28642146,\n       0.98491629, 0.32996588, 0.24556099, 0.61357357, 0.36234577,\n       0.51589604, 0.27303329, 0.42696379, 0.91950756, 0.2639969 ,\n       0.34482156, 0.16543748, 0.23163316, 0.99946492, 0.30885632,\n       0.32883661, 0.55276776, 0.22089489, 0.65735083, 0.34482156,\n       0.16193843, 0.6975273 , 0.21566122, 0.68332439, 0.41947645,\n       0.28122583, 0.81063309, 0.48778663, 0.92174878, 0.2580803 ,\n       0.4169887 , 0.48395555, 0.86565863, 0.42571348, 0.97654796,\n       0.34713511, 0.4070811 , 0.93497359, 0.40338469, 0.21739572,\n       0.86326272, 0.88822206, 0.20132396, 0.34482156, 0.19164035,\n       0.59277546, 0.74860038, 0.20214723, 0.29061908, 0.89023623,\n       0.34945591, 0.82287149, 0.3132384 , 0.99423554, 0.96476567,\n       0.65040899, 0.35061899, 0.53628637, 0.94063537, 0.81987129,\n       0.98476364, 0.3706541 , 0.33906994, 0.5120649 , 0.5641126 ,\n       0.28329719, 0.76916997, 0.23072454, 0.20630121, 0.97007176,\n       0.99471283, 0.60627604, 0.23529259, 0.94063537, 0.72786255,\n       0.31433919, 0.80427511, 0.20882377, 0.20966965, 0.28329719,\n       0.65504417, 0.38144917, 0.21739572, 0.53882805, 0.58037884,\n       0.66079688, 0.82361539, 0.99620196, 0.39724851, 0.29591681,\n       0.26698762, 0.51589604, 0.27608797, 0.72786255, 0.57038718,\n       0.89891042, 0.53501481, 0.75147569, 0.23992287, 0.99332049,\n       0.45087956, 0.74667128, 0.2750674 , 0.42446411, 0.33792522,\n       0.89983574, 0.2750674 , 0.94423959, 0.99995738, 0.39847323,\n       0.96073615, 0.21222237, 0.99013031, 0.41450518, 0.341365  ,\n       0.28956627, 0.39602507, 0.6527302 , 0.24650931, 0.46865454,\n       0.28642146, 0.31987434, 0.20966965, 0.20966965, 0.80022005,\n       0.47629948, 0.3322303 , 0.31876317, 0.40461563, 0.32322008,\n       0.27813613, 0.35528901, 0.98506744, 0.75527505, 0.30776611,\n       0.29167414, 0.31765407, 0.19006143, 0.39480294, 0.95732329,\n       0.31544207, 0.96612978, 0.52610209, 0.77007639, 0.65850138,\n       0.31213971, 0.24179235, 0.24556099, 0.24367173, 0.20966965,\n       0.35178386, 0.48650942, 0.26201507, 0.99624045, 0.16055562,\n       0.99202219, 0.93497359, 0.99358644, 0.34021653, 0.19563137,\n       0.3356415 , 0.86144227, 0.37184741, 0.85073956, 0.65504417,\n       0.67440884, 0.26698762, 0.98676882, 0.51461918, 0.18307954,\n       0.35880975, 0.76643575, 0.99999295, 0.35763445, 0.27303329,\n       0.55403124, 0.77812146, 0.19724529, 0.69210727, 0.79023186,\n       0.32322008, 0.61478497, 0.29591681, 0.16193843, 0.22891479,\n       0.32658401, 0.24841334, 0.3345025 , 0.28122583, 0.61478497,\n       0.96947234, 0.39236262, 0.4521456 , 0.57663923, 0.28746746,\n       0.99848325, 0.98397728, 0.43951577, 0.60749569, 0.5890681 ,\n       0.28433632, 0.36471144, 0.24179235, 0.91798103, 0.38871224,\n       0.47629948, 0.37543668, 0.31765407, 0.84345709, 0.37423872,\n       0.31433919, 0.5043988 , 0.21051804, 0.28019361, 0.59154082,\n       0.2750674 , 0.19805601, 0.64457487, 0.34945591, 0.97971382,\n       0.3826561 , 0.41078806, 0.36946236, 0.55907801, 0.78423825,\n       0.50695457, 0.25515462, 0.55276776, 0.87432905, 0.21826675,\n       0.29167414, 0.53119748, 0.97930339, 0.50950998, 0.94738292,\n       0.58659087, 0.78163184, 0.72174454, 0.65157049, 0.40461563,\n       0.40584778, 0.68221711, 0.18461368, 0.73389564, 0.4070811 ,\n       0.73289607, 0.44455924, 0.5641126 , 0.36827222, 0.5171727 ,\n       0.39358212, 0.5952412 , 0.3132384 , 0.51461918, 0.90390706,\n       0.86625204, 0.26102776, 0.569134  , 0.59030503, 0.42072186,\n       0.38507431, 0.26698762, 0.48012635, 0.44077551, 0.94661314,\n       0.24179235, 0.28329719, 0.37184741, 0.19643708, 0.83867379,\n       0.54390523, 0.4083156 , 0.64105353, 0.83728563, 0.24556099,\n       0.83163665, 0.78596328, 0.27404917, 0.92675773, 0.23529259,\n       0.28019361, 0.97094956, 0.73984278, 0.29273144, 0.341365  ,\n       0.29698305, 0.7258326 , 0.53755746, 0.28329719, 0.30019503,\n       0.2679893 , 0.23529259, 0.99978009, 0.3874982 , 0.32770932,\n       0.68221711, 0.67664992, 0.39847323, 0.98306613, 0.65619842,\n       0.34945591, 0.32883661, 0.5791333 , 0.36352778, 0.85898342,\n       0.19164035, 0.52865053, 0.45594735, 0.18461368, 0.98437533,\n       0.86021738, 0.81911507, 0.87091986, 0.80346911, 0.39602507,\n       0.23992287, 0.87655878, 0.81219763, 0.59277546, 0.20966965,\n       0.25906037, 0.3221028 , 0.31433919, 0.49161915, 0.24179235,\n       0.66877127, 0.20966965, 0.27303329, 0.2474601 , 0.30450837,\n       0.69968011, 0.54136772, 0.16124582, 0.91444956, 0.43197424,\n       0.67553039, 0.67888292, 0.36589675, 0.341365  , 0.91836512,\n       0.44582194, 0.67215975, 0.27404917])"
     },
     "execution_count": 126,
     "metadata": {},
     "output_type": "execute_result"
    }
   ],
   "source": [
    "result.predict()"
   ],
   "metadata": {
    "collapsed": false
   }
  },
  {
   "cell_type": "code",
   "execution_count": 127,
   "outputs": [
    {
     "data": {
      "text/plain": "<matplotlib.collections.PathCollection at 0x1781659cca0>"
     },
     "execution_count": 127,
     "metadata": {},
     "output_type": "execute_result"
    },
    {
     "data": {
      "text/plain": "<Figure size 640x480 with 1 Axes>",
      "image/png": "[encoded data removed]"
     },
     "metadata": {},
     "output_type": "display_data"
    }
   ],
   "source": [
    "plt.scatter(x1,result.predict())"
   ],
   "metadata": {
    "collapsed": false
   }
  },
  {
   "cell_type": "code",
   "execution_count": 128,
   "outputs": [
    {
     "data": {
      "text/plain": "            Predicted : No  Predicted : Yes\nActual No            204.0             55.0\nActual Yes           104.0            155.0",
      "text/html": "<div>\n<style scoped>\n    .dataframe tbody tr th:only-of-type {\n        vertical-align: middle;\n    }\n\n    .dataframe tbody tr th {\n        vertical-align: top;\n    }\n\n    .dataframe thead th {\n        text-align: right;\n    }\n</style>\n<table border=\"1\" class=\"dataframe\">\n  <thead>\n    <tr style=\"text-align: right;\">\n      <th></th>\n      <th>Predicted : No</th>\n      <th>Predicted : Yes</th>\n    </tr>\n  </thead>\n  <tbody>\n    <tr>\n      <th>Actual No</th>\n      <td>204.0</td>\n      <td>55.0</td>\n    </tr>\n    <tr>\n      <th>Actual Yes</th>\n      <td>104.0</td>\n      <td>155.0</td>\n    </tr>\n  </tbody>\n</table>\n</div>"
     },
     "execution_count": 128,
     "metadata": {},
     "output_type": "execute_result"
    }
   ],
   "source": [
    "df=pd.DataFrame(result.pred_table())\n",
    "df.columns=[\"Predicted : No\",\"Predicted : Yes\"]\n",
    "df=df.rename(index={0:\"Actual No\",1:\"Actual Yes\"})\n",
    "df"
   ],
   "metadata": {
    "collapsed": false
   }
  },
  {
   "cell_type": "code",
   "execution_count": 129,
   "outputs": [
    {
     "data": {
      "text/plain": "0.693050193050193"
     },
     "execution_count": 129,
     "metadata": {},
     "output_type": "execute_result"
    }
   ],
   "source": [
    "acc=np.array(df)\n",
    "accuracy=(acc[0,0]+acc[1,1])/acc.sum()\n",
    "accuracy"
   ],
   "metadata": {
    "collapsed": false
   }
  },
  {
   "cell_type": "markdown",
   "source": [
    "Our model maybe missing some important factors"
   ],
   "metadata": {
    "collapsed": false
   }
  },
  {
   "cell_type": "markdown",
   "source": [
    "## Lets include multiple variables"
   ],
   "metadata": {
    "collapsed": false
   }
  },
  {
   "cell_type": "code",
   "execution_count": 130,
   "outputs": [
    {
     "data": {
      "text/plain": "   Unnamed: 0  interest_rate  credit  march  may  previous  duration    y\n0           0          1.334     0.0    1.0  0.0       0.0     117.0   no\n1           1          0.767     0.0    0.0  2.0       1.0     274.0  yes\n2           2          4.858     0.0    1.0  0.0       0.0     167.0   no\n3           3          4.120     0.0    0.0  0.0       0.0     686.0  yes\n4           4          4.856     0.0    1.0  0.0       0.0     157.0   no",
      "text/html": "<div>\n<style scoped>\n    .dataframe tbody tr th:only-of-type {\n        vertical-align: middle;\n    }\n\n    .dataframe tbody tr th {\n        vertical-align: top;\n    }\n\n    .dataframe thead th {\n        text-align: right;\n    }\n</style>\n<table border=\"1\" class=\"dataframe\">\n  <thead>\n    <tr style=\"text-align: right;\">\n      <th></th>\n      <th>Unnamed: 0</th>\n      <th>interest_rate</th>\n      <th>credit</th>\n      <th>march</th>\n      <th>may</th>\n      <th>previous</th>\n      <th>duration</th>\n      <th>y</th>\n    </tr>\n  </thead>\n  <tbody>\n    <tr>\n      <th>0</th>\n      <td>0</td>\n      <td>1.334</td>\n      <td>0.0</td>\n      <td>1.0</td>\n      <td>0.0</td>\n      <td>0.0</td>\n      <td>117.0</td>\n      <td>no</td>\n    </tr>\n    <tr>\n      <th>1</th>\n      <td>1</td>\n      <td>0.767</td>\n      <td>0.0</td>\n      <td>0.0</td>\n      <td>2.0</td>\n      <td>1.0</td>\n      <td>274.0</td>\n      <td>yes</td>\n    </tr>\n    <tr>\n      <th>2</th>\n      <td>2</td>\n      <td>4.858</td>\n      <td>0.0</td>\n      <td>1.0</td>\n      <td>0.0</td>\n      <td>0.0</td>\n      <td>167.0</td>\n      <td>no</td>\n    </tr>\n    <tr>\n      <th>3</th>\n      <td>3</td>\n      <td>4.120</td>\n      <td>0.0</td>\n      <td>0.0</td>\n      <td>0.0</td>\n      <td>0.0</td>\n      <td>686.0</td>\n      <td>yes</td>\n    </tr>\n    <tr>\n      <th>4</th>\n      <td>4</td>\n      <td>4.856</td>\n      <td>0.0</td>\n      <td>1.0</td>\n      <td>0.0</td>\n      <td>0.0</td>\n      <td>157.0</td>\n      <td>no</td>\n    </tr>\n  </tbody>\n</table>\n</div>"
     },
     "execution_count": 130,
     "metadata": {},
     "output_type": "execute_result"
    }
   ],
   "source": [
    "data_2=pd.read_csv(\"15451939-Bank-data.csv\")\n",
    "data_2.head()"
   ],
   "metadata": {
    "collapsed": false
   }
  },
  {
   "cell_type": "code",
   "execution_count": 131,
   "outputs": [],
   "source": [
    "data_2=data_2.drop([\"Unnamed: 0\"],axis=1)\n",
    "data_2[\"y\"]=data_2[\"y\"].map({\"yes\":1,\"no\":0})"
   ],
   "metadata": {
    "collapsed": false
   }
  },
  {
   "cell_type": "code",
   "execution_count": 132,
   "outputs": [
    {
     "data": {
      "text/plain": "   interest_rate  credit  march  may  previous  duration  y\n0          1.334     0.0    1.0  0.0       0.0     117.0  0\n1          0.767     0.0    0.0  2.0       1.0     274.0  1\n2          4.858     0.0    1.0  0.0       0.0     167.0  0\n3          4.120     0.0    0.0  0.0       0.0     686.0  1\n4          4.856     0.0    1.0  0.0       0.0     157.0  0",
      "text/html": "<div>\n<style scoped>\n    .dataframe tbody tr th:only-of-type {\n        vertical-align: middle;\n    }\n\n    .dataframe tbody tr th {\n        vertical-align: top;\n    }\n\n    .dataframe thead th {\n        text-align: right;\n    }\n</style>\n<table border=\"1\" class=\"dataframe\">\n  <thead>\n    <tr style=\"text-align: right;\">\n      <th></th>\n      <th>interest_rate</th>\n      <th>credit</th>\n      <th>march</th>\n      <th>may</th>\n      <th>previous</th>\n      <th>duration</th>\n      <th>y</th>\n    </tr>\n  </thead>\n  <tbody>\n    <tr>\n      <th>0</th>\n      <td>1.334</td>\n      <td>0.0</td>\n      <td>1.0</td>\n      <td>0.0</td>\n      <td>0.0</td>\n      <td>117.0</td>\n      <td>0</td>\n    </tr>\n    <tr>\n      <th>1</th>\n      <td>0.767</td>\n      <td>0.0</td>\n      <td>0.0</td>\n      <td>2.0</td>\n      <td>1.0</td>\n      <td>274.0</td>\n      <td>1</td>\n    </tr>\n    <tr>\n      <th>2</th>\n      <td>4.858</td>\n      <td>0.0</td>\n      <td>1.0</td>\n      <td>0.0</td>\n      <td>0.0</td>\n      <td>167.0</td>\n      <td>0</td>\n    </tr>\n    <tr>\n      <th>3</th>\n      <td>4.120</td>\n      <td>0.0</td>\n      <td>0.0</td>\n      <td>0.0</td>\n      <td>0.0</td>\n      <td>686.0</td>\n      <td>1</td>\n    </tr>\n    <tr>\n      <th>4</th>\n      <td>4.856</td>\n      <td>0.0</td>\n      <td>1.0</td>\n      <td>0.0</td>\n      <td>0.0</td>\n      <td>157.0</td>\n      <td>0</td>\n    </tr>\n  </tbody>\n</table>\n</div>"
     },
     "execution_count": 132,
     "metadata": {},
     "output_type": "execute_result"
    }
   ],
   "source": [
    "data_2.head()"
   ],
   "metadata": {
    "collapsed": false
   }
  },
  {
   "cell_type": "markdown",
   "source": [
    "### Splitting the data"
   ],
   "metadata": {
    "collapsed": false
   }
  },
  {
   "cell_type": "code",
   "execution_count": 133,
   "outputs": [],
   "source": [
    "y=data_2[\"y\"]\n",
    "x1=data_2.drop([\"y\"],axis=1)"
   ],
   "metadata": {
    "collapsed": false
   }
  },
  {
   "cell_type": "code",
   "execution_count": 134,
   "outputs": [],
   "source": [
    "x=sm.add_constant(x1)"
   ],
   "metadata": {
    "collapsed": false
   }
  },
  {
   "cell_type": "markdown",
   "source": [
    "## Regression"
   ],
   "metadata": {
    "collapsed": false
   }
  },
  {
   "cell_type": "code",
   "execution_count": 135,
   "outputs": [],
   "source": [
    "reg_logit=sm.Logit(y,x)"
   ],
   "metadata": {
    "collapsed": false
   }
  },
  {
   "cell_type": "code",
   "execution_count": 136,
   "outputs": [
    {
     "name": "stdout",
     "output_type": "stream",
     "text": [
      "Optimization terminated successfully.\n",
      "         Current function value: 0.335942\n",
      "         Iterations 7\n"
     ]
    }
   ],
   "source": [
    "result_logit=reg_logit.fit()"
   ],
   "metadata": {
    "collapsed": false
   }
  },
  {
   "cell_type": "code",
   "execution_count": 137,
   "outputs": [
    {
     "data": {
      "text/plain": "<class 'statsmodels.iolib.summary.Summary'>\n\"\"\"\n                           Logit Regression Results                           \n==============================================================================\nDep. Variable:                      y   No. Observations:                  518\nModel:                          Logit   Df Residuals:                      511\nMethod:                           MLE   Df Model:                            6\nDate:                Thu, 06 Jul 2023   Pseudo R-squ.:                  0.5153\nTime:                        17:24:29   Log-Likelihood:                -174.02\nconverged:                       True   LL-Null:                       -359.05\nCovariance Type:            nonrobust   LLR p-value:                 7.579e-77\n=================================================================================\n                    coef    std err          z      P>|z|      [0.025      0.975]\n---------------------------------------------------------------------------------\nconst            -0.1385      0.339     -0.408      0.683      -0.804       0.527\ninterest_rate    -0.7802      0.092     -8.471      0.000      -0.961      -0.600\ncredit            2.4028      1.090      2.205      0.027       0.267       4.538\nmarch            -1.8097      0.332     -5.459      0.000      -2.459      -1.160\nmay               0.1946      0.229      0.849      0.396      -0.255       0.644\nprevious          1.2746      0.583      2.186      0.029       0.132       2.417\nduration          0.0070      0.001      9.386      0.000       0.006       0.008\n=================================================================================\n\"\"\"",
      "text/html": "<table class=\"simpletable\">\n<caption>Logit Regression Results</caption>\n<tr>\n  <th>Dep. Variable:</th>           <td>y</td>        <th>  No. Observations:  </th>  <td>   518</td>  \n</tr>\n<tr>\n  <th>Model:</th>                 <td>Logit</td>      <th>  Df Residuals:      </th>  <td>   511</td>  \n</tr>\n<tr>\n  <th>Method:</th>                 <td>MLE</td>       <th>  Df Model:          </th>  <td>     6</td>  \n</tr>\n<tr>\n  <th>Date:</th>            <td>Thu, 06 Jul 2023</td> <th>  Pseudo R-squ.:     </th>  <td>0.5153</td>  \n</tr>\n<tr>\n  <th>Time:</th>                <td>17:24:29</td>     <th>  Log-Likelihood:    </th> <td> -174.02</td> \n</tr>\n<tr>\n  <th>converged:</th>             <td>True</td>       <th>  LL-Null:           </th> <td> -359.05</td> \n</tr>\n<tr>\n  <th>Covariance Type:</th>     <td>nonrobust</td>    <th>  LLR p-value:       </th> <td>7.579e-77</td>\n</tr>\n</table>\n<table class=\"simpletable\">\n<tr>\n        <td></td>           <th>coef</th>     <th>std err</th>      <th>z</th>      <th>P>|z|</th>  <th>[0.025</th>    <th>0.975]</th>  \n</tr>\n<tr>\n  <th>const</th>         <td>   -0.1385</td> <td>    0.339</td> <td>   -0.408</td> <td> 0.683</td> <td>   -0.804</td> <td>    0.527</td>\n</tr>\n<tr>\n  <th>interest_rate</th> <td>   -0.7802</td> <td>    0.092</td> <td>   -8.471</td> <td> 0.000</td> <td>   -0.961</td> <td>   -0.600</td>\n</tr>\n<tr>\n  <th>credit</th>        <td>    2.4028</td> <td>    1.090</td> <td>    2.205</td> <td> 0.027</td> <td>    0.267</td> <td>    4.538</td>\n</tr>\n<tr>\n  <th>march</th>         <td>   -1.8097</td> <td>    0.332</td> <td>   -5.459</td> <td> 0.000</td> <td>   -2.459</td> <td>   -1.160</td>\n</tr>\n<tr>\n  <th>may</th>           <td>    0.1946</td> <td>    0.229</td> <td>    0.849</td> <td> 0.396</td> <td>   -0.255</td> <td>    0.644</td>\n</tr>\n<tr>\n  <th>previous</th>      <td>    1.2746</td> <td>    0.583</td> <td>    2.186</td> <td> 0.029</td> <td>    0.132</td> <td>    2.417</td>\n</tr>\n<tr>\n  <th>duration</th>      <td>    0.0070</td> <td>    0.001</td> <td>    9.386</td> <td> 0.000</td> <td>    0.006</td> <td>    0.008</td>\n</tr>\n</table>"
     },
     "execution_count": 137,
     "metadata": {},
     "output_type": "execute_result"
    }
   ],
   "source": [
    "result_logit.summary()"
   ],
   "metadata": {
    "collapsed": false
   }
  },
  {
   "cell_type": "markdown",
   "source": [
    "The loglikelihood is better than single variable"
   ],
   "metadata": {
    "collapsed": false
   }
  },
  {
   "cell_type": "code",
   "execution_count": 138,
   "outputs": [],
   "source": [
    "def confusion_matrix(data,actual_values,model):\n",
    "    pred_values=model.predict(data)\n",
    "    bins=np.array([0,0.5,1])\n",
    "    cm=np.histogram2d(actual_values,pred_values,bins=bins)[0]\n",
    "    accuracy=(cm[0,0]+cm[1,1])/cm.sum()\n",
    "    return cm,accuracy"
   ],
   "metadata": {
    "collapsed": false
   }
  },
  {
   "cell_type": "code",
   "execution_count": 139,
   "outputs": [
    {
     "data": {
      "text/plain": "(array([[220.,  39.],\n        [ 31., 228.]]),\n 0.8648648648648649)"
     },
     "execution_count": 139,
     "metadata": {},
     "output_type": "execute_result"
    }
   ],
   "source": [
    "cm=confusion_matrix(x,y,result_logit)\n",
    "cm"
   ],
   "metadata": {
    "collapsed": false
   }
  },
  {
   "cell_type": "markdown",
   "source": [
    "Our model is 86% accurate"
   ],
   "metadata": {
    "collapsed": false
   }
  },
  {
   "cell_type": "markdown",
   "source": [
    "## Now lets use test data"
   ],
   "metadata": {
    "collapsed": false
   }
  },
  {
   "cell_type": "code",
   "execution_count": 140,
   "outputs": [
    {
     "data": {
      "text/plain": "   Unnamed: 0  interest_rate  credit  march  may  previous  duration    y\n0           0          1.313     0.0    1.0  0.0       0.0     487.0   no\n1           1          4.961     0.0    0.0  0.0       0.0     132.0   no\n2           2          4.856     0.0    1.0  0.0       0.0      92.0   no\n3           3          4.120     0.0    0.0  0.0       0.0    1468.0  yes\n4           4          4.963     0.0    0.0  0.0       0.0      36.0   no",
      "text/html": "<div>\n<style scoped>\n    .dataframe tbody tr th:only-of-type {\n        vertical-align: middle;\n    }\n\n    .dataframe tbody tr th {\n        vertical-align: top;\n    }\n\n    .dataframe thead th {\n        text-align: right;\n    }\n</style>\n<table border=\"1\" class=\"dataframe\">\n  <thead>\n    <tr style=\"text-align: right;\">\n      <th></th>\n      <th>Unnamed: 0</th>\n      <th>interest_rate</th>\n      <th>credit</th>\n      <th>march</th>\n      <th>may</th>\n      <th>previous</th>\n      <th>duration</th>\n      <th>y</th>\n    </tr>\n  </thead>\n  <tbody>\n    <tr>\n      <th>0</th>\n      <td>0</td>\n      <td>1.313</td>\n      <td>0.0</td>\n      <td>1.0</td>\n      <td>0.0</td>\n      <td>0.0</td>\n      <td>487.0</td>\n      <td>no</td>\n    </tr>\n    <tr>\n      <th>1</th>\n      <td>1</td>\n      <td>4.961</td>\n      <td>0.0</td>\n      <td>0.0</td>\n      <td>0.0</td>\n      <td>0.0</td>\n      <td>132.0</td>\n      <td>no</td>\n    </tr>\n    <tr>\n      <th>2</th>\n      <td>2</td>\n      <td>4.856</td>\n      <td>0.0</td>\n      <td>1.0</td>\n      <td>0.0</td>\n      <td>0.0</td>\n      <td>92.0</td>\n      <td>no</td>\n    </tr>\n    <tr>\n      <th>3</th>\n      <td>3</td>\n      <td>4.120</td>\n      <td>0.0</td>\n      <td>0.0</td>\n      <td>0.0</td>\n      <td>0.0</td>\n      <td>1468.0</td>\n      <td>yes</td>\n    </tr>\n    <tr>\n      <th>4</th>\n      <td>4</td>\n      <td>4.963</td>\n      <td>0.0</td>\n      <td>0.0</td>\n      <td>0.0</td>\n      <td>0.0</td>\n      <td>36.0</td>\n      <td>no</td>\n    </tr>\n  </tbody>\n</table>\n</div>"
     },
     "execution_count": 140,
     "metadata": {},
     "output_type": "execute_result"
    }
   ],
   "source": [
    "test_data=pd.read_csv(\"15452035-Bank-data-testing.csv\")\n",
    "test_data.head()"
   ],
   "metadata": {
    "collapsed": false
   }
  },
  {
   "cell_type": "code",
   "execution_count": 144,
   "outputs": [
    {
     "data": {
      "text/plain": "       interest_rate      credit       march         may    previous  \\\ncount     222.000000  222.000000  222.000000  222.000000  222.000000   \nmean        2.922095    0.031532    0.274775    0.346847    0.099099   \nstd         1.891766    0.175144    0.447410    0.755950    0.299470   \nmin         0.639000    0.000000    0.000000    0.000000    0.000000   \n25%         1.049250    0.000000    0.000000    0.000000    0.000000   \n50%         1.714000    0.000000    0.000000    0.000000    0.000000   \n75%         4.960000    0.000000    1.000000    0.000000    0.000000   \nmax         4.968000    1.000000    1.000000    4.000000    1.000000   \n\n          duration          y  \ncount   222.000000  222.00000  \nmean    398.860360    0.50000  \nstd     410.565798    0.50113  \nmin       6.000000    0.00000  \n25%     144.750000    0.00000  \n50%     255.500000    0.50000  \n75%     525.250000    1.00000  \nmax    3643.000000    1.00000  ",
      "text/html": "<div>\n<style scoped>\n    .dataframe tbody tr th:only-of-type {\n        vertical-align: middle;\n    }\n\n    .dataframe tbody tr th {\n        vertical-align: top;\n    }\n\n    .dataframe thead th {\n        text-align: right;\n    }\n</style>\n<table border=\"1\" class=\"dataframe\">\n  <thead>\n    <tr style=\"text-align: right;\">\n      <th></th>\n      <th>interest_rate</th>\n      <th>credit</th>\n      <th>march</th>\n      <th>may</th>\n      <th>previous</th>\n      <th>duration</th>\n      <th>y</th>\n    </tr>\n  </thead>\n  <tbody>\n    <tr>\n      <th>count</th>\n      <td>222.000000</td>\n      <td>222.000000</td>\n      <td>222.000000</td>\n      <td>222.000000</td>\n      <td>222.000000</td>\n      <td>222.000000</td>\n      <td>222.00000</td>\n    </tr>\n    <tr>\n      <th>mean</th>\n      <td>2.922095</td>\n      <td>0.031532</td>\n      <td>0.274775</td>\n      <td>0.346847</td>\n      <td>0.099099</td>\n      <td>398.860360</td>\n      <td>0.50000</td>\n    </tr>\n    <tr>\n      <th>std</th>\n      <td>1.891766</td>\n      <td>0.175144</td>\n      <td>0.447410</td>\n      <td>0.755950</td>\n      <td>0.299470</td>\n      <td>410.565798</td>\n      <td>0.50113</td>\n    </tr>\n    <tr>\n      <th>min</th>\n      <td>0.639000</td>\n      <td>0.000000</td>\n      <td>0.000000</td>\n      <td>0.000000</td>\n      <td>0.000000</td>\n      <td>6.000000</td>\n      <td>0.00000</td>\n    </tr>\n    <tr>\n      <th>25%</th>\n      <td>1.049250</td>\n      <td>0.000000</td>\n      <td>0.000000</td>\n      <td>0.000000</td>\n      <td>0.000000</td>\n      <td>144.750000</td>\n      <td>0.00000</td>\n    </tr>\n    <tr>\n      <th>50%</th>\n      <td>1.714000</td>\n      <td>0.000000</td>\n      <td>0.000000</td>\n      <td>0.000000</td>\n      <td>0.000000</td>\n      <td>255.500000</td>\n      <td>0.50000</td>\n    </tr>\n    <tr>\n      <th>75%</th>\n      <td>4.960000</td>\n      <td>0.000000</td>\n      <td>1.000000</td>\n      <td>0.000000</td>\n      <td>0.000000</td>\n      <td>525.250000</td>\n      <td>1.00000</td>\n    </tr>\n    <tr>\n      <th>max</th>\n      <td>4.968000</td>\n      <td>1.000000</td>\n      <td>1.000000</td>\n      <td>4.000000</td>\n      <td>1.000000</td>\n      <td>3643.000000</td>\n      <td>1.00000</td>\n    </tr>\n  </tbody>\n</table>\n</div>"
     },
     "execution_count": 144,
     "metadata": {},
     "output_type": "execute_result"
    }
   ],
   "source": [
    "test_data.describe()"
   ],
   "metadata": {
    "collapsed": false
   }
  },
  {
   "cell_type": "code",
   "execution_count": 141,
   "outputs": [
    {
     "data": {
      "text/plain": "     interest_rate  credit  march  may  previous  duration  y\n0            1.313     0.0    1.0  0.0       0.0     487.0  0\n1            4.961     0.0    0.0  0.0       0.0     132.0  0\n2            4.856     0.0    1.0  0.0       0.0      92.0  0\n3            4.120     0.0    0.0  0.0       0.0    1468.0  1\n4            4.963     0.0    0.0  0.0       0.0      36.0  0\n..             ...     ...    ...  ...       ...       ... ..\n217          4.963     0.0    0.0  0.0       0.0     458.0  1\n218          1.264     0.0    1.0  1.0       0.0     397.0  1\n219          1.281     0.0    1.0  0.0       0.0      34.0  0\n220          0.739     0.0    0.0  2.0       0.0     233.0  0\n221          1.046     0.0    0.0  0.0       0.0     238.0  1\n\n[222 rows x 7 columns]",
      "text/html": "<div>\n<style scoped>\n    .dataframe tbody tr th:only-of-type {\n        vertical-align: middle;\n    }\n\n    .dataframe tbody tr th {\n        vertical-align: top;\n    }\n\n    .dataframe thead th {\n        text-align: right;\n    }\n</style>\n<table border=\"1\" class=\"dataframe\">\n  <thead>\n    <tr style=\"text-align: right;\">\n      <th></th>\n      <th>interest_rate</th>\n      <th>credit</th>\n      <th>march</th>\n      <th>may</th>\n      <th>previous</th>\n      <th>duration</th>\n      <th>y</th>\n    </tr>\n  </thead>\n  <tbody>\n    <tr>\n      <th>0</th>\n      <td>1.313</td>\n      <td>0.0</td>\n      <td>1.0</td>\n      <td>0.0</td>\n      <td>0.0</td>\n      <td>487.0</td>\n      <td>0</td>\n    </tr>\n    <tr>\n      <th>1</th>\n      <td>4.961</td>\n      <td>0.0</td>\n      <td>0.0</td>\n      <td>0.0</td>\n      <td>0.0</td>\n      <td>132.0</td>\n      <td>0</td>\n    </tr>\n    <tr>\n      <th>2</th>\n      <td>4.856</td>\n      <td>0.0</td>\n      <td>1.0</td>\n      <td>0.0</td>\n      <td>0.0</td>\n      <td>92.0</td>\n      <td>0</td>\n    </tr>\n    <tr>\n      <th>3</th>\n      <td>4.120</td>\n      <td>0.0</td>\n      <td>0.0</td>\n      <td>0.0</td>\n      <td>0.0</td>\n      <td>1468.0</td>\n      <td>1</td>\n    </tr>\n    <tr>\n      <th>4</th>\n      <td>4.963</td>\n      <td>0.0</td>\n      <td>0.0</td>\n      <td>0.0</td>\n      <td>0.0</td>\n      <td>36.0</td>\n      <td>0</td>\n    </tr>\n    <tr>\n      <th>...</th>\n      <td>...</td>\n      <td>...</td>\n      <td>...</td>\n      <td>...</td>\n      <td>...</td>\n      <td>...</td>\n      <td>...</td>\n    </tr>\n    <tr>\n      <th>217</th>\n      <td>4.963</td>\n      <td>0.0</td>\n      <td>0.0</td>\n      <td>0.0</td>\n      <td>0.0</td>\n      <td>458.0</td>\n      <td>1</td>\n    </tr>\n    <tr>\n      <th>218</th>\n      <td>1.264</td>\n      <td>0.0</td>\n      <td>1.0</td>\n      <td>1.0</td>\n      <td>0.0</td>\n      <td>397.0</td>\n      <td>1</td>\n    </tr>\n    <tr>\n      <th>219</th>\n      <td>1.281</td>\n      <td>0.0</td>\n      <td>1.0</td>\n      <td>0.0</td>\n      <td>0.0</td>\n      <td>34.0</td>\n      <td>0</td>\n    </tr>\n    <tr>\n      <th>220</th>\n      <td>0.739</td>\n      <td>0.0</td>\n      <td>0.0</td>\n      <td>2.0</td>\n      <td>0.0</td>\n      <td>233.0</td>\n      <td>0</td>\n    </tr>\n    <tr>\n      <th>221</th>\n      <td>1.046</td>\n      <td>0.0</td>\n      <td>0.0</td>\n      <td>0.0</td>\n      <td>0.0</td>\n      <td>238.0</td>\n      <td>1</td>\n    </tr>\n  </tbody>\n</table>\n<p>222 rows × 7 columns</p>\n</div>"
     },
     "execution_count": 141,
     "metadata": {},
     "output_type": "execute_result"
    }
   ],
   "source": [
    "test_data=test_data.drop([\"Unnamed: 0\"],axis=1)\n",
    "test_data[\"y\"]=test_data[\"y\"].map({\"yes\":1,\"no\":0})\n",
    "test_data"
   ],
   "metadata": {
    "collapsed": false
   }
  },
  {
   "cell_type": "markdown",
   "source": [
    "Split the data"
   ],
   "metadata": {
    "collapsed": false
   }
  },
  {
   "cell_type": "code",
   "execution_count": 142,
   "outputs": [
    {
     "data": {
      "text/plain": "     const  interest_rate  credit  march  may  previous  duration\n0      1.0          1.313     0.0    1.0  0.0       0.0     487.0\n1      1.0          4.961     0.0    0.0  0.0       0.0     132.0\n2      1.0          4.856     0.0    1.0  0.0       0.0      92.0\n3      1.0          4.120     0.0    0.0  0.0       0.0    1468.0\n4      1.0          4.963     0.0    0.0  0.0       0.0      36.0\n..     ...            ...     ...    ...  ...       ...       ...\n217    1.0          4.963     0.0    0.0  0.0       0.0     458.0\n218    1.0          1.264     0.0    1.0  1.0       0.0     397.0\n219    1.0          1.281     0.0    1.0  0.0       0.0      34.0\n220    1.0          0.739     0.0    0.0  2.0       0.0     233.0\n221    1.0          1.046     0.0    0.0  0.0       0.0     238.0\n\n[222 rows x 7 columns]",
      "text/html": "<div>\n<style scoped>\n    .dataframe tbody tr th:only-of-type {\n        vertical-align: middle;\n    }\n\n    .dataframe tbody tr th {\n        vertical-align: top;\n    }\n\n    .dataframe thead th {\n        text-align: right;\n    }\n</style>\n<table border=\"1\" class=\"dataframe\">\n  <thead>\n    <tr style=\"text-align: right;\">\n      <th></th>\n      <th>const</th>\n      <th>interest_rate</th>\n      <th>credit</th>\n      <th>march</th>\n      <th>may</th>\n      <th>previous</th>\n      <th>duration</th>\n    </tr>\n  </thead>\n  <tbody>\n    <tr>\n      <th>0</th>\n      <td>1.0</td>\n      <td>1.313</td>\n      <td>0.0</td>\n      <td>1.0</td>\n      <td>0.0</td>\n      <td>0.0</td>\n      <td>487.0</td>\n    </tr>\n    <tr>\n      <th>1</th>\n      <td>1.0</td>\n      <td>4.961</td>\n      <td>0.0</td>\n      <td>0.0</td>\n      <td>0.0</td>\n      <td>0.0</td>\n      <td>132.0</td>\n    </tr>\n    <tr>\n      <th>2</th>\n      <td>1.0</td>\n      <td>4.856</td>\n      <td>0.0</td>\n      <td>1.0</td>\n      <td>0.0</td>\n      <td>0.0</td>\n      <td>92.0</td>\n    </tr>\n    <tr>\n      <th>3</th>\n      <td>1.0</td>\n      <td>4.120</td>\n      <td>0.0</td>\n      <td>0.0</td>\n      <td>0.0</td>\n      <td>0.0</td>\n      <td>1468.0</td>\n    </tr>\n    <tr>\n      <th>4</th>\n      <td>1.0</td>\n      <td>4.963</td>\n      <td>0.0</td>\n      <td>0.0</td>\n      <td>0.0</td>\n      <td>0.0</td>\n      <td>36.0</td>\n    </tr>\n    <tr>\n      <th>...</th>\n      <td>...</td>\n      <td>...</td>\n      <td>...</td>\n      <td>...</td>\n      <td>...</td>\n      <td>...</td>\n      <td>...</td>\n    </tr>\n    <tr>\n      <th>217</th>\n      <td>1.0</td>\n      <td>4.963</td>\n      <td>0.0</td>\n      <td>0.0</td>\n      <td>0.0</td>\n      <td>0.0</td>\n      <td>458.0</td>\n    </tr>\n    <tr>\n      <th>218</th>\n      <td>1.0</td>\n      <td>1.264</td>\n      <td>0.0</td>\n      <td>1.0</td>\n      <td>1.0</td>\n      <td>0.0</td>\n      <td>397.0</td>\n    </tr>\n    <tr>\n      <th>219</th>\n      <td>1.0</td>\n      <td>1.281</td>\n      <td>0.0</td>\n      <td>1.0</td>\n      <td>0.0</td>\n      <td>0.0</td>\n      <td>34.0</td>\n    </tr>\n    <tr>\n      <th>220</th>\n      <td>1.0</td>\n      <td>0.739</td>\n      <td>0.0</td>\n      <td>0.0</td>\n      <td>2.0</td>\n      <td>0.0</td>\n      <td>233.0</td>\n    </tr>\n    <tr>\n      <th>221</th>\n      <td>1.0</td>\n      <td>1.046</td>\n      <td>0.0</td>\n      <td>0.0</td>\n      <td>0.0</td>\n      <td>0.0</td>\n      <td>238.0</td>\n    </tr>\n  </tbody>\n</table>\n<p>222 rows × 7 columns</p>\n</div>"
     },
     "execution_count": 142,
     "metadata": {},
     "output_type": "execute_result"
    }
   ],
   "source": [
    "test_y=test_data[\"y\"]\n",
    "test_x=test_data.drop([\"y\"],axis=1)\n",
    "test_x=sm.add_constant(test_x)\n",
    "test_x"
   ],
   "metadata": {
    "collapsed": false
   }
  },
  {
   "cell_type": "code",
   "execution_count": 143,
   "outputs": [
    {
     "data": {
      "text/plain": "(array([[94., 17.],\n        [12., 99.]]),\n 0.8693693693693694)"
     },
     "execution_count": 143,
     "metadata": {},
     "output_type": "execute_result"
    }
   ],
   "source": [
    "confusion_matrix(test_x,test_y,result_logit)"
   ],
   "metadata": {
    "collapsed": false
   }
  },
  {
   "cell_type": "markdown",
   "source": [
    "My model did better in test data"
   ],
   "metadata": {
    "collapsed": false
   }
  }
 ],
 "metadata": {
  "kernelspec": {
   "display_name": "Python 3",
   "language": "python",
   "name": "python3"
  },
  "language_info": {
   "codemirror_mode": {
    "name": "ipython",
    "version": 2
   },
   "file_extension": ".py",
   "mimetype": "text/x-python",
   "name": "python",
   "nbconvert_exporter": "python",
   "pygments_lexer": "ipython2",
   "version": "2.7.6"
  }
 },
 "nbformat": 4,
 "nbformat_minor": 0
}
