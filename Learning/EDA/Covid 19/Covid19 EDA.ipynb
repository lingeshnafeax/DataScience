{
 "cells": [
  {
   "cell_type": "markdown",
   "source": [
    "# Covid 19 EDA"
   ],
   "metadata": {
    "collapsed": false
   }
  },
  {
   "cell_type": "code",
   "execution_count": null,
   "outputs": [],
   "source": [
    "import plotly.express as px\n",
    "import plotly.graph_objects as go\n",
    "import plotly.figure_factory as ff\n",
    "from plotly.subplots import make_subplots\n",
    "import folium\n",
    "import pandas as pd\n",
    "import numpy as np\n",
    "import matplotlib.pyplot as plt\n",
    "%matplotlib inline\n",
    "import math\n",
    "import random\n",
    "from datetime import timedelta\n",
    "import warnings\n",
    "warnings.filterwarnings(\"ignore\")\n",
    "\n",
    "#Color Palette\n",
    "cnf=\"#393e46\"\n",
    "dth=\"#ff2e63\"\n",
    "rec=\"#21bf73\"\n",
    "act=\"#fe9801\""
   ],
   "metadata": {
    "collapsed": false
   }
  },
  {
   "cell_type": "code",
   "execution_count": null,
   "outputs": [],
   "source": [
    "import plotly as py\n",
    "py.offline.init_notebook_mode(connected=True)   ## For running plotly offline"
   ],
   "metadata": {
    "collapsed": false
   }
  },
  {
   "cell_type": "markdown",
   "source": [
    "## Loading the data"
   ],
   "metadata": {
    "collapsed": false
   }
  },
  {
   "cell_type": "code",
   "execution_count": null,
   "outputs": [],
   "source": [
    "country_daywise=pd.read_csv(\"../Covid 19/Data/country_daywise.csv\",parse_dates=[\"Date\"])\n",
    "countrywise=pd.read_csv(\"../Covid 19/Data/countrywise.csv\")\n",
    "daywise=pd.read_csv(\"../Covid 19/Data/daywise.csv\",parse_dates=[\"Date\"])\n"
   ],
   "metadata": {
    "collapsed": false
   }
  },
  {
   "cell_type": "code",
   "execution_count": null,
   "outputs": [],
   "source": [
    "data_cleaned=pd.read_csv(\"../Covid 19/Data/covid_19_data_cleaned.csv\",parse_dates=[\"Date\"])\n",
    "data_cleaned.head()"
   ],
   "metadata": {
    "collapsed": false
   }
  },
  {
   "cell_type": "code",
   "execution_count": null,
   "outputs": [],
   "source": [
    "data_cleaned[\"Province/State\"]=data_cleaned[\"Province/State\"].fillna(\"\")\n",
    "data_cleaned.head()"
   ],
   "metadata": {
    "collapsed": false
   }
  },
  {
   "cell_type": "code",
   "execution_count": null,
   "outputs": [],
   "source": [
    "data_cleaned.info(memory_usage=\"deep\")"
   ],
   "metadata": {
    "collapsed": false
   }
  },
  {
   "cell_type": "markdown",
   "source": [
    "from datacleaned getting confirmed"
   ],
   "metadata": {
    "collapsed": false
   }
  },
  {
   "cell_type": "code",
   "execution_count": null,
   "outputs": [],
   "source": [
    "confirmed=data_cleaned.groupby(\"Date\").agg({\"Confirmed\":\"sum\"}).reset_index()\n",
    "confirmed"
   ],
   "metadata": {
    "collapsed": false
   }
  },
  {
   "cell_type": "code",
   "execution_count": null,
   "outputs": [],
   "source": [
    "recovered=data_cleaned.groupby(\"Date\").agg({\"Recovered\":\"sum\"}).reset_index()\n",
    "recovered"
   ],
   "metadata": {
    "collapsed": false
   }
  },
  {
   "cell_type": "code",
   "execution_count": null,
   "outputs": [],
   "source": [
    "deaths=data_cleaned.groupby(\"Date\").agg({\"Deaths\":\"sum\"}).reset_index()\n",
    "deaths"
   ],
   "metadata": {
    "collapsed": false
   }
  },
  {
   "cell_type": "code",
   "execution_count": null,
   "outputs": [],
   "source": [
    "data_cleaned.isna().sum()"
   ],
   "metadata": {
    "collapsed": false
   }
  },
  {
   "cell_type": "code",
   "execution_count": null,
   "outputs": [],
   "source": [
    "data_cleaned.query(\"Country=='India'\")"
   ],
   "metadata": {
    "collapsed": false
   }
  },
  {
   "cell_type": "markdown",
   "source": [
    "## Worldwide Total Confirmed, Recovered, Deaths"
   ],
   "metadata": {
    "collapsed": false
   }
  },
  {
   "cell_type": "code",
   "execution_count": null,
   "outputs": [],
   "source": [
    "confirmed.tail()"
   ],
   "metadata": {
    "collapsed": false
   }
  },
  {
   "cell_type": "code",
   "execution_count": null,
   "outputs": [],
   "source": [
    "recovered.tail()"
   ],
   "metadata": {
    "collapsed": false
   }
  },
  {
   "cell_type": "code",
   "execution_count": null,
   "outputs": [],
   "source": [
    "deaths.tail()"
   ],
   "metadata": {
    "collapsed": false
   }
  },
  {
   "cell_type": "markdown",
   "source": [
    "### Plotting"
   ],
   "metadata": {
    "collapsed": false
   }
  },
  {
   "cell_type": "markdown",
   "source": [
    "First we have to create a figure"
   ],
   "metadata": {
    "collapsed": false
   }
  },
  {
   "cell_type": "code",
   "execution_count": null,
   "outputs": [],
   "source": [
    "fig=go.Figure()\n",
    "fig.add_trace(go.Scatter(x=confirmed[\"Date\"],y=confirmed[\"Confirmed\"],mode=\"lines+markers\",name=\"Confirmed Cases\",line={\"color\":\"Orange\",\"width\":1}))\n",
    "fig.add_trace(go.Scatter(x=recovered[\"Date\"],y=recovered[\"Recovered\"],mode=\"lines+markers\",name=\"Recovered Cases\",line={\"color\":\"Green\",\"width\":1}))\n",
    "fig.add_trace(go.Scatter(x=deaths[\"Date\"],y=deaths[\"Deaths\"],mode=\"lines+markers\",name=\"Confirmed Cases\",line={\"color\":\"Red\",\"width\":1}))\n",
    "fig.update_layout(title=\"Worldwide Covid-19 Cases\",xaxis_tickfont_size=14,yaxis={\"title\":\"No of Cases\"})\n",
    "fig.show()"
   ],
   "metadata": {
    "collapsed": false
   }
  },
  {
   "cell_type": "markdown",
   "source": [
    "## Case Density Animation on WorldMap"
   ],
   "metadata": {
    "collapsed": false
   }
  },
  {
   "cell_type": "code",
   "execution_count": null,
   "outputs": [],
   "source": [
    "data_cleaned.info()"
   ],
   "metadata": {
    "collapsed": false
   }
  },
  {
   "cell_type": "markdown",
   "source": [
    "To mark value in world map we have to convert date to str"
   ],
   "metadata": {
    "collapsed": false
   }
  },
  {
   "cell_type": "code",
   "execution_count": null,
   "outputs": [],
   "source": [
    "data_cleaned[\"Date\"]=data_cleaned[\"Date\"].astype(\"str\")\n",
    "data_cleaned.info()"
   ],
   "metadata": {
    "collapsed": false
   }
  },
  {
   "cell_type": "markdown",
   "source": [
    "### Plotting in world map"
   ],
   "metadata": {
    "collapsed": false
   }
  },
  {
   "cell_type": "code",
   "execution_count": null,
   "outputs": [],
   "source": [
    "fig=px.density_mapbox(data_frame=data_cleaned,lat=\"Lat\",lon=\"Long\",hover_name=\"Country\",hover_data=[\"Confirmed\",\"Recovered\",\"Deaths\"],animation_frame=\"Date\",color_continuous_scale=\"Portland\",zoom=0,radius=7,height=600)\n",
    "fig.update_layout(title=\"Worldwide Covid-19 Cases Timelapse\")\n",
    "fig.update_layout(mapbox_style=\"open-street-map\",mapbox_center_lon=0)\n",
    "fig.show()"
   ],
   "metadata": {
    "collapsed": false
   }
  },
  {
   "cell_type": "markdown",
   "source": [
    "## Total Cases on Ships"
   ],
   "metadata": {
    "collapsed": false
   }
  },
  {
   "cell_type": "code",
   "execution_count": null,
   "outputs": [],
   "source": [
    "data_cleaned[\"Date\"]=pd.to_datetime(data_cleaned[\"Date\"])\n",
    "data_cleaned.info(memory_usage=\"deep\")"
   ],
   "metadata": {
    "collapsed": false
   }
  },
  {
   "cell_type": "code",
   "execution_count": null,
   "outputs": [],
   "source": [
    "ship_rows=data_cleaned[\"Province/State\"].str.contains(\"Grand Princess\")|data_cleaned[\"Province/State\"].str.contains(\"Diamond Princess\")|data_cleaned[\"Country\"].str.contains(\"Grand Princess\")|data_cleaned[\"Country\"].str.contains(\"Diamond Princess\")|data_cleaned[\"Country\"].str.contains(\"MS Zaandam\")\n",
    "ship=data_cleaned[ship_rows]\n",
    "ship"
   ],
   "metadata": {
    "collapsed": false
   }
  },
  {
   "cell_type": "markdown",
   "source": [
    "Lets remove this ships from data_cleaned"
   ],
   "metadata": {
    "collapsed": false
   }
  },
  {
   "cell_type": "code",
   "execution_count": null,
   "outputs": [],
   "source": [
    "data_cleaned=data_cleaned.drop(ship.index)"
   ],
   "metadata": {
    "collapsed": false
   }
  },
  {
   "cell_type": "code",
   "execution_count": null,
   "outputs": [],
   "source": [
    "data_cleaned"
   ],
   "metadata": {
    "collapsed": false
   }
  },
  {
   "cell_type": "code",
   "execution_count": null,
   "outputs": [],
   "source": [
    "ship_latest=ship[ship[\"Date\"]==max(ship[\"Date\"])]\n",
    "ship_latest.style.background_gradient(cmap=\"Pastel1_r\")"
   ],
   "metadata": {
    "collapsed": false
   }
  },
  {
   "cell_type": "markdown",
   "source": [
    "## Cases over Area Plot"
   ],
   "metadata": {
    "collapsed": false
   }
  },
  {
   "cell_type": "code",
   "execution_count": null,
   "outputs": [],
   "source": [
    "temp=data_cleaned.groupby(\"Date\").agg({\"Confirmed\":\"sum\",\"Recovered\":\"sum\",\"Deaths\":\"sum\",\"Active\":\"sum\"}).reset_index()\n",
    "temp"
   ],
   "metadata": {
    "collapsed": false
   }
  },
  {
   "cell_type": "code",
   "execution_count": null,
   "outputs": [],
   "source": [
    "temp=temp.tail(1)\n",
    "temp"
   ],
   "metadata": {
    "collapsed": false
   }
  },
  {
   "cell_type": "code",
   "execution_count": null,
   "outputs": [],
   "source": [
    "tm=temp.melt(id_vars=\"Date\",value_vars=[\"Confirmed\",\"Recovered\",\"Deaths\",\"Active\"])\n",
    "tm"
   ],
   "metadata": {
    "collapsed": false
   }
  },
  {
   "cell_type": "code",
   "execution_count": null,
   "outputs": [],
   "source": [
    "fig=px.treemap(tm,path=[\"variable\"],values=\"value\",height=250,width=800,color_discrete_sequence=[act,rec,dth])\n",
    "fig.data[0].textinfo=\"label+text+value\"\n",
    "fig.show()"
   ],
   "metadata": {
    "collapsed": false
   }
  },
  {
   "cell_type": "code",
   "execution_count": null,
   "outputs": [],
   "source": [
    "temp=data_cleaned.groupby(\"Date\").agg({\"Confirmed\":\"sum\",\"Recovered\":\"sum\",\"Deaths\":\"sum\",\"Active\":\"sum\"}).reset_index()\n",
    "temp"
   ],
   "metadata": {
    "collapsed": false
   }
  },
  {
   "cell_type": "code",
   "execution_count": null,
   "outputs": [],
   "source": [
    "temp=temp.melt(id_vars=\"Date\",value_vars=[\"Recovered\",\"Deaths\",\"Active\"],var_name=\"Case\",value_name=\"Count\")\n",
    "temp"
   ],
   "metadata": {
    "collapsed": false
   }
  },
  {
   "cell_type": "code",
   "execution_count": null,
   "outputs": [],
   "source": [
    "fig=px.area(data_frame=temp,x='Date',y=\"Count\",color=\"Case\",height=600,title=\"Cases over time\",color_discrete_sequence=[rec,dth,act])\n",
    "fig.update_layout(xaxis_rangeslider_visible=True)\n",
    "fig.show()"
   ],
   "metadata": {
    "collapsed": false
   }
  },
  {
   "cell_type": "markdown",
   "source": [
    "## Folium Maps"
   ],
   "metadata": {
    "collapsed": false
   }
  },
  {
   "cell_type": "code",
   "execution_count": null,
   "outputs": [],
   "source": [
    "temp=data_cleaned[data_cleaned[\"Date\"]==max(data_cleaned[\"Date\"])].reset_index()\n",
    "temp"
   ],
   "metadata": {
    "collapsed": false
   }
  },
  {
   "cell_type": "code",
   "execution_count": null,
   "outputs": [],
   "source": [
    "m=folium.Map(location=[0,0],tiles=\"cartodbpositron\",min_zoom=1,max_zoom=4,zoom_start=1)\n",
    "for i in range(0,len(temp)):\n",
    "    folium.Circle(location=(temp.loc[i,[\"Lat\",\"Long\"]]),color=\"crimson\",fill=\"crimson\",tooltip=\"<li><bold>Country: \"+str(temp.loc[i,\"Country\"])+\"<li><bold>Province: \"+str(temp.loc[i,\"Province/State\"])+\"<li><bold>Confirmed: \"+str(temp.loc[i,\"Confirmed\"])+\"<li><bold>Death: \"+str(temp.loc[i,\"Deaths\"]),radius=int(temp.loc[i,\"Confirmed\"])**0.5).add_to(m)\n",
    "m"
   ],
   "metadata": {
    "collapsed": false
   }
  },
  {
   "cell_type": "markdown",
   "source": [
    "## Confirmed Cases with Choropleth Map"
   ],
   "metadata": {
    "collapsed": false
   }
  },
  {
   "cell_type": "code",
   "execution_count": null,
   "outputs": [],
   "source": [
    "country_daywise"
   ],
   "metadata": {
    "collapsed": false
   }
  },
  {
   "cell_type": "code",
   "execution_count": null,
   "outputs": [],
   "source": [
    "fig=px.choropleth(data_frame=country_daywise,locations=\"Country\",locationmode=\"country names\",color=np.log(country_daywise[\"Confirmed\"]),hover_name=\"Country\",animation_frame=country_daywise[\"Date\"].dt.strftime(\"%Y-%M-%D\"),color_continuous_scale=px.colors.sequential.Inferno,title=\"Cases over Time\")\n",
    "fig.update(layout_coloraxis_showscale=True)\n",
    "fig.show()"
   ],
   "metadata": {
    "collapsed": false
   }
  },
  {
   "cell_type": "markdown",
   "source": [
    "## Deaths and Recoveries per 100 Cases"
   ],
   "metadata": {
    "collapsed": false
   }
  },
  {
   "cell_type": "code",
   "execution_count": null,
   "outputs": [],
   "source": [
    "daywise.head()"
   ],
   "metadata": {
    "collapsed": false
   }
  },
  {
   "cell_type": "code",
   "execution_count": null,
   "outputs": [],
   "source": [
    "fig_c=px.bar(data_frame=daywise,x=\"Date\",y=\"Confirmed\",color_discrete_sequence=[act])\n",
    "fig_d=px.bar(data_frame=daywise,x=\"Date\",y=\"Deaths\",color_discrete_sequence=[dth])\n",
    "fig=make_subplots(rows=1,cols=2,shared_xaxes=False,horizontal_spacing=0.1,subplot_titles=(\"Confirmed Cases\",\"Deaths Cases\"))\n",
    "fig.add_trace(fig_c[\"data\"][0],row=1,col=1)\n",
    "fig.add_trace(fig_d[\"data\"][0],row=1,col=2)\n",
    "fig.update_layout(height=480)\n",
    "fig.show()"
   ],
   "metadata": {
    "collapsed": false
   }
  },
  {
   "cell_type": "markdown",
   "source": [
    "## Confirmed and Death Cases with Static Colormap"
   ],
   "metadata": {
    "collapsed": false
   }
  },
  {
   "cell_type": "code",
   "execution_count": null,
   "outputs": [],
   "source": [
    "fig_c=px.choropleth(data_frame=countrywise,locations=\"Country\",locationmode=\"country names\",color=np.log(countrywise[\"Confirmed\"]),hover_name=\"Country\",hover_data=[\"Confirmed\"])\n",
    "temp=countrywise[countrywise[\"Deaths\"]>0]\n",
    "fig_d=px.choropleth(data_frame=temp,locations=\"Country\",locationmode=\"country names\",color=np.log(temp[\"Deaths\"]),hover_name=\"Country\",hover_data=[\"Deaths\"])\n",
    "fig=make_subplots(rows=1,cols=2,subplot_titles=(\"Confirmed\",\"Deaths\"),specs=[[{\"type\":\"choropleth\"},{\"type\":\"choropleth\"}]])\n",
    "fig.add_trace(fig_c[\"data\"][0],row=1,col=1)\n",
    "fig.add_trace(fig_d[\"data\"][0],row=1,col=2)\n",
    "fig.show()"
   ],
   "metadata": {
    "collapsed": false
   }
  }
 ],
 "metadata": {
  "kernelspec": {
   "display_name": "Python 3",
   "language": "python",
   "name": "python3"
  },
  "language_info": {
   "codemirror_mode": {
    "name": "ipython",
    "version": 2
   },
   "file_extension": ".py",
   "mimetype": "text/x-python",
   "name": "python",
   "nbconvert_exporter": "python",
   "pygments_lexer": "ipython2",
   "version": "2.7.6"
  }
 },
 "nbformat": 4,
 "nbformat_minor": 0
}
