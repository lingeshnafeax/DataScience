{
 "cells": [
  {
   "cell_type": "code",
   "execution_count": 1,
   "metadata": {
    "collapsed": true
   },
   "outputs": [],
   "source": [
    "from datetime import datetime\n",
    "import pandas as pd"
   ]
  },
  {
   "cell_type": "code",
   "execution_count": 2,
   "outputs": [
    {
     "data": {
      "text/plain": "datetime.datetime(2023, 7, 20, 16, 48, 23, 552202)"
     },
     "execution_count": 2,
     "metadata": {},
     "output_type": "execute_result"
    }
   ],
   "source": [
    "now=datetime.now()\n",
    "now"
   ],
   "metadata": {
    "collapsed": false
   }
  },
  {
   "cell_type": "code",
   "execution_count": 3,
   "outputs": [
    {
     "data": {
      "text/plain": "datetime.datetime"
     },
     "execution_count": 3,
     "metadata": {},
     "output_type": "execute_result"
    }
   ],
   "source": [
    "type(now)"
   ],
   "metadata": {
    "collapsed": false
   }
  },
  {
   "cell_type": "code",
   "execution_count": 4,
   "outputs": [],
   "source": [
    "df=pd.DataFrame()"
   ],
   "metadata": {
    "collapsed": false
   }
  },
  {
   "cell_type": "code",
   "execution_count": 5,
   "outputs": [],
   "source": [
    "df[\"date\"]=[\"2017-2-23\",\"2019-2-26\"]"
   ],
   "metadata": {
    "collapsed": false
   }
  },
  {
   "cell_type": "code",
   "execution_count": 6,
   "outputs": [
    {
     "data": {
      "text/plain": "        date\n0  2017-2-23\n1  2019-2-26",
      "text/html": "<div>\n<style scoped>\n    .dataframe tbody tr th:only-of-type {\n        vertical-align: middle;\n    }\n\n    .dataframe tbody tr th {\n        vertical-align: top;\n    }\n\n    .dataframe thead th {\n        text-align: right;\n    }\n</style>\n<table border=\"1\" class=\"dataframe\">\n  <thead>\n    <tr style=\"text-align: right;\">\n      <th></th>\n      <th>date</th>\n    </tr>\n  </thead>\n  <tbody>\n    <tr>\n      <th>0</th>\n      <td>2017-2-23</td>\n    </tr>\n    <tr>\n      <th>1</th>\n      <td>2019-2-26</td>\n    </tr>\n  </tbody>\n</table>\n</div>"
     },
     "execution_count": 6,
     "metadata": {},
     "output_type": "execute_result"
    }
   ],
   "source": [
    "df"
   ],
   "metadata": {
    "collapsed": false
   }
  },
  {
   "cell_type": "code",
   "execution_count": 7,
   "outputs": [
    {
     "name": "stdout",
     "output_type": "stream",
     "text": [
      "<class 'pandas.core.frame.DataFrame'>\n",
      "RangeIndex: 2 entries, 0 to 1\n",
      "Data columns (total 1 columns):\n",
      " #   Column  Non-Null Count  Dtype \n",
      "---  ------  --------------  ----- \n",
      " 0   date    2 non-null      object\n",
      "dtypes: object(1)\n",
      "memory usage: 144.0+ bytes\n"
     ]
    }
   ],
   "source": [
    "df.info()"
   ],
   "metadata": {
    "collapsed": false
   }
  },
  {
   "cell_type": "code",
   "execution_count": 8,
   "outputs": [
    {
     "data": {
      "text/plain": "        date\n0        N/A\n1  2019-2-26",
      "text/html": "<div>\n<style scoped>\n    .dataframe tbody tr th:only-of-type {\n        vertical-align: middle;\n    }\n\n    .dataframe tbody tr th {\n        vertical-align: top;\n    }\n\n    .dataframe thead th {\n        text-align: right;\n    }\n</style>\n<table border=\"1\" class=\"dataframe\">\n  <thead>\n    <tr style=\"text-align: right;\">\n      <th></th>\n      <th>date</th>\n    </tr>\n  </thead>\n  <tbody>\n    <tr>\n      <th>0</th>\n      <td>N/A</td>\n    </tr>\n    <tr>\n      <th>1</th>\n      <td>2019-2-26</td>\n    </tr>\n  </tbody>\n</table>\n</div>"
     },
     "execution_count": 8,
     "metadata": {},
     "output_type": "execute_result"
    }
   ],
   "source": [
    "df.iloc[0,0]=\"N/A\"\n",
    "df"
   ],
   "metadata": {
    "collapsed": false
   }
  },
  {
   "cell_type": "code",
   "execution_count": 9,
   "outputs": [],
   "source": [
    "df[\"date\"]=pd.to_datetime(df[\"date\"],infer_datetime_format=True,errors=\"coerce\")"
   ],
   "metadata": {
    "collapsed": false
   }
  },
  {
   "cell_type": "code",
   "execution_count": 10,
   "outputs": [
    {
     "data": {
      "text/plain": "        date\n0        NaT\n1 2019-02-26",
      "text/html": "<div>\n<style scoped>\n    .dataframe tbody tr th:only-of-type {\n        vertical-align: middle;\n    }\n\n    .dataframe tbody tr th {\n        vertical-align: top;\n    }\n\n    .dataframe thead th {\n        text-align: right;\n    }\n</style>\n<table border=\"1\" class=\"dataframe\">\n  <thead>\n    <tr style=\"text-align: right;\">\n      <th></th>\n      <th>date</th>\n    </tr>\n  </thead>\n  <tbody>\n    <tr>\n      <th>0</th>\n      <td>NaT</td>\n    </tr>\n    <tr>\n      <th>1</th>\n      <td>2019-02-26</td>\n    </tr>\n  </tbody>\n</table>\n</div>"
     },
     "execution_count": 10,
     "metadata": {},
     "output_type": "execute_result"
    }
   ],
   "source": [
    "df"
   ],
   "metadata": {
    "collapsed": false
   }
  },
  {
   "cell_type": "code",
   "execution_count": 11,
   "outputs": [
    {
     "name": "stdout",
     "output_type": "stream",
     "text": [
      "<class 'pandas.core.frame.DataFrame'>\n",
      "RangeIndex: 2 entries, 0 to 1\n",
      "Data columns (total 1 columns):\n",
      " #   Column  Non-Null Count  Dtype         \n",
      "---  ------  --------------  -----         \n",
      " 0   date    1 non-null      datetime64[ns]\n",
      "dtypes: datetime64[ns](1)\n",
      "memory usage: 144.0 bytes\n"
     ]
    }
   ],
   "source": [
    "df.info()"
   ],
   "metadata": {
    "collapsed": false
   }
  },
  {
   "cell_type": "code",
   "execution_count": 12,
   "outputs": [
    {
     "data": {
      "text/plain": "datetime.datetime(2023, 7, 20, 16, 48, 23, 552202)"
     },
     "execution_count": 12,
     "metadata": {},
     "output_type": "execute_result"
    }
   ],
   "source": [
    "now"
   ],
   "metadata": {
    "collapsed": false
   }
  },
  {
   "cell_type": "code",
   "execution_count": 13,
   "outputs": [
    {
     "data": {
      "text/plain": "'20-July-2023'"
     },
     "execution_count": 13,
     "metadata": {},
     "output_type": "execute_result"
    }
   ],
   "source": [
    "now.strftime(\"%d-%B-%Y\")"
   ],
   "metadata": {
    "collapsed": false
   }
  },
  {
   "cell_type": "code",
   "execution_count": 14,
   "outputs": [
    {
     "data": {
      "text/plain": "        date\n0        NaT\n1 2019-02-26",
      "text/html": "<div>\n<style scoped>\n    .dataframe tbody tr th:only-of-type {\n        vertical-align: middle;\n    }\n\n    .dataframe tbody tr th {\n        vertical-align: top;\n    }\n\n    .dataframe thead th {\n        text-align: right;\n    }\n</style>\n<table border=\"1\" class=\"dataframe\">\n  <thead>\n    <tr style=\"text-align: right;\">\n      <th></th>\n      <th>date</th>\n    </tr>\n  </thead>\n  <tbody>\n    <tr>\n      <th>0</th>\n      <td>NaT</td>\n    </tr>\n    <tr>\n      <th>1</th>\n      <td>2019-02-26</td>\n    </tr>\n  </tbody>\n</table>\n</div>"
     },
     "execution_count": 14,
     "metadata": {},
     "output_type": "execute_result"
    }
   ],
   "source": [
    "df"
   ],
   "metadata": {
    "collapsed": false
   }
  },
  {
   "cell_type": "code",
   "execution_count": 15,
   "outputs": [
    {
     "data": {
      "text/plain": "date    2019\nName: 1, dtype: int64"
     },
     "execution_count": 15,
     "metadata": {},
     "output_type": "execute_result"
    }
   ],
   "source": [
    "df.iloc[1].dt.year"
   ],
   "metadata": {
    "collapsed": false
   }
  },
  {
   "cell_type": "code",
   "execution_count": 16,
   "outputs": [],
   "source": [
    "df[\"date\"].drop(0,inplace=True)"
   ],
   "metadata": {
    "collapsed": false
   }
  },
  {
   "cell_type": "code",
   "execution_count": 17,
   "outputs": [
    {
     "data": {
      "text/plain": "        date    year\n0        NaT     NaN\n1 2019-02-26  2019.0",
      "text/html": "<div>\n<style scoped>\n    .dataframe tbody tr th:only-of-type {\n        vertical-align: middle;\n    }\n\n    .dataframe tbody tr th {\n        vertical-align: top;\n    }\n\n    .dataframe thead th {\n        text-align: right;\n    }\n</style>\n<table border=\"1\" class=\"dataframe\">\n  <thead>\n    <tr style=\"text-align: right;\">\n      <th></th>\n      <th>date</th>\n      <th>year</th>\n    </tr>\n  </thead>\n  <tbody>\n    <tr>\n      <th>0</th>\n      <td>NaT</td>\n      <td>NaN</td>\n    </tr>\n    <tr>\n      <th>1</th>\n      <td>2019-02-26</td>\n      <td>2019.0</td>\n    </tr>\n  </tbody>\n</table>\n</div>"
     },
     "execution_count": 17,
     "metadata": {},
     "output_type": "execute_result"
    }
   ],
   "source": [
    "df[\"year\"]=df[\"date\"].dt.year\n",
    "df"
   ],
   "metadata": {
    "collapsed": false
   }
  },
  {
   "cell_type": "code",
   "execution_count": 18,
   "outputs": [
    {
     "name": "stdout",
     "output_type": "stream",
     "text": [
      "<class 'pandas.core.frame.DataFrame'>\n",
      "RangeIndex: 2 entries, 0 to 1\n",
      "Data columns (total 2 columns):\n",
      " #   Column  Non-Null Count  Dtype         \n",
      "---  ------  --------------  -----         \n",
      " 0   date    1 non-null      datetime64[ns]\n",
      " 1   year    1 non-null      float64       \n",
      "dtypes: datetime64[ns](1), float64(1)\n",
      "memory usage: 160.0 bytes\n"
     ]
    }
   ],
   "source": [
    "df.info()"
   ],
   "metadata": {
    "collapsed": false
   }
  },
  {
   "cell_type": "code",
   "execution_count": 19,
   "outputs": [],
   "source": [
    "df.dropna(inplace=True)"
   ],
   "metadata": {
    "collapsed": false
   }
  },
  {
   "cell_type": "code",
   "execution_count": 20,
   "outputs": [
    {
     "data": {
      "text/plain": "        date    year\n1 2019-02-26  2019.0",
      "text/html": "<div>\n<style scoped>\n    .dataframe tbody tr th:only-of-type {\n        vertical-align: middle;\n    }\n\n    .dataframe tbody tr th {\n        vertical-align: top;\n    }\n\n    .dataframe thead th {\n        text-align: right;\n    }\n</style>\n<table border=\"1\" class=\"dataframe\">\n  <thead>\n    <tr style=\"text-align: right;\">\n      <th></th>\n      <th>date</th>\n      <th>year</th>\n    </tr>\n  </thead>\n  <tbody>\n    <tr>\n      <th>1</th>\n      <td>2019-02-26</td>\n      <td>2019.0</td>\n    </tr>\n  </tbody>\n</table>\n</div>"
     },
     "execution_count": 20,
     "metadata": {},
     "output_type": "execute_result"
    }
   ],
   "source": [
    "df"
   ],
   "metadata": {
    "collapsed": false
   }
  },
  {
   "cell_type": "code",
   "execution_count": 21,
   "outputs": [
    {
     "name": "stdout",
     "output_type": "stream",
     "text": [
      "<class 'pandas.core.frame.DataFrame'>\n",
      "RangeIndex: 83488 entries, 0 to 83487\n",
      "Data columns (total 3 columns):\n",
      " #   Column        Non-Null Count  Dtype \n",
      "---  ------        --------------  ----- \n",
      " 0   date          83488 non-null  object\n",
      " 1   store_nbr     83488 non-null  int64 \n",
      " 2   transactions  83488 non-null  int64 \n",
      "dtypes: int64(2), object(1)\n",
      "memory usage: 6.6 MB\n"
     ]
    }
   ],
   "source": [
    "df=pd.read_csv(\"transactions.csv\")\n",
    "df.info(memory_usage=\"deep\")"
   ],
   "metadata": {
    "collapsed": false
   }
  },
  {
   "cell_type": "code",
   "execution_count": 22,
   "outputs": [
    {
     "name": "stdout",
     "output_type": "stream",
     "text": [
      "<class 'pandas.core.frame.DataFrame'>\n",
      "RangeIndex: 83488 entries, 0 to 83487\n",
      "Data columns (total 3 columns):\n",
      " #   Column        Non-Null Count  Dtype         \n",
      "---  ------        --------------  -----         \n",
      " 0   date          83488 non-null  datetime64[ns]\n",
      " 1   store_nbr     83488 non-null  int64         \n",
      " 2   transactions  83488 non-null  int64         \n",
      "dtypes: datetime64[ns](1), int64(2)\n",
      "memory usage: 1.9 MB\n"
     ]
    }
   ],
   "source": [
    "df[\"date\"]=pd.to_datetime(df[\"date\"],errors=\"coerce\",infer_datetime_format=True)\n",
    "df.info(memory_usage=\"deep\")"
   ],
   "metadata": {
    "collapsed": false
   }
  },
  {
   "cell_type": "code",
   "execution_count": 23,
   "outputs": [
    {
     "data": {
      "text/plain": "Timestamp('2017-08-15 00:00:00')"
     },
     "execution_count": 23,
     "metadata": {},
     "output_type": "execute_result"
    }
   ],
   "source": [
    "df[\"date\"].max()"
   ],
   "metadata": {
    "collapsed": false
   }
  },
  {
   "cell_type": "code",
   "execution_count": 24,
   "outputs": [],
   "source": [
    "df[\"time_to_maxdate\"]=df[\"date\"].max()-df[\"date\"]"
   ],
   "metadata": {
    "collapsed": false
   }
  },
  {
   "cell_type": "code",
   "execution_count": 25,
   "outputs": [
    {
     "data": {
      "text/plain": "        date  store_nbr  transactions time_to_maxdate\n0 2013-01-01         25           770       1687 days\n1 2013-01-02          1          2111       1686 days\n2 2013-01-02          2          2358       1686 days\n3 2013-01-02          3          3487       1686 days\n4 2013-01-02          4          1922       1686 days",
      "text/html": "<div>\n<style scoped>\n    .dataframe tbody tr th:only-of-type {\n        vertical-align: middle;\n    }\n\n    .dataframe tbody tr th {\n        vertical-align: top;\n    }\n\n    .dataframe thead th {\n        text-align: right;\n    }\n</style>\n<table border=\"1\" class=\"dataframe\">\n  <thead>\n    <tr style=\"text-align: right;\">\n      <th></th>\n      <th>date</th>\n      <th>store_nbr</th>\n      <th>transactions</th>\n      <th>time_to_maxdate</th>\n    </tr>\n  </thead>\n  <tbody>\n    <tr>\n      <th>0</th>\n      <td>2013-01-01</td>\n      <td>25</td>\n      <td>770</td>\n      <td>1687 days</td>\n    </tr>\n    <tr>\n      <th>1</th>\n      <td>2013-01-02</td>\n      <td>1</td>\n      <td>2111</td>\n      <td>1686 days</td>\n    </tr>\n    <tr>\n      <th>2</th>\n      <td>2013-01-02</td>\n      <td>2</td>\n      <td>2358</td>\n      <td>1686 days</td>\n    </tr>\n    <tr>\n      <th>3</th>\n      <td>2013-01-02</td>\n      <td>3</td>\n      <td>3487</td>\n      <td>1686 days</td>\n    </tr>\n    <tr>\n      <th>4</th>\n      <td>2013-01-02</td>\n      <td>4</td>\n      <td>1922</td>\n      <td>1686 days</td>\n    </tr>\n  </tbody>\n</table>\n</div>"
     },
     "execution_count": 25,
     "metadata": {},
     "output_type": "execute_result"
    }
   ],
   "source": [
    "df.head()"
   ],
   "metadata": {
    "collapsed": false
   }
  },
  {
   "cell_type": "code",
   "execution_count": 26,
   "outputs": [],
   "source": [
    "df[\"year\"]=df[\"date\"].dt.year\n",
    "df[\"month\"]=df[\"date\"].dt.month\n",
    "df[\"day_of_week\"]=df[\"date\"].dt.day_of_week"
   ],
   "metadata": {
    "collapsed": false
   }
  },
  {
   "cell_type": "code",
   "execution_count": 27,
   "outputs": [
    {
     "data": {
      "text/plain": "        date  store_nbr  transactions time_to_maxdate  year  month  \\\n0 2013-01-01         25           770       1687 days  2013      1   \n1 2013-01-02          1          2111       1686 days  2013      1   \n2 2013-01-02          2          2358       1686 days  2013      1   \n3 2013-01-02          3          3487       1686 days  2013      1   \n4 2013-01-02          4          1922       1686 days  2013      1   \n\n   day_of_week  \n0            1  \n1            2  \n2            2  \n3            2  \n4            2  ",
      "text/html": "<div>\n<style scoped>\n    .dataframe tbody tr th:only-of-type {\n        vertical-align: middle;\n    }\n\n    .dataframe tbody tr th {\n        vertical-align: top;\n    }\n\n    .dataframe thead th {\n        text-align: right;\n    }\n</style>\n<table border=\"1\" class=\"dataframe\">\n  <thead>\n    <tr style=\"text-align: right;\">\n      <th></th>\n      <th>date</th>\n      <th>store_nbr</th>\n      <th>transactions</th>\n      <th>time_to_maxdate</th>\n      <th>year</th>\n      <th>month</th>\n      <th>day_of_week</th>\n    </tr>\n  </thead>\n  <tbody>\n    <tr>\n      <th>0</th>\n      <td>2013-01-01</td>\n      <td>25</td>\n      <td>770</td>\n      <td>1687 days</td>\n      <td>2013</td>\n      <td>1</td>\n      <td>1</td>\n    </tr>\n    <tr>\n      <th>1</th>\n      <td>2013-01-02</td>\n      <td>1</td>\n      <td>2111</td>\n      <td>1686 days</td>\n      <td>2013</td>\n      <td>1</td>\n      <td>2</td>\n    </tr>\n    <tr>\n      <th>2</th>\n      <td>2013-01-02</td>\n      <td>2</td>\n      <td>2358</td>\n      <td>1686 days</td>\n      <td>2013</td>\n      <td>1</td>\n      <td>2</td>\n    </tr>\n    <tr>\n      <th>3</th>\n      <td>2013-01-02</td>\n      <td>3</td>\n      <td>3487</td>\n      <td>1686 days</td>\n      <td>2013</td>\n      <td>1</td>\n      <td>2</td>\n    </tr>\n    <tr>\n      <th>4</th>\n      <td>2013-01-02</td>\n      <td>4</td>\n      <td>1922</td>\n      <td>1686 days</td>\n      <td>2013</td>\n      <td>1</td>\n      <td>2</td>\n    </tr>\n  </tbody>\n</table>\n</div>"
     },
     "execution_count": 27,
     "metadata": {},
     "output_type": "execute_result"
    }
   ],
   "source": [
    "df.head()"
   ],
   "metadata": {
    "collapsed": false
   }
  },
  {
   "cell_type": "code",
   "execution_count": 28,
   "outputs": [
    {
     "data": {
      "text/plain": "        date  store_nbr  transactions  time_to_maxdate  year  month  \\\n0 2013-01-01         25           770             1687  2013      1   \n1 2013-01-02          1          2111             1686  2013      1   \n2 2013-01-02          2          2358             1686  2013      1   \n3 2013-01-02          3          3487             1686  2013      1   \n4 2013-01-02          4          1922             1686  2013      1   \n\n   day_of_week  \n0            1  \n1            2  \n2            2  \n3            2  \n4            2  ",
      "text/html": "<div>\n<style scoped>\n    .dataframe tbody tr th:only-of-type {\n        vertical-align: middle;\n    }\n\n    .dataframe tbody tr th {\n        vertical-align: top;\n    }\n\n    .dataframe thead th {\n        text-align: right;\n    }\n</style>\n<table border=\"1\" class=\"dataframe\">\n  <thead>\n    <tr style=\"text-align: right;\">\n      <th></th>\n      <th>date</th>\n      <th>store_nbr</th>\n      <th>transactions</th>\n      <th>time_to_maxdate</th>\n      <th>year</th>\n      <th>month</th>\n      <th>day_of_week</th>\n    </tr>\n  </thead>\n  <tbody>\n    <tr>\n      <th>0</th>\n      <td>2013-01-01</td>\n      <td>25</td>\n      <td>770</td>\n      <td>1687</td>\n      <td>2013</td>\n      <td>1</td>\n      <td>1</td>\n    </tr>\n    <tr>\n      <th>1</th>\n      <td>2013-01-02</td>\n      <td>1</td>\n      <td>2111</td>\n      <td>1686</td>\n      <td>2013</td>\n      <td>1</td>\n      <td>2</td>\n    </tr>\n    <tr>\n      <th>2</th>\n      <td>2013-01-02</td>\n      <td>2</td>\n      <td>2358</td>\n      <td>1686</td>\n      <td>2013</td>\n      <td>1</td>\n      <td>2</td>\n    </tr>\n    <tr>\n      <th>3</th>\n      <td>2013-01-02</td>\n      <td>3</td>\n      <td>3487</td>\n      <td>1686</td>\n      <td>2013</td>\n      <td>1</td>\n      <td>2</td>\n    </tr>\n    <tr>\n      <th>4</th>\n      <td>2013-01-02</td>\n      <td>4</td>\n      <td>1922</td>\n      <td>1686</td>\n      <td>2013</td>\n      <td>1</td>\n      <td>2</td>\n    </tr>\n  </tbody>\n</table>\n</div>"
     },
     "execution_count": 28,
     "metadata": {},
     "output_type": "execute_result"
    }
   ],
   "source": [
    "df[\"time_to_maxdate\"]=df[\"time_to_maxdate\"].dt.days\n",
    "df.head()"
   ],
   "metadata": {
    "collapsed": false
   }
  },
  {
   "cell_type": "code",
   "execution_count": 29,
   "outputs": [
    {
     "data": {
      "text/plain": "Timedelta('5 days 00:00:00')"
     },
     "execution_count": 29,
     "metadata": {},
     "output_type": "execute_result"
    }
   ],
   "source": [
    "pd.to_timedelta(5,\"d\")"
   ],
   "metadata": {
    "collapsed": false
   }
  },
  {
   "cell_type": "code",
   "execution_count": 30,
   "outputs": [
    {
     "data": {
      "text/plain": "0       2012-12-27\n1       2012-12-28\n2       2012-12-28\n3       2012-12-28\n4       2012-12-28\n           ...    \n83483   2017-08-10\n83484   2017-08-10\n83485   2017-08-10\n83486   2017-08-10\n83487   2017-08-10\nName: date, Length: 83488, dtype: datetime64[ns]"
     },
     "execution_count": 30,
     "metadata": {},
     "output_type": "execute_result"
    }
   ],
   "source": [
    "df[\"date\"]-pd.to_timedelta(5,\"d\")"
   ],
   "metadata": {
    "collapsed": false
   }
  },
  {
   "cell_type": "code",
   "execution_count": 31,
   "outputs": [
    {
     "data": {
      "text/plain": "            date  store_nbr  transactions  time_to_maxdate  year  month  \\\n0     2013-01-01         25           770             1687  2013      1   \n1     2013-01-02          1          2111             1686  2013      1   \n2     2013-01-02          2          2358             1686  2013      1   \n3     2013-01-02          3          3487             1686  2013      1   \n4     2013-01-02          4          1922             1686  2013      1   \n...          ...        ...           ...              ...   ...    ...   \n83483 2017-08-15         50          2804                0  2017      8   \n83484 2017-08-15         51          1573                0  2017      8   \n83485 2017-08-15         52          2255                0  2017      8   \n83486 2017-08-15         53           932                0  2017      8   \n83487 2017-08-15         54           802                0  2017      8   \n\n       day_of_week  \n0                1  \n1                2  \n2                2  \n3                2  \n4                2  \n...            ...  \n83483            1  \n83484            1  \n83485            1  \n83486            1  \n83487            1  \n\n[83488 rows x 7 columns]",
      "text/html": "<div>\n<style scoped>\n    .dataframe tbody tr th:only-of-type {\n        vertical-align: middle;\n    }\n\n    .dataframe tbody tr th {\n        vertical-align: top;\n    }\n\n    .dataframe thead th {\n        text-align: right;\n    }\n</style>\n<table border=\"1\" class=\"dataframe\">\n  <thead>\n    <tr style=\"text-align: right;\">\n      <th></th>\n      <th>date</th>\n      <th>store_nbr</th>\n      <th>transactions</th>\n      <th>time_to_maxdate</th>\n      <th>year</th>\n      <th>month</th>\n      <th>day_of_week</th>\n    </tr>\n  </thead>\n  <tbody>\n    <tr>\n      <th>0</th>\n      <td>2013-01-01</td>\n      <td>25</td>\n      <td>770</td>\n      <td>1687</td>\n      <td>2013</td>\n      <td>1</td>\n      <td>1</td>\n    </tr>\n    <tr>\n      <th>1</th>\n      <td>2013-01-02</td>\n      <td>1</td>\n      <td>2111</td>\n      <td>1686</td>\n      <td>2013</td>\n      <td>1</td>\n      <td>2</td>\n    </tr>\n    <tr>\n      <th>2</th>\n      <td>2013-01-02</td>\n      <td>2</td>\n      <td>2358</td>\n      <td>1686</td>\n      <td>2013</td>\n      <td>1</td>\n      <td>2</td>\n    </tr>\n    <tr>\n      <th>3</th>\n      <td>2013-01-02</td>\n      <td>3</td>\n      <td>3487</td>\n      <td>1686</td>\n      <td>2013</td>\n      <td>1</td>\n      <td>2</td>\n    </tr>\n    <tr>\n      <th>4</th>\n      <td>2013-01-02</td>\n      <td>4</td>\n      <td>1922</td>\n      <td>1686</td>\n      <td>2013</td>\n      <td>1</td>\n      <td>2</td>\n    </tr>\n    <tr>\n      <th>...</th>\n      <td>...</td>\n      <td>...</td>\n      <td>...</td>\n      <td>...</td>\n      <td>...</td>\n      <td>...</td>\n      <td>...</td>\n    </tr>\n    <tr>\n      <th>83483</th>\n      <td>2017-08-15</td>\n      <td>50</td>\n      <td>2804</td>\n      <td>0</td>\n      <td>2017</td>\n      <td>8</td>\n      <td>1</td>\n    </tr>\n    <tr>\n      <th>83484</th>\n      <td>2017-08-15</td>\n      <td>51</td>\n      <td>1573</td>\n      <td>0</td>\n      <td>2017</td>\n      <td>8</td>\n      <td>1</td>\n    </tr>\n    <tr>\n      <th>83485</th>\n      <td>2017-08-15</td>\n      <td>52</td>\n      <td>2255</td>\n      <td>0</td>\n      <td>2017</td>\n      <td>8</td>\n      <td>1</td>\n    </tr>\n    <tr>\n      <th>83486</th>\n      <td>2017-08-15</td>\n      <td>53</td>\n      <td>932</td>\n      <td>0</td>\n      <td>2017</td>\n      <td>8</td>\n      <td>1</td>\n    </tr>\n    <tr>\n      <th>83487</th>\n      <td>2017-08-15</td>\n      <td>54</td>\n      <td>802</td>\n      <td>0</td>\n      <td>2017</td>\n      <td>8</td>\n      <td>1</td>\n    </tr>\n  </tbody>\n</table>\n<p>83488 rows × 7 columns</p>\n</div>"
     },
     "execution_count": 31,
     "metadata": {},
     "output_type": "execute_result"
    }
   ],
   "source": [
    "df"
   ],
   "metadata": {
    "collapsed": false
   }
  },
  {
   "cell_type": "code",
   "execution_count": 32,
   "outputs": [
    {
     "data": {
      "text/plain": "        date  store_nbr  transactions  time_to_maxdate  year  month  \\\n0 2013-01-01         25           770             1687  2013      1   \n1 2013-01-02          1          2111             1686  2013      1   \n2 2013-01-02          2          2358             1686  2013      1   \n3 2013-01-02          3          3487             1686  2013      1   \n4 2013-01-02          4          1922             1686  2013      1   \n\n   day_of_week  \n0            1  \n1            2  \n2            2  \n3            2  \n4            2  ",
      "text/html": "<div>\n<style scoped>\n    .dataframe tbody tr th:only-of-type {\n        vertical-align: middle;\n    }\n\n    .dataframe tbody tr th {\n        vertical-align: top;\n    }\n\n    .dataframe thead th {\n        text-align: right;\n    }\n</style>\n<table border=\"1\" class=\"dataframe\">\n  <thead>\n    <tr style=\"text-align: right;\">\n      <th></th>\n      <th>date</th>\n      <th>store_nbr</th>\n      <th>transactions</th>\n      <th>time_to_maxdate</th>\n      <th>year</th>\n      <th>month</th>\n      <th>day_of_week</th>\n    </tr>\n  </thead>\n  <tbody>\n    <tr>\n      <th>0</th>\n      <td>2013-01-01</td>\n      <td>25</td>\n      <td>770</td>\n      <td>1687</td>\n      <td>2013</td>\n      <td>1</td>\n      <td>1</td>\n    </tr>\n    <tr>\n      <th>1</th>\n      <td>2013-01-02</td>\n      <td>1</td>\n      <td>2111</td>\n      <td>1686</td>\n      <td>2013</td>\n      <td>1</td>\n      <td>2</td>\n    </tr>\n    <tr>\n      <th>2</th>\n      <td>2013-01-02</td>\n      <td>2</td>\n      <td>2358</td>\n      <td>1686</td>\n      <td>2013</td>\n      <td>1</td>\n      <td>2</td>\n    </tr>\n    <tr>\n      <th>3</th>\n      <td>2013-01-02</td>\n      <td>3</td>\n      <td>3487</td>\n      <td>1686</td>\n      <td>2013</td>\n      <td>1</td>\n      <td>2</td>\n    </tr>\n    <tr>\n      <th>4</th>\n      <td>2013-01-02</td>\n      <td>4</td>\n      <td>1922</td>\n      <td>1686</td>\n      <td>2013</td>\n      <td>1</td>\n      <td>2</td>\n    </tr>\n  </tbody>\n</table>\n</div>"
     },
     "execution_count": 32,
     "metadata": {},
     "output_type": "execute_result"
    }
   ],
   "source": [
    "df[\"year\"]=df[\"date\"].dt.year\n",
    "df[\"month\"]=df[\"date\"].dt.month\n",
    "df.head()"
   ],
   "metadata": {
    "collapsed": false
   }
  },
  {
   "cell_type": "code",
   "execution_count": 33,
   "outputs": [
    {
     "data": {
      "text/plain": "month         1          2          3          4          5          6   \\\nyear                                                                      \n2013   2289558.0  2169615.0  2458683.0  2344905.0  2467465.0  2392206.0   \n2014   2393528.0  2278167.0  2545427.0  2455666.0  2503262.0  2399144.0   \n2015   2489059.0  2345984.0  2625500.0  2533355.0  2673911.0  2530903.0   \n2016   2371205.0  2465798.0  2607658.0  2631797.0  2666157.0  2491063.0   \n2017   2612848.0  2448370.0  2680645.0  2667808.0  2801884.0  2668863.0   \n\nmonth         7          8          9          10         11         12  \nyear                                                                     \n2013   2401968.0  2461139.0  2380462.0  2408440.0  2369866.0  2962866.0  \n2014   2442341.0  2537572.0  2449131.0  2503310.0  2450298.0  3049083.0  \n2015   2604784.0  2675057.0  2545252.0  2610484.0  2528193.0  3149888.0  \n2016   2594087.0  2536111.0  2436974.0  2526000.0  2529516.0  3195971.0  \n2017   2784026.0  1335692.0        NaN        NaN        NaN        NaN  ",
      "text/html": "<div>\n<style scoped>\n    .dataframe tbody tr th:only-of-type {\n        vertical-align: middle;\n    }\n\n    .dataframe tbody tr th {\n        vertical-align: top;\n    }\n\n    .dataframe thead th {\n        text-align: right;\n    }\n</style>\n<table border=\"1\" class=\"dataframe\">\n  <thead>\n    <tr style=\"text-align: right;\">\n      <th>month</th>\n      <th>1</th>\n      <th>2</th>\n      <th>3</th>\n      <th>4</th>\n      <th>5</th>\n      <th>6</th>\n      <th>7</th>\n      <th>8</th>\n      <th>9</th>\n      <th>10</th>\n      <th>11</th>\n      <th>12</th>\n    </tr>\n    <tr>\n      <th>year</th>\n      <th></th>\n      <th></th>\n      <th></th>\n      <th></th>\n      <th></th>\n      <th></th>\n      <th></th>\n      <th></th>\n      <th></th>\n      <th></th>\n      <th></th>\n      <th></th>\n    </tr>\n  </thead>\n  <tbody>\n    <tr>\n      <th>2013</th>\n      <td>2289558.0</td>\n      <td>2169615.0</td>\n      <td>2458683.0</td>\n      <td>2344905.0</td>\n      <td>2467465.0</td>\n      <td>2392206.0</td>\n      <td>2401968.0</td>\n      <td>2461139.0</td>\n      <td>2380462.0</td>\n      <td>2408440.0</td>\n      <td>2369866.0</td>\n      <td>2962866.0</td>\n    </tr>\n    <tr>\n      <th>2014</th>\n      <td>2393528.0</td>\n      <td>2278167.0</td>\n      <td>2545427.0</td>\n      <td>2455666.0</td>\n      <td>2503262.0</td>\n      <td>2399144.0</td>\n      <td>2442341.0</td>\n      <td>2537572.0</td>\n      <td>2449131.0</td>\n      <td>2503310.0</td>\n      <td>2450298.0</td>\n      <td>3049083.0</td>\n    </tr>\n    <tr>\n      <th>2015</th>\n      <td>2489059.0</td>\n      <td>2345984.0</td>\n      <td>2625500.0</td>\n      <td>2533355.0</td>\n      <td>2673911.0</td>\n      <td>2530903.0</td>\n      <td>2604784.0</td>\n      <td>2675057.0</td>\n      <td>2545252.0</td>\n      <td>2610484.0</td>\n      <td>2528193.0</td>\n      <td>3149888.0</td>\n    </tr>\n    <tr>\n      <th>2016</th>\n      <td>2371205.0</td>\n      <td>2465798.0</td>\n      <td>2607658.0</td>\n      <td>2631797.0</td>\n      <td>2666157.0</td>\n      <td>2491063.0</td>\n      <td>2594087.0</td>\n      <td>2536111.0</td>\n      <td>2436974.0</td>\n      <td>2526000.0</td>\n      <td>2529516.0</td>\n      <td>3195971.0</td>\n    </tr>\n    <tr>\n      <th>2017</th>\n      <td>2612848.0</td>\n      <td>2448370.0</td>\n      <td>2680645.0</td>\n      <td>2667808.0</td>\n      <td>2801884.0</td>\n      <td>2668863.0</td>\n      <td>2784026.0</td>\n      <td>1335692.0</td>\n      <td>NaN</td>\n      <td>NaN</td>\n      <td>NaN</td>\n      <td>NaN</td>\n    </tr>\n  </tbody>\n</table>\n</div>"
     },
     "execution_count": 33,
     "metadata": {},
     "output_type": "execute_result"
    }
   ],
   "source": [
    "df.pivot_table(index=\"year\",columns=\"month\",values=\"transactions\",aggfunc=\"sum\")"
   ],
   "metadata": {
    "collapsed": false
   }
  },
  {
   "cell_type": "code",
   "execution_count": 35,
   "outputs": [
    {
     "data": {
      "text/plain": "            date  store_nbr  transactions  time_to_maxdate  year  month  \\\n0     2013-01-01         25           770             1687  2013      1   \n1     2013-01-02          1          2111             1686  2013      1   \n2     2013-01-02          2          2358             1686  2013      1   \n3     2013-01-02          3          3487             1686  2013      1   \n4     2013-01-02          4          1922             1686  2013      1   \n...          ...        ...           ...              ...   ...    ...   \n83483 2017-08-15         50          2804                0  2017      8   \n83484 2017-08-15         51          1573                0  2017      8   \n83485 2017-08-15         52          2255                0  2017      8   \n83486 2017-08-15         53           932                0  2017      8   \n83487 2017-08-15         54           802                0  2017      8   \n\n       day_of_week  \n0                1  \n1                2  \n2                2  \n3                2  \n4                2  \n...            ...  \n83483            1  \n83484            1  \n83485            1  \n83486            1  \n83487            1  \n\n[83488 rows x 7 columns]",
      "text/html": "<div>\n<style scoped>\n    .dataframe tbody tr th:only-of-type {\n        vertical-align: middle;\n    }\n\n    .dataframe tbody tr th {\n        vertical-align: top;\n    }\n\n    .dataframe thead th {\n        text-align: right;\n    }\n</style>\n<table border=\"1\" class=\"dataframe\">\n  <thead>\n    <tr style=\"text-align: right;\">\n      <th></th>\n      <th>date</th>\n      <th>store_nbr</th>\n      <th>transactions</th>\n      <th>time_to_maxdate</th>\n      <th>year</th>\n      <th>month</th>\n      <th>day_of_week</th>\n    </tr>\n  </thead>\n  <tbody>\n    <tr>\n      <th>0</th>\n      <td>2013-01-01</td>\n      <td>25</td>\n      <td>770</td>\n      <td>1687</td>\n      <td>2013</td>\n      <td>1</td>\n      <td>1</td>\n    </tr>\n    <tr>\n      <th>1</th>\n      <td>2013-01-02</td>\n      <td>1</td>\n      <td>2111</td>\n      <td>1686</td>\n      <td>2013</td>\n      <td>1</td>\n      <td>2</td>\n    </tr>\n    <tr>\n      <th>2</th>\n      <td>2013-01-02</td>\n      <td>2</td>\n      <td>2358</td>\n      <td>1686</td>\n      <td>2013</td>\n      <td>1</td>\n      <td>2</td>\n    </tr>\n    <tr>\n      <th>3</th>\n      <td>2013-01-02</td>\n      <td>3</td>\n      <td>3487</td>\n      <td>1686</td>\n      <td>2013</td>\n      <td>1</td>\n      <td>2</td>\n    </tr>\n    <tr>\n      <th>4</th>\n      <td>2013-01-02</td>\n      <td>4</td>\n      <td>1922</td>\n      <td>1686</td>\n      <td>2013</td>\n      <td>1</td>\n      <td>2</td>\n    </tr>\n    <tr>\n      <th>...</th>\n      <td>...</td>\n      <td>...</td>\n      <td>...</td>\n      <td>...</td>\n      <td>...</td>\n      <td>...</td>\n      <td>...</td>\n    </tr>\n    <tr>\n      <th>83483</th>\n      <td>2017-08-15</td>\n      <td>50</td>\n      <td>2804</td>\n      <td>0</td>\n      <td>2017</td>\n      <td>8</td>\n      <td>1</td>\n    </tr>\n    <tr>\n      <th>83484</th>\n      <td>2017-08-15</td>\n      <td>51</td>\n      <td>1573</td>\n      <td>0</td>\n      <td>2017</td>\n      <td>8</td>\n      <td>1</td>\n    </tr>\n    <tr>\n      <th>83485</th>\n      <td>2017-08-15</td>\n      <td>52</td>\n      <td>2255</td>\n      <td>0</td>\n      <td>2017</td>\n      <td>8</td>\n      <td>1</td>\n    </tr>\n    <tr>\n      <th>83486</th>\n      <td>2017-08-15</td>\n      <td>53</td>\n      <td>932</td>\n      <td>0</td>\n      <td>2017</td>\n      <td>8</td>\n      <td>1</td>\n    </tr>\n    <tr>\n      <th>83487</th>\n      <td>2017-08-15</td>\n      <td>54</td>\n      <td>802</td>\n      <td>0</td>\n      <td>2017</td>\n      <td>8</td>\n      <td>1</td>\n    </tr>\n  </tbody>\n</table>\n<p>83488 rows × 7 columns</p>\n</div>"
     },
     "execution_count": 35,
     "metadata": {},
     "output_type": "execute_result"
    }
   ],
   "source": [
    "df"
   ],
   "metadata": {
    "collapsed": false
   }
  },
  {
   "cell_type": "code",
   "execution_count": 50,
   "outputs": [
    {
     "data": {
      "text/plain": "             date  transactions\n0      2013-01-02        2111.0\n1      2013-01-02        2358.0\n2      2013-01-02        3487.0\n3      2013-01-02        1922.0\n4      2013-01-02        1903.0\n...           ...           ...\n83483  2017-08-15        1573.0\n83484  2017-08-15        2255.0\n83485  2017-08-15         932.0\n83486  2017-08-15         802.0\n83487        <NA>           NaN\n\n[83488 rows x 2 columns]",
      "text/html": "<div>\n<style scoped>\n    .dataframe tbody tr th:only-of-type {\n        vertical-align: middle;\n    }\n\n    .dataframe tbody tr th {\n        vertical-align: top;\n    }\n\n    .dataframe thead th {\n        text-align: right;\n    }\n</style>\n<table border=\"1\" class=\"dataframe\">\n  <thead>\n    <tr style=\"text-align: right;\">\n      <th></th>\n      <th>date</th>\n      <th>transactions</th>\n    </tr>\n  </thead>\n  <tbody>\n    <tr>\n      <th>0</th>\n      <td>2013-01-02</td>\n      <td>2111.0</td>\n    </tr>\n    <tr>\n      <th>1</th>\n      <td>2013-01-02</td>\n      <td>2358.0</td>\n    </tr>\n    <tr>\n      <th>2</th>\n      <td>2013-01-02</td>\n      <td>3487.0</td>\n    </tr>\n    <tr>\n      <th>3</th>\n      <td>2013-01-02</td>\n      <td>1922.0</td>\n    </tr>\n    <tr>\n      <th>4</th>\n      <td>2013-01-02</td>\n      <td>1903.0</td>\n    </tr>\n    <tr>\n      <th>...</th>\n      <td>...</td>\n      <td>...</td>\n    </tr>\n    <tr>\n      <th>83483</th>\n      <td>2017-08-15</td>\n      <td>1573.0</td>\n    </tr>\n    <tr>\n      <th>83484</th>\n      <td>2017-08-15</td>\n      <td>2255.0</td>\n    </tr>\n    <tr>\n      <th>83485</th>\n      <td>2017-08-15</td>\n      <td>932.0</td>\n    </tr>\n    <tr>\n      <th>83486</th>\n      <td>2017-08-15</td>\n      <td>802.0</td>\n    </tr>\n    <tr>\n      <th>83487</th>\n      <td>&lt;NA&gt;</td>\n      <td>NaN</td>\n    </tr>\n  </tbody>\n</table>\n<p>83488 rows × 2 columns</p>\n</div>"
     },
     "execution_count": 50,
     "metadata": {},
     "output_type": "execute_result"
    }
   ],
   "source": [
    "df.loc[:,[\"date\",\"transactions\"]].astype({\"date\":\"string\"}).shift()"
   ],
   "metadata": {
    "collapsed": false
   }
  },
  {
   "cell_type": "code",
   "execution_count": 57,
   "outputs": [
    {
     "data": {
      "text/plain": "0        -63.52\n1        -10.47\n2        -32.38\n3         81.43\n4          1.00\n          ...  \n83483     78.26\n83484    -30.24\n83485    141.95\n83486     16.21\n83487       NaN\nName: transactions, Length: 83488, dtype: float64"
     },
     "execution_count": 57,
     "metadata": {},
     "output_type": "execute_result"
    }
   ],
   "source": [
    "(df[\"transactions\"]/df[\"transactions\"].shift(-1)).sub(1).mul(100).round(2)"
   ],
   "metadata": {
    "collapsed": false
   }
  },
  {
   "cell_type": "code",
   "execution_count": 53,
   "outputs": [
    {
     "data": {
      "text/plain": "0         770\n1        2111\n2        2358\n3        3487\n4        1922\n         ... \n83483    2804\n83484    1573\n83485    2255\n83486     932\n83487     802\nName: transactions, Length: 83488, dtype: int64"
     },
     "execution_count": 53,
     "metadata": {},
     "output_type": "execute_result"
    }
   ],
   "source": [
    "df[\"transactions\"]"
   ],
   "metadata": {
    "collapsed": false
   }
  },
  {
   "cell_type": "code",
   "execution_count": 72,
   "outputs": [
    {
     "data": {
      "text/plain": "            transactions\ndate                    \n2013-01-02         93215\n2013-01-03         78504\n2013-01-04         78494\n2013-01-05         93573\n2013-01-06         90464\n...                  ...\n2017-08-11         89551\n2017-08-12         89927\n2017-08-13         85993\n2017-08-14         85448\n2017-08-15         86561\n\n[1681 rows x 1 columns]",
      "text/html": "<div>\n<style scoped>\n    .dataframe tbody tr th:only-of-type {\n        vertical-align: middle;\n    }\n\n    .dataframe tbody tr th {\n        vertical-align: top;\n    }\n\n    .dataframe thead th {\n        text-align: right;\n    }\n</style>\n<table border=\"1\" class=\"dataframe\">\n  <thead>\n    <tr style=\"text-align: right;\">\n      <th></th>\n      <th>transactions</th>\n    </tr>\n    <tr>\n      <th>date</th>\n      <th></th>\n    </tr>\n  </thead>\n  <tbody>\n    <tr>\n      <th>2013-01-02</th>\n      <td>93215</td>\n    </tr>\n    <tr>\n      <th>2013-01-03</th>\n      <td>78504</td>\n    </tr>\n    <tr>\n      <th>2013-01-04</th>\n      <td>78494</td>\n    </tr>\n    <tr>\n      <th>2013-01-05</th>\n      <td>93573</td>\n    </tr>\n    <tr>\n      <th>2013-01-06</th>\n      <td>90464</td>\n    </tr>\n    <tr>\n      <th>...</th>\n      <td>...</td>\n    </tr>\n    <tr>\n      <th>2017-08-11</th>\n      <td>89551</td>\n    </tr>\n    <tr>\n      <th>2017-08-12</th>\n      <td>89927</td>\n    </tr>\n    <tr>\n      <th>2017-08-13</th>\n      <td>85993</td>\n    </tr>\n    <tr>\n      <th>2017-08-14</th>\n      <td>85448</td>\n    </tr>\n    <tr>\n      <th>2017-08-15</th>\n      <td>86561</td>\n    </tr>\n  </tbody>\n</table>\n<p>1681 rows × 1 columns</p>\n</div>"
     },
     "execution_count": 72,
     "metadata": {},
     "output_type": "execute_result"
    }
   ],
   "source": [
    "agg=df.groupby(\"date\").agg({\"transactions\":\"sum\"}).iloc[1:,:]\n",
    "agg"
   ],
   "metadata": {
    "collapsed": false
   }
  },
  {
   "cell_type": "code",
   "execution_count": 76,
   "outputs": [
    {
     "data": {
      "text/plain": "            transactions  diff_yest\ndate                               \n2014-01-03         84488    -8727.0\n2014-01-04        101361    22857.0\n2014-01-05         93475    14981.0\n2014-01-06         77784   -15789.0\n2014-01-07         75361   -15103.0\n...                  ...        ...\n2017-08-11         89551    10545.0\n2017-08-12         89927    11982.0\n2017-08-13         85993     2568.0\n2017-08-14         85448      763.0\n2017-08-15         86561     8089.0\n\n[1316 rows x 2 columns]",
      "text/html": "<div>\n<style scoped>\n    .dataframe tbody tr th:only-of-type {\n        vertical-align: middle;\n    }\n\n    .dataframe tbody tr th {\n        vertical-align: top;\n    }\n\n    .dataframe thead th {\n        text-align: right;\n    }\n</style>\n<table border=\"1\" class=\"dataframe\">\n  <thead>\n    <tr style=\"text-align: right;\">\n      <th></th>\n      <th>transactions</th>\n      <th>diff_yest</th>\n    </tr>\n    <tr>\n      <th>date</th>\n      <th></th>\n      <th></th>\n    </tr>\n  </thead>\n  <tbody>\n    <tr>\n      <th>2014-01-03</th>\n      <td>84488</td>\n      <td>-8727.0</td>\n    </tr>\n    <tr>\n      <th>2014-01-04</th>\n      <td>101361</td>\n      <td>22857.0</td>\n    </tr>\n    <tr>\n      <th>2014-01-05</th>\n      <td>93475</td>\n      <td>14981.0</td>\n    </tr>\n    <tr>\n      <th>2014-01-06</th>\n      <td>77784</td>\n      <td>-15789.0</td>\n    </tr>\n    <tr>\n      <th>2014-01-07</th>\n      <td>75361</td>\n      <td>-15103.0</td>\n    </tr>\n    <tr>\n      <th>...</th>\n      <td>...</td>\n      <td>...</td>\n    </tr>\n    <tr>\n      <th>2017-08-11</th>\n      <td>89551</td>\n      <td>10545.0</td>\n    </tr>\n    <tr>\n      <th>2017-08-12</th>\n      <td>89927</td>\n      <td>11982.0</td>\n    </tr>\n    <tr>\n      <th>2017-08-13</th>\n      <td>85993</td>\n      <td>2568.0</td>\n    </tr>\n    <tr>\n      <th>2017-08-14</th>\n      <td>85448</td>\n      <td>763.0</td>\n    </tr>\n    <tr>\n      <th>2017-08-15</th>\n      <td>86561</td>\n      <td>8089.0</td>\n    </tr>\n  </tbody>\n</table>\n<p>1316 rows × 2 columns</p>\n</div>"
     },
     "execution_count": 76,
     "metadata": {},
     "output_type": "execute_result"
    }
   ],
   "source": [
    "agg=agg.assign(diff_yest=agg[\"transactions\"]-agg[\"transactions\"].shift(365))\n",
    "agg.dropna()"
   ],
   "metadata": {
    "collapsed": false
   }
  },
  {
   "cell_type": "code",
   "execution_count": 77,
   "outputs": [
    {
     "data": {
      "text/plain": "0       2013-01-01\n1       2013-01-02\n2       2013-01-02\n3       2013-01-02\n4       2013-01-02\n           ...    \n83483   2017-08-15\n83484   2017-08-15\n83485   2017-08-15\n83486   2017-08-15\n83487   2017-08-15\nName: date, Length: 83488, dtype: datetime64[ns]"
     },
     "execution_count": 77,
     "metadata": {},
     "output_type": "execute_result"
    }
   ],
   "source": [
    "df[\"date\"]"
   ],
   "metadata": {
    "collapsed": false
   }
  },
  {
   "cell_type": "code",
   "execution_count": 82,
   "outputs": [
    {
     "data": {
      "text/plain": "       transactions\n0           -1341.0\n1            -247.0\n2           -1129.0\n3            1565.0\n4              19.0\n...             ...\n83483        1231.0\n83484        -682.0\n83485        1323.0\n83486         130.0\n83487           NaN\n\n[83488 rows x 1 columns]",
      "text/html": "<div>\n<style scoped>\n    .dataframe tbody tr th:only-of-type {\n        vertical-align: middle;\n    }\n\n    .dataframe tbody tr th {\n        vertical-align: top;\n    }\n\n    .dataframe thead th {\n        text-align: right;\n    }\n</style>\n<table border=\"1\" class=\"dataframe\">\n  <thead>\n    <tr style=\"text-align: right;\">\n      <th></th>\n      <th>transactions</th>\n    </tr>\n  </thead>\n  <tbody>\n    <tr>\n      <th>0</th>\n      <td>-1341.0</td>\n    </tr>\n    <tr>\n      <th>1</th>\n      <td>-247.0</td>\n    </tr>\n    <tr>\n      <th>2</th>\n      <td>-1129.0</td>\n    </tr>\n    <tr>\n      <th>3</th>\n      <td>1565.0</td>\n    </tr>\n    <tr>\n      <th>4</th>\n      <td>19.0</td>\n    </tr>\n    <tr>\n      <th>...</th>\n      <td>...</td>\n    </tr>\n    <tr>\n      <th>83483</th>\n      <td>1231.0</td>\n    </tr>\n    <tr>\n      <th>83484</th>\n      <td>-682.0</td>\n    </tr>\n    <tr>\n      <th>83485</th>\n      <td>1323.0</td>\n    </tr>\n    <tr>\n      <th>83486</th>\n      <td>130.0</td>\n    </tr>\n    <tr>\n      <th>83487</th>\n      <td>NaN</td>\n    </tr>\n  </tbody>\n</table>\n<p>83488 rows × 1 columns</p>\n</div>"
     },
     "execution_count": 82,
     "metadata": {},
     "output_type": "execute_result"
    }
   ],
   "source": [
    "df.loc[:,[\"transactions\"]].diff(-1)"
   ],
   "metadata": {
    "collapsed": false
   }
  },
  {
   "cell_type": "code",
   "execution_count": 92,
   "outputs": [
    {
     "data": {
      "text/plain": "       transactions  percentage\n0               770         NaN\n1              2111    1.741558\n2              2358    0.117006\n3              3487    0.478796\n4              1922   -0.448810\n...             ...         ...\n83483          2804   -0.003554\n83484          1573   -0.439016\n83485          2255    0.433566\n83486           932   -0.586696\n83487           802   -0.139485\n\n[83488 rows x 2 columns]",
      "text/html": "<div>\n<style scoped>\n    .dataframe tbody tr th:only-of-type {\n        vertical-align: middle;\n    }\n\n    .dataframe tbody tr th {\n        vertical-align: top;\n    }\n\n    .dataframe thead th {\n        text-align: right;\n    }\n</style>\n<table border=\"1\" class=\"dataframe\">\n  <thead>\n    <tr style=\"text-align: right;\">\n      <th></th>\n      <th>transactions</th>\n      <th>percentage</th>\n    </tr>\n  </thead>\n  <tbody>\n    <tr>\n      <th>0</th>\n      <td>770</td>\n      <td>NaN</td>\n    </tr>\n    <tr>\n      <th>1</th>\n      <td>2111</td>\n      <td>1.741558</td>\n    </tr>\n    <tr>\n      <th>2</th>\n      <td>2358</td>\n      <td>0.117006</td>\n    </tr>\n    <tr>\n      <th>3</th>\n      <td>3487</td>\n      <td>0.478796</td>\n    </tr>\n    <tr>\n      <th>4</th>\n      <td>1922</td>\n      <td>-0.448810</td>\n    </tr>\n    <tr>\n      <th>...</th>\n      <td>...</td>\n      <td>...</td>\n    </tr>\n    <tr>\n      <th>83483</th>\n      <td>2804</td>\n      <td>-0.003554</td>\n    </tr>\n    <tr>\n      <th>83484</th>\n      <td>1573</td>\n      <td>-0.439016</td>\n    </tr>\n    <tr>\n      <th>83485</th>\n      <td>2255</td>\n      <td>0.433566</td>\n    </tr>\n    <tr>\n      <th>83486</th>\n      <td>932</td>\n      <td>-0.586696</td>\n    </tr>\n    <tr>\n      <th>83487</th>\n      <td>802</td>\n      <td>-0.139485</td>\n    </tr>\n  </tbody>\n</table>\n<p>83488 rows × 2 columns</p>\n</div>"
     },
     "execution_count": 92,
     "metadata": {},
     "output_type": "execute_result"
    }
   ],
   "source": [
    "df[\"percentage\"]=df[\"transactions\"].diff(1)/df[\"transactions\"].shift(1)\n",
    "df.loc[:,[\"transactions\",\"percentage\"]]"
   ],
   "metadata": {
    "collapsed": false
   }
  },
  {
   "cell_type": "code",
   "execution_count": 100,
   "outputs": [
    {
     "data": {
      "text/plain": "            date  store_nbr  transactions\n0     2013-01-01         25           770\n1     2013-01-02          1          2111\n2     2013-01-02          2          2358\n3     2013-01-02          3          3487\n4     2013-01-02          4          1922\n...          ...        ...           ...\n83483 2017-08-15         50          2804\n83484 2017-08-15         51          1573\n83485 2017-08-15         52          2255\n83486 2017-08-15         53           932\n83487 2017-08-15         54           802\n\n[83488 rows x 3 columns]",
      "text/html": "<div>\n<style scoped>\n    .dataframe tbody tr th:only-of-type {\n        vertical-align: middle;\n    }\n\n    .dataframe tbody tr th {\n        vertical-align: top;\n    }\n\n    .dataframe thead th {\n        text-align: right;\n    }\n</style>\n<table border=\"1\" class=\"dataframe\">\n  <thead>\n    <tr style=\"text-align: right;\">\n      <th></th>\n      <th>date</th>\n      <th>store_nbr</th>\n      <th>transactions</th>\n    </tr>\n  </thead>\n  <tbody>\n    <tr>\n      <th>0</th>\n      <td>2013-01-01</td>\n      <td>25</td>\n      <td>770</td>\n    </tr>\n    <tr>\n      <th>1</th>\n      <td>2013-01-02</td>\n      <td>1</td>\n      <td>2111</td>\n    </tr>\n    <tr>\n      <th>2</th>\n      <td>2013-01-02</td>\n      <td>2</td>\n      <td>2358</td>\n    </tr>\n    <tr>\n      <th>3</th>\n      <td>2013-01-02</td>\n      <td>3</td>\n      <td>3487</td>\n    </tr>\n    <tr>\n      <th>4</th>\n      <td>2013-01-02</td>\n      <td>4</td>\n      <td>1922</td>\n    </tr>\n    <tr>\n      <th>...</th>\n      <td>...</td>\n      <td>...</td>\n      <td>...</td>\n    </tr>\n    <tr>\n      <th>83483</th>\n      <td>2017-08-15</td>\n      <td>50</td>\n      <td>2804</td>\n    </tr>\n    <tr>\n      <th>83484</th>\n      <td>2017-08-15</td>\n      <td>51</td>\n      <td>1573</td>\n    </tr>\n    <tr>\n      <th>83485</th>\n      <td>2017-08-15</td>\n      <td>52</td>\n      <td>2255</td>\n    </tr>\n    <tr>\n      <th>83486</th>\n      <td>2017-08-15</td>\n      <td>53</td>\n      <td>932</td>\n    </tr>\n    <tr>\n      <th>83487</th>\n      <td>2017-08-15</td>\n      <td>54</td>\n      <td>802</td>\n    </tr>\n  </tbody>\n</table>\n<p>83488 rows × 3 columns</p>\n</div>"
     },
     "execution_count": 100,
     "metadata": {},
     "output_type": "execute_result"
    }
   ],
   "source": [
    "df=pd.read_csv(\"transactions.csv\",parse_dates=[\"date\"])\n",
    "df"
   ],
   "metadata": {
    "collapsed": false
   }
  },
  {
   "cell_type": "code",
   "execution_count": 101,
   "outputs": [
    {
     "data": {
      "text/plain": "            date  store_nbr  transactions\n38    2013-01-02         44          4821\n84    2013-01-03         44          3618\n130   2013-01-04         44          4169\n176   2013-01-05         44          4921\n222   2013-01-06         44          4925\n...          ...        ...           ...\n83261 2017-08-11         44          4418\n83315 2017-08-12         44          4277\n83369 2017-08-13         44          4392\n83423 2017-08-14         44          4039\n83477 2017-08-15         44          3815\n\n[1677 rows x 3 columns]",
      "text/html": "<div>\n<style scoped>\n    .dataframe tbody tr th:only-of-type {\n        vertical-align: middle;\n    }\n\n    .dataframe tbody tr th {\n        vertical-align: top;\n    }\n\n    .dataframe thead th {\n        text-align: right;\n    }\n</style>\n<table border=\"1\" class=\"dataframe\">\n  <thead>\n    <tr style=\"text-align: right;\">\n      <th></th>\n      <th>date</th>\n      <th>store_nbr</th>\n      <th>transactions</th>\n    </tr>\n  </thead>\n  <tbody>\n    <tr>\n      <th>38</th>\n      <td>2013-01-02</td>\n      <td>44</td>\n      <td>4821</td>\n    </tr>\n    <tr>\n      <th>84</th>\n      <td>2013-01-03</td>\n      <td>44</td>\n      <td>3618</td>\n    </tr>\n    <tr>\n      <th>130</th>\n      <td>2013-01-04</td>\n      <td>44</td>\n      <td>4169</td>\n    </tr>\n    <tr>\n      <th>176</th>\n      <td>2013-01-05</td>\n      <td>44</td>\n      <td>4921</td>\n    </tr>\n    <tr>\n      <th>222</th>\n      <td>2013-01-06</td>\n      <td>44</td>\n      <td>4925</td>\n    </tr>\n    <tr>\n      <th>...</th>\n      <td>...</td>\n      <td>...</td>\n      <td>...</td>\n    </tr>\n    <tr>\n      <th>83261</th>\n      <td>2017-08-11</td>\n      <td>44</td>\n      <td>4418</td>\n    </tr>\n    <tr>\n      <th>83315</th>\n      <td>2017-08-12</td>\n      <td>44</td>\n      <td>4277</td>\n    </tr>\n    <tr>\n      <th>83369</th>\n      <td>2017-08-13</td>\n      <td>44</td>\n      <td>4392</td>\n    </tr>\n    <tr>\n      <th>83423</th>\n      <td>2017-08-14</td>\n      <td>44</td>\n      <td>4039</td>\n    </tr>\n    <tr>\n      <th>83477</th>\n      <td>2017-08-15</td>\n      <td>44</td>\n      <td>3815</td>\n    </tr>\n  </tbody>\n</table>\n<p>1677 rows × 3 columns</p>\n</div>"
     },
     "execution_count": 101,
     "metadata": {},
     "output_type": "execute_result"
    }
   ],
   "source": [
    "transaction44=df.query(\"store_nbr == 44\")\n",
    "transaction44"
   ],
   "metadata": {
    "collapsed": false
   }
  },
  {
   "cell_type": "code",
   "execution_count": 104,
   "outputs": [
    {
     "data": {
      "text/plain": "           transactions\ndate date              \n2013 1          2289558\n     2          2169615\n     3          2458683\n     4          2344905\n     5          2467465\n     6          2392206\n     7          2401968\n     8          2461139\n     9          2380462\n     10         2408440\n     11         2369866\n     12         2962866\n2014 1          2393528\n     2          2278167\n     3          2545427\n     4          2455666\n     5          2503262\n     6          2399144\n     7          2442341\n     8          2537572\n     9          2449131\n     10         2503310\n     11         2450298\n     12         3049083\n2015 1          2489059\n     2          2345984\n     3          2625500\n     4          2533355\n     5          2673911\n     6          2530903\n     7          2604784\n     8          2675057\n     9          2545252\n     10         2610484\n     11         2528193\n     12         3149888\n2016 1          2371205\n     2          2465798\n     3          2607658\n     4          2631797\n     5          2666157\n     6          2491063\n     7          2594087\n     8          2536111\n     9          2436974\n     10         2526000\n     11         2529516\n     12         3195971\n2017 1          2612848\n     2          2448370\n     3          2680645\n     4          2667808\n     5          2801884\n     6          2668863\n     7          2784026\n     8          1335692",
      "text/html": "<div>\n<style scoped>\n    .dataframe tbody tr th:only-of-type {\n        vertical-align: middle;\n    }\n\n    .dataframe tbody tr th {\n        vertical-align: top;\n    }\n\n    .dataframe thead th {\n        text-align: right;\n    }\n</style>\n<table border=\"1\" class=\"dataframe\">\n  <thead>\n    <tr style=\"text-align: right;\">\n      <th></th>\n      <th></th>\n      <th>transactions</th>\n    </tr>\n    <tr>\n      <th>date</th>\n      <th>date</th>\n      <th></th>\n    </tr>\n  </thead>\n  <tbody>\n    <tr>\n      <th rowspan=\"12\" valign=\"top\">2013</th>\n      <th>1</th>\n      <td>2289558</td>\n    </tr>\n    <tr>\n      <th>2</th>\n      <td>2169615</td>\n    </tr>\n    <tr>\n      <th>3</th>\n      <td>2458683</td>\n    </tr>\n    <tr>\n      <th>4</th>\n      <td>2344905</td>\n    </tr>\n    <tr>\n      <th>5</th>\n      <td>2467465</td>\n    </tr>\n    <tr>\n      <th>6</th>\n      <td>2392206</td>\n    </tr>\n    <tr>\n      <th>7</th>\n      <td>2401968</td>\n    </tr>\n    <tr>\n      <th>8</th>\n      <td>2461139</td>\n    </tr>\n    <tr>\n      <th>9</th>\n      <td>2380462</td>\n    </tr>\n    <tr>\n      <th>10</th>\n      <td>2408440</td>\n    </tr>\n    <tr>\n      <th>11</th>\n      <td>2369866</td>\n    </tr>\n    <tr>\n      <th>12</th>\n      <td>2962866</td>\n    </tr>\n    <tr>\n      <th rowspan=\"12\" valign=\"top\">2014</th>\n      <th>1</th>\n      <td>2393528</td>\n    </tr>\n    <tr>\n      <th>2</th>\n      <td>2278167</td>\n    </tr>\n    <tr>\n      <th>3</th>\n      <td>2545427</td>\n    </tr>\n    <tr>\n      <th>4</th>\n      <td>2455666</td>\n    </tr>\n    <tr>\n      <th>5</th>\n      <td>2503262</td>\n    </tr>\n    <tr>\n      <th>6</th>\n      <td>2399144</td>\n    </tr>\n    <tr>\n      <th>7</th>\n      <td>2442341</td>\n    </tr>\n    <tr>\n      <th>8</th>\n      <td>2537572</td>\n    </tr>\n    <tr>\n      <th>9</th>\n      <td>2449131</td>\n    </tr>\n    <tr>\n      <th>10</th>\n      <td>2503310</td>\n    </tr>\n    <tr>\n      <th>11</th>\n      <td>2450298</td>\n    </tr>\n    <tr>\n      <th>12</th>\n      <td>3049083</td>\n    </tr>\n    <tr>\n      <th rowspan=\"12\" valign=\"top\">2015</th>\n      <th>1</th>\n      <td>2489059</td>\n    </tr>\n    <tr>\n      <th>2</th>\n      <td>2345984</td>\n    </tr>\n    <tr>\n      <th>3</th>\n      <td>2625500</td>\n    </tr>\n    <tr>\n      <th>4</th>\n      <td>2533355</td>\n    </tr>\n    <tr>\n      <th>5</th>\n      <td>2673911</td>\n    </tr>\n    <tr>\n      <th>6</th>\n      <td>2530903</td>\n    </tr>\n    <tr>\n      <th>7</th>\n      <td>2604784</td>\n    </tr>\n    <tr>\n      <th>8</th>\n      <td>2675057</td>\n    </tr>\n    <tr>\n      <th>9</th>\n      <td>2545252</td>\n    </tr>\n    <tr>\n      <th>10</th>\n      <td>2610484</td>\n    </tr>\n    <tr>\n      <th>11</th>\n      <td>2528193</td>\n    </tr>\n    <tr>\n      <th>12</th>\n      <td>3149888</td>\n    </tr>\n    <tr>\n      <th rowspan=\"12\" valign=\"top\">2016</th>\n      <th>1</th>\n      <td>2371205</td>\n    </tr>\n    <tr>\n      <th>2</th>\n      <td>2465798</td>\n    </tr>\n    <tr>\n      <th>3</th>\n      <td>2607658</td>\n    </tr>\n    <tr>\n      <th>4</th>\n      <td>2631797</td>\n    </tr>\n    <tr>\n      <th>5</th>\n      <td>2666157</td>\n    </tr>\n    <tr>\n      <th>6</th>\n      <td>2491063</td>\n    </tr>\n    <tr>\n      <th>7</th>\n      <td>2594087</td>\n    </tr>\n    <tr>\n      <th>8</th>\n      <td>2536111</td>\n    </tr>\n    <tr>\n      <th>9</th>\n      <td>2436974</td>\n    </tr>\n    <tr>\n      <th>10</th>\n      <td>2526000</td>\n    </tr>\n    <tr>\n      <th>11</th>\n      <td>2529516</td>\n    </tr>\n    <tr>\n      <th>12</th>\n      <td>3195971</td>\n    </tr>\n    <tr>\n      <th rowspan=\"8\" valign=\"top\">2017</th>\n      <th>1</th>\n      <td>2612848</td>\n    </tr>\n    <tr>\n      <th>2</th>\n      <td>2448370</td>\n    </tr>\n    <tr>\n      <th>3</th>\n      <td>2680645</td>\n    </tr>\n    <tr>\n      <th>4</th>\n      <td>2667808</td>\n    </tr>\n    <tr>\n      <th>5</th>\n      <td>2801884</td>\n    </tr>\n    <tr>\n      <th>6</th>\n      <td>2668863</td>\n    </tr>\n    <tr>\n      <th>7</th>\n      <td>2784026</td>\n    </tr>\n    <tr>\n      <th>8</th>\n      <td>1335692</td>\n    </tr>\n  </tbody>\n</table>\n</div>"
     },
     "execution_count": 104,
     "metadata": {},
     "output_type": "execute_result"
    }
   ],
   "source": [
    "transaction44=df.groupby([df[\"date\"].dt.year,df[\"date\"].dt.month]).agg({\"transactions\":\"sum\"})\n",
    "transaction44"
   ],
   "metadata": {
    "collapsed": false
   }
  },
  {
   "cell_type": "code",
   "execution_count": 112,
   "outputs": [
    {
     "data": {
      "text/plain": "           transactions      prior\ndate date                         \n2013 1          2289558        NaN\n     2          2169615        NaN\n     3          2458683        NaN\n     4          2344905        NaN\n     5          2467465        NaN\n     6          2392206        NaN\n     7          2401968        NaN\n     8          2461139        NaN\n     9          2380462        NaN\n     10         2408440        NaN\n     11         2369866        NaN\n     12         2962866        NaN\n2014 1          2393528  2289558.0\n     2          2278167  2169615.0\n     3          2545427  2458683.0\n     4          2455666  2344905.0\n     5          2503262  2467465.0\n     6          2399144  2392206.0\n     7          2442341  2401968.0\n     8          2537572  2461139.0\n     9          2449131  2380462.0\n     10         2503310  2408440.0\n     11         2450298  2369866.0\n     12         3049083  2962866.0\n2015 1          2489059  2393528.0\n     2          2345984  2278167.0\n     3          2625500  2545427.0\n     4          2533355  2455666.0\n     5          2673911  2503262.0\n     6          2530903  2399144.0\n     7          2604784  2442341.0\n     8          2675057  2537572.0\n     9          2545252  2449131.0\n     10         2610484  2503310.0\n     11         2528193  2450298.0\n     12         3149888  3049083.0\n2016 1          2371205  2489059.0\n     2          2465798  2345984.0\n     3          2607658  2625500.0\n     4          2631797  2533355.0\n     5          2666157  2673911.0\n     6          2491063  2530903.0\n     7          2594087  2604784.0\n     8          2536111  2675057.0\n     9          2436974  2545252.0\n     10         2526000  2610484.0\n     11         2529516  2528193.0\n     12         3195971  3149888.0\n2017 1          2612848  2371205.0\n     2          2448370  2465798.0\n     3          2680645  2607658.0\n     4          2667808  2631797.0\n     5          2801884  2666157.0\n     6          2668863  2491063.0\n     7          2784026  2594087.0\n     8          1335692  2536111.0",
      "text/html": "<div>\n<style scoped>\n    .dataframe tbody tr th:only-of-type {\n        vertical-align: middle;\n    }\n\n    .dataframe tbody tr th {\n        vertical-align: top;\n    }\n\n    .dataframe thead th {\n        text-align: right;\n    }\n</style>\n<table border=\"1\" class=\"dataframe\">\n  <thead>\n    <tr style=\"text-align: right;\">\n      <th></th>\n      <th></th>\n      <th>transactions</th>\n      <th>prior</th>\n    </tr>\n    <tr>\n      <th>date</th>\n      <th>date</th>\n      <th></th>\n      <th></th>\n    </tr>\n  </thead>\n  <tbody>\n    <tr>\n      <th rowspan=\"12\" valign=\"top\">2013</th>\n      <th>1</th>\n      <td>2289558</td>\n      <td>NaN</td>\n    </tr>\n    <tr>\n      <th>2</th>\n      <td>2169615</td>\n      <td>NaN</td>\n    </tr>\n    <tr>\n      <th>3</th>\n      <td>2458683</td>\n      <td>NaN</td>\n    </tr>\n    <tr>\n      <th>4</th>\n      <td>2344905</td>\n      <td>NaN</td>\n    </tr>\n    <tr>\n      <th>5</th>\n      <td>2467465</td>\n      <td>NaN</td>\n    </tr>\n    <tr>\n      <th>6</th>\n      <td>2392206</td>\n      <td>NaN</td>\n    </tr>\n    <tr>\n      <th>7</th>\n      <td>2401968</td>\n      <td>NaN</td>\n    </tr>\n    <tr>\n      <th>8</th>\n      <td>2461139</td>\n      <td>NaN</td>\n    </tr>\n    <tr>\n      <th>9</th>\n      <td>2380462</td>\n      <td>NaN</td>\n    </tr>\n    <tr>\n      <th>10</th>\n      <td>2408440</td>\n      <td>NaN</td>\n    </tr>\n    <tr>\n      <th>11</th>\n      <td>2369866</td>\n      <td>NaN</td>\n    </tr>\n    <tr>\n      <th>12</th>\n      <td>2962866</td>\n      <td>NaN</td>\n    </tr>\n    <tr>\n      <th rowspan=\"12\" valign=\"top\">2014</th>\n      <th>1</th>\n      <td>2393528</td>\n      <td>2289558.0</td>\n    </tr>\n    <tr>\n      <th>2</th>\n      <td>2278167</td>\n      <td>2169615.0</td>\n    </tr>\n    <tr>\n      <th>3</th>\n      <td>2545427</td>\n      <td>2458683.0</td>\n    </tr>\n    <tr>\n      <th>4</th>\n      <td>2455666</td>\n      <td>2344905.0</td>\n    </tr>\n    <tr>\n      <th>5</th>\n      <td>2503262</td>\n      <td>2467465.0</td>\n    </tr>\n    <tr>\n      <th>6</th>\n      <td>2399144</td>\n      <td>2392206.0</td>\n    </tr>\n    <tr>\n      <th>7</th>\n      <td>2442341</td>\n      <td>2401968.0</td>\n    </tr>\n    <tr>\n      <th>8</th>\n      <td>2537572</td>\n      <td>2461139.0</td>\n    </tr>\n    <tr>\n      <th>9</th>\n      <td>2449131</td>\n      <td>2380462.0</td>\n    </tr>\n    <tr>\n      <th>10</th>\n      <td>2503310</td>\n      <td>2408440.0</td>\n    </tr>\n    <tr>\n      <th>11</th>\n      <td>2450298</td>\n      <td>2369866.0</td>\n    </tr>\n    <tr>\n      <th>12</th>\n      <td>3049083</td>\n      <td>2962866.0</td>\n    </tr>\n    <tr>\n      <th rowspan=\"12\" valign=\"top\">2015</th>\n      <th>1</th>\n      <td>2489059</td>\n      <td>2393528.0</td>\n    </tr>\n    <tr>\n      <th>2</th>\n      <td>2345984</td>\n      <td>2278167.0</td>\n    </tr>\n    <tr>\n      <th>3</th>\n      <td>2625500</td>\n      <td>2545427.0</td>\n    </tr>\n    <tr>\n      <th>4</th>\n      <td>2533355</td>\n      <td>2455666.0</td>\n    </tr>\n    <tr>\n      <th>5</th>\n      <td>2673911</td>\n      <td>2503262.0</td>\n    </tr>\n    <tr>\n      <th>6</th>\n      <td>2530903</td>\n      <td>2399144.0</td>\n    </tr>\n    <tr>\n      <th>7</th>\n      <td>2604784</td>\n      <td>2442341.0</td>\n    </tr>\n    <tr>\n      <th>8</th>\n      <td>2675057</td>\n      <td>2537572.0</td>\n    </tr>\n    <tr>\n      <th>9</th>\n      <td>2545252</td>\n      <td>2449131.0</td>\n    </tr>\n    <tr>\n      <th>10</th>\n      <td>2610484</td>\n      <td>2503310.0</td>\n    </tr>\n    <tr>\n      <th>11</th>\n      <td>2528193</td>\n      <td>2450298.0</td>\n    </tr>\n    <tr>\n      <th>12</th>\n      <td>3149888</td>\n      <td>3049083.0</td>\n    </tr>\n    <tr>\n      <th rowspan=\"12\" valign=\"top\">2016</th>\n      <th>1</th>\n      <td>2371205</td>\n      <td>2489059.0</td>\n    </tr>\n    <tr>\n      <th>2</th>\n      <td>2465798</td>\n      <td>2345984.0</td>\n    </tr>\n    <tr>\n      <th>3</th>\n      <td>2607658</td>\n      <td>2625500.0</td>\n    </tr>\n    <tr>\n      <th>4</th>\n      <td>2631797</td>\n      <td>2533355.0</td>\n    </tr>\n    <tr>\n      <th>5</th>\n      <td>2666157</td>\n      <td>2673911.0</td>\n    </tr>\n    <tr>\n      <th>6</th>\n      <td>2491063</td>\n      <td>2530903.0</td>\n    </tr>\n    <tr>\n      <th>7</th>\n      <td>2594087</td>\n      <td>2604784.0</td>\n    </tr>\n    <tr>\n      <th>8</th>\n      <td>2536111</td>\n      <td>2675057.0</td>\n    </tr>\n    <tr>\n      <th>9</th>\n      <td>2436974</td>\n      <td>2545252.0</td>\n    </tr>\n    <tr>\n      <th>10</th>\n      <td>2526000</td>\n      <td>2610484.0</td>\n    </tr>\n    <tr>\n      <th>11</th>\n      <td>2529516</td>\n      <td>2528193.0</td>\n    </tr>\n    <tr>\n      <th>12</th>\n      <td>3195971</td>\n      <td>3149888.0</td>\n    </tr>\n    <tr>\n      <th rowspan=\"8\" valign=\"top\">2017</th>\n      <th>1</th>\n      <td>2612848</td>\n      <td>2371205.0</td>\n    </tr>\n    <tr>\n      <th>2</th>\n      <td>2448370</td>\n      <td>2465798.0</td>\n    </tr>\n    <tr>\n      <th>3</th>\n      <td>2680645</td>\n      <td>2607658.0</td>\n    </tr>\n    <tr>\n      <th>4</th>\n      <td>2667808</td>\n      <td>2631797.0</td>\n    </tr>\n    <tr>\n      <th>5</th>\n      <td>2801884</td>\n      <td>2666157.0</td>\n    </tr>\n    <tr>\n      <th>6</th>\n      <td>2668863</td>\n      <td>2491063.0</td>\n    </tr>\n    <tr>\n      <th>7</th>\n      <td>2784026</td>\n      <td>2594087.0</td>\n    </tr>\n    <tr>\n      <th>8</th>\n      <td>1335692</td>\n      <td>2536111.0</td>\n    </tr>\n  </tbody>\n</table>\n</div>"
     },
     "execution_count": 112,
     "metadata": {},
     "output_type": "execute_result"
    }
   ],
   "source": [
    "transaction44[\"prior\"]=transaction44[\"transactions\"].shift(12)\n",
    "transaction44"
   ],
   "metadata": {
    "collapsed": false
   }
  },
  {
   "cell_type": "code",
   "execution_count": null,
   "outputs": [],
   "source": [],
   "metadata": {
    "collapsed": false
   }
  }
 ],
 "metadata": {
  "kernelspec": {
   "display_name": "Python 3",
   "language": "python",
   "name": "python3"
  },
  "language_info": {
   "codemirror_mode": {
    "name": "ipython",
    "version": 2
   },
   "file_extension": ".py",
   "mimetype": "text/x-python",
   "name": "python",
   "nbconvert_exporter": "python",
   "pygments_lexer": "ipython2",
   "version": "2.7.6"
  }
 },
 "nbformat": 4,
 "nbformat_minor": 0
}
