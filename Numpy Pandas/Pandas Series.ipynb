{
 "cells": [
  {
   "cell_type": "markdown",
   "source": [
    "Pandas Series is a NumPy array with extra features"
   ],
   "metadata": {
    "collapsed": false
   }
  },
  {
   "cell_type": "code",
   "execution_count": 1,
   "outputs": [],
   "source": [
    "import numpy as np\n",
    "import pandas as pd"
   ],
   "metadata": {
    "collapsed": false
   }
  },
  {
   "cell_type": "code",
   "execution_count": 2,
   "outputs": [],
   "source": [
    "sales=[0,5,155,0,518,1827,616,317,325]"
   ],
   "metadata": {
    "collapsed": false
   }
  },
  {
   "cell_type": "code",
   "execution_count": 3,
   "outputs": [
    {
     "data": {
      "text/plain": "0       0\n1       5\n2     155\n3       0\n4     518\n5    1827\n6     616\n7     317\n8     325\nName: Sales, dtype: int64"
     },
     "execution_count": 3,
     "metadata": {},
     "output_type": "execute_result"
    }
   ],
   "source": [
    "sales_series=pd.Series(sales,name=\"Sales\")\n",
    "sales_series"
   ],
   "metadata": {
    "collapsed": false
   }
  },
  {
   "cell_type": "code",
   "execution_count": 4,
   "outputs": [
    {
     "data": {
      "text/plain": "0    0\n1    1\n2    2\n3    3\n4    4\nName: Test Array, dtype: int32"
     },
     "execution_count": 4,
     "metadata": {},
     "output_type": "execute_result"
    }
   ],
   "source": [
    "array=np.arange(5)\n",
    "series=pd.Series(array,name=\"Test Array\")\n",
    "series"
   ],
   "metadata": {
    "collapsed": false
   }
  },
  {
   "cell_type": "code",
   "execution_count": 5,
   "outputs": [
    {
     "data": {
      "text/plain": "2.0"
     },
     "execution_count": 5,
     "metadata": {},
     "output_type": "execute_result"
    }
   ],
   "source": [
    "series.values.mean()"
   ],
   "metadata": {
    "collapsed": false
   }
  },
  {
   "cell_type": "code",
   "execution_count": 6,
   "outputs": [
    {
     "data": {
      "text/plain": "2.0"
     },
     "execution_count": 6,
     "metadata": {},
     "output_type": "execute_result"
    }
   ],
   "source": [
    "series.mean()"
   ],
   "metadata": {
    "collapsed": false
   }
  },
  {
   "cell_type": "code",
   "execution_count": 7,
   "outputs": [
    {
     "data": {
      "text/plain": "RangeIndex(start=0, stop=5, step=1)"
     },
     "execution_count": 7,
     "metadata": {},
     "output_type": "execute_result"
    }
   ],
   "source": [
    "series.index"
   ],
   "metadata": {
    "collapsed": false
   }
  },
  {
   "cell_type": "code",
   "execution_count": 8,
   "outputs": [],
   "source": [
    "series.index=[10,20,30,40,50]"
   ],
   "metadata": {
    "collapsed": false
   }
  },
  {
   "cell_type": "code",
   "execution_count": 9,
   "outputs": [
    {
     "data": {
      "text/plain": "10    0\n20    1\n30    2\n40    3\n50    4\nName: Test Array, dtype: int32"
     },
     "execution_count": 9,
     "metadata": {},
     "output_type": "execute_result"
    }
   ],
   "source": [
    "series"
   ],
   "metadata": {
    "collapsed": false
   }
  },
  {
   "cell_type": "code",
   "execution_count": 10,
   "outputs": [
    {
     "data": {
      "text/plain": "10    0\n20    1\n30    2\n40    3\n50    4\nName: Nahhh, dtype: int32"
     },
     "execution_count": 10,
     "metadata": {},
     "output_type": "execute_result"
    }
   ],
   "source": [
    "series.name=\"Nahhh\"\n",
    "series"
   ],
   "metadata": {
    "collapsed": false
   }
  },
  {
   "cell_type": "code",
   "execution_count": 11,
   "outputs": [
    {
     "data": {
      "text/plain": "0       0.0\n1       5.0\n2     155.0\n3       0.0\n4     518.0\n5    1827.0\n6     616.0\n7     317.0\n8     325.0\nName: Sales, dtype: float64"
     },
     "execution_count": 11,
     "metadata": {},
     "output_type": "execute_result"
    }
   ],
   "source": [
    "sales_series.astype(\"float\")"
   ],
   "metadata": {
    "collapsed": false
   }
  },
  {
   "cell_type": "code",
   "execution_count": 12,
   "outputs": [
    {
     "data": {
      "text/plain": "0       0\n1       5\n2     155\n3       0\n4     518\n5    1827\n6     616\n7     317\n8     325\nName: Sales, dtype: string"
     },
     "execution_count": 12,
     "metadata": {},
     "output_type": "execute_result"
    }
   ],
   "source": [
    "sales_series.astype(\"string\")"
   ],
   "metadata": {
    "collapsed": false
   }
  },
  {
   "cell_type": "code",
   "execution_count": 13,
   "outputs": [
    {
     "data": {
      "text/plain": "0       0\n1       5\n2     155\n3       0\n4     518\n5    1827\n6     616\n7     317\n8     325\nName: Sales, dtype: int32"
     },
     "execution_count": 13,
     "metadata": {},
     "output_type": "execute_result"
    }
   ],
   "source": [
    "sales_series.astype(\"int\")"
   ],
   "metadata": {
    "collapsed": false
   }
  },
  {
   "cell_type": "code",
   "execution_count": 14,
   "outputs": [
    {
     "data": {
      "text/plain": "418.1111111111111"
     },
     "execution_count": 14,
     "metadata": {},
     "output_type": "execute_result"
    }
   ],
   "source": [
    "sales_series.mean()"
   ],
   "metadata": {
    "collapsed": false
   }
  },
  {
   "cell_type": "code",
   "execution_count": 15,
   "outputs": [
    {
     "data": {
      "text/plain": "317.0"
     },
     "execution_count": 15,
     "metadata": {},
     "output_type": "execute_result"
    }
   ],
   "source": [
    "sales_series.median()"
   ],
   "metadata": {
    "collapsed": false
   }
  },
  {
   "cell_type": "code",
   "execution_count": 16,
   "outputs": [],
   "source": [
    "items=[\"Coffee\",\"Latte\",\"Ice\",\"Tea\",\"Juice\",\"Candy\",\"Drinks\",\"Chips\",\"Ketchup\"]"
   ],
   "metadata": {
    "collapsed": false
   }
  },
  {
   "cell_type": "code",
   "execution_count": 17,
   "outputs": [
    {
     "data": {
      "text/plain": "Coffee        0\nLatte         5\nIce         155\nTea           0\nJuice       518\nCandy      1827\nDrinks      616\nChips       317\nKetchup     325\nName: Sales, dtype: int64"
     },
     "execution_count": 17,
     "metadata": {},
     "output_type": "execute_result"
    }
   ],
   "source": [
    "sales_series.index=items\n",
    "sales_series"
   ],
   "metadata": {
    "collapsed": false
   }
  },
  {
   "cell_type": "code",
   "execution_count": 18,
   "outputs": [
    {
     "data": {
      "text/plain": "Candy     1827\nDrinks     616\nChips      317\nName: Sales, dtype: int64"
     },
     "execution_count": 18,
     "metadata": {},
     "output_type": "execute_result"
    }
   ],
   "source": [
    "sales_series[\"Candy\":\"Chips\"]"
   ],
   "metadata": {
    "collapsed": false
   }
  },
  {
   "cell_type": "code",
   "execution_count": 19,
   "outputs": [],
   "source": [
    "sales_series.index=range(9)"
   ],
   "metadata": {
    "collapsed": false
   }
  },
  {
   "cell_type": "code",
   "execution_count": 20,
   "outputs": [
    {
     "data": {
      "text/plain": "0       0\n1       5\n2     155\n3       0\n4     518\n5    1827\n6     616\n7     317\n8     325\nName: Sales, dtype: int64"
     },
     "execution_count": 20,
     "metadata": {},
     "output_type": "execute_result"
    }
   ],
   "source": [
    "sales_series"
   ],
   "metadata": {
    "collapsed": false
   }
  },
  {
   "cell_type": "code",
   "execution_count": 21,
   "outputs": [
    {
     "data": {
      "text/plain": "1      5\n2    155\n7    317\nName: Sales, dtype: int64"
     },
     "execution_count": 21,
     "metadata": {},
     "output_type": "execute_result"
    }
   ],
   "source": [
    "sales_series.iloc[[1,2,7]]"
   ],
   "metadata": {
    "collapsed": false
   }
  },
  {
   "cell_type": "code",
   "execution_count": 22,
   "outputs": [],
   "source": [
    "sales_series.index=[\"Coffee\",\"Latte\",\"Ice\",\"Tea\",\"Juice\",\"Candy\",\"Drinks\",\"Chips\",\"Ketchup\"]"
   ],
   "metadata": {
    "collapsed": false
   }
  },
  {
   "cell_type": "code",
   "execution_count": 23,
   "outputs": [
    {
     "data": {
      "text/plain": "Latte      5\nIce      155\nTea        0\nJuice    518\nName: Sales, dtype: int64"
     },
     "execution_count": 23,
     "metadata": {},
     "output_type": "execute_result"
    }
   ],
   "source": [
    "sales_series.loc[\"Latte\":\"Juice\"]"
   ],
   "metadata": {
    "collapsed": false
   }
  },
  {
   "cell_type": "code",
   "execution_count": 24,
   "outputs": [
    {
     "data": {
      "text/plain": "Coffee        0\nLatte         5\nIce         155\nTea           0\nJuice       518\nCandy      1827\nDrinks      616\nChips       317\nKetchup     325\nName: Sales, dtype: int64"
     },
     "execution_count": 24,
     "metadata": {},
     "output_type": "execute_result"
    }
   ],
   "source": [
    "sales_series.reset_index(drop=True)\n",
    "sales_series"
   ],
   "metadata": {
    "collapsed": false
   }
  },
  {
   "cell_type": "code",
   "execution_count": 50,
   "outputs": [
    {
     "data": {
      "text/plain": "        Name  Age\n0     Nafeax   19\n1       Nexy   19\n2    Lingesh   19\n3  Pewdiepie   19",
      "text/html": "<div>\n<style scoped>\n    .dataframe tbody tr th:only-of-type {\n        vertical-align: middle;\n    }\n\n    .dataframe tbody tr th {\n        vertical-align: top;\n    }\n\n    .dataframe thead th {\n        text-align: right;\n    }\n</style>\n<table border=\"1\" class=\"dataframe\">\n  <thead>\n    <tr style=\"text-align: right;\">\n      <th></th>\n      <th>Name</th>\n      <th>Age</th>\n    </tr>\n  </thead>\n  <tbody>\n    <tr>\n      <th>0</th>\n      <td>Nafeax</td>\n      <td>19</td>\n    </tr>\n    <tr>\n      <th>1</th>\n      <td>Nexy</td>\n      <td>19</td>\n    </tr>\n    <tr>\n      <th>2</th>\n      <td>Lingesh</td>\n      <td>19</td>\n    </tr>\n    <tr>\n      <th>3</th>\n      <td>Pewdiepie</td>\n      <td>19</td>\n    </tr>\n  </tbody>\n</table>\n</div>"
     },
     "execution_count": 50,
     "metadata": {},
     "output_type": "execute_result"
    }
   ],
   "source": [
    "team=pd.DataFrame({\"Name\":[\"Nafeax\",\"Nexy\",\"Lingesh\",\"Pewdiepie\"],\"Age\":[19,19,19,19]})\n",
    "team"
   ],
   "metadata": {
    "collapsed": false
   }
  },
  {
   "cell_type": "code",
   "execution_count": 51,
   "outputs": [
    {
     "data": {
      "text/plain": "        Name  Age\n2    Lingesh   19\n3  Pewdiepie   19",
      "text/html": "<div>\n<style scoped>\n    .dataframe tbody tr th:only-of-type {\n        vertical-align: middle;\n    }\n\n    .dataframe tbody tr th {\n        vertical-align: top;\n    }\n\n    .dataframe thead th {\n        text-align: right;\n    }\n</style>\n<table border=\"1\" class=\"dataframe\">\n  <thead>\n    <tr style=\"text-align: right;\">\n      <th></th>\n      <th>Name</th>\n      <th>Age</th>\n    </tr>\n  </thead>\n  <tbody>\n    <tr>\n      <th>2</th>\n      <td>Lingesh</td>\n      <td>19</td>\n    </tr>\n    <tr>\n      <th>3</th>\n      <td>Pewdiepie</td>\n      <td>19</td>\n    </tr>\n  </tbody>\n</table>\n</div>"
     },
     "execution_count": 51,
     "metadata": {},
     "output_type": "execute_result"
    }
   ],
   "source": [
    "team.iloc[2:,:]"
   ],
   "metadata": {
    "collapsed": false
   }
  },
  {
   "cell_type": "code",
   "execution_count": 52,
   "outputs": [
    {
     "data": {
      "text/plain": "2      Lingesh\n3    Pewdiepie\nName: Name, dtype: object"
     },
     "execution_count": 52,
     "metadata": {},
     "output_type": "execute_result"
    }
   ],
   "source": [
    "team.loc[2:,\"Name\"]"
   ],
   "metadata": {
    "collapsed": false
   }
  },
  {
   "cell_type": "code",
   "execution_count": 28,
   "outputs": [
    {
     "data": {
      "text/plain": "Latte         5\nIce         155\nJuice       518\nCandy      1827\nDrinks      616\nChips       317\nKetchup     325\nName: Sales, dtype: int64"
     },
     "execution_count": 28,
     "metadata": {},
     "output_type": "execute_result"
    }
   ],
   "source": [
    "sales_series.loc[sales_series>0]"
   ],
   "metadata": {
    "collapsed": false
   }
  },
  {
   "cell_type": "code",
   "execution_count": 29,
   "outputs": [
    {
     "data": {
      "text/plain": "Coffee      True\nLatte      False\nIce        False\nTea         True\nJuice      False\nCandy      False\nDrinks     False\nChips      False\nKetchup    False\nName: Sales, dtype: bool"
     },
     "execution_count": 29,
     "metadata": {},
     "output_type": "execute_result"
    }
   ],
   "source": [
    "sales_series.eq(0)"
   ],
   "metadata": {
    "collapsed": false
   }
  },
  {
   "cell_type": "code",
   "execution_count": 30,
   "outputs": [
    {
     "data": {
      "text/plain": "Coffee     False\nLatte      False\nIce        False\nTea        False\nJuice      False\nCandy       True\nDrinks     False\nChips      False\nKetchup    False\nName: Sales, dtype: bool"
     },
     "execution_count": 30,
     "metadata": {},
     "output_type": "execute_result"
    }
   ],
   "source": [
    "sales_series.gt(1000)"
   ],
   "metadata": {
    "collapsed": false
   }
  },
  {
   "cell_type": "code",
   "execution_count": 31,
   "outputs": [
    {
     "data": {
      "text/plain": "Coffee     False\nLatte       True\nIce        False\nTea        False\nJuice      False\nCandy      False\nDrinks     False\nChips      False\nKetchup    False\nName: Sales, dtype: bool"
     },
     "execution_count": 31,
     "metadata": {},
     "output_type": "execute_result"
    }
   ],
   "source": [
    "sales_series.isin([5])"
   ],
   "metadata": {
    "collapsed": false
   }
  },
  {
   "cell_type": "code",
   "execution_count": 32,
   "outputs": [
    {
     "data": {
      "text/plain": "Coffee        0\nTea           0\nLatte         5\nIce         155\nChips       317\nKetchup     325\nJuice       518\nDrinks      616\nCandy      1827\nName: Sales, dtype: int64"
     },
     "execution_count": 32,
     "metadata": {},
     "output_type": "execute_result"
    }
   ],
   "source": [
    "sales_series.sort_values()"
   ],
   "metadata": {
    "collapsed": false
   }
  },
  {
   "cell_type": "code",
   "execution_count": 33,
   "outputs": [
    {
     "data": {
      "text/plain": "Candy      1827\nDrinks      616\nJuice       518\nKetchup     325\nChips       317\nIce         155\nLatte         5\nCoffee        0\nTea           0\nName: Sales, dtype: int64"
     },
     "execution_count": 33,
     "metadata": {},
     "output_type": "execute_result"
    }
   ],
   "source": [
    "sales_series.sort_values(ascending=False)"
   ],
   "metadata": {
    "collapsed": false
   }
  },
  {
   "cell_type": "code",
   "execution_count": 34,
   "outputs": [
    {
     "data": {
      "text/plain": "Coffee     False\nLatte      False\nIce        False\nTea        False\nJuice      False\nCandy      False\nDrinks     False\nChips      False\nKetchup    False\nName: Sales, dtype: bool"
     },
     "execution_count": 34,
     "metadata": {},
     "output_type": "execute_result"
    }
   ],
   "source": [
    "sales_series.isin([1,2])"
   ],
   "metadata": {
    "collapsed": false
   }
  },
  {
   "cell_type": "code",
   "execution_count": 35,
   "outputs": [
    {
     "data": {
      "text/plain": "0     770\n1    2111\n2    2358\n3    3487\n4    1922\nName: transactions, dtype: int64"
     },
     "execution_count": 35,
     "metadata": {},
     "output_type": "execute_result"
    }
   ],
   "source": [
    "transaction=pd.read_csv(\"transactions.csv\")\n",
    "transaction_series=pd.Series(transaction[\"transactions\"])\n",
    "transaction_series.head()"
   ],
   "metadata": {
    "collapsed": false
   }
  },
  {
   "cell_type": "code",
   "execution_count": 36,
   "outputs": [
    {
     "data": {
      "text/plain": "0.25    1046\n0.50    1393\n0.75    2079\n0.95    3712\n0.99    4862\nName: transactions, dtype: int64"
     },
     "execution_count": 36,
     "metadata": {},
     "output_type": "execute_result"
    }
   ],
   "source": [
    "transaction_series.quantile([0.25,0.50,0.75,0.95,0.99],interpolation=\"nearest\")"
   ],
   "metadata": {
    "collapsed": false
   }
  },
  {
   "cell_type": "code",
   "execution_count": 37,
   "outputs": [
    {
     "data": {
      "text/plain": "8359"
     },
     "execution_count": 37,
     "metadata": {},
     "output_type": "execute_result"
    }
   ],
   "source": [
    "transaction_series.max()"
   ],
   "metadata": {
    "collapsed": false
   }
  },
  {
   "cell_type": "code",
   "execution_count": 38,
   "outputs": [
    {
     "data": {
      "text/plain": "Coffee        0\nLatte         5\nIce         155\nTea           0\nJuice       518\nCandy      1827\nDrinks      616\nChips       317\nKetchup     325\nName: Sales, dtype: int64"
     },
     "execution_count": 38,
     "metadata": {},
     "output_type": "execute_result"
    }
   ],
   "source": [
    "sales_series"
   ],
   "metadata": {
    "collapsed": false
   }
  },
  {
   "cell_type": "code",
   "execution_count": 39,
   "outputs": [
    {
     "data": {
      "text/plain": "array([   0,    5,  155,  518, 1827,  616,  317,  325], dtype=int64)"
     },
     "execution_count": 39,
     "metadata": {},
     "output_type": "execute_result"
    }
   ],
   "source": [
    "sales_series.unique()"
   ],
   "metadata": {
    "collapsed": false
   }
  },
  {
   "cell_type": "code",
   "execution_count": 40,
   "outputs": [
    {
     "data": {
      "text/plain": "8"
     },
     "execution_count": 40,
     "metadata": {},
     "output_type": "execute_result"
    }
   ],
   "source": [
    "sales_series.nunique()"
   ],
   "metadata": {
    "collapsed": false
   }
  },
  {
   "cell_type": "code",
   "execution_count": 41,
   "outputs": [
    {
     "data": {
      "text/plain": "0       0.222222\n5       0.111111\n155     0.111111\n518     0.111111\n1827    0.111111\n616     0.111111\n317     0.111111\n325     0.111111\nName: Sales, dtype: float64"
     },
     "execution_count": 41,
     "metadata": {},
     "output_type": "execute_result"
    }
   ],
   "source": [
    "sales_series.value_counts(normalize=True)"
   ],
   "metadata": {
    "collapsed": false
   }
  },
  {
   "cell_type": "code",
   "execution_count": 42,
   "outputs": [
    {
     "data": {
      "text/plain": "0     1.0\n1    90.0\n2     2.0\n3    45.0\n4    78.0\n5     NaN\n6    89.0\nName: Sales, dtype: float64"
     },
     "execution_count": 42,
     "metadata": {},
     "output_type": "execute_result"
    }
   ],
   "source": [
    "sales=[1,90,2,45,78,np.nan,89]\n",
    "sales1=pd.Series(sales,name=\"Sales\")\n",
    "sales1"
   ],
   "metadata": {
    "collapsed": false
   }
  },
  {
   "cell_type": "code",
   "execution_count": 43,
   "outputs": [
    {
     "data": {
      "text/plain": "0    False\n1    False\n2    False\n3    False\n4    False\n5     True\n6    False\nName: Sales, dtype: bool"
     },
     "execution_count": 43,
     "metadata": {},
     "output_type": "execute_result"
    }
   ],
   "source": [
    "sales1.isna()"
   ],
   "metadata": {
    "collapsed": false
   }
  },
  {
   "cell_type": "code",
   "execution_count": 44,
   "outputs": [
    {
     "data": {
      "text/plain": "1.0     1\n90.0    1\n2.0     1\n45.0    1\n78.0    1\nNaN     1\n89.0    1\nName: Sales, dtype: int64"
     },
     "execution_count": 44,
     "metadata": {},
     "output_type": "execute_result"
    }
   ],
   "source": [
    "sales1.value_counts(dropna=False)"
   ],
   "metadata": {
    "collapsed": false
   }
  },
  {
   "cell_type": "code",
   "execution_count": 45,
   "outputs": [
    {
     "data": {
      "text/plain": "0     1.0\n1    90.0\n2     2.0\n3    45.0\n4    78.0\n5    89.0\nName: Sales, dtype: float64"
     },
     "execution_count": 45,
     "metadata": {},
     "output_type": "execute_result"
    }
   ],
   "source": [
    "sales1.dropna(inplace=True)\n",
    "sales1.reset_index(drop=True)"
   ],
   "metadata": {
    "collapsed": false
   }
  },
  {
   "cell_type": "code",
   "execution_count": 46,
   "outputs": [],
   "source": [
    "def fuc(price):\n",
    "    if price>50:\n",
    "        return round(price*0.80,2)\n",
    "    else:\n",
    "        return price"
   ],
   "metadata": {
    "collapsed": false
   }
  },
  {
   "cell_type": "code",
   "execution_count": 47,
   "outputs": [
    {
     "data": {
      "text/plain": "0     1.0\n1    72.0\n2     2.0\n3    45.0\n4    62.0\n6    71.0\nName: Sales, dtype: float64"
     },
     "execution_count": 47,
     "metadata": {},
     "output_type": "execute_result"
    }
   ],
   "source": [
    "sales1.apply(lambda x: round(x*0.80) if x>50 else x)"
   ],
   "metadata": {
    "collapsed": false
   }
  },
  {
   "cell_type": "code",
   "execution_count": 53,
   "outputs": [
    {
     "data": {
      "text/plain": "   ID       Name\n0   1    Lingesh\n1   2  Pewdiepie",
      "text/html": "<div>\n<style scoped>\n    .dataframe tbody tr th:only-of-type {\n        vertical-align: middle;\n    }\n\n    .dataframe tbody tr th {\n        vertical-align: top;\n    }\n\n    .dataframe thead th {\n        text-align: right;\n    }\n</style>\n<table border=\"1\" class=\"dataframe\">\n  <thead>\n    <tr style=\"text-align: right;\">\n      <th></th>\n      <th>ID</th>\n      <th>Name</th>\n    </tr>\n  </thead>\n  <tbody>\n    <tr>\n      <th>0</th>\n      <td>1</td>\n      <td>Lingesh</td>\n    </tr>\n    <tr>\n      <th>1</th>\n      <td>2</td>\n      <td>Pewdiepie</td>\n    </tr>\n  </tbody>\n</table>\n</div>"
     },
     "execution_count": 53,
     "metadata": {},
     "output_type": "execute_result"
    }
   ],
   "source": [
    "pd.DataFrame({\"ID\":[1,2],\"Name\":[\"Lingesh\",\"Pewdiepie\"]})"
   ],
   "metadata": {
    "collapsed": false
   }
  },
  {
   "cell_type": "code",
   "execution_count": 54,
   "outputs": [
    {
     "data": {
      "text/plain": "         date  store_nbr  transactions\n0  2013-01-01         25           770\n1  2013-01-02          1          2111\n2  2013-01-02          2          2358\n3  2013-01-02          3          3487\n4  2013-01-02          4          1922",
      "text/html": "<div>\n<style scoped>\n    .dataframe tbody tr th:only-of-type {\n        vertical-align: middle;\n    }\n\n    .dataframe tbody tr th {\n        vertical-align: top;\n    }\n\n    .dataframe thead th {\n        text-align: right;\n    }\n</style>\n<table border=\"1\" class=\"dataframe\">\n  <thead>\n    <tr style=\"text-align: right;\">\n      <th></th>\n      <th>date</th>\n      <th>store_nbr</th>\n      <th>transactions</th>\n    </tr>\n  </thead>\n  <tbody>\n    <tr>\n      <th>0</th>\n      <td>2013-01-01</td>\n      <td>25</td>\n      <td>770</td>\n    </tr>\n    <tr>\n      <th>1</th>\n      <td>2013-01-02</td>\n      <td>1</td>\n      <td>2111</td>\n    </tr>\n    <tr>\n      <th>2</th>\n      <td>2013-01-02</td>\n      <td>2</td>\n      <td>2358</td>\n    </tr>\n    <tr>\n      <th>3</th>\n      <td>2013-01-02</td>\n      <td>3</td>\n      <td>3487</td>\n    </tr>\n    <tr>\n      <th>4</th>\n      <td>2013-01-02</td>\n      <td>4</td>\n      <td>1922</td>\n    </tr>\n  </tbody>\n</table>\n</div>"
     },
     "execution_count": 54,
     "metadata": {},
     "output_type": "execute_result"
    }
   ],
   "source": [
    "df=pd.read_csv(\"transactions.csv\")\n",
    "df.head()"
   ],
   "metadata": {
    "collapsed": false
   }
  },
  {
   "cell_type": "code",
   "execution_count": 55,
   "outputs": [
    {
     "data": {
      "text/plain": "             date  store_nbr  transactions\n83483  2017-08-15         50          2804\n83484  2017-08-15         51          1573\n83485  2017-08-15         52          2255\n83486  2017-08-15         53           932\n83487  2017-08-15         54           802",
      "text/html": "<div>\n<style scoped>\n    .dataframe tbody tr th:only-of-type {\n        vertical-align: middle;\n    }\n\n    .dataframe tbody tr th {\n        vertical-align: top;\n    }\n\n    .dataframe thead th {\n        text-align: right;\n    }\n</style>\n<table border=\"1\" class=\"dataframe\">\n  <thead>\n    <tr style=\"text-align: right;\">\n      <th></th>\n      <th>date</th>\n      <th>store_nbr</th>\n      <th>transactions</th>\n    </tr>\n  </thead>\n  <tbody>\n    <tr>\n      <th>83483</th>\n      <td>2017-08-15</td>\n      <td>50</td>\n      <td>2804</td>\n    </tr>\n    <tr>\n      <th>83484</th>\n      <td>2017-08-15</td>\n      <td>51</td>\n      <td>1573</td>\n    </tr>\n    <tr>\n      <th>83485</th>\n      <td>2017-08-15</td>\n      <td>52</td>\n      <td>2255</td>\n    </tr>\n    <tr>\n      <th>83486</th>\n      <td>2017-08-15</td>\n      <td>53</td>\n      <td>932</td>\n    </tr>\n    <tr>\n      <th>83487</th>\n      <td>2017-08-15</td>\n      <td>54</td>\n      <td>802</td>\n    </tr>\n  </tbody>\n</table>\n</div>"
     },
     "execution_count": 55,
     "metadata": {},
     "output_type": "execute_result"
    }
   ],
   "source": [
    "df.tail()"
   ],
   "metadata": {
    "collapsed": false
   }
  },
  {
   "cell_type": "code",
   "execution_count": 65,
   "outputs": [
    {
     "name": "stdout",
     "output_type": "stream",
     "text": [
      "<class 'pandas.core.frame.DataFrame'>\n",
      "RangeIndex: 83488 entries, 0 to 83487\n",
      "Data columns (total 3 columns):\n",
      " #   Column        Non-Null Count  Dtype \n",
      "---  ------        --------------  ----- \n",
      " 0   date          83488 non-null  object\n",
      " 1   store_nbr     83488 non-null  int64 \n",
      " 2   transactions  83488 non-null  int64 \n",
      "dtypes: int64(2), object(1)\n",
      "memory usage: 1.9+ MB\n"
     ]
    }
   ],
   "source": [
    "df.info()"
   ],
   "metadata": {
    "collapsed": false
   }
  },
  {
   "cell_type": "code",
   "execution_count": 58,
   "outputs": [
    {
     "data": {
      "text/plain": "             date  store_nbr  transactions\n72158  2017-01-16         25           819\n33291  2014-12-15         14          1730\n56136  2016-03-14         38          1354\n20369  2014-03-16         34          2507\n54906  2016-02-20         27          1642",
      "text/html": "<div>\n<style scoped>\n    .dataframe tbody tr th:only-of-type {\n        vertical-align: middle;\n    }\n\n    .dataframe tbody tr th {\n        vertical-align: top;\n    }\n\n    .dataframe thead th {\n        text-align: right;\n    }\n</style>\n<table border=\"1\" class=\"dataframe\">\n  <thead>\n    <tr style=\"text-align: right;\">\n      <th></th>\n      <th>date</th>\n      <th>store_nbr</th>\n      <th>transactions</th>\n    </tr>\n  </thead>\n  <tbody>\n    <tr>\n      <th>72158</th>\n      <td>2017-01-16</td>\n      <td>25</td>\n      <td>819</td>\n    </tr>\n    <tr>\n      <th>33291</th>\n      <td>2014-12-15</td>\n      <td>14</td>\n      <td>1730</td>\n    </tr>\n    <tr>\n      <th>56136</th>\n      <td>2016-03-14</td>\n      <td>38</td>\n      <td>1354</td>\n    </tr>\n    <tr>\n      <th>20369</th>\n      <td>2014-03-16</td>\n      <td>34</td>\n      <td>2507</td>\n    </tr>\n    <tr>\n      <th>54906</th>\n      <td>2016-02-20</td>\n      <td>27</td>\n      <td>1642</td>\n    </tr>\n  </tbody>\n</table>\n</div>"
     },
     "execution_count": 58,
     "metadata": {},
     "output_type": "execute_result"
    }
   ],
   "source": [
    "df.sample(5)"
   ],
   "metadata": {
    "collapsed": false
   }
  },
  {
   "cell_type": "code",
   "execution_count": 67,
   "outputs": [
    {
     "data": {
      "text/plain": "              date     store_nbr  transactions\ncount        83488  83488.000000  83488.000000\nunique        1682           NaN           NaN\ntop     2017-08-15           NaN           NaN\nfreq            54           NaN           NaN\nmean           NaN     26.939237   1694.602158\nstd            NaN     15.608204    963.286644\nmin            NaN      1.000000      5.000000\n25%            NaN     13.000000   1046.000000\n50%            NaN     27.000000   1393.000000\n75%            NaN     40.000000   2079.000000\nmax            NaN     54.000000   8359.000000",
      "text/html": "<div>\n<style scoped>\n    .dataframe tbody tr th:only-of-type {\n        vertical-align: middle;\n    }\n\n    .dataframe tbody tr th {\n        vertical-align: top;\n    }\n\n    .dataframe thead th {\n        text-align: right;\n    }\n</style>\n<table border=\"1\" class=\"dataframe\">\n  <thead>\n    <tr style=\"text-align: right;\">\n      <th></th>\n      <th>date</th>\n      <th>store_nbr</th>\n      <th>transactions</th>\n    </tr>\n  </thead>\n  <tbody>\n    <tr>\n      <th>count</th>\n      <td>83488</td>\n      <td>83488.000000</td>\n      <td>83488.000000</td>\n    </tr>\n    <tr>\n      <th>unique</th>\n      <td>1682</td>\n      <td>NaN</td>\n      <td>NaN</td>\n    </tr>\n    <tr>\n      <th>top</th>\n      <td>2017-08-15</td>\n      <td>NaN</td>\n      <td>NaN</td>\n    </tr>\n    <tr>\n      <th>freq</th>\n      <td>54</td>\n      <td>NaN</td>\n      <td>NaN</td>\n    </tr>\n    <tr>\n      <th>mean</th>\n      <td>NaN</td>\n      <td>26.939237</td>\n      <td>1694.602158</td>\n    </tr>\n    <tr>\n      <th>std</th>\n      <td>NaN</td>\n      <td>15.608204</td>\n      <td>963.286644</td>\n    </tr>\n    <tr>\n      <th>min</th>\n      <td>NaN</td>\n      <td>1.000000</td>\n      <td>5.000000</td>\n    </tr>\n    <tr>\n      <th>25%</th>\n      <td>NaN</td>\n      <td>13.000000</td>\n      <td>1046.000000</td>\n    </tr>\n    <tr>\n      <th>50%</th>\n      <td>NaN</td>\n      <td>27.000000</td>\n      <td>1393.000000</td>\n    </tr>\n    <tr>\n      <th>75%</th>\n      <td>NaN</td>\n      <td>40.000000</td>\n      <td>2079.000000</td>\n    </tr>\n    <tr>\n      <th>max</th>\n      <td>NaN</td>\n      <td>54.000000</td>\n      <td>8359.000000</td>\n    </tr>\n  </tbody>\n</table>\n</div>"
     },
     "execution_count": 67,
     "metadata": {},
     "output_type": "execute_result"
    }
   ],
   "source": [
    "df.describe(include=\"all\")"
   ],
   "metadata": {
    "collapsed": false
   }
  },
  {
   "cell_type": "code",
   "execution_count": 71,
   "outputs": [
    {
     "data": {
      "text/plain": "             date  store_nbr\n0      2013-01-01         25\n1      2013-01-02          1\n2      2013-01-02          2\n3      2013-01-02          3\n4      2013-01-02          4\n...           ...        ...\n83483  2017-08-15         50\n83484  2017-08-15         51\n83485  2017-08-15         52\n83486  2017-08-15         53\n83487  2017-08-15         54\n\n[83488 rows x 2 columns]",
      "text/html": "<div>\n<style scoped>\n    .dataframe tbody tr th:only-of-type {\n        vertical-align: middle;\n    }\n\n    .dataframe tbody tr th {\n        vertical-align: top;\n    }\n\n    .dataframe thead th {\n        text-align: right;\n    }\n</style>\n<table border=\"1\" class=\"dataframe\">\n  <thead>\n    <tr style=\"text-align: right;\">\n      <th></th>\n      <th>date</th>\n      <th>store_nbr</th>\n    </tr>\n  </thead>\n  <tbody>\n    <tr>\n      <th>0</th>\n      <td>2013-01-01</td>\n      <td>25</td>\n    </tr>\n    <tr>\n      <th>1</th>\n      <td>2013-01-02</td>\n      <td>1</td>\n    </tr>\n    <tr>\n      <th>2</th>\n      <td>2013-01-02</td>\n      <td>2</td>\n    </tr>\n    <tr>\n      <th>3</th>\n      <td>2013-01-02</td>\n      <td>3</td>\n    </tr>\n    <tr>\n      <th>4</th>\n      <td>2013-01-02</td>\n      <td>4</td>\n    </tr>\n    <tr>\n      <th>...</th>\n      <td>...</td>\n      <td>...</td>\n    </tr>\n    <tr>\n      <th>83483</th>\n      <td>2017-08-15</td>\n      <td>50</td>\n    </tr>\n    <tr>\n      <th>83484</th>\n      <td>2017-08-15</td>\n      <td>51</td>\n    </tr>\n    <tr>\n      <th>83485</th>\n      <td>2017-08-15</td>\n      <td>52</td>\n    </tr>\n    <tr>\n      <th>83486</th>\n      <td>2017-08-15</td>\n      <td>53</td>\n    </tr>\n    <tr>\n      <th>83487</th>\n      <td>2017-08-15</td>\n      <td>54</td>\n    </tr>\n  </tbody>\n</table>\n<p>83488 rows × 2 columns</p>\n</div>"
     },
     "execution_count": 71,
     "metadata": {},
     "output_type": "execute_result"
    }
   ],
   "source": [
    "df[[\"date\",\"store_nbr\"]]"
   ],
   "metadata": {
    "collapsed": false
   }
  },
  {
   "cell_type": "code",
   "execution_count": 70,
   "outputs": [
    {
     "data": {
      "text/plain": "0        25\n1         1\n2         2\n3         3\n4         4\n         ..\n83483    50\n83484    51\n83485    52\n83486    53\n83487    54\nName: store_nbr, Length: 83488, dtype: int64"
     },
     "execution_count": 70,
     "metadata": {},
     "output_type": "execute_result"
    }
   ],
   "source": [
    "df.store_nbr"
   ],
   "metadata": {
    "collapsed": false
   }
  },
  {
   "cell_type": "code",
   "execution_count": 72,
   "outputs": [
    {
     "data": {
      "text/plain": "1682"
     },
     "execution_count": 72,
     "metadata": {},
     "output_type": "execute_result"
    }
   ],
   "source": [
    "df[\"date\"].nunique()"
   ],
   "metadata": {
    "collapsed": false
   }
  },
  {
   "cell_type": "code",
   "execution_count": 73,
   "outputs": [
    {
     "data": {
      "text/plain": "2017-08-15    54\n2017-06-02    54\n2017-05-21    54\n2017-05-22    54\n2017-05-23    54\n              ..\n2016-01-04    14\n2014-01-01     2\n2017-01-01     1\n2015-01-01     1\n2013-01-01     1\nName: date, Length: 1682, dtype: int64"
     },
     "execution_count": 73,
     "metadata": {},
     "output_type": "execute_result"
    }
   ],
   "source": [
    "df[\"date\"].value_counts()"
   ],
   "metadata": {
    "collapsed": false
   }
  },
  {
   "cell_type": "code",
   "execution_count": 74,
   "outputs": [
    {
     "data": {
      "text/plain": "Index(['date', 'store_nbr', 'transactions'], dtype='object')"
     },
     "execution_count": 74,
     "metadata": {},
     "output_type": "execute_result"
    }
   ],
   "source": [
    "df.columns"
   ],
   "metadata": {
    "collapsed": false
   }
  },
  {
   "cell_type": "code",
   "execution_count": 75,
   "outputs": [],
   "source": [
    "df.columns=[\"Date\",\"Store\",\"Transactions\"]"
   ],
   "metadata": {
    "collapsed": false
   }
  },
  {
   "cell_type": "code",
   "execution_count": 79,
   "outputs": [
    {
     "data": {
      "text/plain": "Index(['Date', 'Store', 'Transactions'], dtype='object')"
     },
     "execution_count": 79,
     "metadata": {},
     "output_type": "execute_result"
    }
   ],
   "source": [
    "df.columns"
   ],
   "metadata": {
    "collapsed": false
   }
  },
  {
   "cell_type": "code",
   "execution_count": 87,
   "outputs": [
    {
     "data": {
      "text/plain": "             Date  Store\n3      2013-01-02      3\n4      2013-01-02      4\n5      2013-01-02      5\n6      2013-01-02      6\n7      2013-01-02      7\n...           ...    ...\n83483  2017-08-15     50\n83484  2017-08-15     51\n83485  2017-08-15     52\n83486  2017-08-15     53\n83487  2017-08-15     54\n\n[83485 rows x 2 columns]",
      "text/html": "<div>\n<style scoped>\n    .dataframe tbody tr th:only-of-type {\n        vertical-align: middle;\n    }\n\n    .dataframe tbody tr th {\n        vertical-align: top;\n    }\n\n    .dataframe thead th {\n        text-align: right;\n    }\n</style>\n<table border=\"1\" class=\"dataframe\">\n  <thead>\n    <tr style=\"text-align: right;\">\n      <th></th>\n      <th>Date</th>\n      <th>Store</th>\n    </tr>\n  </thead>\n  <tbody>\n    <tr>\n      <th>3</th>\n      <td>2013-01-02</td>\n      <td>3</td>\n    </tr>\n    <tr>\n      <th>4</th>\n      <td>2013-01-02</td>\n      <td>4</td>\n    </tr>\n    <tr>\n      <th>5</th>\n      <td>2013-01-02</td>\n      <td>5</td>\n    </tr>\n    <tr>\n      <th>6</th>\n      <td>2013-01-02</td>\n      <td>6</td>\n    </tr>\n    <tr>\n      <th>7</th>\n      <td>2013-01-02</td>\n      <td>7</td>\n    </tr>\n    <tr>\n      <th>...</th>\n      <td>...</td>\n      <td>...</td>\n    </tr>\n    <tr>\n      <th>83483</th>\n      <td>2017-08-15</td>\n      <td>50</td>\n    </tr>\n    <tr>\n      <th>83484</th>\n      <td>2017-08-15</td>\n      <td>51</td>\n    </tr>\n    <tr>\n      <th>83485</th>\n      <td>2017-08-15</td>\n      <td>52</td>\n    </tr>\n    <tr>\n      <th>83486</th>\n      <td>2017-08-15</td>\n      <td>53</td>\n    </tr>\n    <tr>\n      <th>83487</th>\n      <td>2017-08-15</td>\n      <td>54</td>\n    </tr>\n  </tbody>\n</table>\n<p>83485 rows × 2 columns</p>\n</div>"
     },
     "execution_count": 87,
     "metadata": {},
     "output_type": "execute_result"
    }
   ],
   "source": [
    "df.iloc[3:,:2]"
   ],
   "metadata": {
    "collapsed": false
   }
  },
  {
   "cell_type": "code",
   "execution_count": 91,
   "outputs": [
    {
     "data": {
      "text/plain": "             Date  Transactions\n5      2013-01-02          1903\n6      2013-01-02          2143\n7      2013-01-02          1874\n8      2013-01-02          3250\n9      2013-01-02          2940\n...           ...           ...\n83483  2017-08-15          2804\n83484  2017-08-15          1573\n83485  2017-08-15          2255\n83486  2017-08-15           932\n83487  2017-08-15           802\n\n[83483 rows x 2 columns]",
      "text/html": "<div>\n<style scoped>\n    .dataframe tbody tr th:only-of-type {\n        vertical-align: middle;\n    }\n\n    .dataframe tbody tr th {\n        vertical-align: top;\n    }\n\n    .dataframe thead th {\n        text-align: right;\n    }\n</style>\n<table border=\"1\" class=\"dataframe\">\n  <thead>\n    <tr style=\"text-align: right;\">\n      <th></th>\n      <th>Date</th>\n      <th>Transactions</th>\n    </tr>\n  </thead>\n  <tbody>\n    <tr>\n      <th>5</th>\n      <td>2013-01-02</td>\n      <td>1903</td>\n    </tr>\n    <tr>\n      <th>6</th>\n      <td>2013-01-02</td>\n      <td>2143</td>\n    </tr>\n    <tr>\n      <th>7</th>\n      <td>2013-01-02</td>\n      <td>1874</td>\n    </tr>\n    <tr>\n      <th>8</th>\n      <td>2013-01-02</td>\n      <td>3250</td>\n    </tr>\n    <tr>\n      <th>9</th>\n      <td>2013-01-02</td>\n      <td>2940</td>\n    </tr>\n    <tr>\n      <th>...</th>\n      <td>...</td>\n      <td>...</td>\n    </tr>\n    <tr>\n      <th>83483</th>\n      <td>2017-08-15</td>\n      <td>2804</td>\n    </tr>\n    <tr>\n      <th>83484</th>\n      <td>2017-08-15</td>\n      <td>1573</td>\n    </tr>\n    <tr>\n      <th>83485</th>\n      <td>2017-08-15</td>\n      <td>2255</td>\n    </tr>\n    <tr>\n      <th>83486</th>\n      <td>2017-08-15</td>\n      <td>932</td>\n    </tr>\n    <tr>\n      <th>83487</th>\n      <td>2017-08-15</td>\n      <td>802</td>\n    </tr>\n  </tbody>\n</table>\n<p>83483 rows × 2 columns</p>\n</div>"
     },
     "execution_count": 91,
     "metadata": {},
     "output_type": "execute_result"
    }
   ],
   "source": [
    "df.loc[5:,[\"Date\",\"Transactions\"]]"
   ],
   "metadata": {
    "collapsed": false
   }
  },
  {
   "cell_type": "code",
   "execution_count": 96,
   "outputs": [
    {
     "data": {
      "text/plain": "         Date  Store  Transactions\n0  2013-01-01     25           770\n1  2013-01-02      1          2111\n2  2013-01-02      2          2358\n3  2013-01-02      3          3487\n4  2013-01-02      4          1922",
      "text/html": "<div>\n<style scoped>\n    .dataframe tbody tr th:only-of-type {\n        vertical-align: middle;\n    }\n\n    .dataframe tbody tr th {\n        vertical-align: top;\n    }\n\n    .dataframe thead th {\n        text-align: right;\n    }\n</style>\n<table border=\"1\" class=\"dataframe\">\n  <thead>\n    <tr style=\"text-align: right;\">\n      <th></th>\n      <th>Date</th>\n      <th>Store</th>\n      <th>Transactions</th>\n    </tr>\n  </thead>\n  <tbody>\n    <tr>\n      <th>0</th>\n      <td>2013-01-01</td>\n      <td>25</td>\n      <td>770</td>\n    </tr>\n    <tr>\n      <th>1</th>\n      <td>2013-01-02</td>\n      <td>1</td>\n      <td>2111</td>\n    </tr>\n    <tr>\n      <th>2</th>\n      <td>2013-01-02</td>\n      <td>2</td>\n      <td>2358</td>\n    </tr>\n    <tr>\n      <th>3</th>\n      <td>2013-01-02</td>\n      <td>3</td>\n      <td>3487</td>\n    </tr>\n    <tr>\n      <th>4</th>\n      <td>2013-01-02</td>\n      <td>4</td>\n      <td>1922</td>\n    </tr>\n  </tbody>\n</table>\n</div>"
     },
     "execution_count": 96,
     "metadata": {},
     "output_type": "execute_result"
    }
   ],
   "source": [
    "df.head()"
   ],
   "metadata": {
    "collapsed": false
   }
  },
  {
   "cell_type": "code",
   "execution_count": 97,
   "outputs": [
    {
     "data": {
      "text/plain": "       Store  Transactions\n0         25           770\n1          1          2111\n2          2          2358\n3          3          3487\n4          4          1922\n...      ...           ...\n83483     50          2804\n83484     51          1573\n83485     52          2255\n83486     53           932\n83487     54           802\n\n[83488 rows x 2 columns]",
      "text/html": "<div>\n<style scoped>\n    .dataframe tbody tr th:only-of-type {\n        vertical-align: middle;\n    }\n\n    .dataframe tbody tr th {\n        vertical-align: top;\n    }\n\n    .dataframe thead th {\n        text-align: right;\n    }\n</style>\n<table border=\"1\" class=\"dataframe\">\n  <thead>\n    <tr style=\"text-align: right;\">\n      <th></th>\n      <th>Store</th>\n      <th>Transactions</th>\n    </tr>\n  </thead>\n  <tbody>\n    <tr>\n      <th>0</th>\n      <td>25</td>\n      <td>770</td>\n    </tr>\n    <tr>\n      <th>1</th>\n      <td>1</td>\n      <td>2111</td>\n    </tr>\n    <tr>\n      <th>2</th>\n      <td>2</td>\n      <td>2358</td>\n    </tr>\n    <tr>\n      <th>3</th>\n      <td>3</td>\n      <td>3487</td>\n    </tr>\n    <tr>\n      <th>4</th>\n      <td>4</td>\n      <td>1922</td>\n    </tr>\n    <tr>\n      <th>...</th>\n      <td>...</td>\n      <td>...</td>\n    </tr>\n    <tr>\n      <th>83483</th>\n      <td>50</td>\n      <td>2804</td>\n    </tr>\n    <tr>\n      <th>83484</th>\n      <td>51</td>\n      <td>1573</td>\n    </tr>\n    <tr>\n      <th>83485</th>\n      <td>52</td>\n      <td>2255</td>\n    </tr>\n    <tr>\n      <th>83486</th>\n      <td>53</td>\n      <td>932</td>\n    </tr>\n    <tr>\n      <th>83487</th>\n      <td>54</td>\n      <td>802</td>\n    </tr>\n  </tbody>\n</table>\n<p>83488 rows × 2 columns</p>\n</div>"
     },
     "execution_count": 97,
     "metadata": {},
     "output_type": "execute_result"
    }
   ],
   "source": [
    "df.loc[:,[\"Store\",\"Transactions\"]]"
   ],
   "metadata": {
    "collapsed": false
   }
  },
  {
   "cell_type": "code",
   "execution_count": 103,
   "outputs": [
    {
     "name": "stdout",
     "output_type": "stream",
     "text": [
      "<class 'pandas.core.frame.DataFrame'>\n",
      "RangeIndex: 83488 entries, 0 to 83487\n",
      "Data columns (total 2 columns):\n",
      " #   Column        Non-Null Count  Dtype\n",
      "---  ------        --------------  -----\n",
      " 0   Store         83488 non-null  int64\n",
      " 1   Transactions  83488 non-null  int64\n",
      "dtypes: int64(2)\n",
      "memory usage: 1.3 MB\n"
     ]
    }
   ],
   "source": [
    "df.loc[:,[\"Store\",\"Transactions\"]].info()"
   ],
   "metadata": {
    "collapsed": false
   }
  },
  {
   "cell_type": "code",
   "execution_count": 104,
   "outputs": [
    {
     "data": {
      "text/plain": "   Store  Transactions\n0     25           770\n1      1          2111\n2      2          2358\n3      3          3487\n4      4          1922",
      "text/html": "<div>\n<style scoped>\n    .dataframe tbody tr th:only-of-type {\n        vertical-align: middle;\n    }\n\n    .dataframe tbody tr th {\n        vertical-align: top;\n    }\n\n    .dataframe thead th {\n        text-align: right;\n    }\n</style>\n<table border=\"1\" class=\"dataframe\">\n  <thead>\n    <tr style=\"text-align: right;\">\n      <th></th>\n      <th>Store</th>\n      <th>Transactions</th>\n    </tr>\n  </thead>\n  <tbody>\n    <tr>\n      <th>0</th>\n      <td>25</td>\n      <td>770</td>\n    </tr>\n    <tr>\n      <th>1</th>\n      <td>1</td>\n      <td>2111</td>\n    </tr>\n    <tr>\n      <th>2</th>\n      <td>2</td>\n      <td>2358</td>\n    </tr>\n    <tr>\n      <th>3</th>\n      <td>3</td>\n      <td>3487</td>\n    </tr>\n    <tr>\n      <th>4</th>\n      <td>4</td>\n      <td>1922</td>\n    </tr>\n  </tbody>\n</table>\n</div>"
     },
     "execution_count": 104,
     "metadata": {},
     "output_type": "execute_result"
    }
   ],
   "source": [
    "df.drop(\"Date\",axis=1).head()"
   ],
   "metadata": {
    "collapsed": false
   }
  },
  {
   "cell_type": "code",
   "execution_count": 106,
   "outputs": [
    {
     "name": "stdout",
     "output_type": "stream",
     "text": [
      "<class 'pandas.core.frame.DataFrame'>\n",
      "RangeIndex: 83488 entries, 0 to 83487\n",
      "Data columns (total 3 columns):\n",
      " #   Column        Non-Null Count  Dtype \n",
      "---  ------        --------------  ----- \n",
      " 0   Date          83488 non-null  object\n",
      " 1   Store         83488 non-null  int64 \n",
      " 2   Transactions  83488 non-null  int64 \n",
      "dtypes: int64(2), object(1)\n",
      "memory usage: 1.9+ MB\n"
     ]
    }
   ],
   "source": [
    "df.info()"
   ],
   "metadata": {
    "collapsed": false
   }
  },
  {
   "cell_type": "code",
   "execution_count": 112,
   "outputs": [
    {
     "data": {
      "text/plain": "         Date  Store  Transactions\n0  2013-01-01     25           770\n2  2013-01-02      2          2358\n4  2013-01-02      4          1922\n6  2013-01-02      6          2143\n8  2013-01-02      8          3250",
      "text/html": "<div>\n<style scoped>\n    .dataframe tbody tr th:only-of-type {\n        vertical-align: middle;\n    }\n\n    .dataframe tbody tr th {\n        vertical-align: top;\n    }\n\n    .dataframe thead th {\n        text-align: right;\n    }\n</style>\n<table border=\"1\" class=\"dataframe\">\n  <thead>\n    <tr style=\"text-align: right;\">\n      <th></th>\n      <th>Date</th>\n      <th>Store</th>\n      <th>Transactions</th>\n    </tr>\n  </thead>\n  <tbody>\n    <tr>\n      <th>0</th>\n      <td>2013-01-01</td>\n      <td>25</td>\n      <td>770</td>\n    </tr>\n    <tr>\n      <th>2</th>\n      <td>2013-01-02</td>\n      <td>2</td>\n      <td>2358</td>\n    </tr>\n    <tr>\n      <th>4</th>\n      <td>2013-01-02</td>\n      <td>4</td>\n      <td>1922</td>\n    </tr>\n    <tr>\n      <th>6</th>\n      <td>2013-01-02</td>\n      <td>6</td>\n      <td>2143</td>\n    </tr>\n    <tr>\n      <th>8</th>\n      <td>2013-01-02</td>\n      <td>8</td>\n      <td>3250</td>\n    </tr>\n  </tbody>\n</table>\n</div>"
     },
     "execution_count": 112,
     "metadata": {},
     "output_type": "execute_result"
    }
   ],
   "source": [
    "df.drop(range(1,100,2),axis=0).head()"
   ],
   "metadata": {
    "collapsed": false
   }
  },
  {
   "cell_type": "code",
   "execution_count": 130,
   "outputs": [
    {
     "data": {
      "text/plain": "True     81806\nFalse     1682\ndtype: int64"
     },
     "execution_count": 130,
     "metadata": {},
     "output_type": "execute_result"
    }
   ],
   "source": [
    "df.duplicated(subset=\"Date\").value_counts()"
   ],
   "metadata": {
    "collapsed": false
   }
  },
  {
   "cell_type": "code",
   "execution_count": 128,
   "outputs": [
    {
     "data": {
      "text/plain": "Date        Store  Transactions\n2013-01-01  25     770             1\n2016-01-15  1      1872            1\n2016-02-08  1      417             1\n2016-02-07  1      401             1\n2016-02-06  1      1190            1\n                                  ..\n2014-07-13  1      538             1\n2014-07-12  1      1211            1\n2014-07-11  1      1802            1\n2014-07-10  1      1665            1\n2017-08-15  1      1693            1\nLength: 1682, dtype: int64"
     },
     "execution_count": 128,
     "metadata": {},
     "output_type": "execute_result"
    }
   ],
   "source": [
    "df.drop_duplicates(subset=\"Date\")"
   ],
   "metadata": {
    "collapsed": false
   }
  },
  {
   "cell_type": "code",
   "execution_count": 124,
   "outputs": [
    {
     "data": {
      "text/plain": "            Date  Store  Transactions\n0     2013-01-01     25           770\n1     2013-01-02     54           998\n2     2013-01-03     54           920\n3     2013-01-04     54           794\n4     2013-01-05     54           949\n...          ...    ...           ...\n1677  2017-08-11     54           768\n1678  2017-08-12     54           903\n1679  2017-08-13     54          1054\n1680  2017-08-14     54           818\n1681  2017-08-15     54           802\n\n[1682 rows x 3 columns]",
      "text/html": "<div>\n<style scoped>\n    .dataframe tbody tr th:only-of-type {\n        vertical-align: middle;\n    }\n\n    .dataframe tbody tr th {\n        vertical-align: top;\n    }\n\n    .dataframe thead th {\n        text-align: right;\n    }\n</style>\n<table border=\"1\" class=\"dataframe\">\n  <thead>\n    <tr style=\"text-align: right;\">\n      <th></th>\n      <th>Date</th>\n      <th>Store</th>\n      <th>Transactions</th>\n    </tr>\n  </thead>\n  <tbody>\n    <tr>\n      <th>0</th>\n      <td>2013-01-01</td>\n      <td>25</td>\n      <td>770</td>\n    </tr>\n    <tr>\n      <th>1</th>\n      <td>2013-01-02</td>\n      <td>54</td>\n      <td>998</td>\n    </tr>\n    <tr>\n      <th>2</th>\n      <td>2013-01-03</td>\n      <td>54</td>\n      <td>920</td>\n    </tr>\n    <tr>\n      <th>3</th>\n      <td>2013-01-04</td>\n      <td>54</td>\n      <td>794</td>\n    </tr>\n    <tr>\n      <th>4</th>\n      <td>2013-01-05</td>\n      <td>54</td>\n      <td>949</td>\n    </tr>\n    <tr>\n      <th>...</th>\n      <td>...</td>\n      <td>...</td>\n      <td>...</td>\n    </tr>\n    <tr>\n      <th>1677</th>\n      <td>2017-08-11</td>\n      <td>54</td>\n      <td>768</td>\n    </tr>\n    <tr>\n      <th>1678</th>\n      <td>2017-08-12</td>\n      <td>54</td>\n      <td>903</td>\n    </tr>\n    <tr>\n      <th>1679</th>\n      <td>2017-08-13</td>\n      <td>54</td>\n      <td>1054</td>\n    </tr>\n    <tr>\n      <th>1680</th>\n      <td>2017-08-14</td>\n      <td>54</td>\n      <td>818</td>\n    </tr>\n    <tr>\n      <th>1681</th>\n      <td>2017-08-15</td>\n      <td>54</td>\n      <td>802</td>\n    </tr>\n  </tbody>\n</table>\n<p>1682 rows × 3 columns</p>\n</div>"
     },
     "execution_count": 124,
     "metadata": {},
     "output_type": "execute_result"
    }
   ],
   "source": [
    "df.drop_duplicates(subset=\"Date\",keep=\"last\",ignore_index=True)"
   ],
   "metadata": {
    "collapsed": false
   }
  },
  {
   "cell_type": "code",
   "execution_count": 126,
   "outputs": [
    {
     "data": {
      "text/plain": "Date        Store  Transactions\n2013-01-01  25     770             1\n2016-01-15  54     764             1\n2016-02-08  54     748             1\n2016-02-07  54     990             1\n2016-02-06  54     1007            1\n                                  ..\n2014-07-13  54     1062            1\n2014-07-12  54     949             1\n2014-07-11  54     753             1\n2014-07-10  54     750             1\n2017-08-15  54     802             1\nLength: 1682, dtype: int64"
     },
     "execution_count": 126,
     "metadata": {},
     "output_type": "execute_result"
    }
   ],
   "source": [
    "df.drop_duplicates(subset=\"Date\",keep=\"last\",ignore_index=True)"
   ],
   "metadata": {
    "collapsed": false
   }
  },
  {
   "cell_type": "code",
   "execution_count": 131,
   "outputs": [
    {
     "data": {
      "text/plain": "Date            0\nStore           0\nTransactions    0\ndtype: int64"
     },
     "execution_count": 131,
     "metadata": {},
     "output_type": "execute_result"
    }
   ],
   "source": [
    "df.isna().sum()"
   ],
   "metadata": {
    "collapsed": false
   }
  },
  {
   "cell_type": "code",
   "execution_count": 133,
   "outputs": [
    {
     "name": "stdout",
     "output_type": "stream",
     "text": [
      "<class 'pandas.core.frame.DataFrame'>\n",
      "RangeIndex: 83488 entries, 0 to 83487\n",
      "Data columns (total 3 columns):\n",
      " #   Column        Non-Null Count  Dtype \n",
      "---  ------        --------------  ----- \n",
      " 0   Date          83488 non-null  object\n",
      " 1   Store         83488 non-null  int64 \n",
      " 2   Transactions  83488 non-null  int64 \n",
      "dtypes: int64(2), object(1)\n",
      "memory usage: 1.9+ MB\n"
     ]
    }
   ],
   "source": [
    "df.info()"
   ],
   "metadata": {
    "collapsed": false
   }
  },
  {
   "cell_type": "code",
   "execution_count": 134,
   "outputs": [
    {
     "data": {
      "text/plain": "              Store  Transactions\ncount  83488.000000  83488.000000\nmean      26.939237   1694.602158\nstd       15.608204    963.286644\nmin        1.000000      5.000000\n25%       13.000000   1046.000000\n50%       27.000000   1393.000000\n75%       40.000000   2079.000000\nmax       54.000000   8359.000000",
      "text/html": "<div>\n<style scoped>\n    .dataframe tbody tr th:only-of-type {\n        vertical-align: middle;\n    }\n\n    .dataframe tbody tr th {\n        vertical-align: top;\n    }\n\n    .dataframe thead th {\n        text-align: right;\n    }\n</style>\n<table border=\"1\" class=\"dataframe\">\n  <thead>\n    <tr style=\"text-align: right;\">\n      <th></th>\n      <th>Store</th>\n      <th>Transactions</th>\n    </tr>\n  </thead>\n  <tbody>\n    <tr>\n      <th>count</th>\n      <td>83488.000000</td>\n      <td>83488.000000</td>\n    </tr>\n    <tr>\n      <th>mean</th>\n      <td>26.939237</td>\n      <td>1694.602158</td>\n    </tr>\n    <tr>\n      <th>std</th>\n      <td>15.608204</td>\n      <td>963.286644</td>\n    </tr>\n    <tr>\n      <th>min</th>\n      <td>1.000000</td>\n      <td>5.000000</td>\n    </tr>\n    <tr>\n      <th>25%</th>\n      <td>13.000000</td>\n      <td>1046.000000</td>\n    </tr>\n    <tr>\n      <th>50%</th>\n      <td>27.000000</td>\n      <td>1393.000000</td>\n    </tr>\n    <tr>\n      <th>75%</th>\n      <td>40.000000</td>\n      <td>2079.000000</td>\n    </tr>\n    <tr>\n      <th>max</th>\n      <td>54.000000</td>\n      <td>8359.000000</td>\n    </tr>\n  </tbody>\n</table>\n</div>"
     },
     "execution_count": 134,
     "metadata": {},
     "output_type": "execute_result"
    }
   ],
   "source": [
    "df.describe()"
   ],
   "metadata": {
    "collapsed": false
   }
  },
  {
   "cell_type": "code",
   "execution_count": 154,
   "outputs": [
    {
     "data": {
      "text/plain": "0        False\n1         True\n2         True\n3         True\n4         True\n         ...  \n83483    False\n83484    False\n83485    False\n83486    False\n83487    False\nName: Store, Length: 83488, dtype: bool"
     },
     "execution_count": 154,
     "metadata": {},
     "output_type": "execute_result"
    }
   ],
   "source": [
    "mask=df[\"Store\"].isin([28,29,30]) | df[\"Store\"].lt(5)\n",
    "mask"
   ],
   "metadata": {
    "collapsed": false
   }
  },
  {
   "cell_type": "code",
   "execution_count": 155,
   "outputs": [
    {
     "data": {
      "text/plain": "             Date  Store  Transactions\n1      2013-01-02      1          2111\n2      2013-01-02      2          2358\n3      2013-01-02      3          3487\n4      2013-01-02      4          1922\n25     2013-01-02     28           950\n...           ...    ...           ...\n83436  2017-08-15      3          2956\n83437  2017-08-15      4          1283\n83461  2017-08-15     28          1343\n83462  2017-08-15     29          1302\n83463  2017-08-15     30           825\n\n[10911 rows x 3 columns]",
      "text/html": "<div>\n<style scoped>\n    .dataframe tbody tr th:only-of-type {\n        vertical-align: middle;\n    }\n\n    .dataframe tbody tr th {\n        vertical-align: top;\n    }\n\n    .dataframe thead th {\n        text-align: right;\n    }\n</style>\n<table border=\"1\" class=\"dataframe\">\n  <thead>\n    <tr style=\"text-align: right;\">\n      <th></th>\n      <th>Date</th>\n      <th>Store</th>\n      <th>Transactions</th>\n    </tr>\n  </thead>\n  <tbody>\n    <tr>\n      <th>1</th>\n      <td>2013-01-02</td>\n      <td>1</td>\n      <td>2111</td>\n    </tr>\n    <tr>\n      <th>2</th>\n      <td>2013-01-02</td>\n      <td>2</td>\n      <td>2358</td>\n    </tr>\n    <tr>\n      <th>3</th>\n      <td>2013-01-02</td>\n      <td>3</td>\n      <td>3487</td>\n    </tr>\n    <tr>\n      <th>4</th>\n      <td>2013-01-02</td>\n      <td>4</td>\n      <td>1922</td>\n    </tr>\n    <tr>\n      <th>25</th>\n      <td>2013-01-02</td>\n      <td>28</td>\n      <td>950</td>\n    </tr>\n    <tr>\n      <th>...</th>\n      <td>...</td>\n      <td>...</td>\n      <td>...</td>\n    </tr>\n    <tr>\n      <th>83436</th>\n      <td>2017-08-15</td>\n      <td>3</td>\n      <td>2956</td>\n    </tr>\n    <tr>\n      <th>83437</th>\n      <td>2017-08-15</td>\n      <td>4</td>\n      <td>1283</td>\n    </tr>\n    <tr>\n      <th>83461</th>\n      <td>2017-08-15</td>\n      <td>28</td>\n      <td>1343</td>\n    </tr>\n    <tr>\n      <th>83462</th>\n      <td>2017-08-15</td>\n      <td>29</td>\n      <td>1302</td>\n    </tr>\n    <tr>\n      <th>83463</th>\n      <td>2017-08-15</td>\n      <td>30</td>\n      <td>825</td>\n    </tr>\n  </tbody>\n</table>\n<p>10911 rows × 3 columns</p>\n</div>"
     },
     "execution_count": 155,
     "metadata": {},
     "output_type": "execute_result"
    }
   ],
   "source": [
    "df[mask]"
   ],
   "metadata": {
    "collapsed": false
   }
  },
  {
   "cell_type": "code",
   "execution_count": 160,
   "outputs": [
    {
     "data": {
      "text/plain": "             Date  Store  Transactions\n1      2013-01-02      1          2111\n2      2013-01-02      2          2358\n3      2013-01-02      3          3487\n4      2013-01-02      4          1922\n25     2013-01-02     28           950\n...           ...    ...           ...\n83436  2017-08-15      3          2956\n83437  2017-08-15      4          1283\n83461  2017-08-15     28          1343\n83462  2017-08-15     29          1302\n83463  2017-08-15     30           825\n\n[10911 rows x 3 columns]",
      "text/html": "<div>\n<style scoped>\n    .dataframe tbody tr th:only-of-type {\n        vertical-align: middle;\n    }\n\n    .dataframe tbody tr th {\n        vertical-align: top;\n    }\n\n    .dataframe thead th {\n        text-align: right;\n    }\n</style>\n<table border=\"1\" class=\"dataframe\">\n  <thead>\n    <tr style=\"text-align: right;\">\n      <th></th>\n      <th>Date</th>\n      <th>Store</th>\n      <th>Transactions</th>\n    </tr>\n  </thead>\n  <tbody>\n    <tr>\n      <th>1</th>\n      <td>2013-01-02</td>\n      <td>1</td>\n      <td>2111</td>\n    </tr>\n    <tr>\n      <th>2</th>\n      <td>2013-01-02</td>\n      <td>2</td>\n      <td>2358</td>\n    </tr>\n    <tr>\n      <th>3</th>\n      <td>2013-01-02</td>\n      <td>3</td>\n      <td>3487</td>\n    </tr>\n    <tr>\n      <th>4</th>\n      <td>2013-01-02</td>\n      <td>4</td>\n      <td>1922</td>\n    </tr>\n    <tr>\n      <th>25</th>\n      <td>2013-01-02</td>\n      <td>28</td>\n      <td>950</td>\n    </tr>\n    <tr>\n      <th>...</th>\n      <td>...</td>\n      <td>...</td>\n      <td>...</td>\n    </tr>\n    <tr>\n      <th>83436</th>\n      <td>2017-08-15</td>\n      <td>3</td>\n      <td>2956</td>\n    </tr>\n    <tr>\n      <th>83437</th>\n      <td>2017-08-15</td>\n      <td>4</td>\n      <td>1283</td>\n    </tr>\n    <tr>\n      <th>83461</th>\n      <td>2017-08-15</td>\n      <td>28</td>\n      <td>1343</td>\n    </tr>\n    <tr>\n      <th>83462</th>\n      <td>2017-08-15</td>\n      <td>29</td>\n      <td>1302</td>\n    </tr>\n    <tr>\n      <th>83463</th>\n      <td>2017-08-15</td>\n      <td>30</td>\n      <td>825</td>\n    </tr>\n  </tbody>\n</table>\n<p>10911 rows × 3 columns</p>\n</div>"
     },
     "execution_count": 160,
     "metadata": {},
     "output_type": "execute_result"
    }
   ],
   "source": [
    "num=5\n",
    "df.query(\"Store in [28,29,30] or Store<@num\")"
   ],
   "metadata": {
    "collapsed": false
   }
  },
  {
   "cell_type": "code",
   "execution_count": null,
   "outputs": [],
   "source": [],
   "metadata": {
    "collapsed": false
   }
  }
 ],
 "metadata": {
  "kernelspec": {
   "display_name": "Python 3",
   "language": "python",
   "name": "python3"
  },
  "language_info": {
   "codemirror_mode": {
    "name": "ipython",
    "version": 2
   },
   "file_extension": ".py",
   "mimetype": "text/x-python",
   "name": "python",
   "nbconvert_exporter": "python",
   "pygments_lexer": "ipython2",
   "version": "2.7.6"
  }
 },
 "nbformat": 4,
 "nbformat_minor": 0
}
