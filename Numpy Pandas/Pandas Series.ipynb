{
 "cells": [
  {
   "cell_type": "markdown",
   "source": [
    "Pandas Series is a NumPy array with extra features"
   ],
   "metadata": {
    "collapsed": false
   }
  },
  {
   "cell_type": "code",
   "execution_count": 429,
   "outputs": [],
   "source": [
    "import numpy as np\n",
    "import pandas as pd"
   ],
   "metadata": {
    "collapsed": false
   }
  },
  {
   "cell_type": "code",
   "execution_count": 430,
   "outputs": [],
   "source": [
    "sales=[0,5,155,0,518,1827,616,317,325]"
   ],
   "metadata": {
    "collapsed": false
   }
  },
  {
   "cell_type": "code",
   "execution_count": 431,
   "outputs": [
    {
     "data": {
      "text/plain": "0       0\n1       5\n2     155\n3       0\n4     518\n5    1827\n6     616\n7     317\n8     325\nName: Sales, dtype: int64"
     },
     "execution_count": 431,
     "metadata": {},
     "output_type": "execute_result"
    }
   ],
   "source": [
    "sales_series=pd.Series(sales,name=\"Sales\")\n",
    "sales_series"
   ],
   "metadata": {
    "collapsed": false
   }
  },
  {
   "cell_type": "code",
   "execution_count": 432,
   "outputs": [
    {
     "data": {
      "text/plain": "0    0\n1    1\n2    2\n3    3\n4    4\nName: Test Array, dtype: int32"
     },
     "execution_count": 432,
     "metadata": {},
     "output_type": "execute_result"
    }
   ],
   "source": [
    "array=np.arange(5)\n",
    "series=pd.Series(array,name=\"Test Array\")\n",
    "series"
   ],
   "metadata": {
    "collapsed": false
   }
  },
  {
   "cell_type": "code",
   "execution_count": 433,
   "outputs": [
    {
     "data": {
      "text/plain": "2.0"
     },
     "execution_count": 433,
     "metadata": {},
     "output_type": "execute_result"
    }
   ],
   "source": [
    "series.values.mean()"
   ],
   "metadata": {
    "collapsed": false
   }
  },
  {
   "cell_type": "code",
   "execution_count": 434,
   "outputs": [
    {
     "data": {
      "text/plain": "2.0"
     },
     "execution_count": 434,
     "metadata": {},
     "output_type": "execute_result"
    }
   ],
   "source": [
    "series.mean()"
   ],
   "metadata": {
    "collapsed": false
   }
  },
  {
   "cell_type": "code",
   "execution_count": 435,
   "outputs": [
    {
     "data": {
      "text/plain": "RangeIndex(start=0, stop=5, step=1)"
     },
     "execution_count": 435,
     "metadata": {},
     "output_type": "execute_result"
    }
   ],
   "source": [
    "series.index"
   ],
   "metadata": {
    "collapsed": false
   }
  },
  {
   "cell_type": "code",
   "execution_count": 436,
   "outputs": [],
   "source": [
    "series.index=[10,20,30,40,50]"
   ],
   "metadata": {
    "collapsed": false
   }
  },
  {
   "cell_type": "code",
   "execution_count": 437,
   "outputs": [
    {
     "data": {
      "text/plain": "10    0\n20    1\n30    2\n40    3\n50    4\nName: Test Array, dtype: int32"
     },
     "execution_count": 437,
     "metadata": {},
     "output_type": "execute_result"
    }
   ],
   "source": [
    "series"
   ],
   "metadata": {
    "collapsed": false
   }
  },
  {
   "cell_type": "code",
   "execution_count": 438,
   "outputs": [
    {
     "data": {
      "text/plain": "10    0\n20    1\n30    2\n40    3\n50    4\nName: Nahhh, dtype: int32"
     },
     "execution_count": 438,
     "metadata": {},
     "output_type": "execute_result"
    }
   ],
   "source": [
    "series.name=\"Nahhh\"\n",
    "series"
   ],
   "metadata": {
    "collapsed": false
   }
  },
  {
   "cell_type": "code",
   "execution_count": 439,
   "outputs": [
    {
     "data": {
      "text/plain": "0       0.0\n1       5.0\n2     155.0\n3       0.0\n4     518.0\n5    1827.0\n6     616.0\n7     317.0\n8     325.0\nName: Sales, dtype: float64"
     },
     "execution_count": 439,
     "metadata": {},
     "output_type": "execute_result"
    }
   ],
   "source": [
    "sales_series.astype(\"float\")"
   ],
   "metadata": {
    "collapsed": false
   }
  },
  {
   "cell_type": "code",
   "execution_count": 440,
   "outputs": [
    {
     "data": {
      "text/plain": "0       0\n1       5\n2     155\n3       0\n4     518\n5    1827\n6     616\n7     317\n8     325\nName: Sales, dtype: string"
     },
     "execution_count": 440,
     "metadata": {},
     "output_type": "execute_result"
    }
   ],
   "source": [
    "sales_series.astype(\"string\")"
   ],
   "metadata": {
    "collapsed": false
   }
  },
  {
   "cell_type": "code",
   "execution_count": 441,
   "outputs": [
    {
     "data": {
      "text/plain": "0       0\n1       5\n2     155\n3       0\n4     518\n5    1827\n6     616\n7     317\n8     325\nName: Sales, dtype: int32"
     },
     "execution_count": 441,
     "metadata": {},
     "output_type": "execute_result"
    }
   ],
   "source": [
    "sales_series.astype(\"int\")"
   ],
   "metadata": {
    "collapsed": false
   }
  },
  {
   "cell_type": "code",
   "execution_count": 442,
   "outputs": [
    {
     "data": {
      "text/plain": "418.1111111111111"
     },
     "execution_count": 442,
     "metadata": {},
     "output_type": "execute_result"
    }
   ],
   "source": [
    "sales_series.mean()"
   ],
   "metadata": {
    "collapsed": false
   }
  },
  {
   "cell_type": "code",
   "execution_count": 443,
   "outputs": [
    {
     "data": {
      "text/plain": "317.0"
     },
     "execution_count": 443,
     "metadata": {},
     "output_type": "execute_result"
    }
   ],
   "source": [
    "sales_series.median()"
   ],
   "metadata": {
    "collapsed": false
   }
  },
  {
   "cell_type": "code",
   "execution_count": 444,
   "outputs": [],
   "source": [
    "items=[\"Coffee\",\"Latte\",\"Ice\",\"Tea\",\"Juice\",\"Candy\",\"Drinks\",\"Chips\",\"Ketchup\"]"
   ],
   "metadata": {
    "collapsed": false
   }
  },
  {
   "cell_type": "code",
   "execution_count": 445,
   "outputs": [
    {
     "data": {
      "text/plain": "Coffee        0\nLatte         5\nIce         155\nTea           0\nJuice       518\nCandy      1827\nDrinks      616\nChips       317\nKetchup     325\nName: Sales, dtype: int64"
     },
     "execution_count": 445,
     "metadata": {},
     "output_type": "execute_result"
    }
   ],
   "source": [
    "sales_series.index=items\n",
    "sales_series"
   ],
   "metadata": {
    "collapsed": false
   }
  },
  {
   "cell_type": "code",
   "execution_count": 446,
   "outputs": [
    {
     "data": {
      "text/plain": "Candy     1827\nDrinks     616\nChips      317\nName: Sales, dtype: int64"
     },
     "execution_count": 446,
     "metadata": {},
     "output_type": "execute_result"
    }
   ],
   "source": [
    "sales_series[\"Candy\":\"Chips\"]"
   ],
   "metadata": {
    "collapsed": false
   }
  },
  {
   "cell_type": "code",
   "execution_count": 447,
   "outputs": [],
   "source": [
    "sales_series.index=range(9)"
   ],
   "metadata": {
    "collapsed": false
   }
  },
  {
   "cell_type": "code",
   "execution_count": 448,
   "outputs": [
    {
     "data": {
      "text/plain": "0       0\n1       5\n2     155\n3       0\n4     518\n5    1827\n6     616\n7     317\n8     325\nName: Sales, dtype: int64"
     },
     "execution_count": 448,
     "metadata": {},
     "output_type": "execute_result"
    }
   ],
   "source": [
    "sales_series"
   ],
   "metadata": {
    "collapsed": false
   }
  },
  {
   "cell_type": "code",
   "execution_count": 449,
   "outputs": [
    {
     "data": {
      "text/plain": "1      5\n2    155\n7    317\nName: Sales, dtype: int64"
     },
     "execution_count": 449,
     "metadata": {},
     "output_type": "execute_result"
    }
   ],
   "source": [
    "sales_series.iloc[[1,2,7]]"
   ],
   "metadata": {
    "collapsed": false
   }
  },
  {
   "cell_type": "code",
   "execution_count": 450,
   "outputs": [],
   "source": [
    "sales_series.index=[\"Coffee\",\"Latte\",\"Ice\",\"Tea\",\"Juice\",\"Candy\",\"Drinks\",\"Chips\",\"Ketchup\"]"
   ],
   "metadata": {
    "collapsed": false
   }
  },
  {
   "cell_type": "code",
   "execution_count": 451,
   "outputs": [
    {
     "data": {
      "text/plain": "Latte      5\nIce      155\nTea        0\nJuice    518\nName: Sales, dtype: int64"
     },
     "execution_count": 451,
     "metadata": {},
     "output_type": "execute_result"
    }
   ],
   "source": [
    "sales_series.loc[\"Latte\":\"Juice\"]"
   ],
   "metadata": {
    "collapsed": false
   }
  },
  {
   "cell_type": "code",
   "execution_count": 452,
   "outputs": [
    {
     "data": {
      "text/plain": "Coffee        0\nLatte         5\nIce         155\nTea           0\nJuice       518\nCandy      1827\nDrinks      616\nChips       317\nKetchup     325\nName: Sales, dtype: int64"
     },
     "execution_count": 452,
     "metadata": {},
     "output_type": "execute_result"
    }
   ],
   "source": [
    "sales_series.reset_index(drop=True)\n",
    "sales_series"
   ],
   "metadata": {
    "collapsed": false
   }
  },
  {
   "cell_type": "code",
   "execution_count": 453,
   "outputs": [
    {
     "data": {
      "text/plain": "        Name  Age\n0     Nafeax   19\n1       Nexy   19\n2    Lingesh   19\n3  Pewdiepie   19",
      "text/html": "<div>\n<style scoped>\n    .dataframe tbody tr th:only-of-type {\n        vertical-align: middle;\n    }\n\n    .dataframe tbody tr th {\n        vertical-align: top;\n    }\n\n    .dataframe thead th {\n        text-align: right;\n    }\n</style>\n<table border=\"1\" class=\"dataframe\">\n  <thead>\n    <tr style=\"text-align: right;\">\n      <th></th>\n      <th>Name</th>\n      <th>Age</th>\n    </tr>\n  </thead>\n  <tbody>\n    <tr>\n      <th>0</th>\n      <td>Nafeax</td>\n      <td>19</td>\n    </tr>\n    <tr>\n      <th>1</th>\n      <td>Nexy</td>\n      <td>19</td>\n    </tr>\n    <tr>\n      <th>2</th>\n      <td>Lingesh</td>\n      <td>19</td>\n    </tr>\n    <tr>\n      <th>3</th>\n      <td>Pewdiepie</td>\n      <td>19</td>\n    </tr>\n  </tbody>\n</table>\n</div>"
     },
     "execution_count": 453,
     "metadata": {},
     "output_type": "execute_result"
    }
   ],
   "source": [
    "team=pd.DataFrame({\"Name\":[\"Nafeax\",\"Nexy\",\"Lingesh\",\"Pewdiepie\"],\"Age\":[19,19,19,19]})\n",
    "team"
   ],
   "metadata": {
    "collapsed": false
   }
  },
  {
   "cell_type": "code",
   "execution_count": 454,
   "outputs": [
    {
     "data": {
      "text/plain": "        Name  Age\n2    Lingesh   19\n3  Pewdiepie   19",
      "text/html": "<div>\n<style scoped>\n    .dataframe tbody tr th:only-of-type {\n        vertical-align: middle;\n    }\n\n    .dataframe tbody tr th {\n        vertical-align: top;\n    }\n\n    .dataframe thead th {\n        text-align: right;\n    }\n</style>\n<table border=\"1\" class=\"dataframe\">\n  <thead>\n    <tr style=\"text-align: right;\">\n      <th></th>\n      <th>Name</th>\n      <th>Age</th>\n    </tr>\n  </thead>\n  <tbody>\n    <tr>\n      <th>2</th>\n      <td>Lingesh</td>\n      <td>19</td>\n    </tr>\n    <tr>\n      <th>3</th>\n      <td>Pewdiepie</td>\n      <td>19</td>\n    </tr>\n  </tbody>\n</table>\n</div>"
     },
     "execution_count": 454,
     "metadata": {},
     "output_type": "execute_result"
    }
   ],
   "source": [
    "team.iloc[2:,:]"
   ],
   "metadata": {
    "collapsed": false
   }
  },
  {
   "cell_type": "code",
   "execution_count": 455,
   "outputs": [
    {
     "data": {
      "text/plain": "2      Lingesh\n3    Pewdiepie\nName: Name, dtype: object"
     },
     "execution_count": 455,
     "metadata": {},
     "output_type": "execute_result"
    }
   ],
   "source": [
    "team.loc[2:,\"Name\"]"
   ],
   "metadata": {
    "collapsed": false
   }
  },
  {
   "cell_type": "code",
   "execution_count": 456,
   "outputs": [
    {
     "data": {
      "text/plain": "Latte         5\nIce         155\nJuice       518\nCandy      1827\nDrinks      616\nChips       317\nKetchup     325\nName: Sales, dtype: int64"
     },
     "execution_count": 456,
     "metadata": {},
     "output_type": "execute_result"
    }
   ],
   "source": [
    "sales_series.loc[sales_series>0]"
   ],
   "metadata": {
    "collapsed": false
   }
  },
  {
   "cell_type": "code",
   "execution_count": 457,
   "outputs": [
    {
     "data": {
      "text/plain": "Coffee      True\nLatte      False\nIce        False\nTea         True\nJuice      False\nCandy      False\nDrinks     False\nChips      False\nKetchup    False\nName: Sales, dtype: bool"
     },
     "execution_count": 457,
     "metadata": {},
     "output_type": "execute_result"
    }
   ],
   "source": [
    "sales_series.eq(0)"
   ],
   "metadata": {
    "collapsed": false
   }
  },
  {
   "cell_type": "code",
   "execution_count": 458,
   "outputs": [
    {
     "data": {
      "text/plain": "Coffee     False\nLatte      False\nIce        False\nTea        False\nJuice      False\nCandy       True\nDrinks     False\nChips      False\nKetchup    False\nName: Sales, dtype: bool"
     },
     "execution_count": 458,
     "metadata": {},
     "output_type": "execute_result"
    }
   ],
   "source": [
    "sales_series.gt(1000)"
   ],
   "metadata": {
    "collapsed": false
   }
  },
  {
   "cell_type": "code",
   "execution_count": 459,
   "outputs": [
    {
     "data": {
      "text/plain": "Coffee     False\nLatte       True\nIce        False\nTea        False\nJuice      False\nCandy      False\nDrinks     False\nChips      False\nKetchup    False\nName: Sales, dtype: bool"
     },
     "execution_count": 459,
     "metadata": {},
     "output_type": "execute_result"
    }
   ],
   "source": [
    "sales_series.isin([5])"
   ],
   "metadata": {
    "collapsed": false
   }
  },
  {
   "cell_type": "code",
   "execution_count": 460,
   "outputs": [
    {
     "data": {
      "text/plain": "Coffee        0\nTea           0\nLatte         5\nIce         155\nChips       317\nKetchup     325\nJuice       518\nDrinks      616\nCandy      1827\nName: Sales, dtype: int64"
     },
     "execution_count": 460,
     "metadata": {},
     "output_type": "execute_result"
    }
   ],
   "source": [
    "sales_series.sort_values()"
   ],
   "metadata": {
    "collapsed": false
   }
  },
  {
   "cell_type": "code",
   "execution_count": 461,
   "outputs": [
    {
     "data": {
      "text/plain": "Candy      1827\nDrinks      616\nJuice       518\nKetchup     325\nChips       317\nIce         155\nLatte         5\nCoffee        0\nTea           0\nName: Sales, dtype: int64"
     },
     "execution_count": 461,
     "metadata": {},
     "output_type": "execute_result"
    }
   ],
   "source": [
    "sales_series.sort_values(ascending=False)"
   ],
   "metadata": {
    "collapsed": false
   }
  },
  {
   "cell_type": "code",
   "execution_count": 462,
   "outputs": [
    {
     "data": {
      "text/plain": "Coffee     False\nLatte      False\nIce        False\nTea        False\nJuice      False\nCandy      False\nDrinks     False\nChips      False\nKetchup    False\nName: Sales, dtype: bool"
     },
     "execution_count": 462,
     "metadata": {},
     "output_type": "execute_result"
    }
   ],
   "source": [
    "sales_series.isin([1,2])"
   ],
   "metadata": {
    "collapsed": false
   }
  },
  {
   "cell_type": "code",
   "execution_count": 463,
   "outputs": [
    {
     "data": {
      "text/plain": "0     770\n1    2111\n2    2358\n3    3487\n4    1922\nName: transactions, dtype: int64"
     },
     "execution_count": 463,
     "metadata": {},
     "output_type": "execute_result"
    }
   ],
   "source": [
    "transaction=pd.read_csv(\"transactions.csv\")\n",
    "transaction_series=pd.Series(transaction[\"transactions\"])\n",
    "transaction_series.head()"
   ],
   "metadata": {
    "collapsed": false
   }
  },
  {
   "cell_type": "code",
   "execution_count": 464,
   "outputs": [
    {
     "data": {
      "text/plain": "0.25    1046\n0.50    1393\n0.75    2079\n0.95    3712\n0.99    4862\nName: transactions, dtype: int64"
     },
     "execution_count": 464,
     "metadata": {},
     "output_type": "execute_result"
    }
   ],
   "source": [
    "transaction_series.quantile([0.25,0.50,0.75,0.95,0.99],interpolation=\"nearest\")"
   ],
   "metadata": {
    "collapsed": false
   }
  },
  {
   "cell_type": "code",
   "execution_count": 465,
   "outputs": [
    {
     "data": {
      "text/plain": "8359"
     },
     "execution_count": 465,
     "metadata": {},
     "output_type": "execute_result"
    }
   ],
   "source": [
    "transaction_series.max()"
   ],
   "metadata": {
    "collapsed": false
   }
  },
  {
   "cell_type": "code",
   "execution_count": 466,
   "outputs": [
    {
     "data": {
      "text/plain": "Coffee        0\nLatte         5\nIce         155\nTea           0\nJuice       518\nCandy      1827\nDrinks      616\nChips       317\nKetchup     325\nName: Sales, dtype: int64"
     },
     "execution_count": 466,
     "metadata": {},
     "output_type": "execute_result"
    }
   ],
   "source": [
    "sales_series"
   ],
   "metadata": {
    "collapsed": false
   }
  },
  {
   "cell_type": "code",
   "execution_count": 467,
   "outputs": [
    {
     "data": {
      "text/plain": "array([   0,    5,  155,  518, 1827,  616,  317,  325], dtype=int64)"
     },
     "execution_count": 467,
     "metadata": {},
     "output_type": "execute_result"
    }
   ],
   "source": [
    "sales_series.unique()"
   ],
   "metadata": {
    "collapsed": false
   }
  },
  {
   "cell_type": "code",
   "execution_count": 468,
   "outputs": [
    {
     "data": {
      "text/plain": "8"
     },
     "execution_count": 468,
     "metadata": {},
     "output_type": "execute_result"
    }
   ],
   "source": [
    "sales_series.nunique()"
   ],
   "metadata": {
    "collapsed": false
   }
  },
  {
   "cell_type": "code",
   "execution_count": 469,
   "outputs": [
    {
     "data": {
      "text/plain": "0       0.222222\n5       0.111111\n155     0.111111\n518     0.111111\n1827    0.111111\n616     0.111111\n317     0.111111\n325     0.111111\nName: Sales, dtype: float64"
     },
     "execution_count": 469,
     "metadata": {},
     "output_type": "execute_result"
    }
   ],
   "source": [
    "sales_series.value_counts(normalize=True)"
   ],
   "metadata": {
    "collapsed": false
   }
  },
  {
   "cell_type": "code",
   "execution_count": 470,
   "outputs": [
    {
     "data": {
      "text/plain": "0     1.0\n1    90.0\n2     2.0\n3    45.0\n4    78.0\n5     NaN\n6    89.0\nName: Sales, dtype: float64"
     },
     "execution_count": 470,
     "metadata": {},
     "output_type": "execute_result"
    }
   ],
   "source": [
    "sales=[1,90,2,45,78,np.nan,89]\n",
    "sales1=pd.Series(sales,name=\"Sales\")\n",
    "sales1"
   ],
   "metadata": {
    "collapsed": false
   }
  },
  {
   "cell_type": "code",
   "execution_count": 471,
   "outputs": [
    {
     "data": {
      "text/plain": "0    False\n1    False\n2    False\n3    False\n4    False\n5     True\n6    False\nName: Sales, dtype: bool"
     },
     "execution_count": 471,
     "metadata": {},
     "output_type": "execute_result"
    }
   ],
   "source": [
    "sales1.isna()"
   ],
   "metadata": {
    "collapsed": false
   }
  },
  {
   "cell_type": "code",
   "execution_count": 472,
   "outputs": [
    {
     "data": {
      "text/plain": "1.0     1\n90.0    1\n2.0     1\n45.0    1\n78.0    1\nNaN     1\n89.0    1\nName: Sales, dtype: int64"
     },
     "execution_count": 472,
     "metadata": {},
     "output_type": "execute_result"
    }
   ],
   "source": [
    "sales1.value_counts(dropna=False)"
   ],
   "metadata": {
    "collapsed": false
   }
  },
  {
   "cell_type": "code",
   "execution_count": 473,
   "outputs": [
    {
     "data": {
      "text/plain": "0     1.0\n1    90.0\n2     2.0\n3    45.0\n4    78.0\n5    89.0\nName: Sales, dtype: float64"
     },
     "execution_count": 473,
     "metadata": {},
     "output_type": "execute_result"
    }
   ],
   "source": [
    "sales1.dropna(inplace=True)\n",
    "sales1.reset_index(drop=True)"
   ],
   "metadata": {
    "collapsed": false
   }
  },
  {
   "cell_type": "code",
   "execution_count": 474,
   "outputs": [],
   "source": [
    "def fuc(price):\n",
    "    if price>50:\n",
    "        return round(price*0.80,2)\n",
    "    else:\n",
    "        return price"
   ],
   "metadata": {
    "collapsed": false
   }
  },
  {
   "cell_type": "code",
   "execution_count": 475,
   "outputs": [
    {
     "data": {
      "text/plain": "0     1.0\n1    72.0\n2     2.0\n3    45.0\n4    62.0\n6    71.0\nName: Sales, dtype: float64"
     },
     "execution_count": 475,
     "metadata": {},
     "output_type": "execute_result"
    }
   ],
   "source": [
    "sales1.apply(lambda x: round(x*0.80) if x>50 else x)"
   ],
   "metadata": {
    "collapsed": false
   }
  },
  {
   "cell_type": "code",
   "execution_count": 476,
   "outputs": [
    {
     "data": {
      "text/plain": "   ID       Name\n0   1    Lingesh\n1   2  Pewdiepie",
      "text/html": "<div>\n<style scoped>\n    .dataframe tbody tr th:only-of-type {\n        vertical-align: middle;\n    }\n\n    .dataframe tbody tr th {\n        vertical-align: top;\n    }\n\n    .dataframe thead th {\n        text-align: right;\n    }\n</style>\n<table border=\"1\" class=\"dataframe\">\n  <thead>\n    <tr style=\"text-align: right;\">\n      <th></th>\n      <th>ID</th>\n      <th>Name</th>\n    </tr>\n  </thead>\n  <tbody>\n    <tr>\n      <th>0</th>\n      <td>1</td>\n      <td>Lingesh</td>\n    </tr>\n    <tr>\n      <th>1</th>\n      <td>2</td>\n      <td>Pewdiepie</td>\n    </tr>\n  </tbody>\n</table>\n</div>"
     },
     "execution_count": 476,
     "metadata": {},
     "output_type": "execute_result"
    }
   ],
   "source": [
    "pd.DataFrame({\"ID\":[1,2],\"Name\":[\"Lingesh\",\"Pewdiepie\"]})"
   ],
   "metadata": {
    "collapsed": false
   }
  },
  {
   "cell_type": "code",
   "execution_count": 477,
   "outputs": [
    {
     "data": {
      "text/plain": "         date  store_nbr  transactions\n0  2013-01-01         25           770\n1  2013-01-02          1          2111\n2  2013-01-02          2          2358\n3  2013-01-02          3          3487\n4  2013-01-02          4          1922",
      "text/html": "<div>\n<style scoped>\n    .dataframe tbody tr th:only-of-type {\n        vertical-align: middle;\n    }\n\n    .dataframe tbody tr th {\n        vertical-align: top;\n    }\n\n    .dataframe thead th {\n        text-align: right;\n    }\n</style>\n<table border=\"1\" class=\"dataframe\">\n  <thead>\n    <tr style=\"text-align: right;\">\n      <th></th>\n      <th>date</th>\n      <th>store_nbr</th>\n      <th>transactions</th>\n    </tr>\n  </thead>\n  <tbody>\n    <tr>\n      <th>0</th>\n      <td>2013-01-01</td>\n      <td>25</td>\n      <td>770</td>\n    </tr>\n    <tr>\n      <th>1</th>\n      <td>2013-01-02</td>\n      <td>1</td>\n      <td>2111</td>\n    </tr>\n    <tr>\n      <th>2</th>\n      <td>2013-01-02</td>\n      <td>2</td>\n      <td>2358</td>\n    </tr>\n    <tr>\n      <th>3</th>\n      <td>2013-01-02</td>\n      <td>3</td>\n      <td>3487</td>\n    </tr>\n    <tr>\n      <th>4</th>\n      <td>2013-01-02</td>\n      <td>4</td>\n      <td>1922</td>\n    </tr>\n  </tbody>\n</table>\n</div>"
     },
     "execution_count": 477,
     "metadata": {},
     "output_type": "execute_result"
    }
   ],
   "source": [
    "df=pd.read_csv(\"transactions.csv\")\n",
    "df.head()"
   ],
   "metadata": {
    "collapsed": false
   }
  },
  {
   "cell_type": "code",
   "execution_count": 478,
   "outputs": [
    {
     "data": {
      "text/plain": "             date  store_nbr  transactions\n83483  2017-08-15         50          2804\n83484  2017-08-15         51          1573\n83485  2017-08-15         52          2255\n83486  2017-08-15         53           932\n83487  2017-08-15         54           802",
      "text/html": "<div>\n<style scoped>\n    .dataframe tbody tr th:only-of-type {\n        vertical-align: middle;\n    }\n\n    .dataframe tbody tr th {\n        vertical-align: top;\n    }\n\n    .dataframe thead th {\n        text-align: right;\n    }\n</style>\n<table border=\"1\" class=\"dataframe\">\n  <thead>\n    <tr style=\"text-align: right;\">\n      <th></th>\n      <th>date</th>\n      <th>store_nbr</th>\n      <th>transactions</th>\n    </tr>\n  </thead>\n  <tbody>\n    <tr>\n      <th>83483</th>\n      <td>2017-08-15</td>\n      <td>50</td>\n      <td>2804</td>\n    </tr>\n    <tr>\n      <th>83484</th>\n      <td>2017-08-15</td>\n      <td>51</td>\n      <td>1573</td>\n    </tr>\n    <tr>\n      <th>83485</th>\n      <td>2017-08-15</td>\n      <td>52</td>\n      <td>2255</td>\n    </tr>\n    <tr>\n      <th>83486</th>\n      <td>2017-08-15</td>\n      <td>53</td>\n      <td>932</td>\n    </tr>\n    <tr>\n      <th>83487</th>\n      <td>2017-08-15</td>\n      <td>54</td>\n      <td>802</td>\n    </tr>\n  </tbody>\n</table>\n</div>"
     },
     "execution_count": 478,
     "metadata": {},
     "output_type": "execute_result"
    }
   ],
   "source": [
    "df.tail()"
   ],
   "metadata": {
    "collapsed": false
   }
  },
  {
   "cell_type": "code",
   "execution_count": 479,
   "outputs": [
    {
     "name": "stdout",
     "output_type": "stream",
     "text": [
      "<class 'pandas.core.frame.DataFrame'>\n",
      "RangeIndex: 83488 entries, 0 to 83487\n",
      "Data columns (total 3 columns):\n",
      " #   Column        Non-Null Count  Dtype \n",
      "---  ------        --------------  ----- \n",
      " 0   date          83488 non-null  object\n",
      " 1   store_nbr     83488 non-null  int64 \n",
      " 2   transactions  83488 non-null  int64 \n",
      "dtypes: int64(2), object(1)\n",
      "memory usage: 1.9+ MB\n"
     ]
    }
   ],
   "source": [
    "df.info()"
   ],
   "metadata": {
    "collapsed": false
   }
  },
  {
   "cell_type": "code",
   "execution_count": 480,
   "outputs": [
    {
     "data": {
      "text/plain": "             date  store_nbr  transactions\n32761  2014-12-04         12          1188\n38084  2015-03-26          7          1585\n37585  2015-03-16          4          1318\n42243  2015-06-18         28          1052\n11962  2013-09-16         41           794",
      "text/html": "<div>\n<style scoped>\n    .dataframe tbody tr th:only-of-type {\n        vertical-align: middle;\n    }\n\n    .dataframe tbody tr th {\n        vertical-align: top;\n    }\n\n    .dataframe thead th {\n        text-align: right;\n    }\n</style>\n<table border=\"1\" class=\"dataframe\">\n  <thead>\n    <tr style=\"text-align: right;\">\n      <th></th>\n      <th>date</th>\n      <th>store_nbr</th>\n      <th>transactions</th>\n    </tr>\n  </thead>\n  <tbody>\n    <tr>\n      <th>32761</th>\n      <td>2014-12-04</td>\n      <td>12</td>\n      <td>1188</td>\n    </tr>\n    <tr>\n      <th>38084</th>\n      <td>2015-03-26</td>\n      <td>7</td>\n      <td>1585</td>\n    </tr>\n    <tr>\n      <th>37585</th>\n      <td>2015-03-16</td>\n      <td>4</td>\n      <td>1318</td>\n    </tr>\n    <tr>\n      <th>42243</th>\n      <td>2015-06-18</td>\n      <td>28</td>\n      <td>1052</td>\n    </tr>\n    <tr>\n      <th>11962</th>\n      <td>2013-09-16</td>\n      <td>41</td>\n      <td>794</td>\n    </tr>\n  </tbody>\n</table>\n</div>"
     },
     "execution_count": 480,
     "metadata": {},
     "output_type": "execute_result"
    }
   ],
   "source": [
    "df.sample(5)"
   ],
   "metadata": {
    "collapsed": false
   }
  },
  {
   "cell_type": "code",
   "execution_count": 481,
   "outputs": [
    {
     "data": {
      "text/plain": "              date     store_nbr  transactions\ncount        83488  83488.000000  83488.000000\nunique        1682           NaN           NaN\ntop     2017-08-15           NaN           NaN\nfreq            54           NaN           NaN\nmean           NaN     26.939237   1694.602158\nstd            NaN     15.608204    963.286644\nmin            NaN      1.000000      5.000000\n25%            NaN     13.000000   1046.000000\n50%            NaN     27.000000   1393.000000\n75%            NaN     40.000000   2079.000000\nmax            NaN     54.000000   8359.000000",
      "text/html": "<div>\n<style scoped>\n    .dataframe tbody tr th:only-of-type {\n        vertical-align: middle;\n    }\n\n    .dataframe tbody tr th {\n        vertical-align: top;\n    }\n\n    .dataframe thead th {\n        text-align: right;\n    }\n</style>\n<table border=\"1\" class=\"dataframe\">\n  <thead>\n    <tr style=\"text-align: right;\">\n      <th></th>\n      <th>date</th>\n      <th>store_nbr</th>\n      <th>transactions</th>\n    </tr>\n  </thead>\n  <tbody>\n    <tr>\n      <th>count</th>\n      <td>83488</td>\n      <td>83488.000000</td>\n      <td>83488.000000</td>\n    </tr>\n    <tr>\n      <th>unique</th>\n      <td>1682</td>\n      <td>NaN</td>\n      <td>NaN</td>\n    </tr>\n    <tr>\n      <th>top</th>\n      <td>2017-08-15</td>\n      <td>NaN</td>\n      <td>NaN</td>\n    </tr>\n    <tr>\n      <th>freq</th>\n      <td>54</td>\n      <td>NaN</td>\n      <td>NaN</td>\n    </tr>\n    <tr>\n      <th>mean</th>\n      <td>NaN</td>\n      <td>26.939237</td>\n      <td>1694.602158</td>\n    </tr>\n    <tr>\n      <th>std</th>\n      <td>NaN</td>\n      <td>15.608204</td>\n      <td>963.286644</td>\n    </tr>\n    <tr>\n      <th>min</th>\n      <td>NaN</td>\n      <td>1.000000</td>\n      <td>5.000000</td>\n    </tr>\n    <tr>\n      <th>25%</th>\n      <td>NaN</td>\n      <td>13.000000</td>\n      <td>1046.000000</td>\n    </tr>\n    <tr>\n      <th>50%</th>\n      <td>NaN</td>\n      <td>27.000000</td>\n      <td>1393.000000</td>\n    </tr>\n    <tr>\n      <th>75%</th>\n      <td>NaN</td>\n      <td>40.000000</td>\n      <td>2079.000000</td>\n    </tr>\n    <tr>\n      <th>max</th>\n      <td>NaN</td>\n      <td>54.000000</td>\n      <td>8359.000000</td>\n    </tr>\n  </tbody>\n</table>\n</div>"
     },
     "execution_count": 481,
     "metadata": {},
     "output_type": "execute_result"
    }
   ],
   "source": [
    "df.describe(include=\"all\")"
   ],
   "metadata": {
    "collapsed": false
   }
  },
  {
   "cell_type": "code",
   "execution_count": 482,
   "outputs": [
    {
     "data": {
      "text/plain": "             date  store_nbr\n0      2013-01-01         25\n1      2013-01-02          1\n2      2013-01-02          2\n3      2013-01-02          3\n4      2013-01-02          4\n...           ...        ...\n83483  2017-08-15         50\n83484  2017-08-15         51\n83485  2017-08-15         52\n83486  2017-08-15         53\n83487  2017-08-15         54\n\n[83488 rows x 2 columns]",
      "text/html": "<div>\n<style scoped>\n    .dataframe tbody tr th:only-of-type {\n        vertical-align: middle;\n    }\n\n    .dataframe tbody tr th {\n        vertical-align: top;\n    }\n\n    .dataframe thead th {\n        text-align: right;\n    }\n</style>\n<table border=\"1\" class=\"dataframe\">\n  <thead>\n    <tr style=\"text-align: right;\">\n      <th></th>\n      <th>date</th>\n      <th>store_nbr</th>\n    </tr>\n  </thead>\n  <tbody>\n    <tr>\n      <th>0</th>\n      <td>2013-01-01</td>\n      <td>25</td>\n    </tr>\n    <tr>\n      <th>1</th>\n      <td>2013-01-02</td>\n      <td>1</td>\n    </tr>\n    <tr>\n      <th>2</th>\n      <td>2013-01-02</td>\n      <td>2</td>\n    </tr>\n    <tr>\n      <th>3</th>\n      <td>2013-01-02</td>\n      <td>3</td>\n    </tr>\n    <tr>\n      <th>4</th>\n      <td>2013-01-02</td>\n      <td>4</td>\n    </tr>\n    <tr>\n      <th>...</th>\n      <td>...</td>\n      <td>...</td>\n    </tr>\n    <tr>\n      <th>83483</th>\n      <td>2017-08-15</td>\n      <td>50</td>\n    </tr>\n    <tr>\n      <th>83484</th>\n      <td>2017-08-15</td>\n      <td>51</td>\n    </tr>\n    <tr>\n      <th>83485</th>\n      <td>2017-08-15</td>\n      <td>52</td>\n    </tr>\n    <tr>\n      <th>83486</th>\n      <td>2017-08-15</td>\n      <td>53</td>\n    </tr>\n    <tr>\n      <th>83487</th>\n      <td>2017-08-15</td>\n      <td>54</td>\n    </tr>\n  </tbody>\n</table>\n<p>83488 rows × 2 columns</p>\n</div>"
     },
     "execution_count": 482,
     "metadata": {},
     "output_type": "execute_result"
    }
   ],
   "source": [
    "df[[\"date\",\"store_nbr\"]]"
   ],
   "metadata": {
    "collapsed": false
   }
  },
  {
   "cell_type": "code",
   "execution_count": 483,
   "outputs": [
    {
     "data": {
      "text/plain": "0        25\n1         1\n2         2\n3         3\n4         4\n         ..\n83483    50\n83484    51\n83485    52\n83486    53\n83487    54\nName: store_nbr, Length: 83488, dtype: int64"
     },
     "execution_count": 483,
     "metadata": {},
     "output_type": "execute_result"
    }
   ],
   "source": [
    "df.store_nbr"
   ],
   "metadata": {
    "collapsed": false
   }
  },
  {
   "cell_type": "code",
   "execution_count": 484,
   "outputs": [
    {
     "data": {
      "text/plain": "1682"
     },
     "execution_count": 484,
     "metadata": {},
     "output_type": "execute_result"
    }
   ],
   "source": [
    "df[\"date\"].nunique()"
   ],
   "metadata": {
    "collapsed": false
   }
  },
  {
   "cell_type": "code",
   "execution_count": 485,
   "outputs": [
    {
     "data": {
      "text/plain": "2017-08-15    54\n2017-06-02    54\n2017-05-21    54\n2017-05-22    54\n2017-05-23    54\n              ..\n2016-01-04    14\n2014-01-01     2\n2017-01-01     1\n2015-01-01     1\n2013-01-01     1\nName: date, Length: 1682, dtype: int64"
     },
     "execution_count": 485,
     "metadata": {},
     "output_type": "execute_result"
    }
   ],
   "source": [
    "df[\"date\"].value_counts()"
   ],
   "metadata": {
    "collapsed": false
   }
  },
  {
   "cell_type": "code",
   "execution_count": 486,
   "outputs": [
    {
     "data": {
      "text/plain": "Index(['date', 'store_nbr', 'transactions'], dtype='object')"
     },
     "execution_count": 486,
     "metadata": {},
     "output_type": "execute_result"
    }
   ],
   "source": [
    "df.columns"
   ],
   "metadata": {
    "collapsed": false
   }
  },
  {
   "cell_type": "code",
   "execution_count": 487,
   "outputs": [],
   "source": [
    "df.columns=[\"Date\",\"Store\",\"Transactions\"]"
   ],
   "metadata": {
    "collapsed": false
   }
  },
  {
   "cell_type": "code",
   "execution_count": 488,
   "outputs": [
    {
     "data": {
      "text/plain": "Index(['Date', 'Store', 'Transactions'], dtype='object')"
     },
     "execution_count": 488,
     "metadata": {},
     "output_type": "execute_result"
    }
   ],
   "source": [
    "df.columns"
   ],
   "metadata": {
    "collapsed": false
   }
  },
  {
   "cell_type": "code",
   "execution_count": 489,
   "outputs": [
    {
     "data": {
      "text/plain": "             Date  Store\n3      2013-01-02      3\n4      2013-01-02      4\n5      2013-01-02      5\n6      2013-01-02      6\n7      2013-01-02      7\n...           ...    ...\n83483  2017-08-15     50\n83484  2017-08-15     51\n83485  2017-08-15     52\n83486  2017-08-15     53\n83487  2017-08-15     54\n\n[83485 rows x 2 columns]",
      "text/html": "<div>\n<style scoped>\n    .dataframe tbody tr th:only-of-type {\n        vertical-align: middle;\n    }\n\n    .dataframe tbody tr th {\n        vertical-align: top;\n    }\n\n    .dataframe thead th {\n        text-align: right;\n    }\n</style>\n<table border=\"1\" class=\"dataframe\">\n  <thead>\n    <tr style=\"text-align: right;\">\n      <th></th>\n      <th>Date</th>\n      <th>Store</th>\n    </tr>\n  </thead>\n  <tbody>\n    <tr>\n      <th>3</th>\n      <td>2013-01-02</td>\n      <td>3</td>\n    </tr>\n    <tr>\n      <th>4</th>\n      <td>2013-01-02</td>\n      <td>4</td>\n    </tr>\n    <tr>\n      <th>5</th>\n      <td>2013-01-02</td>\n      <td>5</td>\n    </tr>\n    <tr>\n      <th>6</th>\n      <td>2013-01-02</td>\n      <td>6</td>\n    </tr>\n    <tr>\n      <th>7</th>\n      <td>2013-01-02</td>\n      <td>7</td>\n    </tr>\n    <tr>\n      <th>...</th>\n      <td>...</td>\n      <td>...</td>\n    </tr>\n    <tr>\n      <th>83483</th>\n      <td>2017-08-15</td>\n      <td>50</td>\n    </tr>\n    <tr>\n      <th>83484</th>\n      <td>2017-08-15</td>\n      <td>51</td>\n    </tr>\n    <tr>\n      <th>83485</th>\n      <td>2017-08-15</td>\n      <td>52</td>\n    </tr>\n    <tr>\n      <th>83486</th>\n      <td>2017-08-15</td>\n      <td>53</td>\n    </tr>\n    <tr>\n      <th>83487</th>\n      <td>2017-08-15</td>\n      <td>54</td>\n    </tr>\n  </tbody>\n</table>\n<p>83485 rows × 2 columns</p>\n</div>"
     },
     "execution_count": 489,
     "metadata": {},
     "output_type": "execute_result"
    }
   ],
   "source": [
    "df.iloc[3:,:2]"
   ],
   "metadata": {
    "collapsed": false
   }
  },
  {
   "cell_type": "code",
   "execution_count": 490,
   "outputs": [
    {
     "data": {
      "text/plain": "             Date  Transactions\n5      2013-01-02          1903\n6      2013-01-02          2143\n7      2013-01-02          1874\n8      2013-01-02          3250\n9      2013-01-02          2940\n...           ...           ...\n83483  2017-08-15          2804\n83484  2017-08-15          1573\n83485  2017-08-15          2255\n83486  2017-08-15           932\n83487  2017-08-15           802\n\n[83483 rows x 2 columns]",
      "text/html": "<div>\n<style scoped>\n    .dataframe tbody tr th:only-of-type {\n        vertical-align: middle;\n    }\n\n    .dataframe tbody tr th {\n        vertical-align: top;\n    }\n\n    .dataframe thead th {\n        text-align: right;\n    }\n</style>\n<table border=\"1\" class=\"dataframe\">\n  <thead>\n    <tr style=\"text-align: right;\">\n      <th></th>\n      <th>Date</th>\n      <th>Transactions</th>\n    </tr>\n  </thead>\n  <tbody>\n    <tr>\n      <th>5</th>\n      <td>2013-01-02</td>\n      <td>1903</td>\n    </tr>\n    <tr>\n      <th>6</th>\n      <td>2013-01-02</td>\n      <td>2143</td>\n    </tr>\n    <tr>\n      <th>7</th>\n      <td>2013-01-02</td>\n      <td>1874</td>\n    </tr>\n    <tr>\n      <th>8</th>\n      <td>2013-01-02</td>\n      <td>3250</td>\n    </tr>\n    <tr>\n      <th>9</th>\n      <td>2013-01-02</td>\n      <td>2940</td>\n    </tr>\n    <tr>\n      <th>...</th>\n      <td>...</td>\n      <td>...</td>\n    </tr>\n    <tr>\n      <th>83483</th>\n      <td>2017-08-15</td>\n      <td>2804</td>\n    </tr>\n    <tr>\n      <th>83484</th>\n      <td>2017-08-15</td>\n      <td>1573</td>\n    </tr>\n    <tr>\n      <th>83485</th>\n      <td>2017-08-15</td>\n      <td>2255</td>\n    </tr>\n    <tr>\n      <th>83486</th>\n      <td>2017-08-15</td>\n      <td>932</td>\n    </tr>\n    <tr>\n      <th>83487</th>\n      <td>2017-08-15</td>\n      <td>802</td>\n    </tr>\n  </tbody>\n</table>\n<p>83483 rows × 2 columns</p>\n</div>"
     },
     "execution_count": 490,
     "metadata": {},
     "output_type": "execute_result"
    }
   ],
   "source": [
    "df.loc[5:,[\"Date\",\"Transactions\"]]"
   ],
   "metadata": {
    "collapsed": false
   }
  },
  {
   "cell_type": "code",
   "execution_count": 491,
   "outputs": [
    {
     "data": {
      "text/plain": "         Date  Store  Transactions\n0  2013-01-01     25           770\n1  2013-01-02      1          2111\n2  2013-01-02      2          2358\n3  2013-01-02      3          3487\n4  2013-01-02      4          1922",
      "text/html": "<div>\n<style scoped>\n    .dataframe tbody tr th:only-of-type {\n        vertical-align: middle;\n    }\n\n    .dataframe tbody tr th {\n        vertical-align: top;\n    }\n\n    .dataframe thead th {\n        text-align: right;\n    }\n</style>\n<table border=\"1\" class=\"dataframe\">\n  <thead>\n    <tr style=\"text-align: right;\">\n      <th></th>\n      <th>Date</th>\n      <th>Store</th>\n      <th>Transactions</th>\n    </tr>\n  </thead>\n  <tbody>\n    <tr>\n      <th>0</th>\n      <td>2013-01-01</td>\n      <td>25</td>\n      <td>770</td>\n    </tr>\n    <tr>\n      <th>1</th>\n      <td>2013-01-02</td>\n      <td>1</td>\n      <td>2111</td>\n    </tr>\n    <tr>\n      <th>2</th>\n      <td>2013-01-02</td>\n      <td>2</td>\n      <td>2358</td>\n    </tr>\n    <tr>\n      <th>3</th>\n      <td>2013-01-02</td>\n      <td>3</td>\n      <td>3487</td>\n    </tr>\n    <tr>\n      <th>4</th>\n      <td>2013-01-02</td>\n      <td>4</td>\n      <td>1922</td>\n    </tr>\n  </tbody>\n</table>\n</div>"
     },
     "execution_count": 491,
     "metadata": {},
     "output_type": "execute_result"
    }
   ],
   "source": [
    "df.head()"
   ],
   "metadata": {
    "collapsed": false
   }
  },
  {
   "cell_type": "code",
   "execution_count": 492,
   "outputs": [
    {
     "data": {
      "text/plain": "       Store  Transactions\n0         25           770\n1          1          2111\n2          2          2358\n3          3          3487\n4          4          1922\n...      ...           ...\n83483     50          2804\n83484     51          1573\n83485     52          2255\n83486     53           932\n83487     54           802\n\n[83488 rows x 2 columns]",
      "text/html": "<div>\n<style scoped>\n    .dataframe tbody tr th:only-of-type {\n        vertical-align: middle;\n    }\n\n    .dataframe tbody tr th {\n        vertical-align: top;\n    }\n\n    .dataframe thead th {\n        text-align: right;\n    }\n</style>\n<table border=\"1\" class=\"dataframe\">\n  <thead>\n    <tr style=\"text-align: right;\">\n      <th></th>\n      <th>Store</th>\n      <th>Transactions</th>\n    </tr>\n  </thead>\n  <tbody>\n    <tr>\n      <th>0</th>\n      <td>25</td>\n      <td>770</td>\n    </tr>\n    <tr>\n      <th>1</th>\n      <td>1</td>\n      <td>2111</td>\n    </tr>\n    <tr>\n      <th>2</th>\n      <td>2</td>\n      <td>2358</td>\n    </tr>\n    <tr>\n      <th>3</th>\n      <td>3</td>\n      <td>3487</td>\n    </tr>\n    <tr>\n      <th>4</th>\n      <td>4</td>\n      <td>1922</td>\n    </tr>\n    <tr>\n      <th>...</th>\n      <td>...</td>\n      <td>...</td>\n    </tr>\n    <tr>\n      <th>83483</th>\n      <td>50</td>\n      <td>2804</td>\n    </tr>\n    <tr>\n      <th>83484</th>\n      <td>51</td>\n      <td>1573</td>\n    </tr>\n    <tr>\n      <th>83485</th>\n      <td>52</td>\n      <td>2255</td>\n    </tr>\n    <tr>\n      <th>83486</th>\n      <td>53</td>\n      <td>932</td>\n    </tr>\n    <tr>\n      <th>83487</th>\n      <td>54</td>\n      <td>802</td>\n    </tr>\n  </tbody>\n</table>\n<p>83488 rows × 2 columns</p>\n</div>"
     },
     "execution_count": 492,
     "metadata": {},
     "output_type": "execute_result"
    }
   ],
   "source": [
    "df.loc[:,[\"Store\",\"Transactions\"]]"
   ],
   "metadata": {
    "collapsed": false
   }
  },
  {
   "cell_type": "code",
   "execution_count": 493,
   "outputs": [
    {
     "name": "stdout",
     "output_type": "stream",
     "text": [
      "<class 'pandas.core.frame.DataFrame'>\n",
      "RangeIndex: 83488 entries, 0 to 83487\n",
      "Data columns (total 2 columns):\n",
      " #   Column        Non-Null Count  Dtype\n",
      "---  ------        --------------  -----\n",
      " 0   Store         83488 non-null  int64\n",
      " 1   Transactions  83488 non-null  int64\n",
      "dtypes: int64(2)\n",
      "memory usage: 1.3 MB\n"
     ]
    }
   ],
   "source": [
    "df.loc[:,[\"Store\",\"Transactions\"]].info()"
   ],
   "metadata": {
    "collapsed": false
   }
  },
  {
   "cell_type": "code",
   "execution_count": 494,
   "outputs": [
    {
     "data": {
      "text/plain": "   Store  Transactions\n0     25           770\n1      1          2111\n2      2          2358\n3      3          3487\n4      4          1922",
      "text/html": "<div>\n<style scoped>\n    .dataframe tbody tr th:only-of-type {\n        vertical-align: middle;\n    }\n\n    .dataframe tbody tr th {\n        vertical-align: top;\n    }\n\n    .dataframe thead th {\n        text-align: right;\n    }\n</style>\n<table border=\"1\" class=\"dataframe\">\n  <thead>\n    <tr style=\"text-align: right;\">\n      <th></th>\n      <th>Store</th>\n      <th>Transactions</th>\n    </tr>\n  </thead>\n  <tbody>\n    <tr>\n      <th>0</th>\n      <td>25</td>\n      <td>770</td>\n    </tr>\n    <tr>\n      <th>1</th>\n      <td>1</td>\n      <td>2111</td>\n    </tr>\n    <tr>\n      <th>2</th>\n      <td>2</td>\n      <td>2358</td>\n    </tr>\n    <tr>\n      <th>3</th>\n      <td>3</td>\n      <td>3487</td>\n    </tr>\n    <tr>\n      <th>4</th>\n      <td>4</td>\n      <td>1922</td>\n    </tr>\n  </tbody>\n</table>\n</div>"
     },
     "execution_count": 494,
     "metadata": {},
     "output_type": "execute_result"
    }
   ],
   "source": [
    "df.drop(\"Date\",axis=1).head()"
   ],
   "metadata": {
    "collapsed": false
   }
  },
  {
   "cell_type": "code",
   "execution_count": 495,
   "outputs": [
    {
     "name": "stdout",
     "output_type": "stream",
     "text": [
      "<class 'pandas.core.frame.DataFrame'>\n",
      "RangeIndex: 83488 entries, 0 to 83487\n",
      "Data columns (total 3 columns):\n",
      " #   Column        Non-Null Count  Dtype \n",
      "---  ------        --------------  ----- \n",
      " 0   Date          83488 non-null  object\n",
      " 1   Store         83488 non-null  int64 \n",
      " 2   Transactions  83488 non-null  int64 \n",
      "dtypes: int64(2), object(1)\n",
      "memory usage: 1.9+ MB\n"
     ]
    }
   ],
   "source": [
    "df.info()"
   ],
   "metadata": {
    "collapsed": false
   }
  },
  {
   "cell_type": "code",
   "execution_count": 496,
   "outputs": [
    {
     "data": {
      "text/plain": "         Date  Store  Transactions\n0  2013-01-01     25           770\n2  2013-01-02      2          2358\n4  2013-01-02      4          1922\n6  2013-01-02      6          2143\n8  2013-01-02      8          3250",
      "text/html": "<div>\n<style scoped>\n    .dataframe tbody tr th:only-of-type {\n        vertical-align: middle;\n    }\n\n    .dataframe tbody tr th {\n        vertical-align: top;\n    }\n\n    .dataframe thead th {\n        text-align: right;\n    }\n</style>\n<table border=\"1\" class=\"dataframe\">\n  <thead>\n    <tr style=\"text-align: right;\">\n      <th></th>\n      <th>Date</th>\n      <th>Store</th>\n      <th>Transactions</th>\n    </tr>\n  </thead>\n  <tbody>\n    <tr>\n      <th>0</th>\n      <td>2013-01-01</td>\n      <td>25</td>\n      <td>770</td>\n    </tr>\n    <tr>\n      <th>2</th>\n      <td>2013-01-02</td>\n      <td>2</td>\n      <td>2358</td>\n    </tr>\n    <tr>\n      <th>4</th>\n      <td>2013-01-02</td>\n      <td>4</td>\n      <td>1922</td>\n    </tr>\n    <tr>\n      <th>6</th>\n      <td>2013-01-02</td>\n      <td>6</td>\n      <td>2143</td>\n    </tr>\n    <tr>\n      <th>8</th>\n      <td>2013-01-02</td>\n      <td>8</td>\n      <td>3250</td>\n    </tr>\n  </tbody>\n</table>\n</div>"
     },
     "execution_count": 496,
     "metadata": {},
     "output_type": "execute_result"
    }
   ],
   "source": [
    "df.drop(range(1,100,2),axis=0).head()"
   ],
   "metadata": {
    "collapsed": false
   }
  },
  {
   "cell_type": "code",
   "execution_count": 497,
   "outputs": [
    {
     "data": {
      "text/plain": "True     81806\nFalse     1682\ndtype: int64"
     },
     "execution_count": 497,
     "metadata": {},
     "output_type": "execute_result"
    }
   ],
   "source": [
    "df.duplicated(subset=\"Date\").value_counts()"
   ],
   "metadata": {
    "collapsed": false
   }
  },
  {
   "cell_type": "code",
   "execution_count": 498,
   "outputs": [
    {
     "data": {
      "text/plain": "             Date  Store  Transactions\n0      2013-01-01     25           770\n1      2013-01-02      1          2111\n47     2013-01-03      1          1833\n93     2013-01-04      1          1863\n139    2013-01-05      1          1509\n...           ...    ...           ...\n83218  2017-08-11      1           570\n83272  2017-08-12      1          1004\n83326  2017-08-13      1           416\n83380  2017-08-14      1          1733\n83434  2017-08-15      1          1693\n\n[1682 rows x 3 columns]",
      "text/html": "<div>\n<style scoped>\n    .dataframe tbody tr th:only-of-type {\n        vertical-align: middle;\n    }\n\n    .dataframe tbody tr th {\n        vertical-align: top;\n    }\n\n    .dataframe thead th {\n        text-align: right;\n    }\n</style>\n<table border=\"1\" class=\"dataframe\">\n  <thead>\n    <tr style=\"text-align: right;\">\n      <th></th>\n      <th>Date</th>\n      <th>Store</th>\n      <th>Transactions</th>\n    </tr>\n  </thead>\n  <tbody>\n    <tr>\n      <th>0</th>\n      <td>2013-01-01</td>\n      <td>25</td>\n      <td>770</td>\n    </tr>\n    <tr>\n      <th>1</th>\n      <td>2013-01-02</td>\n      <td>1</td>\n      <td>2111</td>\n    </tr>\n    <tr>\n      <th>47</th>\n      <td>2013-01-03</td>\n      <td>1</td>\n      <td>1833</td>\n    </tr>\n    <tr>\n      <th>93</th>\n      <td>2013-01-04</td>\n      <td>1</td>\n      <td>1863</td>\n    </tr>\n    <tr>\n      <th>139</th>\n      <td>2013-01-05</td>\n      <td>1</td>\n      <td>1509</td>\n    </tr>\n    <tr>\n      <th>...</th>\n      <td>...</td>\n      <td>...</td>\n      <td>...</td>\n    </tr>\n    <tr>\n      <th>83218</th>\n      <td>2017-08-11</td>\n      <td>1</td>\n      <td>570</td>\n    </tr>\n    <tr>\n      <th>83272</th>\n      <td>2017-08-12</td>\n      <td>1</td>\n      <td>1004</td>\n    </tr>\n    <tr>\n      <th>83326</th>\n      <td>2017-08-13</td>\n      <td>1</td>\n      <td>416</td>\n    </tr>\n    <tr>\n      <th>83380</th>\n      <td>2017-08-14</td>\n      <td>1</td>\n      <td>1733</td>\n    </tr>\n    <tr>\n      <th>83434</th>\n      <td>2017-08-15</td>\n      <td>1</td>\n      <td>1693</td>\n    </tr>\n  </tbody>\n</table>\n<p>1682 rows × 3 columns</p>\n</div>"
     },
     "execution_count": 498,
     "metadata": {},
     "output_type": "execute_result"
    }
   ],
   "source": [
    "df.drop_duplicates(subset=\"Date\")"
   ],
   "metadata": {
    "collapsed": false
   }
  },
  {
   "cell_type": "code",
   "execution_count": 499,
   "outputs": [
    {
     "data": {
      "text/plain": "            Date  Store  Transactions\n0     2013-01-01     25           770\n1     2013-01-02     54           998\n2     2013-01-03     54           920\n3     2013-01-04     54           794\n4     2013-01-05     54           949\n...          ...    ...           ...\n1677  2017-08-11     54           768\n1678  2017-08-12     54           903\n1679  2017-08-13     54          1054\n1680  2017-08-14     54           818\n1681  2017-08-15     54           802\n\n[1682 rows x 3 columns]",
      "text/html": "<div>\n<style scoped>\n    .dataframe tbody tr th:only-of-type {\n        vertical-align: middle;\n    }\n\n    .dataframe tbody tr th {\n        vertical-align: top;\n    }\n\n    .dataframe thead th {\n        text-align: right;\n    }\n</style>\n<table border=\"1\" class=\"dataframe\">\n  <thead>\n    <tr style=\"text-align: right;\">\n      <th></th>\n      <th>Date</th>\n      <th>Store</th>\n      <th>Transactions</th>\n    </tr>\n  </thead>\n  <tbody>\n    <tr>\n      <th>0</th>\n      <td>2013-01-01</td>\n      <td>25</td>\n      <td>770</td>\n    </tr>\n    <tr>\n      <th>1</th>\n      <td>2013-01-02</td>\n      <td>54</td>\n      <td>998</td>\n    </tr>\n    <tr>\n      <th>2</th>\n      <td>2013-01-03</td>\n      <td>54</td>\n      <td>920</td>\n    </tr>\n    <tr>\n      <th>3</th>\n      <td>2013-01-04</td>\n      <td>54</td>\n      <td>794</td>\n    </tr>\n    <tr>\n      <th>4</th>\n      <td>2013-01-05</td>\n      <td>54</td>\n      <td>949</td>\n    </tr>\n    <tr>\n      <th>...</th>\n      <td>...</td>\n      <td>...</td>\n      <td>...</td>\n    </tr>\n    <tr>\n      <th>1677</th>\n      <td>2017-08-11</td>\n      <td>54</td>\n      <td>768</td>\n    </tr>\n    <tr>\n      <th>1678</th>\n      <td>2017-08-12</td>\n      <td>54</td>\n      <td>903</td>\n    </tr>\n    <tr>\n      <th>1679</th>\n      <td>2017-08-13</td>\n      <td>54</td>\n      <td>1054</td>\n    </tr>\n    <tr>\n      <th>1680</th>\n      <td>2017-08-14</td>\n      <td>54</td>\n      <td>818</td>\n    </tr>\n    <tr>\n      <th>1681</th>\n      <td>2017-08-15</td>\n      <td>54</td>\n      <td>802</td>\n    </tr>\n  </tbody>\n</table>\n<p>1682 rows × 3 columns</p>\n</div>"
     },
     "execution_count": 499,
     "metadata": {},
     "output_type": "execute_result"
    }
   ],
   "source": [
    "df.drop_duplicates(subset=\"Date\",keep=\"last\",ignore_index=True)"
   ],
   "metadata": {
    "collapsed": false
   }
  },
  {
   "cell_type": "code",
   "execution_count": 500,
   "outputs": [
    {
     "data": {
      "text/plain": "            Date  Store  Transactions\n0     2013-01-01     25           770\n1     2013-01-02     54           998\n2     2013-01-03     54           920\n3     2013-01-04     54           794\n4     2013-01-05     54           949\n...          ...    ...           ...\n1677  2017-08-11     54           768\n1678  2017-08-12     54           903\n1679  2017-08-13     54          1054\n1680  2017-08-14     54           818\n1681  2017-08-15     54           802\n\n[1682 rows x 3 columns]",
      "text/html": "<div>\n<style scoped>\n    .dataframe tbody tr th:only-of-type {\n        vertical-align: middle;\n    }\n\n    .dataframe tbody tr th {\n        vertical-align: top;\n    }\n\n    .dataframe thead th {\n        text-align: right;\n    }\n</style>\n<table border=\"1\" class=\"dataframe\">\n  <thead>\n    <tr style=\"text-align: right;\">\n      <th></th>\n      <th>Date</th>\n      <th>Store</th>\n      <th>Transactions</th>\n    </tr>\n  </thead>\n  <tbody>\n    <tr>\n      <th>0</th>\n      <td>2013-01-01</td>\n      <td>25</td>\n      <td>770</td>\n    </tr>\n    <tr>\n      <th>1</th>\n      <td>2013-01-02</td>\n      <td>54</td>\n      <td>998</td>\n    </tr>\n    <tr>\n      <th>2</th>\n      <td>2013-01-03</td>\n      <td>54</td>\n      <td>920</td>\n    </tr>\n    <tr>\n      <th>3</th>\n      <td>2013-01-04</td>\n      <td>54</td>\n      <td>794</td>\n    </tr>\n    <tr>\n      <th>4</th>\n      <td>2013-01-05</td>\n      <td>54</td>\n      <td>949</td>\n    </tr>\n    <tr>\n      <th>...</th>\n      <td>...</td>\n      <td>...</td>\n      <td>...</td>\n    </tr>\n    <tr>\n      <th>1677</th>\n      <td>2017-08-11</td>\n      <td>54</td>\n      <td>768</td>\n    </tr>\n    <tr>\n      <th>1678</th>\n      <td>2017-08-12</td>\n      <td>54</td>\n      <td>903</td>\n    </tr>\n    <tr>\n      <th>1679</th>\n      <td>2017-08-13</td>\n      <td>54</td>\n      <td>1054</td>\n    </tr>\n    <tr>\n      <th>1680</th>\n      <td>2017-08-14</td>\n      <td>54</td>\n      <td>818</td>\n    </tr>\n    <tr>\n      <th>1681</th>\n      <td>2017-08-15</td>\n      <td>54</td>\n      <td>802</td>\n    </tr>\n  </tbody>\n</table>\n<p>1682 rows × 3 columns</p>\n</div>"
     },
     "execution_count": 500,
     "metadata": {},
     "output_type": "execute_result"
    }
   ],
   "source": [
    "df.drop_duplicates(subset=\"Date\",keep=\"last\",ignore_index=True)"
   ],
   "metadata": {
    "collapsed": false
   }
  },
  {
   "cell_type": "code",
   "execution_count": 501,
   "outputs": [
    {
     "data": {
      "text/plain": "Date            0\nStore           0\nTransactions    0\ndtype: int64"
     },
     "execution_count": 501,
     "metadata": {},
     "output_type": "execute_result"
    }
   ],
   "source": [
    "df.isna().sum()"
   ],
   "metadata": {
    "collapsed": false
   }
  },
  {
   "cell_type": "code",
   "execution_count": 502,
   "outputs": [
    {
     "name": "stdout",
     "output_type": "stream",
     "text": [
      "<class 'pandas.core.frame.DataFrame'>\n",
      "RangeIndex: 83488 entries, 0 to 83487\n",
      "Data columns (total 3 columns):\n",
      " #   Column        Non-Null Count  Dtype \n",
      "---  ------        --------------  ----- \n",
      " 0   Date          83488 non-null  object\n",
      " 1   Store         83488 non-null  int64 \n",
      " 2   Transactions  83488 non-null  int64 \n",
      "dtypes: int64(2), object(1)\n",
      "memory usage: 1.9+ MB\n"
     ]
    }
   ],
   "source": [
    "df.info()"
   ],
   "metadata": {
    "collapsed": false
   }
  },
  {
   "cell_type": "code",
   "execution_count": 503,
   "outputs": [
    {
     "data": {
      "text/plain": "              Store  Transactions\ncount  83488.000000  83488.000000\nmean      26.939237   1694.602158\nstd       15.608204    963.286644\nmin        1.000000      5.000000\n25%       13.000000   1046.000000\n50%       27.000000   1393.000000\n75%       40.000000   2079.000000\nmax       54.000000   8359.000000",
      "text/html": "<div>\n<style scoped>\n    .dataframe tbody tr th:only-of-type {\n        vertical-align: middle;\n    }\n\n    .dataframe tbody tr th {\n        vertical-align: top;\n    }\n\n    .dataframe thead th {\n        text-align: right;\n    }\n</style>\n<table border=\"1\" class=\"dataframe\">\n  <thead>\n    <tr style=\"text-align: right;\">\n      <th></th>\n      <th>Store</th>\n      <th>Transactions</th>\n    </tr>\n  </thead>\n  <tbody>\n    <tr>\n      <th>count</th>\n      <td>83488.000000</td>\n      <td>83488.000000</td>\n    </tr>\n    <tr>\n      <th>mean</th>\n      <td>26.939237</td>\n      <td>1694.602158</td>\n    </tr>\n    <tr>\n      <th>std</th>\n      <td>15.608204</td>\n      <td>963.286644</td>\n    </tr>\n    <tr>\n      <th>min</th>\n      <td>1.000000</td>\n      <td>5.000000</td>\n    </tr>\n    <tr>\n      <th>25%</th>\n      <td>13.000000</td>\n      <td>1046.000000</td>\n    </tr>\n    <tr>\n      <th>50%</th>\n      <td>27.000000</td>\n      <td>1393.000000</td>\n    </tr>\n    <tr>\n      <th>75%</th>\n      <td>40.000000</td>\n      <td>2079.000000</td>\n    </tr>\n    <tr>\n      <th>max</th>\n      <td>54.000000</td>\n      <td>8359.000000</td>\n    </tr>\n  </tbody>\n</table>\n</div>"
     },
     "execution_count": 503,
     "metadata": {},
     "output_type": "execute_result"
    }
   ],
   "source": [
    "df.describe()"
   ],
   "metadata": {
    "collapsed": false
   }
  },
  {
   "cell_type": "code",
   "execution_count": 504,
   "outputs": [
    {
     "data": {
      "text/plain": "0        False\n1         True\n2         True\n3         True\n4         True\n         ...  \n83483    False\n83484    False\n83485    False\n83486    False\n83487    False\nName: Store, Length: 83488, dtype: bool"
     },
     "execution_count": 504,
     "metadata": {},
     "output_type": "execute_result"
    }
   ],
   "source": [
    "mask=df[\"Store\"].isin([28,29,30]) | df[\"Store\"].lt(5)\n",
    "mask"
   ],
   "metadata": {
    "collapsed": false
   }
  },
  {
   "cell_type": "code",
   "execution_count": 505,
   "outputs": [
    {
     "data": {
      "text/plain": "             Date  Store  Transactions\n1      2013-01-02      1          2111\n2      2013-01-02      2          2358\n3      2013-01-02      3          3487\n4      2013-01-02      4          1922\n25     2013-01-02     28           950\n...           ...    ...           ...\n83436  2017-08-15      3          2956\n83437  2017-08-15      4          1283\n83461  2017-08-15     28          1343\n83462  2017-08-15     29          1302\n83463  2017-08-15     30           825\n\n[10911 rows x 3 columns]",
      "text/html": "<div>\n<style scoped>\n    .dataframe tbody tr th:only-of-type {\n        vertical-align: middle;\n    }\n\n    .dataframe tbody tr th {\n        vertical-align: top;\n    }\n\n    .dataframe thead th {\n        text-align: right;\n    }\n</style>\n<table border=\"1\" class=\"dataframe\">\n  <thead>\n    <tr style=\"text-align: right;\">\n      <th></th>\n      <th>Date</th>\n      <th>Store</th>\n      <th>Transactions</th>\n    </tr>\n  </thead>\n  <tbody>\n    <tr>\n      <th>1</th>\n      <td>2013-01-02</td>\n      <td>1</td>\n      <td>2111</td>\n    </tr>\n    <tr>\n      <th>2</th>\n      <td>2013-01-02</td>\n      <td>2</td>\n      <td>2358</td>\n    </tr>\n    <tr>\n      <th>3</th>\n      <td>2013-01-02</td>\n      <td>3</td>\n      <td>3487</td>\n    </tr>\n    <tr>\n      <th>4</th>\n      <td>2013-01-02</td>\n      <td>4</td>\n      <td>1922</td>\n    </tr>\n    <tr>\n      <th>25</th>\n      <td>2013-01-02</td>\n      <td>28</td>\n      <td>950</td>\n    </tr>\n    <tr>\n      <th>...</th>\n      <td>...</td>\n      <td>...</td>\n      <td>...</td>\n    </tr>\n    <tr>\n      <th>83436</th>\n      <td>2017-08-15</td>\n      <td>3</td>\n      <td>2956</td>\n    </tr>\n    <tr>\n      <th>83437</th>\n      <td>2017-08-15</td>\n      <td>4</td>\n      <td>1283</td>\n    </tr>\n    <tr>\n      <th>83461</th>\n      <td>2017-08-15</td>\n      <td>28</td>\n      <td>1343</td>\n    </tr>\n    <tr>\n      <th>83462</th>\n      <td>2017-08-15</td>\n      <td>29</td>\n      <td>1302</td>\n    </tr>\n    <tr>\n      <th>83463</th>\n      <td>2017-08-15</td>\n      <td>30</td>\n      <td>825</td>\n    </tr>\n  </tbody>\n</table>\n<p>10911 rows × 3 columns</p>\n</div>"
     },
     "execution_count": 505,
     "metadata": {},
     "output_type": "execute_result"
    }
   ],
   "source": [
    "df[mask]"
   ],
   "metadata": {
    "collapsed": false
   }
  },
  {
   "cell_type": "code",
   "execution_count": 506,
   "outputs": [
    {
     "data": {
      "text/plain": "             Date  Store  Transactions\n1      2013-01-02      1          2111\n2      2013-01-02      2          2358\n3      2013-01-02      3          3487\n4      2013-01-02      4          1922\n25     2013-01-02     28           950\n...           ...    ...           ...\n83436  2017-08-15      3          2956\n83437  2017-08-15      4          1283\n83461  2017-08-15     28          1343\n83462  2017-08-15     29          1302\n83463  2017-08-15     30           825\n\n[10911 rows x 3 columns]",
      "text/html": "<div>\n<style scoped>\n    .dataframe tbody tr th:only-of-type {\n        vertical-align: middle;\n    }\n\n    .dataframe tbody tr th {\n        vertical-align: top;\n    }\n\n    .dataframe thead th {\n        text-align: right;\n    }\n</style>\n<table border=\"1\" class=\"dataframe\">\n  <thead>\n    <tr style=\"text-align: right;\">\n      <th></th>\n      <th>Date</th>\n      <th>Store</th>\n      <th>Transactions</th>\n    </tr>\n  </thead>\n  <tbody>\n    <tr>\n      <th>1</th>\n      <td>2013-01-02</td>\n      <td>1</td>\n      <td>2111</td>\n    </tr>\n    <tr>\n      <th>2</th>\n      <td>2013-01-02</td>\n      <td>2</td>\n      <td>2358</td>\n    </tr>\n    <tr>\n      <th>3</th>\n      <td>2013-01-02</td>\n      <td>3</td>\n      <td>3487</td>\n    </tr>\n    <tr>\n      <th>4</th>\n      <td>2013-01-02</td>\n      <td>4</td>\n      <td>1922</td>\n    </tr>\n    <tr>\n      <th>25</th>\n      <td>2013-01-02</td>\n      <td>28</td>\n      <td>950</td>\n    </tr>\n    <tr>\n      <th>...</th>\n      <td>...</td>\n      <td>...</td>\n      <td>...</td>\n    </tr>\n    <tr>\n      <th>83436</th>\n      <td>2017-08-15</td>\n      <td>3</td>\n      <td>2956</td>\n    </tr>\n    <tr>\n      <th>83437</th>\n      <td>2017-08-15</td>\n      <td>4</td>\n      <td>1283</td>\n    </tr>\n    <tr>\n      <th>83461</th>\n      <td>2017-08-15</td>\n      <td>28</td>\n      <td>1343</td>\n    </tr>\n    <tr>\n      <th>83462</th>\n      <td>2017-08-15</td>\n      <td>29</td>\n      <td>1302</td>\n    </tr>\n    <tr>\n      <th>83463</th>\n      <td>2017-08-15</td>\n      <td>30</td>\n      <td>825</td>\n    </tr>\n  </tbody>\n</table>\n<p>10911 rows × 3 columns</p>\n</div>"
     },
     "execution_count": 506,
     "metadata": {},
     "output_type": "execute_result"
    }
   ],
   "source": [
    "num=5\n",
    "df.query(\"Store in [28,29,30] or Store<@num\")"
   ],
   "metadata": {
    "collapsed": false
   }
  },
  {
   "cell_type": "code",
   "execution_count": 507,
   "outputs": [
    {
     "data": {
      "text/plain": "             Date  Store  Transactions\n42968  2015-07-03      1          2012\n11033  2013-08-28      1          1831\n81328  2017-07-07      1          1843\n73300  2017-02-07      1          1887\n2347   2013-02-22      1          1805\n...           ...    ...           ...\n50112  2015-11-17     54           744\n78033  2017-05-06     54           840\n17002  2014-01-03     54           798\n20949  2014-03-28     54           839\n83487  2017-08-15     54           802\n\n[83488 rows x 3 columns]",
      "text/html": "<div>\n<style scoped>\n    .dataframe tbody tr th:only-of-type {\n        vertical-align: middle;\n    }\n\n    .dataframe tbody tr th {\n        vertical-align: top;\n    }\n\n    .dataframe thead th {\n        text-align: right;\n    }\n</style>\n<table border=\"1\" class=\"dataframe\">\n  <thead>\n    <tr style=\"text-align: right;\">\n      <th></th>\n      <th>Date</th>\n      <th>Store</th>\n      <th>Transactions</th>\n    </tr>\n  </thead>\n  <tbody>\n    <tr>\n      <th>42968</th>\n      <td>2015-07-03</td>\n      <td>1</td>\n      <td>2012</td>\n    </tr>\n    <tr>\n      <th>11033</th>\n      <td>2013-08-28</td>\n      <td>1</td>\n      <td>1831</td>\n    </tr>\n    <tr>\n      <th>81328</th>\n      <td>2017-07-07</td>\n      <td>1</td>\n      <td>1843</td>\n    </tr>\n    <tr>\n      <th>73300</th>\n      <td>2017-02-07</td>\n      <td>1</td>\n      <td>1887</td>\n    </tr>\n    <tr>\n      <th>2347</th>\n      <td>2013-02-22</td>\n      <td>1</td>\n      <td>1805</td>\n    </tr>\n    <tr>\n      <th>...</th>\n      <td>...</td>\n      <td>...</td>\n      <td>...</td>\n    </tr>\n    <tr>\n      <th>50112</th>\n      <td>2015-11-17</td>\n      <td>54</td>\n      <td>744</td>\n    </tr>\n    <tr>\n      <th>78033</th>\n      <td>2017-05-06</td>\n      <td>54</td>\n      <td>840</td>\n    </tr>\n    <tr>\n      <th>17002</th>\n      <td>2014-01-03</td>\n      <td>54</td>\n      <td>798</td>\n    </tr>\n    <tr>\n      <th>20949</th>\n      <td>2014-03-28</td>\n      <td>54</td>\n      <td>839</td>\n    </tr>\n    <tr>\n      <th>83487</th>\n      <td>2017-08-15</td>\n      <td>54</td>\n      <td>802</td>\n    </tr>\n  </tbody>\n</table>\n<p>83488 rows × 3 columns</p>\n</div>"
     },
     "execution_count": 507,
     "metadata": {},
     "output_type": "execute_result"
    }
   ],
   "source": [
    "df.sort_values(\"Store\")"
   ],
   "metadata": {
    "collapsed": false
   }
  },
  {
   "cell_type": "code",
   "execution_count": 508,
   "outputs": [
    {
     "data": {
      "text/plain": "             Date  Store  Transactions\n0      2013-01-01     25           770\n1      2013-01-02      1          2111\n2      2013-01-02      2          2358\n3      2013-01-02      3          3487\n4      2013-01-02      4          1922\n...           ...    ...           ...\n83483  2017-08-15     50          2804\n83484  2017-08-15     51          1573\n83485  2017-08-15     52          2255\n83486  2017-08-15     53           932\n83487  2017-08-15     54           802\n\n[83488 rows x 3 columns]",
      "text/html": "<div>\n<style scoped>\n    .dataframe tbody tr th:only-of-type {\n        vertical-align: middle;\n    }\n\n    .dataframe tbody tr th {\n        vertical-align: top;\n    }\n\n    .dataframe thead th {\n        text-align: right;\n    }\n</style>\n<table border=\"1\" class=\"dataframe\">\n  <thead>\n    <tr style=\"text-align: right;\">\n      <th></th>\n      <th>Date</th>\n      <th>Store</th>\n      <th>Transactions</th>\n    </tr>\n  </thead>\n  <tbody>\n    <tr>\n      <th>0</th>\n      <td>2013-01-01</td>\n      <td>25</td>\n      <td>770</td>\n    </tr>\n    <tr>\n      <th>1</th>\n      <td>2013-01-02</td>\n      <td>1</td>\n      <td>2111</td>\n    </tr>\n    <tr>\n      <th>2</th>\n      <td>2013-01-02</td>\n      <td>2</td>\n      <td>2358</td>\n    </tr>\n    <tr>\n      <th>3</th>\n      <td>2013-01-02</td>\n      <td>3</td>\n      <td>3487</td>\n    </tr>\n    <tr>\n      <th>4</th>\n      <td>2013-01-02</td>\n      <td>4</td>\n      <td>1922</td>\n    </tr>\n    <tr>\n      <th>...</th>\n      <td>...</td>\n      <td>...</td>\n      <td>...</td>\n    </tr>\n    <tr>\n      <th>83483</th>\n      <td>2017-08-15</td>\n      <td>50</td>\n      <td>2804</td>\n    </tr>\n    <tr>\n      <th>83484</th>\n      <td>2017-08-15</td>\n      <td>51</td>\n      <td>1573</td>\n    </tr>\n    <tr>\n      <th>83485</th>\n      <td>2017-08-15</td>\n      <td>52</td>\n      <td>2255</td>\n    </tr>\n    <tr>\n      <th>83486</th>\n      <td>2017-08-15</td>\n      <td>53</td>\n      <td>932</td>\n    </tr>\n    <tr>\n      <th>83487</th>\n      <td>2017-08-15</td>\n      <td>54</td>\n      <td>802</td>\n    </tr>\n  </tbody>\n</table>\n<p>83488 rows × 3 columns</p>\n</div>"
     },
     "execution_count": 508,
     "metadata": {},
     "output_type": "execute_result"
    }
   ],
   "source": [
    "df.sort_index(axis=0)"
   ],
   "metadata": {
    "collapsed": false
   }
  },
  {
   "cell_type": "code",
   "execution_count": 509,
   "outputs": [
    {
     "data": {
      "text/plain": "             Date  Store  Transactions\n0      2013-01-01     25           770\n1      2013-01-02      1          2111\n2      2013-01-02      2          2358\n3      2013-01-02      3          3487\n4      2013-01-02      4          1922\n...           ...    ...           ...\n83483  2017-08-15     50          2804\n83484  2017-08-15     51          1573\n83485  2017-08-15     52          2255\n83486  2017-08-15     53           932\n83487  2017-08-15     54           802\n\n[83488 rows x 3 columns]",
      "text/html": "<div>\n<style scoped>\n    .dataframe tbody tr th:only-of-type {\n        vertical-align: middle;\n    }\n\n    .dataframe tbody tr th {\n        vertical-align: top;\n    }\n\n    .dataframe thead th {\n        text-align: right;\n    }\n</style>\n<table border=\"1\" class=\"dataframe\">\n  <thead>\n    <tr style=\"text-align: right;\">\n      <th></th>\n      <th>Date</th>\n      <th>Store</th>\n      <th>Transactions</th>\n    </tr>\n  </thead>\n  <tbody>\n    <tr>\n      <th>0</th>\n      <td>2013-01-01</td>\n      <td>25</td>\n      <td>770</td>\n    </tr>\n    <tr>\n      <th>1</th>\n      <td>2013-01-02</td>\n      <td>1</td>\n      <td>2111</td>\n    </tr>\n    <tr>\n      <th>2</th>\n      <td>2013-01-02</td>\n      <td>2</td>\n      <td>2358</td>\n    </tr>\n    <tr>\n      <th>3</th>\n      <td>2013-01-02</td>\n      <td>3</td>\n      <td>3487</td>\n    </tr>\n    <tr>\n      <th>4</th>\n      <td>2013-01-02</td>\n      <td>4</td>\n      <td>1922</td>\n    </tr>\n    <tr>\n      <th>...</th>\n      <td>...</td>\n      <td>...</td>\n      <td>...</td>\n    </tr>\n    <tr>\n      <th>83483</th>\n      <td>2017-08-15</td>\n      <td>50</td>\n      <td>2804</td>\n    </tr>\n    <tr>\n      <th>83484</th>\n      <td>2017-08-15</td>\n      <td>51</td>\n      <td>1573</td>\n    </tr>\n    <tr>\n      <th>83485</th>\n      <td>2017-08-15</td>\n      <td>52</td>\n      <td>2255</td>\n    </tr>\n    <tr>\n      <th>83486</th>\n      <td>2017-08-15</td>\n      <td>53</td>\n      <td>932</td>\n    </tr>\n    <tr>\n      <th>83487</th>\n      <td>2017-08-15</td>\n      <td>54</td>\n      <td>802</td>\n    </tr>\n  </tbody>\n</table>\n<p>83488 rows × 3 columns</p>\n</div>"
     },
     "execution_count": 509,
     "metadata": {},
     "output_type": "execute_result"
    }
   ],
   "source": [
    "df.sort_index(axis=1)"
   ],
   "metadata": {
    "collapsed": false
   }
  },
  {
   "cell_type": "code",
   "execution_count": 560,
   "outputs": [
    {
     "data": {
      "text/plain": "         date  dcoilwtico\n0  2013-01-01         NaN\n1  2013-01-02       93.14\n2  2013-01-03       92.97\n3  2013-01-04       93.12\n4  2013-01-07       93.20",
      "text/html": "<div>\n<style scoped>\n    .dataframe tbody tr th:only-of-type {\n        vertical-align: middle;\n    }\n\n    .dataframe tbody tr th {\n        vertical-align: top;\n    }\n\n    .dataframe thead th {\n        text-align: right;\n    }\n</style>\n<table border=\"1\" class=\"dataframe\">\n  <thead>\n    <tr style=\"text-align: right;\">\n      <th></th>\n      <th>date</th>\n      <th>dcoilwtico</th>\n    </tr>\n  </thead>\n  <tbody>\n    <tr>\n      <th>0</th>\n      <td>2013-01-01</td>\n      <td>NaN</td>\n    </tr>\n    <tr>\n      <th>1</th>\n      <td>2013-01-02</td>\n      <td>93.14</td>\n    </tr>\n    <tr>\n      <th>2</th>\n      <td>2013-01-03</td>\n      <td>92.97</td>\n    </tr>\n    <tr>\n      <th>3</th>\n      <td>2013-01-04</td>\n      <td>93.12</td>\n    </tr>\n    <tr>\n      <th>4</th>\n      <td>2013-01-07</td>\n      <td>93.20</td>\n    </tr>\n  </tbody>\n</table>\n</div>"
     },
     "execution_count": 560,
     "metadata": {},
     "output_type": "execute_result"
    }
   ],
   "source": [
    "oil=pd.read_csv(\"oil.csv\")\n",
    "oil.head()"
   ],
   "metadata": {
    "collapsed": false
   }
  },
  {
   "cell_type": "code",
   "execution_count": 561,
   "outputs": [],
   "source": [
    "oil.dropna(inplace=True)"
   ],
   "metadata": {
    "collapsed": false
   }
  },
  {
   "cell_type": "code",
   "execution_count": 562,
   "outputs": [
    {
     "data": {
      "text/plain": "            date  dcoilwtico\n1     2013-01-02       93.14\n2     2013-01-03       92.97\n3     2013-01-04       93.12\n4     2013-01-07       93.20\n5     2013-01-08       93.21\n...          ...         ...\n1213  2017-08-25       47.65\n1214  2017-08-28       46.40\n1215  2017-08-29       46.46\n1216  2017-08-30       45.96\n1217  2017-08-31       47.26\n\n[1175 rows x 2 columns]",
      "text/html": "<div>\n<style scoped>\n    .dataframe tbody tr th:only-of-type {\n        vertical-align: middle;\n    }\n\n    .dataframe tbody tr th {\n        vertical-align: top;\n    }\n\n    .dataframe thead th {\n        text-align: right;\n    }\n</style>\n<table border=\"1\" class=\"dataframe\">\n  <thead>\n    <tr style=\"text-align: right;\">\n      <th></th>\n      <th>date</th>\n      <th>dcoilwtico</th>\n    </tr>\n  </thead>\n  <tbody>\n    <tr>\n      <th>1</th>\n      <td>2013-01-02</td>\n      <td>93.14</td>\n    </tr>\n    <tr>\n      <th>2</th>\n      <td>2013-01-03</td>\n      <td>92.97</td>\n    </tr>\n    <tr>\n      <th>3</th>\n      <td>2013-01-04</td>\n      <td>93.12</td>\n    </tr>\n    <tr>\n      <th>4</th>\n      <td>2013-01-07</td>\n      <td>93.20</td>\n    </tr>\n    <tr>\n      <th>5</th>\n      <td>2013-01-08</td>\n      <td>93.21</td>\n    </tr>\n    <tr>\n      <th>...</th>\n      <td>...</td>\n      <td>...</td>\n    </tr>\n    <tr>\n      <th>1213</th>\n      <td>2017-08-25</td>\n      <td>47.65</td>\n    </tr>\n    <tr>\n      <th>1214</th>\n      <td>2017-08-28</td>\n      <td>46.40</td>\n    </tr>\n    <tr>\n      <th>1215</th>\n      <td>2017-08-29</td>\n      <td>46.46</td>\n    </tr>\n    <tr>\n      <th>1216</th>\n      <td>2017-08-30</td>\n      <td>45.96</td>\n    </tr>\n    <tr>\n      <th>1217</th>\n      <td>2017-08-31</td>\n      <td>47.26</td>\n    </tr>\n  </tbody>\n</table>\n<p>1175 rows × 2 columns</p>\n</div>"
     },
     "execution_count": 562,
     "metadata": {},
     "output_type": "execute_result"
    }
   ],
   "source": [
    "oil"
   ],
   "metadata": {
    "collapsed": false
   }
  },
  {
   "cell_type": "code",
   "execution_count": 563,
   "outputs": [
    {
     "data": {
      "text/plain": "date          0\ndcoilwtico    0\ndtype: int64"
     },
     "execution_count": 563,
     "metadata": {},
     "output_type": "execute_result"
    }
   ],
   "source": [
    "oil.isna().sum()"
   ],
   "metadata": {
    "collapsed": false
   }
  },
  {
   "cell_type": "code",
   "execution_count": 564,
   "outputs": [
    {
     "name": "stdout",
     "output_type": "stream",
     "text": [
      "<class 'pandas.core.frame.DataFrame'>\n",
      "Int64Index: 1175 entries, 1 to 1217\n",
      "Data columns (total 2 columns):\n",
      " #   Column      Non-Null Count  Dtype  \n",
      "---  ------      --------------  -----  \n",
      " 0   date        1175 non-null   object \n",
      " 1   dcoilwtico  1175 non-null   float64\n",
      "dtypes: float64(1), object(1)\n",
      "memory usage: 27.5+ KB\n"
     ]
    }
   ],
   "source": [
    "oil.info()"
   ],
   "metadata": {
    "collapsed": false
   }
  },
  {
   "cell_type": "code",
   "execution_count": 565,
   "outputs": [],
   "source": [
    "oil_new=pd.read_csv(\"oil.csv\",parse_dates=[\"date\"])"
   ],
   "metadata": {
    "collapsed": false
   }
  },
  {
   "cell_type": "code",
   "execution_count": 566,
   "outputs": [
    {
     "name": "stdout",
     "output_type": "stream",
     "text": [
      "<class 'pandas.core.frame.DataFrame'>\n",
      "RangeIndex: 1218 entries, 0 to 1217\n",
      "Data columns (total 2 columns):\n",
      " #   Column      Non-Null Count  Dtype         \n",
      "---  ------      --------------  -----         \n",
      " 0   date        1218 non-null   datetime64[ns]\n",
      " 1   dcoilwtico  1175 non-null   float64       \n",
      "dtypes: datetime64[ns](1), float64(1)\n",
      "memory usage: 19.2 KB\n"
     ]
    }
   ],
   "source": [
    "oil_new.info()"
   ],
   "metadata": {
    "collapsed": false
   }
  },
  {
   "cell_type": "code",
   "execution_count": 567,
   "outputs": [
    {
     "data": {
      "text/plain": "            date  dcoilwtico\n1     2013-01-02       93.14\n2     2013-01-03       92.97\n3     2013-01-04       93.12\n4     2013-01-07       93.20\n5     2013-01-08       93.21\n...          ...         ...\n1213  2017-08-25       47.65\n1214  2017-08-28       46.40\n1215  2017-08-29       46.46\n1216  2017-08-30       45.96\n1217  2017-08-31       47.26\n\n[1175 rows x 2 columns]",
      "text/html": "<div>\n<style scoped>\n    .dataframe tbody tr th:only-of-type {\n        vertical-align: middle;\n    }\n\n    .dataframe tbody tr th {\n        vertical-align: top;\n    }\n\n    .dataframe thead th {\n        text-align: right;\n    }\n</style>\n<table border=\"1\" class=\"dataframe\">\n  <thead>\n    <tr style=\"text-align: right;\">\n      <th></th>\n      <th>date</th>\n      <th>dcoilwtico</th>\n    </tr>\n  </thead>\n  <tbody>\n    <tr>\n      <th>1</th>\n      <td>2013-01-02</td>\n      <td>93.14</td>\n    </tr>\n    <tr>\n      <th>2</th>\n      <td>2013-01-03</td>\n      <td>92.97</td>\n    </tr>\n    <tr>\n      <th>3</th>\n      <td>2013-01-04</td>\n      <td>93.12</td>\n    </tr>\n    <tr>\n      <th>4</th>\n      <td>2013-01-07</td>\n      <td>93.20</td>\n    </tr>\n    <tr>\n      <th>5</th>\n      <td>2013-01-08</td>\n      <td>93.21</td>\n    </tr>\n    <tr>\n      <th>...</th>\n      <td>...</td>\n      <td>...</td>\n    </tr>\n    <tr>\n      <th>1213</th>\n      <td>2017-08-25</td>\n      <td>47.65</td>\n    </tr>\n    <tr>\n      <th>1214</th>\n      <td>2017-08-28</td>\n      <td>46.40</td>\n    </tr>\n    <tr>\n      <th>1215</th>\n      <td>2017-08-29</td>\n      <td>46.46</td>\n    </tr>\n    <tr>\n      <th>1216</th>\n      <td>2017-08-30</td>\n      <td>45.96</td>\n    </tr>\n    <tr>\n      <th>1217</th>\n      <td>2017-08-31</td>\n      <td>47.26</td>\n    </tr>\n  </tbody>\n</table>\n<p>1175 rows × 2 columns</p>\n</div>"
     },
     "execution_count": 567,
     "metadata": {},
     "output_type": "execute_result"
    }
   ],
   "source": [
    "oil"
   ],
   "metadata": {
    "collapsed": false
   }
  },
  {
   "cell_type": "code",
   "execution_count": 568,
   "outputs": [],
   "source": [
    "oil[\"Month\"]=oil[\"date\"].astype(\"datetime64\").dt.month"
   ],
   "metadata": {
    "collapsed": false
   }
  },
  {
   "cell_type": "code",
   "execution_count": 569,
   "outputs": [
    {
     "data": {
      "text/plain": "           date  dcoilwtico  Month\n282  2014-01-30       98.25      1\n21   2013-01-30       97.98      1\n22   2013-01-31       97.65      1\n20   2013-01-29       97.62      1\n283  2014-01-31       97.55      1\n..          ...         ...    ...\n768  2015-12-11       35.65     12\n771  2015-12-16       35.55     12\n772  2015-12-17       34.98     12\n773  2015-12-18       34.72     12\n774  2015-12-21       34.55     12\n\n[1175 rows x 3 columns]",
      "text/html": "<div>\n<style scoped>\n    .dataframe tbody tr th:only-of-type {\n        vertical-align: middle;\n    }\n\n    .dataframe tbody tr th {\n        vertical-align: top;\n    }\n\n    .dataframe thead th {\n        text-align: right;\n    }\n</style>\n<table border=\"1\" class=\"dataframe\">\n  <thead>\n    <tr style=\"text-align: right;\">\n      <th></th>\n      <th>date</th>\n      <th>dcoilwtico</th>\n      <th>Month</th>\n    </tr>\n  </thead>\n  <tbody>\n    <tr>\n      <th>282</th>\n      <td>2014-01-30</td>\n      <td>98.25</td>\n      <td>1</td>\n    </tr>\n    <tr>\n      <th>21</th>\n      <td>2013-01-30</td>\n      <td>97.98</td>\n      <td>1</td>\n    </tr>\n    <tr>\n      <th>22</th>\n      <td>2013-01-31</td>\n      <td>97.65</td>\n      <td>1</td>\n    </tr>\n    <tr>\n      <th>20</th>\n      <td>2013-01-29</td>\n      <td>97.62</td>\n      <td>1</td>\n    </tr>\n    <tr>\n      <th>283</th>\n      <td>2014-01-31</td>\n      <td>97.55</td>\n      <td>1</td>\n    </tr>\n    <tr>\n      <th>...</th>\n      <td>...</td>\n      <td>...</td>\n      <td>...</td>\n    </tr>\n    <tr>\n      <th>768</th>\n      <td>2015-12-11</td>\n      <td>35.65</td>\n      <td>12</td>\n    </tr>\n    <tr>\n      <th>771</th>\n      <td>2015-12-16</td>\n      <td>35.55</td>\n      <td>12</td>\n    </tr>\n    <tr>\n      <th>772</th>\n      <td>2015-12-17</td>\n      <td>34.98</td>\n      <td>12</td>\n    </tr>\n    <tr>\n      <th>773</th>\n      <td>2015-12-18</td>\n      <td>34.72</td>\n      <td>12</td>\n    </tr>\n    <tr>\n      <th>774</th>\n      <td>2015-12-21</td>\n      <td>34.55</td>\n      <td>12</td>\n    </tr>\n  </tbody>\n</table>\n<p>1175 rows × 3 columns</p>\n</div>"
     },
     "execution_count": 569,
     "metadata": {},
     "output_type": "execute_result"
    }
   ],
   "source": [
    "oil.sort_values([\"Month\",\"dcoilwtico\"],ascending=[True,False])"
   ],
   "metadata": {
    "collapsed": false
   }
  },
  {
   "cell_type": "code",
   "execution_count": 570,
   "outputs": [
    {
     "data": {
      "text/plain": "         date  dcoilwtico  Month\n1  2013-01-02       93.14      1\n2  2013-01-03       92.97      1\n3  2013-01-04       93.12      1\n4  2013-01-07       93.20      1\n5  2013-01-08       93.21      1",
      "text/html": "<div>\n<style scoped>\n    .dataframe tbody tr th:only-of-type {\n        vertical-align: middle;\n    }\n\n    .dataframe tbody tr th {\n        vertical-align: top;\n    }\n\n    .dataframe thead th {\n        text-align: right;\n    }\n</style>\n<table border=\"1\" class=\"dataframe\">\n  <thead>\n    <tr style=\"text-align: right;\">\n      <th></th>\n      <th>date</th>\n      <th>dcoilwtico</th>\n      <th>Month</th>\n    </tr>\n  </thead>\n  <tbody>\n    <tr>\n      <th>1</th>\n      <td>2013-01-02</td>\n      <td>93.14</td>\n      <td>1</td>\n    </tr>\n    <tr>\n      <th>2</th>\n      <td>2013-01-03</td>\n      <td>92.97</td>\n      <td>1</td>\n    </tr>\n    <tr>\n      <th>3</th>\n      <td>2013-01-04</td>\n      <td>93.12</td>\n      <td>1</td>\n    </tr>\n    <tr>\n      <th>4</th>\n      <td>2013-01-07</td>\n      <td>93.20</td>\n      <td>1</td>\n    </tr>\n    <tr>\n      <th>5</th>\n      <td>2013-01-08</td>\n      <td>93.21</td>\n      <td>1</td>\n    </tr>\n  </tbody>\n</table>\n</div>"
     },
     "execution_count": 570,
     "metadata": {},
     "output_type": "execute_result"
    }
   ],
   "source": [
    "oil=oil.iloc[:5,:]\n",
    "oil"
   ],
   "metadata": {
    "collapsed": false
   }
  },
  {
   "cell_type": "code",
   "execution_count": 571,
   "outputs": [
    {
     "data": {
      "text/plain": "array(['date', 'dcoilwtico', 'Month'], dtype=object)"
     },
     "execution_count": 571,
     "metadata": {},
     "output_type": "execute_result"
    }
   ],
   "source": [
    "oil.columns.values"
   ],
   "metadata": {
    "collapsed": false
   }
  },
  {
   "cell_type": "code",
   "execution_count": 572,
   "outputs": [],
   "source": [
    "oil.columns=[col.capitalize() for col in oil.columns.values]"
   ],
   "metadata": {
    "collapsed": false
   }
  },
  {
   "cell_type": "code",
   "execution_count": 573,
   "outputs": [
    {
     "data": {
      "text/plain": "         Date  Dcoilwtico  Month\n1  2013-01-02       93.14      1\n2  2013-01-03       92.97      1\n3  2013-01-04       93.12      1\n4  2013-01-07       93.20      1\n5  2013-01-08       93.21      1",
      "text/html": "<div>\n<style scoped>\n    .dataframe tbody tr th:only-of-type {\n        vertical-align: middle;\n    }\n\n    .dataframe tbody tr th {\n        vertical-align: top;\n    }\n\n    .dataframe thead th {\n        text-align: right;\n    }\n</style>\n<table border=\"1\" class=\"dataframe\">\n  <thead>\n    <tr style=\"text-align: right;\">\n      <th></th>\n      <th>Date</th>\n      <th>Dcoilwtico</th>\n      <th>Month</th>\n    </tr>\n  </thead>\n  <tbody>\n    <tr>\n      <th>1</th>\n      <td>2013-01-02</td>\n      <td>93.14</td>\n      <td>1</td>\n    </tr>\n    <tr>\n      <th>2</th>\n      <td>2013-01-03</td>\n      <td>92.97</td>\n      <td>1</td>\n    </tr>\n    <tr>\n      <th>3</th>\n      <td>2013-01-04</td>\n      <td>93.12</td>\n      <td>1</td>\n    </tr>\n    <tr>\n      <th>4</th>\n      <td>2013-01-07</td>\n      <td>93.20</td>\n      <td>1</td>\n    </tr>\n    <tr>\n      <th>5</th>\n      <td>2013-01-08</td>\n      <td>93.21</td>\n      <td>1</td>\n    </tr>\n  </tbody>\n</table>\n</div>"
     },
     "execution_count": 573,
     "metadata": {},
     "output_type": "execute_result"
    }
   ],
   "source": [
    "oil"
   ],
   "metadata": {
    "collapsed": false
   }
  },
  {
   "cell_type": "code",
   "execution_count": 574,
   "outputs": [
    {
     "name": "stderr",
     "output_type": "stream",
     "text": [
      "C:\\Users\\Magesh\\AppData\\Roaming\\Python\\Python310\\site-packages\\pandas\\core\\frame.py:5039: SettingWithCopyWarning: \n",
      "A value is trying to be set on a copy of a slice from a DataFrame\n",
      "\n",
      "See the caveats in the documentation: https://pandas.pydata.org/pandas-docs/stable/user_guide/indexing.html#returning-a-view-versus-a-copy\n",
      "  return super().rename(\n"
     ]
    }
   ],
   "source": [
    "oil.rename(columns={\"Date\":\"DaTe\",\"Dcoilwtico\":\"WTF is this\",\"Month\":\"Maadham\"},inplace=True)"
   ],
   "metadata": {
    "collapsed": false
   }
  },
  {
   "cell_type": "code",
   "execution_count": 575,
   "outputs": [
    {
     "data": {
      "text/plain": "         DaTe  WTF is this  Maadham\n1  2013-01-02        93.14        1\n2  2013-01-03        92.97        1\n3  2013-01-04        93.12        1\n4  2013-01-07        93.20        1\n5  2013-01-08        93.21        1",
      "text/html": "<div>\n<style scoped>\n    .dataframe tbody tr th:only-of-type {\n        vertical-align: middle;\n    }\n\n    .dataframe tbody tr th {\n        vertical-align: top;\n    }\n\n    .dataframe thead th {\n        text-align: right;\n    }\n</style>\n<table border=\"1\" class=\"dataframe\">\n  <thead>\n    <tr style=\"text-align: right;\">\n      <th></th>\n      <th>DaTe</th>\n      <th>WTF is this</th>\n      <th>Maadham</th>\n    </tr>\n  </thead>\n  <tbody>\n    <tr>\n      <th>1</th>\n      <td>2013-01-02</td>\n      <td>93.14</td>\n      <td>1</td>\n    </tr>\n    <tr>\n      <th>2</th>\n      <td>2013-01-03</td>\n      <td>92.97</td>\n      <td>1</td>\n    </tr>\n    <tr>\n      <th>3</th>\n      <td>2013-01-04</td>\n      <td>93.12</td>\n      <td>1</td>\n    </tr>\n    <tr>\n      <th>4</th>\n      <td>2013-01-07</td>\n      <td>93.20</td>\n      <td>1</td>\n    </tr>\n    <tr>\n      <th>5</th>\n      <td>2013-01-08</td>\n      <td>93.21</td>\n      <td>1</td>\n    </tr>\n  </tbody>\n</table>\n</div>"
     },
     "execution_count": 575,
     "metadata": {},
     "output_type": "execute_result"
    }
   ],
   "source": [
    "oil"
   ],
   "metadata": {
    "collapsed": false
   }
  },
  {
   "cell_type": "code",
   "execution_count": 576,
   "outputs": [
    {
     "data": {
      "text/plain": "   WTF is this  Maadham        DaTe\n1        93.14        1  2013-01-02\n2        92.97        1  2013-01-03\n3        93.12        1  2013-01-04\n4        93.20        1  2013-01-07\n5        93.21        1  2013-01-08",
      "text/html": "<div>\n<style scoped>\n    .dataframe tbody tr th:only-of-type {\n        vertical-align: middle;\n    }\n\n    .dataframe tbody tr th {\n        vertical-align: top;\n    }\n\n    .dataframe thead th {\n        text-align: right;\n    }\n</style>\n<table border=\"1\" class=\"dataframe\">\n  <thead>\n    <tr style=\"text-align: right;\">\n      <th></th>\n      <th>WTF is this</th>\n      <th>Maadham</th>\n      <th>DaTe</th>\n    </tr>\n  </thead>\n  <tbody>\n    <tr>\n      <th>1</th>\n      <td>93.14</td>\n      <td>1</td>\n      <td>2013-01-02</td>\n    </tr>\n    <tr>\n      <th>2</th>\n      <td>92.97</td>\n      <td>1</td>\n      <td>2013-01-03</td>\n    </tr>\n    <tr>\n      <th>3</th>\n      <td>93.12</td>\n      <td>1</td>\n      <td>2013-01-04</td>\n    </tr>\n    <tr>\n      <th>4</th>\n      <td>93.20</td>\n      <td>1</td>\n      <td>2013-01-07</td>\n    </tr>\n    <tr>\n      <th>5</th>\n      <td>93.21</td>\n      <td>1</td>\n      <td>2013-01-08</td>\n    </tr>\n  </tbody>\n</table>\n</div>"
     },
     "execution_count": 576,
     "metadata": {},
     "output_type": "execute_result"
    }
   ],
   "source": [
    "oil.reindex(labels=[\"WTF is this\",\"Maadham\",\"DaTe\"],axis=1)"
   ],
   "metadata": {
    "collapsed": false
   }
  },
  {
   "cell_type": "code",
   "execution_count": 577,
   "outputs": [],
   "source": [
    "oil=oil[[\"WTF is this\",\"DaTe\"]]"
   ],
   "metadata": {
    "collapsed": false
   }
  },
  {
   "cell_type": "code",
   "execution_count": 578,
   "outputs": [
    {
     "data": {
      "text/plain": "   Price        Date\n1  93.14  2013-01-02\n2  92.97  2013-01-03\n3  93.12  2013-01-04\n4  93.20  2013-01-07\n5  93.21  2013-01-08",
      "text/html": "<div>\n<style scoped>\n    .dataframe tbody tr th:only-of-type {\n        vertical-align: middle;\n    }\n\n    .dataframe tbody tr th {\n        vertical-align: top;\n    }\n\n    .dataframe thead th {\n        text-align: right;\n    }\n</style>\n<table border=\"1\" class=\"dataframe\">\n  <thead>\n    <tr style=\"text-align: right;\">\n      <th></th>\n      <th>Price</th>\n      <th>Date</th>\n    </tr>\n  </thead>\n  <tbody>\n    <tr>\n      <th>1</th>\n      <td>93.14</td>\n      <td>2013-01-02</td>\n    </tr>\n    <tr>\n      <th>2</th>\n      <td>92.97</td>\n      <td>2013-01-03</td>\n    </tr>\n    <tr>\n      <th>3</th>\n      <td>93.12</td>\n      <td>2013-01-04</td>\n    </tr>\n    <tr>\n      <th>4</th>\n      <td>93.20</td>\n      <td>2013-01-07</td>\n    </tr>\n    <tr>\n      <th>5</th>\n      <td>93.21</td>\n      <td>2013-01-08</td>\n    </tr>\n  </tbody>\n</table>\n</div>"
     },
     "execution_count": 578,
     "metadata": {},
     "output_type": "execute_result"
    }
   ],
   "source": [
    "oil=oil.rename(columns={\"WTF is this\":\"Price\",\"DaTe\":\"Date\"})\n",
    "oil.head()"
   ],
   "metadata": {
    "collapsed": false
   }
  },
  {
   "cell_type": "code",
   "execution_count": 579,
   "outputs": [],
   "source": [
    "conditions=[(oil[\"Price\"]>93),(oil[\"Price\"]<93)]\n",
    "choices=[\"Yes\",\"No\"]\n",
    "oil[\"Yes/No\"]=np.select(conditions,choices,default=np.nan)"
   ],
   "metadata": {
    "collapsed": false
   }
  },
  {
   "cell_type": "code",
   "execution_count": 580,
   "outputs": [
    {
     "data": {
      "text/plain": "Yes    4\nNo     1\nName: Yes/No, dtype: int64"
     },
     "execution_count": 580,
     "metadata": {},
     "output_type": "execute_result"
    }
   ],
   "source": [
    "oil[\"Yes/No\"].value_counts()"
   ],
   "metadata": {
    "collapsed": false
   }
  },
  {
   "cell_type": "code",
   "execution_count": 581,
   "outputs": [
    {
     "data": {
      "text/plain": "   Price        Date  Yes/No\n1  93.14  2013-01-02       1\n2  92.97  2013-01-03       0\n3  93.12  2013-01-04       1\n4  93.20  2013-01-07       1\n5  93.21  2013-01-08       1",
      "text/html": "<div>\n<style scoped>\n    .dataframe tbody tr th:only-of-type {\n        vertical-align: middle;\n    }\n\n    .dataframe tbody tr th {\n        vertical-align: top;\n    }\n\n    .dataframe thead th {\n        text-align: right;\n    }\n</style>\n<table border=\"1\" class=\"dataframe\">\n  <thead>\n    <tr style=\"text-align: right;\">\n      <th></th>\n      <th>Price</th>\n      <th>Date</th>\n      <th>Yes/No</th>\n    </tr>\n  </thead>\n  <tbody>\n    <tr>\n      <th>1</th>\n      <td>93.14</td>\n      <td>2013-01-02</td>\n      <td>1</td>\n    </tr>\n    <tr>\n      <th>2</th>\n      <td>92.97</td>\n      <td>2013-01-03</td>\n      <td>0</td>\n    </tr>\n    <tr>\n      <th>3</th>\n      <td>93.12</td>\n      <td>2013-01-04</td>\n      <td>1</td>\n    </tr>\n    <tr>\n      <th>4</th>\n      <td>93.20</td>\n      <td>2013-01-07</td>\n      <td>1</td>\n    </tr>\n    <tr>\n      <th>5</th>\n      <td>93.21</td>\n      <td>2013-01-08</td>\n      <td>1</td>\n    </tr>\n  </tbody>\n</table>\n</div>"
     },
     "execution_count": 581,
     "metadata": {},
     "output_type": "execute_result"
    }
   ],
   "source": [
    "oil[\"Yes/No\"]=oil[\"Yes/No\"].map({\"Yes\":1,\"No\":0})\n",
    "oil"
   ],
   "metadata": {
    "collapsed": false
   }
  },
  {
   "cell_type": "code",
   "execution_count": 582,
   "outputs": [
    {
     "data": {
      "text/plain": "   Price        Date Yes/No\n1  93.14  2013-01-02   True\n2  92.97  2013-01-03  False\n3  93.12  2013-01-04   True\n4  93.20  2013-01-07   True\n5  93.21  2013-01-08   True",
      "text/html": "<div>\n<style scoped>\n    .dataframe tbody tr th:only-of-type {\n        vertical-align: middle;\n    }\n\n    .dataframe tbody tr th {\n        vertical-align: top;\n    }\n\n    .dataframe thead th {\n        text-align: right;\n    }\n</style>\n<table border=\"1\" class=\"dataframe\">\n  <thead>\n    <tr style=\"text-align: right;\">\n      <th></th>\n      <th>Price</th>\n      <th>Date</th>\n      <th>Yes/No</th>\n    </tr>\n  </thead>\n  <tbody>\n    <tr>\n      <th>1</th>\n      <td>93.14</td>\n      <td>2013-01-02</td>\n      <td>True</td>\n    </tr>\n    <tr>\n      <th>2</th>\n      <td>92.97</td>\n      <td>2013-01-03</td>\n      <td>False</td>\n    </tr>\n    <tr>\n      <th>3</th>\n      <td>93.12</td>\n      <td>2013-01-04</td>\n      <td>True</td>\n    </tr>\n    <tr>\n      <th>4</th>\n      <td>93.20</td>\n      <td>2013-01-07</td>\n      <td>True</td>\n    </tr>\n    <tr>\n      <th>5</th>\n      <td>93.21</td>\n      <td>2013-01-08</td>\n      <td>True</td>\n    </tr>\n  </tbody>\n</table>\n</div>"
     },
     "execution_count": 582,
     "metadata": {},
     "output_type": "execute_result"
    }
   ],
   "source": [
    "oil[\"Yes/No\"]=oil[\"Yes/No\"].map(lambda x: \"True\" if x==1 else \"False\")\n",
    "oil"
   ],
   "metadata": {
    "collapsed": false
   }
  },
  {
   "cell_type": "code",
   "execution_count": 532,
   "outputs": [],
   "source": [],
   "metadata": {
    "collapsed": false
   }
  }
 ],
 "metadata": {
  "kernelspec": {
   "display_name": "Python 3",
   "language": "python",
   "name": "python3"
  },
  "language_info": {
   "codemirror_mode": {
    "name": "ipython",
    "version": 2
   },
   "file_extension": ".py",
   "mimetype": "text/x-python",
   "name": "python",
   "nbconvert_exporter": "python",
   "pygments_lexer": "ipython2",
   "version": "2.7.6"
  }
 },
 "nbformat": 4,
 "nbformat_minor": 0
}
