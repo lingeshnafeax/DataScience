{
 "cells": [
  {
   "cell_type": "code",
   "execution_count": 3,
   "metadata": {
    "collapsed": true
   },
   "outputs": [
    {
     "data": {
      "text/plain": "        id        date  store_nbr      family  sales  onpromotion\n0  1945944  2016-01-01          1  AUTOMOTIVE    0.0            0\n1  1945945  2016-01-01          1   BABY CARE    0.0            0\n2  1945946  2016-01-01          1      BEAUTY    0.0            0\n3  1945947  2016-01-01          1   BEVERAGES    0.0            0\n4  1945948  2016-01-01          1       BOOKS    0.0            0",
      "text/html": "<div>\n<style scoped>\n    .dataframe tbody tr th:only-of-type {\n        vertical-align: middle;\n    }\n\n    .dataframe tbody tr th {\n        vertical-align: top;\n    }\n\n    .dataframe thead th {\n        text-align: right;\n    }\n</style>\n<table border=\"1\" class=\"dataframe\">\n  <thead>\n    <tr style=\"text-align: right;\">\n      <th></th>\n      <th>id</th>\n      <th>date</th>\n      <th>store_nbr</th>\n      <th>family</th>\n      <th>sales</th>\n      <th>onpromotion</th>\n    </tr>\n  </thead>\n  <tbody>\n    <tr>\n      <th>0</th>\n      <td>1945944</td>\n      <td>2016-01-01</td>\n      <td>1</td>\n      <td>AUTOMOTIVE</td>\n      <td>0.0</td>\n      <td>0</td>\n    </tr>\n    <tr>\n      <th>1</th>\n      <td>1945945</td>\n      <td>2016-01-01</td>\n      <td>1</td>\n      <td>BABY CARE</td>\n      <td>0.0</td>\n      <td>0</td>\n    </tr>\n    <tr>\n      <th>2</th>\n      <td>1945946</td>\n      <td>2016-01-01</td>\n      <td>1</td>\n      <td>BEAUTY</td>\n      <td>0.0</td>\n      <td>0</td>\n    </tr>\n    <tr>\n      <th>3</th>\n      <td>1945947</td>\n      <td>2016-01-01</td>\n      <td>1</td>\n      <td>BEVERAGES</td>\n      <td>0.0</td>\n      <td>0</td>\n    </tr>\n    <tr>\n      <th>4</th>\n      <td>1945948</td>\n      <td>2016-01-01</td>\n      <td>1</td>\n      <td>BOOKS</td>\n      <td>0.0</td>\n      <td>0</td>\n    </tr>\n  </tbody>\n</table>\n</div>"
     },
     "execution_count": 3,
     "metadata": {},
     "output_type": "execute_result"
    }
   ],
   "source": [
    "import pandas as pd\n",
    "\n",
    "df=pd.read_csv(\"retail_2016_2017.csv\")\n",
    "df.head()"
   ]
  },
  {
   "cell_type": "code",
   "execution_count": 16,
   "outputs": [
    {
     "data": {
      "text/plain": "family      store_nbr\nAUTOMOTIVE  1             2524.0\n            2             3918.0\n            3             6790.0\n            4             2565.0\n            5             3667.0\n                          ...   \nSEAFOOD     50           12774.0\n            51           34251.0\n            52            1219.0\n            53            3745.0\n            54            1082.0\nName: sales, Length: 1782, dtype: float64"
     },
     "execution_count": 16,
     "metadata": {},
     "output_type": "execute_result"
    }
   ],
   "source": [
    "sales=df.groupby([\"family\",\"store_nbr\"])[\"sales\"].sum().round()\n",
    "sales"
   ],
   "metadata": {
    "collapsed": false
   }
  },
  {
   "cell_type": "code",
   "execution_count": 40,
   "outputs": [
    {
     "data": {
      "text/plain": "family      store_nbr\nAUTOMOTIVE  10           1772.0\n            11           4387.0\n            12           3507.0\n            13           3499.0\n            14           2858.0\n                          ...  \nBABY CARE   50              0.0\n            51              0.0\n            52              0.0\n            53             22.0\n            54            198.0\nName: sales, Length: 90, dtype: float64"
     },
     "execution_count": 40,
     "metadata": {},
     "output_type": "execute_result"
    }
   ],
   "source": [
    "sales.loc[\"AUTOMOTIVE\":\"BABY CARE\",10:90]"
   ],
   "metadata": {
    "collapsed": false
   }
  },
  {
   "cell_type": "code",
   "execution_count": 67,
   "outputs": [],
   "source": [
    "sales=df.groupby([\"family\"],as_index=False).agg({\"sales\":[\"sum\",\"mean\"]}).round()"
   ],
   "metadata": {
    "collapsed": false
   }
  },
  {
   "cell_type": "code",
   "execution_count": 70,
   "outputs": [
    {
     "data": {
      "text/plain": "                        family        sales        \n                                        sum    mean\n0                   AUTOMOTIVE     226139.0     7.0\n1                    BABY CARE       7903.0     0.0\n2                       BEAUTY     166189.0     5.0\n3                    BEVERAGES  105700279.0  3306.0\n4                        BOOKS       6438.0     0.0\n5                 BREAD/BAKERY   17092978.0   535.0\n6                  CELEBRATION     444901.0    14.0\n7                     CLEANING   38127743.0  1193.0\n8                        DAIRY   28422893.0   889.0\n9                         DELI    9617777.0   301.0\n10                        EGGS    6054283.0   189.0\n11                FROZEN FOODS    5176584.0   162.0\n12                   GROCERY I  143227476.0  4480.0\n13                  GROCERY II     726125.0    23.0\n14                    HARDWARE      41324.0     1.0\n15          HOME AND KITCHEN I     989836.0    31.0\n16         HOME AND KITCHEN II     886210.0    28.0\n17             HOME APPLIANCES      13526.0     0.0\n18                   HOME CARE    9393716.0   294.0\n19                  LADIESWEAR     368644.0    12.0\n20             LAWN AND GARDEN     323517.0    10.0\n21                    LINGERIE     195700.0     6.0\n22            LIQUOR,WINE,BEER    3006663.0    94.0\n23                   MAGAZINES     203037.0     6.0\n24                       MEATS   11551426.0   361.0\n25               PERSONAL CARE   10193693.0   319.0\n26                PET SUPPLIES     236811.0     7.0\n27     PLAYERS AND ELECTRONICS     339133.0    11.0\n28                     POULTRY   12375952.0   387.0\n29              PREPARED FOODS    3308046.0   103.0\n30                     PRODUCE   73523507.0  2300.0\n31  SCHOOL AND OFFICE SUPPLIES     193994.0     6.0\n32                     SEAFOOD     729149.0    23.0",
      "text/html": "<div>\n<style scoped>\n    .dataframe tbody tr th:only-of-type {\n        vertical-align: middle;\n    }\n\n    .dataframe tbody tr th {\n        vertical-align: top;\n    }\n\n    .dataframe thead tr th {\n        text-align: left;\n    }\n</style>\n<table border=\"1\" class=\"dataframe\">\n  <thead>\n    <tr>\n      <th></th>\n      <th>family</th>\n      <th colspan=\"2\" halign=\"left\">sales</th>\n    </tr>\n    <tr>\n      <th></th>\n      <th></th>\n      <th>sum</th>\n      <th>mean</th>\n    </tr>\n  </thead>\n  <tbody>\n    <tr>\n      <th>0</th>\n      <td>AUTOMOTIVE</td>\n      <td>226139.0</td>\n      <td>7.0</td>\n    </tr>\n    <tr>\n      <th>1</th>\n      <td>BABY CARE</td>\n      <td>7903.0</td>\n      <td>0.0</td>\n    </tr>\n    <tr>\n      <th>2</th>\n      <td>BEAUTY</td>\n      <td>166189.0</td>\n      <td>5.0</td>\n    </tr>\n    <tr>\n      <th>3</th>\n      <td>BEVERAGES</td>\n      <td>105700279.0</td>\n      <td>3306.0</td>\n    </tr>\n    <tr>\n      <th>4</th>\n      <td>BOOKS</td>\n      <td>6438.0</td>\n      <td>0.0</td>\n    </tr>\n    <tr>\n      <th>5</th>\n      <td>BREAD/BAKERY</td>\n      <td>17092978.0</td>\n      <td>535.0</td>\n    </tr>\n    <tr>\n      <th>6</th>\n      <td>CELEBRATION</td>\n      <td>444901.0</td>\n      <td>14.0</td>\n    </tr>\n    <tr>\n      <th>7</th>\n      <td>CLEANING</td>\n      <td>38127743.0</td>\n      <td>1193.0</td>\n    </tr>\n    <tr>\n      <th>8</th>\n      <td>DAIRY</td>\n      <td>28422893.0</td>\n      <td>889.0</td>\n    </tr>\n    <tr>\n      <th>9</th>\n      <td>DELI</td>\n      <td>9617777.0</td>\n      <td>301.0</td>\n    </tr>\n    <tr>\n      <th>10</th>\n      <td>EGGS</td>\n      <td>6054283.0</td>\n      <td>189.0</td>\n    </tr>\n    <tr>\n      <th>11</th>\n      <td>FROZEN FOODS</td>\n      <td>5176584.0</td>\n      <td>162.0</td>\n    </tr>\n    <tr>\n      <th>12</th>\n      <td>GROCERY I</td>\n      <td>143227476.0</td>\n      <td>4480.0</td>\n    </tr>\n    <tr>\n      <th>13</th>\n      <td>GROCERY II</td>\n      <td>726125.0</td>\n      <td>23.0</td>\n    </tr>\n    <tr>\n      <th>14</th>\n      <td>HARDWARE</td>\n      <td>41324.0</td>\n      <td>1.0</td>\n    </tr>\n    <tr>\n      <th>15</th>\n      <td>HOME AND KITCHEN I</td>\n      <td>989836.0</td>\n      <td>31.0</td>\n    </tr>\n    <tr>\n      <th>16</th>\n      <td>HOME AND KITCHEN II</td>\n      <td>886210.0</td>\n      <td>28.0</td>\n    </tr>\n    <tr>\n      <th>17</th>\n      <td>HOME APPLIANCES</td>\n      <td>13526.0</td>\n      <td>0.0</td>\n    </tr>\n    <tr>\n      <th>18</th>\n      <td>HOME CARE</td>\n      <td>9393716.0</td>\n      <td>294.0</td>\n    </tr>\n    <tr>\n      <th>19</th>\n      <td>LADIESWEAR</td>\n      <td>368644.0</td>\n      <td>12.0</td>\n    </tr>\n    <tr>\n      <th>20</th>\n      <td>LAWN AND GARDEN</td>\n      <td>323517.0</td>\n      <td>10.0</td>\n    </tr>\n    <tr>\n      <th>21</th>\n      <td>LINGERIE</td>\n      <td>195700.0</td>\n      <td>6.0</td>\n    </tr>\n    <tr>\n      <th>22</th>\n      <td>LIQUOR,WINE,BEER</td>\n      <td>3006663.0</td>\n      <td>94.0</td>\n    </tr>\n    <tr>\n      <th>23</th>\n      <td>MAGAZINES</td>\n      <td>203037.0</td>\n      <td>6.0</td>\n    </tr>\n    <tr>\n      <th>24</th>\n      <td>MEATS</td>\n      <td>11551426.0</td>\n      <td>361.0</td>\n    </tr>\n    <tr>\n      <th>25</th>\n      <td>PERSONAL CARE</td>\n      <td>10193693.0</td>\n      <td>319.0</td>\n    </tr>\n    <tr>\n      <th>26</th>\n      <td>PET SUPPLIES</td>\n      <td>236811.0</td>\n      <td>7.0</td>\n    </tr>\n    <tr>\n      <th>27</th>\n      <td>PLAYERS AND ELECTRONICS</td>\n      <td>339133.0</td>\n      <td>11.0</td>\n    </tr>\n    <tr>\n      <th>28</th>\n      <td>POULTRY</td>\n      <td>12375952.0</td>\n      <td>387.0</td>\n    </tr>\n    <tr>\n      <th>29</th>\n      <td>PREPARED FOODS</td>\n      <td>3308046.0</td>\n      <td>103.0</td>\n    </tr>\n    <tr>\n      <th>30</th>\n      <td>PRODUCE</td>\n      <td>73523507.0</td>\n      <td>2300.0</td>\n    </tr>\n    <tr>\n      <th>31</th>\n      <td>SCHOOL AND OFFICE SUPPLIES</td>\n      <td>193994.0</td>\n      <td>6.0</td>\n    </tr>\n    <tr>\n      <th>32</th>\n      <td>SEAFOOD</td>\n      <td>729149.0</td>\n      <td>23.0</td>\n    </tr>\n  </tbody>\n</table>\n</div>"
     },
     "execution_count": 70,
     "metadata": {},
     "output_type": "execute_result"
    }
   ],
   "source": [
    "sales.index"
   ],
   "metadata": {
    "collapsed": false
   }
  },
  {
   "cell_type": "code",
   "execution_count": 69,
   "outputs": [
    {
     "data": {
      "text/plain": "                        family        sales        \n                                        sum    mean\n12                   GROCERY I  143227476.0  4480.0\n3                    BEVERAGES  105700279.0  3306.0\n30                     PRODUCE   73523507.0  2300.0\n7                     CLEANING   38127743.0  1193.0\n8                        DAIRY   28422893.0   889.0\n5                 BREAD/BAKERY   17092978.0   535.0\n28                     POULTRY   12375952.0   387.0\n24                       MEATS   11551426.0   361.0\n25               PERSONAL CARE   10193693.0   319.0\n9                         DELI    9617777.0   301.0\n18                   HOME CARE    9393716.0   294.0\n10                        EGGS    6054283.0   189.0\n11                FROZEN FOODS    5176584.0   162.0\n29              PREPARED FOODS    3308046.0   103.0\n22            LIQUOR,WINE,BEER    3006663.0    94.0\n15          HOME AND KITCHEN I     989836.0    31.0\n16         HOME AND KITCHEN II     886210.0    28.0\n32                     SEAFOOD     729149.0    23.0\n13                  GROCERY II     726125.0    23.0\n6                  CELEBRATION     444901.0    14.0\n19                  LADIESWEAR     368644.0    12.0\n27     PLAYERS AND ELECTRONICS     339133.0    11.0\n20             LAWN AND GARDEN     323517.0    10.0\n26                PET SUPPLIES     236811.0     7.0\n0                   AUTOMOTIVE     226139.0     7.0\n23                   MAGAZINES     203037.0     6.0\n21                    LINGERIE     195700.0     6.0\n31  SCHOOL AND OFFICE SUPPLIES     193994.0     6.0\n2                       BEAUTY     166189.0     5.0\n14                    HARDWARE      41324.0     1.0\n17             HOME APPLIANCES      13526.0     0.0\n1                    BABY CARE       7903.0     0.0\n4                        BOOKS       6438.0     0.0",
      "text/html": "<div>\n<style scoped>\n    .dataframe tbody tr th:only-of-type {\n        vertical-align: middle;\n    }\n\n    .dataframe tbody tr th {\n        vertical-align: top;\n    }\n\n    .dataframe thead tr th {\n        text-align: left;\n    }\n</style>\n<table border=\"1\" class=\"dataframe\">\n  <thead>\n    <tr>\n      <th></th>\n      <th>family</th>\n      <th colspan=\"2\" halign=\"left\">sales</th>\n    </tr>\n    <tr>\n      <th></th>\n      <th></th>\n      <th>sum</th>\n      <th>mean</th>\n    </tr>\n  </thead>\n  <tbody>\n    <tr>\n      <th>12</th>\n      <td>GROCERY I</td>\n      <td>143227476.0</td>\n      <td>4480.0</td>\n    </tr>\n    <tr>\n      <th>3</th>\n      <td>BEVERAGES</td>\n      <td>105700279.0</td>\n      <td>3306.0</td>\n    </tr>\n    <tr>\n      <th>30</th>\n      <td>PRODUCE</td>\n      <td>73523507.0</td>\n      <td>2300.0</td>\n    </tr>\n    <tr>\n      <th>7</th>\n      <td>CLEANING</td>\n      <td>38127743.0</td>\n      <td>1193.0</td>\n    </tr>\n    <tr>\n      <th>8</th>\n      <td>DAIRY</td>\n      <td>28422893.0</td>\n      <td>889.0</td>\n    </tr>\n    <tr>\n      <th>5</th>\n      <td>BREAD/BAKERY</td>\n      <td>17092978.0</td>\n      <td>535.0</td>\n    </tr>\n    <tr>\n      <th>28</th>\n      <td>POULTRY</td>\n      <td>12375952.0</td>\n      <td>387.0</td>\n    </tr>\n    <tr>\n      <th>24</th>\n      <td>MEATS</td>\n      <td>11551426.0</td>\n      <td>361.0</td>\n    </tr>\n    <tr>\n      <th>25</th>\n      <td>PERSONAL CARE</td>\n      <td>10193693.0</td>\n      <td>319.0</td>\n    </tr>\n    <tr>\n      <th>9</th>\n      <td>DELI</td>\n      <td>9617777.0</td>\n      <td>301.0</td>\n    </tr>\n    <tr>\n      <th>18</th>\n      <td>HOME CARE</td>\n      <td>9393716.0</td>\n      <td>294.0</td>\n    </tr>\n    <tr>\n      <th>10</th>\n      <td>EGGS</td>\n      <td>6054283.0</td>\n      <td>189.0</td>\n    </tr>\n    <tr>\n      <th>11</th>\n      <td>FROZEN FOODS</td>\n      <td>5176584.0</td>\n      <td>162.0</td>\n    </tr>\n    <tr>\n      <th>29</th>\n      <td>PREPARED FOODS</td>\n      <td>3308046.0</td>\n      <td>103.0</td>\n    </tr>\n    <tr>\n      <th>22</th>\n      <td>LIQUOR,WINE,BEER</td>\n      <td>3006663.0</td>\n      <td>94.0</td>\n    </tr>\n    <tr>\n      <th>15</th>\n      <td>HOME AND KITCHEN I</td>\n      <td>989836.0</td>\n      <td>31.0</td>\n    </tr>\n    <tr>\n      <th>16</th>\n      <td>HOME AND KITCHEN II</td>\n      <td>886210.0</td>\n      <td>28.0</td>\n    </tr>\n    <tr>\n      <th>32</th>\n      <td>SEAFOOD</td>\n      <td>729149.0</td>\n      <td>23.0</td>\n    </tr>\n    <tr>\n      <th>13</th>\n      <td>GROCERY II</td>\n      <td>726125.0</td>\n      <td>23.0</td>\n    </tr>\n    <tr>\n      <th>6</th>\n      <td>CELEBRATION</td>\n      <td>444901.0</td>\n      <td>14.0</td>\n    </tr>\n    <tr>\n      <th>19</th>\n      <td>LADIESWEAR</td>\n      <td>368644.0</td>\n      <td>12.0</td>\n    </tr>\n    <tr>\n      <th>27</th>\n      <td>PLAYERS AND ELECTRONICS</td>\n      <td>339133.0</td>\n      <td>11.0</td>\n    </tr>\n    <tr>\n      <th>20</th>\n      <td>LAWN AND GARDEN</td>\n      <td>323517.0</td>\n      <td>10.0</td>\n    </tr>\n    <tr>\n      <th>26</th>\n      <td>PET SUPPLIES</td>\n      <td>236811.0</td>\n      <td>7.0</td>\n    </tr>\n    <tr>\n      <th>0</th>\n      <td>AUTOMOTIVE</td>\n      <td>226139.0</td>\n      <td>7.0</td>\n    </tr>\n    <tr>\n      <th>23</th>\n      <td>MAGAZINES</td>\n      <td>203037.0</td>\n      <td>6.0</td>\n    </tr>\n    <tr>\n      <th>21</th>\n      <td>LINGERIE</td>\n      <td>195700.0</td>\n      <td>6.0</td>\n    </tr>\n    <tr>\n      <th>31</th>\n      <td>SCHOOL AND OFFICE SUPPLIES</td>\n      <td>193994.0</td>\n      <td>6.0</td>\n    </tr>\n    <tr>\n      <th>2</th>\n      <td>BEAUTY</td>\n      <td>166189.0</td>\n      <td>5.0</td>\n    </tr>\n    <tr>\n      <th>14</th>\n      <td>HARDWARE</td>\n      <td>41324.0</td>\n      <td>1.0</td>\n    </tr>\n    <tr>\n      <th>17</th>\n      <td>HOME APPLIANCES</td>\n      <td>13526.0</td>\n      <td>0.0</td>\n    </tr>\n    <tr>\n      <th>1</th>\n      <td>BABY CARE</td>\n      <td>7903.0</td>\n      <td>0.0</td>\n    </tr>\n    <tr>\n      <th>4</th>\n      <td>BOOKS</td>\n      <td>6438.0</td>\n      <td>0.0</td>\n    </tr>\n  </tbody>\n</table>\n</div>"
     },
     "execution_count": 69,
     "metadata": {},
     "output_type": "execute_result"
    }
   ],
   "source": [
    "sales.sort_values(by=[(\"sales\",\"sum\")],ascending=False)"
   ],
   "metadata": {
    "collapsed": false
   }
  },
  {
   "cell_type": "code",
   "execution_count": null,
   "outputs": [],
   "source": [],
   "metadata": {
    "collapsed": false
   }
  }
 ],
 "metadata": {
  "kernelspec": {
   "display_name": "Python 3",
   "language": "python",
   "name": "python3"
  },
  "language_info": {
   "codemirror_mode": {
    "name": "ipython",
    "version": 2
   },
   "file_extension": ".py",
   "mimetype": "text/x-python",
   "name": "python",
   "nbconvert_exporter": "python",
   "pygments_lexer": "ipython2",
   "version": "2.7.6"
  }
 },
 "nbformat": 4,
 "nbformat_minor": 0
}
