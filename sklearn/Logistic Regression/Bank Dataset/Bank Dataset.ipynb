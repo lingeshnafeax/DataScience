{
 "cells": [
  {
   "cell_type": "markdown",
   "source": [
    "# Bank Dataset"
   ],
   "metadata": {
    "collapsed": false
   }
  },
  {
   "cell_type": "code",
   "execution_count": 18,
   "outputs": [],
   "source": [
    "import numpy as np\n",
    "import pandas as pd\n",
    "from sklearn.linear_model import LogisticRegression\n",
    "from sklearn.preprocessing import StandardScaler\n",
    "from sklearn.model_selection import train_test_split\n",
    "import matplotlib.pyplot as plt\n",
    "import seaborn as sns\n",
    "sns.set()"
   ],
   "metadata": {
    "collapsed": false
   }
  },
  {
   "cell_type": "markdown",
   "source": [
    "## Loading the dataset"
   ],
   "metadata": {
    "collapsed": false
   }
  },
  {
   "cell_type": "code",
   "execution_count": 11,
   "outputs": [
    {
     "data": {
      "text/plain": "   Unnamed: 0  interest_rate  credit  march  may  previous  duration    y\n0           0          1.334     0.0    1.0  0.0       0.0     117.0   no\n1           1          0.767     0.0    0.0  2.0       1.0     274.0  yes\n2           2          4.858     0.0    1.0  0.0       0.0     167.0   no\n3           3          4.120     0.0    0.0  0.0       0.0     686.0  yes\n4           4          4.856     0.0    1.0  0.0       0.0     157.0   no\n5           5          0.899     0.0    0.0  1.0       0.0     126.0   no\n6           6          4.962     0.0    0.0  0.0       0.0      84.0   no\n7           7          4.858     0.0    1.0  0.0       0.0      17.0   no\n8           8          4.962     0.0    0.0  0.0       0.0     704.0  yes\n9           9          4.865     0.0    0.0  0.0       0.0     185.0   no",
      "text/html": "<div>\n<style scoped>\n    .dataframe tbody tr th:only-of-type {\n        vertical-align: middle;\n    }\n\n    .dataframe tbody tr th {\n        vertical-align: top;\n    }\n\n    .dataframe thead th {\n        text-align: right;\n    }\n</style>\n<table border=\"1\" class=\"dataframe\">\n  <thead>\n    <tr style=\"text-align: right;\">\n      <th></th>\n      <th>Unnamed: 0</th>\n      <th>interest_rate</th>\n      <th>credit</th>\n      <th>march</th>\n      <th>may</th>\n      <th>previous</th>\n      <th>duration</th>\n      <th>y</th>\n    </tr>\n  </thead>\n  <tbody>\n    <tr>\n      <th>0</th>\n      <td>0</td>\n      <td>1.334</td>\n      <td>0.0</td>\n      <td>1.0</td>\n      <td>0.0</td>\n      <td>0.0</td>\n      <td>117.0</td>\n      <td>no</td>\n    </tr>\n    <tr>\n      <th>1</th>\n      <td>1</td>\n      <td>0.767</td>\n      <td>0.0</td>\n      <td>0.0</td>\n      <td>2.0</td>\n      <td>1.0</td>\n      <td>274.0</td>\n      <td>yes</td>\n    </tr>\n    <tr>\n      <th>2</th>\n      <td>2</td>\n      <td>4.858</td>\n      <td>0.0</td>\n      <td>1.0</td>\n      <td>0.0</td>\n      <td>0.0</td>\n      <td>167.0</td>\n      <td>no</td>\n    </tr>\n    <tr>\n      <th>3</th>\n      <td>3</td>\n      <td>4.120</td>\n      <td>0.0</td>\n      <td>0.0</td>\n      <td>0.0</td>\n      <td>0.0</td>\n      <td>686.0</td>\n      <td>yes</td>\n    </tr>\n    <tr>\n      <th>4</th>\n      <td>4</td>\n      <td>4.856</td>\n      <td>0.0</td>\n      <td>1.0</td>\n      <td>0.0</td>\n      <td>0.0</td>\n      <td>157.0</td>\n      <td>no</td>\n    </tr>\n    <tr>\n      <th>5</th>\n      <td>5</td>\n      <td>0.899</td>\n      <td>0.0</td>\n      <td>0.0</td>\n      <td>1.0</td>\n      <td>0.0</td>\n      <td>126.0</td>\n      <td>no</td>\n    </tr>\n    <tr>\n      <th>6</th>\n      <td>6</td>\n      <td>4.962</td>\n      <td>0.0</td>\n      <td>0.0</td>\n      <td>0.0</td>\n      <td>0.0</td>\n      <td>84.0</td>\n      <td>no</td>\n    </tr>\n    <tr>\n      <th>7</th>\n      <td>7</td>\n      <td>4.858</td>\n      <td>0.0</td>\n      <td>1.0</td>\n      <td>0.0</td>\n      <td>0.0</td>\n      <td>17.0</td>\n      <td>no</td>\n    </tr>\n    <tr>\n      <th>8</th>\n      <td>8</td>\n      <td>4.962</td>\n      <td>0.0</td>\n      <td>0.0</td>\n      <td>0.0</td>\n      <td>0.0</td>\n      <td>704.0</td>\n      <td>yes</td>\n    </tr>\n    <tr>\n      <th>9</th>\n      <td>9</td>\n      <td>4.865</td>\n      <td>0.0</td>\n      <td>0.0</td>\n      <td>0.0</td>\n      <td>0.0</td>\n      <td>185.0</td>\n      <td>no</td>\n    </tr>\n  </tbody>\n</table>\n</div>"
     },
     "execution_count": 11,
     "metadata": {},
     "output_type": "execute_result"
    }
   ],
   "source": [
    "data=pd.read_csv(\"15451939-Bank-data.csv\")\n",
    "data.head(10)"
   ],
   "metadata": {
    "collapsed": false
   }
  },
  {
   "cell_type": "code",
   "execution_count": 12,
   "outputs": [
    {
     "data": {
      "text/plain": "   interest_rate  credit  march  may  previous  duration    y\n0          1.334     0.0    1.0  0.0       0.0     117.0   no\n1          0.767     0.0    0.0  2.0       1.0     274.0  yes\n2          4.858     0.0    1.0  0.0       0.0     167.0   no\n3          4.120     0.0    0.0  0.0       0.0     686.0  yes\n4          4.856     0.0    1.0  0.0       0.0     157.0   no",
      "text/html": "<div>\n<style scoped>\n    .dataframe tbody tr th:only-of-type {\n        vertical-align: middle;\n    }\n\n    .dataframe tbody tr th {\n        vertical-align: top;\n    }\n\n    .dataframe thead th {\n        text-align: right;\n    }\n</style>\n<table border=\"1\" class=\"dataframe\">\n  <thead>\n    <tr style=\"text-align: right;\">\n      <th></th>\n      <th>interest_rate</th>\n      <th>credit</th>\n      <th>march</th>\n      <th>may</th>\n      <th>previous</th>\n      <th>duration</th>\n      <th>y</th>\n    </tr>\n  </thead>\n  <tbody>\n    <tr>\n      <th>0</th>\n      <td>1.334</td>\n      <td>0.0</td>\n      <td>1.0</td>\n      <td>0.0</td>\n      <td>0.0</td>\n      <td>117.0</td>\n      <td>no</td>\n    </tr>\n    <tr>\n      <th>1</th>\n      <td>0.767</td>\n      <td>0.0</td>\n      <td>0.0</td>\n      <td>2.0</td>\n      <td>1.0</td>\n      <td>274.0</td>\n      <td>yes</td>\n    </tr>\n    <tr>\n      <th>2</th>\n      <td>4.858</td>\n      <td>0.0</td>\n      <td>1.0</td>\n      <td>0.0</td>\n      <td>0.0</td>\n      <td>167.0</td>\n      <td>no</td>\n    </tr>\n    <tr>\n      <th>3</th>\n      <td>4.120</td>\n      <td>0.0</td>\n      <td>0.0</td>\n      <td>0.0</td>\n      <td>0.0</td>\n      <td>686.0</td>\n      <td>yes</td>\n    </tr>\n    <tr>\n      <th>4</th>\n      <td>4.856</td>\n      <td>0.0</td>\n      <td>1.0</td>\n      <td>0.0</td>\n      <td>0.0</td>\n      <td>157.0</td>\n      <td>no</td>\n    </tr>\n  </tbody>\n</table>\n</div>"
     },
     "execution_count": 12,
     "metadata": {},
     "output_type": "execute_result"
    }
   ],
   "source": [
    "data=data.drop([\"Unnamed: 0\"],axis=1)\n",
    "data.head()"
   ],
   "metadata": {
    "collapsed": false
   }
  },
  {
   "cell_type": "code",
   "execution_count": 13,
   "outputs": [],
   "source": [
    "data[\"y\"]=data[\"y\"].map({\"yes\":1,\"no\":0})"
   ],
   "metadata": {
    "collapsed": false
   }
  },
  {
   "cell_type": "code",
   "execution_count": 14,
   "outputs": [
    {
     "data": {
      "text/plain": "       interest_rate      credit       march         may    previous  \\\ncount     518.000000  518.000000  518.000000  518.000000  518.000000   \nmean        2.835776    0.034749    0.266409    0.388031    0.127413   \nstd         1.876903    0.183321    0.442508    0.814527    0.333758   \nmin         0.635000    0.000000    0.000000    0.000000    0.000000   \n25%         1.042750    0.000000    0.000000    0.000000    0.000000   \n50%         1.466000    0.000000    0.000000    0.000000    0.000000   \n75%         4.956500    0.000000    1.000000    0.000000    0.000000   \nmax         4.970000    1.000000    1.000000    5.000000    1.000000   \n\n          duration           y  \ncount   518.000000  518.000000  \nmean    382.177606    0.500000  \nstd     344.295990    0.500483  \nmin       9.000000    0.000000  \n25%     155.000000    0.000000  \n50%     266.500000    0.500000  \n75%     482.750000    1.000000  \nmax    2653.000000    1.000000  ",
      "text/html": "<div>\n<style scoped>\n    .dataframe tbody tr th:only-of-type {\n        vertical-align: middle;\n    }\n\n    .dataframe tbody tr th {\n        vertical-align: top;\n    }\n\n    .dataframe thead th {\n        text-align: right;\n    }\n</style>\n<table border=\"1\" class=\"dataframe\">\n  <thead>\n    <tr style=\"text-align: right;\">\n      <th></th>\n      <th>interest_rate</th>\n      <th>credit</th>\n      <th>march</th>\n      <th>may</th>\n      <th>previous</th>\n      <th>duration</th>\n      <th>y</th>\n    </tr>\n  </thead>\n  <tbody>\n    <tr>\n      <th>count</th>\n      <td>518.000000</td>\n      <td>518.000000</td>\n      <td>518.000000</td>\n      <td>518.000000</td>\n      <td>518.000000</td>\n      <td>518.000000</td>\n      <td>518.000000</td>\n    </tr>\n    <tr>\n      <th>mean</th>\n      <td>2.835776</td>\n      <td>0.034749</td>\n      <td>0.266409</td>\n      <td>0.388031</td>\n      <td>0.127413</td>\n      <td>382.177606</td>\n      <td>0.500000</td>\n    </tr>\n    <tr>\n      <th>std</th>\n      <td>1.876903</td>\n      <td>0.183321</td>\n      <td>0.442508</td>\n      <td>0.814527</td>\n      <td>0.333758</td>\n      <td>344.295990</td>\n      <td>0.500483</td>\n    </tr>\n    <tr>\n      <th>min</th>\n      <td>0.635000</td>\n      <td>0.000000</td>\n      <td>0.000000</td>\n      <td>0.000000</td>\n      <td>0.000000</td>\n      <td>9.000000</td>\n      <td>0.000000</td>\n    </tr>\n    <tr>\n      <th>25%</th>\n      <td>1.042750</td>\n      <td>0.000000</td>\n      <td>0.000000</td>\n      <td>0.000000</td>\n      <td>0.000000</td>\n      <td>155.000000</td>\n      <td>0.000000</td>\n    </tr>\n    <tr>\n      <th>50%</th>\n      <td>1.466000</td>\n      <td>0.000000</td>\n      <td>0.000000</td>\n      <td>0.000000</td>\n      <td>0.000000</td>\n      <td>266.500000</td>\n      <td>0.500000</td>\n    </tr>\n    <tr>\n      <th>75%</th>\n      <td>4.956500</td>\n      <td>0.000000</td>\n      <td>1.000000</td>\n      <td>0.000000</td>\n      <td>0.000000</td>\n      <td>482.750000</td>\n      <td>1.000000</td>\n    </tr>\n    <tr>\n      <th>max</th>\n      <td>4.970000</td>\n      <td>1.000000</td>\n      <td>1.000000</td>\n      <td>5.000000</td>\n      <td>1.000000</td>\n      <td>2653.000000</td>\n      <td>1.000000</td>\n    </tr>\n  </tbody>\n</table>\n</div>"
     },
     "execution_count": 14,
     "metadata": {},
     "output_type": "execute_result"
    }
   ],
   "source": [
    "data.describe(include=\"all\")"
   ],
   "metadata": {
    "collapsed": false
   }
  },
  {
   "cell_type": "code",
   "execution_count": 15,
   "outputs": [
    {
     "data": {
      "text/plain": "interest_rate    0\ncredit           0\nmarch            0\nmay              0\nprevious         0\nduration         0\ny                0\ndtype: int64"
     },
     "execution_count": 15,
     "metadata": {},
     "output_type": "execute_result"
    }
   ],
   "source": [
    "data.isna().sum()"
   ],
   "metadata": {
    "collapsed": false
   }
  },
  {
   "cell_type": "markdown",
   "source": [
    "## Regression\n",
    "### Split the data"
   ],
   "metadata": {
    "collapsed": false
   }
  },
  {
   "cell_type": "code",
   "execution_count": 16,
   "outputs": [
    {
     "data": {
      "text/plain": "     interest_rate  credit  march  may  previous  duration\n0            1.334     0.0    1.0  0.0       0.0     117.0\n1            0.767     0.0    0.0  2.0       1.0     274.0\n2            4.858     0.0    1.0  0.0       0.0     167.0\n3            4.120     0.0    0.0  0.0       0.0     686.0\n4            4.856     0.0    1.0  0.0       0.0     157.0\n..             ...     ...    ...  ...       ...       ...\n513          1.334     0.0    1.0  0.0       0.0     204.0\n514          0.861     0.0    0.0  2.0       1.0     806.0\n515          0.879     0.0    0.0  0.0       0.0     290.0\n516          0.877     0.0    0.0  5.0       1.0     473.0\n517          4.965     0.0    0.0  0.0       0.0     142.0\n\n[518 rows x 6 columns]",
      "text/html": "<div>\n<style scoped>\n    .dataframe tbody tr th:only-of-type {\n        vertical-align: middle;\n    }\n\n    .dataframe tbody tr th {\n        vertical-align: top;\n    }\n\n    .dataframe thead th {\n        text-align: right;\n    }\n</style>\n<table border=\"1\" class=\"dataframe\">\n  <thead>\n    <tr style=\"text-align: right;\">\n      <th></th>\n      <th>interest_rate</th>\n      <th>credit</th>\n      <th>march</th>\n      <th>may</th>\n      <th>previous</th>\n      <th>duration</th>\n    </tr>\n  </thead>\n  <tbody>\n    <tr>\n      <th>0</th>\n      <td>1.334</td>\n      <td>0.0</td>\n      <td>1.0</td>\n      <td>0.0</td>\n      <td>0.0</td>\n      <td>117.0</td>\n    </tr>\n    <tr>\n      <th>1</th>\n      <td>0.767</td>\n      <td>0.0</td>\n      <td>0.0</td>\n      <td>2.0</td>\n      <td>1.0</td>\n      <td>274.0</td>\n    </tr>\n    <tr>\n      <th>2</th>\n      <td>4.858</td>\n      <td>0.0</td>\n      <td>1.0</td>\n      <td>0.0</td>\n      <td>0.0</td>\n      <td>167.0</td>\n    </tr>\n    <tr>\n      <th>3</th>\n      <td>4.120</td>\n      <td>0.0</td>\n      <td>0.0</td>\n      <td>0.0</td>\n      <td>0.0</td>\n      <td>686.0</td>\n    </tr>\n    <tr>\n      <th>4</th>\n      <td>4.856</td>\n      <td>0.0</td>\n      <td>1.0</td>\n      <td>0.0</td>\n      <td>0.0</td>\n      <td>157.0</td>\n    </tr>\n    <tr>\n      <th>...</th>\n      <td>...</td>\n      <td>...</td>\n      <td>...</td>\n      <td>...</td>\n      <td>...</td>\n      <td>...</td>\n    </tr>\n    <tr>\n      <th>513</th>\n      <td>1.334</td>\n      <td>0.0</td>\n      <td>1.0</td>\n      <td>0.0</td>\n      <td>0.0</td>\n      <td>204.0</td>\n    </tr>\n    <tr>\n      <th>514</th>\n      <td>0.861</td>\n      <td>0.0</td>\n      <td>0.0</td>\n      <td>2.0</td>\n      <td>1.0</td>\n      <td>806.0</td>\n    </tr>\n    <tr>\n      <th>515</th>\n      <td>0.879</td>\n      <td>0.0</td>\n      <td>0.0</td>\n      <td>0.0</td>\n      <td>0.0</td>\n      <td>290.0</td>\n    </tr>\n    <tr>\n      <th>516</th>\n      <td>0.877</td>\n      <td>0.0</td>\n      <td>0.0</td>\n      <td>5.0</td>\n      <td>1.0</td>\n      <td>473.0</td>\n    </tr>\n    <tr>\n      <th>517</th>\n      <td>4.965</td>\n      <td>0.0</td>\n      <td>0.0</td>\n      <td>0.0</td>\n      <td>0.0</td>\n      <td>142.0</td>\n    </tr>\n  </tbody>\n</table>\n<p>518 rows × 6 columns</p>\n</div>"
     },
     "execution_count": 16,
     "metadata": {},
     "output_type": "execute_result"
    }
   ],
   "source": [
    "y=data[\"y\"]\n",
    "x=data.drop([\"y\"],axis=1)\n",
    "x"
   ],
   "metadata": {
    "collapsed": false
   }
  },
  {
   "cell_type": "markdown",
   "source": [
    "### Scale the data"
   ],
   "metadata": {
    "collapsed": false
   }
  },
  {
   "cell_type": "code",
   "execution_count": 17,
   "outputs": [
    {
     "data": {
      "text/plain": "array([[-0.80090846, -0.18973666,  1.65940447, -0.47684853, -0.38212262,\n        -0.77094694],\n       [-1.10329382, -0.18973666, -0.60262583,  1.98093794,  2.61696099,\n        -0.31450316],\n       [ 1.07846723, -0.18973666,  1.65940447, -0.47684853, -0.38212262,\n        -0.62558268],\n       ...,\n       [-1.04356338, -0.18973666, -0.60262583, -0.47684853, -0.38212262,\n        -0.26798659],\n       [-1.04463   , -0.18973666, -0.60262583,  5.66761764,  2.61696099,\n         0.26404661],\n       [ 1.13553113, -0.18973666, -0.60262583, -0.47684853, -0.38212262,\n        -0.69826481]])"
     },
     "execution_count": 17,
     "metadata": {},
     "output_type": "execute_result"
    }
   ],
   "source": [
    "scaler=StandardScaler()\n",
    "scaler.fit(x)\n",
    "x_scaled=scaler.transform(x)\n",
    "x_scaled"
   ],
   "metadata": {
    "collapsed": false
   }
  },
  {
   "cell_type": "markdown",
   "source": [
    "### Train test split"
   ],
   "metadata": {
    "collapsed": false
   }
  },
  {
   "cell_type": "code",
   "execution_count": 19,
   "outputs": [],
   "source": [
    "x_train,x_test,y_train,y_test=train_test_split(x_scaled,y,test_size=0.2,random_state=42)"
   ],
   "metadata": {
    "collapsed": false
   }
  },
  {
   "cell_type": "code",
   "execution_count": 25,
   "outputs": [
    {
     "data": {
      "text/plain": "{'C': 1.0,\n 'class_weight': None,\n 'dual': False,\n 'fit_intercept': True,\n 'intercept_scaling': 1,\n 'l1_ratio': None,\n 'max_iter': 100,\n 'multi_class': 'auto',\n 'n_jobs': None,\n 'penalty': 'l2',\n 'random_state': None,\n 'solver': 'lbfgs',\n 'tol': 0.0001,\n 'verbose': 0,\n 'warm_start': False}"
     },
     "execution_count": 25,
     "metadata": {},
     "output_type": "execute_result"
    }
   ],
   "source": [
    "reg=LogisticRegression()\n",
    "reg.fit(x_train,y_train)\n",
    "reg.get_params(deep=True)"
   ],
   "metadata": {
    "collapsed": false
   }
  },
  {
   "cell_type": "code",
   "execution_count": 22,
   "outputs": [
    {
     "data": {
      "text/plain": "array([1, 1, 0, 0, 1, 1, 1, 0, 0, 0, 1, 0, 1, 0, 1, 1, 0, 0, 0, 1, 0, 1,\n       1, 0, 0, 0, 0, 1, 0, 0, 1, 0, 0, 0, 1, 1, 0, 0, 0, 0, 0, 1, 1, 0,\n       0, 0, 0, 1, 0, 1, 1, 1, 0, 1, 1, 1, 0, 0, 0, 0, 0, 0, 1, 0, 1, 1,\n       1, 1, 0, 1, 0, 0, 1, 0, 0, 0, 0, 1, 1, 1, 0, 1, 0, 0, 0, 0, 1, 0,\n       0, 0, 0, 0, 1, 0, 0, 0, 1, 0, 1, 0, 1, 0, 0, 0], dtype=int64)"
     },
     "execution_count": 22,
     "metadata": {},
     "output_type": "execute_result"
    }
   ],
   "source": [
    "y_pred=reg.predict(x_test)\n",
    "y_pred"
   ],
   "metadata": {
    "collapsed": false
   }
  },
  {
   "cell_type": "markdown",
   "source": [
    "### Confusion Matrix"
   ],
   "metadata": {
    "collapsed": false
   }
  },
  {
   "cell_type": "code",
   "execution_count": 26,
   "outputs": [
    {
     "name": "stdout",
     "output_type": "stream",
     "text": [
      "[[54  5]\n",
      " [ 9 36]]\n"
     ]
    }
   ],
   "source": [
    "from sklearn.metrics import confusion_matrix\n",
    "cm=confusion_matrix(y_test,y_pred)\n",
    "cm"
   ],
   "metadata": {
    "collapsed": false
   }
  },
  {
   "cell_type": "code",
   "execution_count": 34,
   "outputs": [
    {
     "name": "stdout",
     "output_type": "stream",
     "text": [
      "63\n"
     ]
    }
   ],
   "source": [
    "print(sum(cm))"
   ],
   "metadata": {
    "collapsed": false
   }
  },
  {
   "cell_type": "code",
   "execution_count": 35,
   "outputs": [
    {
     "data": {
      "text/plain": "0.8653846153846154"
     },
     "execution_count": 35,
     "metadata": {},
     "output_type": "execute_result"
    }
   ],
   "source": [
    "accuracy=(cm[0,0]+cm[1,1])/(sum(cm)[0]+sum(cm)[1])*100\n",
    "accuracy"
   ],
   "metadata": {
    "collapsed": false
   }
  },
  {
   "cell_type": "markdown",
   "source": [
    "This is so much better than statsmodel"
   ],
   "metadata": {
    "collapsed": false
   }
  }
 ],
 "metadata": {
  "kernelspec": {
   "display_name": "Python 3",
   "language": "python",
   "name": "python3"
  },
  "language_info": {
   "codemirror_mode": {
    "name": "ipython",
    "version": 2
   },
   "file_extension": ".py",
   "mimetype": "text/x-python",
   "name": "python",
   "nbconvert_exporter": "python",
   "pygments_lexer": "ipython2",
   "version": "2.7.6"
  }
 },
 "nbformat": 4,
 "nbformat_minor": 0
}
