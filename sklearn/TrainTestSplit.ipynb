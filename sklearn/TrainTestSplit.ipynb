{
 "cells": [
  {
   "cell_type": "markdown",
   "source": [
    "# Train Test Split"
   ],
   "metadata": {
    "collapsed": false
   }
  },
  {
   "cell_type": "code",
   "execution_count": 2,
   "outputs": [],
   "source": [
    "import numpy as np\n",
    "from sklearn.model_selection import train_test_split"
   ],
   "metadata": {
    "collapsed": false
   }
  },
  {
   "cell_type": "markdown",
   "source": [
    "## Generate data that we are going to split"
   ],
   "metadata": {
    "collapsed": false
   }
  },
  {
   "cell_type": "code",
   "execution_count": 3,
   "outputs": [
    {
     "name": "stdout",
     "output_type": "stream",
     "text": [
      "[  1   2   3   4   5   6   7   8   9  10  11  12  13  14  15  16  17  18\n",
      "  19  20  21  22  23  24  25  26  27  28  29  30  31  32  33  34  35  36\n",
      "  37  38  39  40  41  42  43  44  45  46  47  48  49  50  51  52  53  54\n",
      "  55  56  57  58  59  60  61  62  63  64  65  66  67  68  69  70  71  72\n",
      "  73  74  75  76  77  78  79  80  81  82  83  84  85  86  87  88  89  90\n",
      "  91  92  93  94  95  96  97  98  99 100]\n"
     ]
    }
   ],
   "source": [
    "a=np.arange(1,101)\n",
    "print(a)"
   ],
   "metadata": {
    "collapsed": false
   }
  },
  {
   "cell_type": "code",
   "execution_count": 53,
   "outputs": [
    {
     "name": "stdout",
     "output_type": "stream",
     "text": [
      "[501 502 503 504 505 506 507 508 509 510 511 512 513 514 515 516 517 518\n",
      " 519 520 521 522 523 524 525 526 527 528 529 530 531 532 533 534 535 536\n",
      " 537 538 539 540 541 542 543 544 545 546 547 548 549 550 551 552 553 554\n",
      " 555 556 557 558 559 560 561 562 563 564 565 566 567 568 569 570 571 572\n",
      " 573 574 575 576 577 578 579 580 581 582 583 584 585 586 587 588 589 590\n",
      " 591 592 593 594 595 596 597 598 599 600]\n"
     ]
    }
   ],
   "source": [
    "b=np.arange(501,601)\n",
    "print(b)"
   ],
   "metadata": {
    "collapsed": false
   }
  },
  {
   "cell_type": "markdown",
   "source": [
    "## Split the data"
   ],
   "metadata": {
    "collapsed": false
   }
  },
  {
   "cell_type": "code",
   "execution_count": 5,
   "outputs": [],
   "source": [
    "a_train,a_test=train_test_split(a)"
   ],
   "metadata": {
    "collapsed": false
   }
  },
  {
   "cell_type": "code",
   "execution_count": 6,
   "outputs": [
    {
     "data": {
      "text/plain": "((75,), (25,))"
     },
     "execution_count": 6,
     "metadata": {},
     "output_type": "execute_result"
    }
   ],
   "source": [
    "a_train.shape,a_test.shape  # Default split is 75% and 25%"
   ],
   "metadata": {
    "collapsed": false
   }
  },
  {
   "cell_type": "markdown",
   "source": [
    "We can also adjust split size"
   ],
   "metadata": {
    "collapsed": false
   }
  },
  {
   "cell_type": "code",
   "execution_count": 41,
   "outputs": [
    {
     "data": {
      "text/plain": "((80,), (20,))"
     },
     "execution_count": 41,
     "metadata": {},
     "output_type": "execute_result"
    }
   ],
   "source": [
    "a_train,a_test=train_test_split(a,test_size=0.2)\n",
    "a_train.shape,a_test.shape"
   ],
   "metadata": {
    "collapsed": false
   }
  },
  {
   "cell_type": "markdown",
   "source": [
    "The data splitted will be shuffled but we can change that by setting shuffle = false\n",
    "This is very important in time series dataset where we dont want day to be shuffled"
   ],
   "metadata": {
    "collapsed": false
   }
  },
  {
   "cell_type": "code",
   "execution_count": 50,
   "outputs": [
    {
     "data": {
      "text/plain": "(array([ 56,  89,  27,  43,  70,  16,  41,  97,  10,  73,  12,  48,  86,\n         29,  94,   6,  67,  66,  36,  17,  50,  35,   8,  96,  28,  20,\n         82,  26,  63,  14,  25,   4,  18,  39,   9,  79,   7,  65,  37,\n         90,  57, 100,  55,  44,  51,  68,  47,  69,  62,  98,  80,  42,\n         59,  49,  99,  58,  76,  33,  95,  60,  64,  85,  38,  30,   2,\n         53,  22,   3,  24,  88,  92,  75,  87,  83,  21,  61,  72,  15,\n         93,  52]),\n array([84, 54, 71, 46, 45, 40, 23, 81, 11,  1, 19, 31, 74, 34, 91,  5, 77,\n        78, 13, 32]))"
     },
     "execution_count": 50,
     "metadata": {},
     "output_type": "execute_result"
    }
   ],
   "source": [
    "a_train,a_test=train_test_split(a,test_size=0.2,random_state=42)   # With no shuffle and random state\n",
    "a_train,a_test"
   ],
   "metadata": {
    "collapsed": false
   }
  },
  {
   "cell_type": "code",
   "execution_count": 29,
   "outputs": [
    {
     "data": {
      "text/plain": "(array([ 1,  2,  3,  4,  5,  6,  7,  8,  9, 10, 11, 12, 13, 14, 15, 16, 17,\n        18, 19, 20, 21, 22, 23, 24, 25, 26, 27, 28, 29, 30, 31, 32, 33, 34,\n        35, 36, 37, 38, 39, 40, 41, 42, 43, 44, 45, 46, 47, 48, 49, 50, 51,\n        52, 53, 54, 55, 56, 57, 58, 59, 60, 61, 62, 63, 64, 65, 66, 67, 68,\n        69, 70, 71, 72, 73, 74, 75, 76, 77, 78, 79, 80]),\n array([ 81,  82,  83,  84,  85,  86,  87,  88,  89,  90,  91,  92,  93,\n         94,  95,  96,  97,  98,  99, 100]))"
     },
     "execution_count": 29,
     "metadata": {},
     "output_type": "execute_result"
    }
   ],
   "source": [
    "a_train,a_test=train_test_split(a,test_size=0.2,shuffle=False)  #With shuffle\n",
    "a_train,a_test"
   ],
   "metadata": {
    "collapsed": false
   }
  },
  {
   "cell_type": "markdown",
   "source": [
    "Each time we run the cell we will have different data for test and train\n",
    "if we want to control the randomness"
   ],
   "metadata": {
    "collapsed": false
   }
  },
  {
   "cell_type": "markdown",
   "source": [
    "We can also split more than one variable"
   ],
   "metadata": {
    "collapsed": false
   }
  },
  {
   "cell_type": "code",
   "execution_count": 54,
   "outputs": [
    {
     "data": {
      "text/plain": "(array([ 56,  89,  27,  43,  70,  16,  41,  97,  10,  73,  12,  48,  86,\n         29,  94,   6,  67,  66,  36,  17,  50,  35,   8,  96,  28,  20,\n         82,  26,  63,  14,  25,   4,  18,  39,   9,  79,   7,  65,  37,\n         90,  57, 100,  55,  44,  51,  68,  47,  69,  62,  98,  80,  42,\n         59,  49,  99,  58,  76,  33,  95,  60,  64,  85,  38,  30,   2,\n         53,  22,   3,  24,  88,  92,  75,  87,  83,  21,  61,  72,  15,\n         93,  52]),\n array([84, 54, 71, 46, 45, 40, 23, 81, 11,  1, 19, 31, 74, 34, 91,  5, 77,\n        78, 13, 32]),\n array([556, 589, 527, 543, 570, 516, 541, 597, 510, 573, 512, 548, 586,\n        529, 594, 506, 567, 566, 536, 517, 550, 535, 508, 596, 528, 520,\n        582, 526, 563, 514, 525, 504, 518, 539, 509, 579, 507, 565, 537,\n        590, 557, 600, 555, 544, 551, 568, 547, 569, 562, 598, 580, 542,\n        559, 549, 599, 558, 576, 533, 595, 560, 564, 585, 538, 530, 502,\n        553, 522, 503, 524, 588, 592, 575, 587, 583, 521, 561, 572, 515,\n        593, 552]),\n array([584, 554, 571, 546, 545, 540, 523, 581, 511, 501, 519, 531, 574,\n        534, 591, 505, 577, 578, 513, 532]))"
     },
     "execution_count": 54,
     "metadata": {},
     "output_type": "execute_result"
    }
   ],
   "source": [
    "a_train,a_test,b_train,b_test=train_test_split(a,b,test_size=0.2,random_state=42)\n",
    "a_train,a_test,b_train,b_test"
   ],
   "metadata": {
    "collapsed": false
   }
  }
 ],
 "metadata": {
  "kernelspec": {
   "display_name": "Python 3",
   "language": "python",
   "name": "python3"
  },
  "language_info": {
   "codemirror_mode": {
    "name": "ipython",
    "version": 2
   },
   "file_extension": ".py",
   "mimetype": "text/x-python",
   "name": "python",
   "nbconvert_exporter": "python",
   "pygments_lexer": "ipython2",
   "version": "2.7.6"
  }
 },
 "nbformat": 4,
 "nbformat_minor": 0
}
