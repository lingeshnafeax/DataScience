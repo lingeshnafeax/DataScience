{
 "cells": [
  {
   "cell_type": "markdown",
   "source": [
    "## RealEstate"
   ],
   "metadata": {
    "collapsed": false
   },
   "id": "4b8b0d230ec07dc3"
  },
  {
   "cell_type": "code",
   "execution_count": 261,
   "outputs": [],
   "source": [
    "import numpy as np\n",
    "import pandas as pd\n",
    "import matplotlib.pyplot as plt"
   ],
   "metadata": {
    "collapsed": false,
    "ExecuteTime": {
     "end_time": "2023-08-31T17:41:47.947374100Z",
     "start_time": "2023-08-31T17:41:47.775538800Z"
    }
   },
   "id": "4e75c63ecd75ead8"
  },
  {
   "cell_type": "markdown",
   "source": [
    "## Load the data"
   ],
   "metadata": {
    "collapsed": false
   },
   "id": "af29019f7eebeba6"
  },
  {
   "cell_type": "code",
   "execution_count": 262,
   "outputs": [
    {
     "data": {
      "text/plain": "        price     size  year\n0  234314.144   643.09  2015\n1  228581.528   656.22  2009\n2  281626.336   487.29  2018\n3  401255.608  1504.75  2015\n4  458674.256  1275.46  2009",
      "text/html": "<div>\n<style scoped>\n    .dataframe tbody tr th:only-of-type {\n        vertical-align: middle;\n    }\n\n    .dataframe tbody tr th {\n        vertical-align: top;\n    }\n\n    .dataframe thead th {\n        text-align: right;\n    }\n</style>\n<table border=\"1\" class=\"dataframe\">\n  <thead>\n    <tr style=\"text-align: right;\">\n      <th></th>\n      <th>price</th>\n      <th>size</th>\n      <th>year</th>\n    </tr>\n  </thead>\n  <tbody>\n    <tr>\n      <th>0</th>\n      <td>234314.144</td>\n      <td>643.09</td>\n      <td>2015</td>\n    </tr>\n    <tr>\n      <th>1</th>\n      <td>228581.528</td>\n      <td>656.22</td>\n      <td>2009</td>\n    </tr>\n    <tr>\n      <th>2</th>\n      <td>281626.336</td>\n      <td>487.29</td>\n      <td>2018</td>\n    </tr>\n    <tr>\n      <th>3</th>\n      <td>401255.608</td>\n      <td>1504.75</td>\n      <td>2015</td>\n    </tr>\n    <tr>\n      <th>4</th>\n      <td>458674.256</td>\n      <td>1275.46</td>\n      <td>2009</td>\n    </tr>\n  </tbody>\n</table>\n</div>"
     },
     "execution_count": 262,
     "metadata": {},
     "output_type": "execute_result"
    }
   ],
   "source": [
    "data = pd.read_csv(\"29588378-real-estate-price-size-year.csv\")\n",
    "data.head()"
   ],
   "metadata": {
    "collapsed": false,
    "ExecuteTime": {
     "end_time": "2023-08-31T17:41:48.072352900Z",
     "start_time": "2023-08-31T17:41:47.853646400Z"
    }
   },
   "id": "cb16b7d2a344fa7b"
  },
  {
   "cell_type": "markdown",
   "source": [
    "## Preprocessing"
   ],
   "metadata": {
    "collapsed": false
   },
   "id": "2595350eb5051bce"
  },
  {
   "cell_type": "code",
   "execution_count": 263,
   "outputs": [
    {
     "name": "stdout",
     "output_type": "stream",
     "text": [
      "<class 'pandas.core.frame.DataFrame'>\n",
      "RangeIndex: 100 entries, 0 to 99\n",
      "Data columns (total 3 columns):\n",
      " #   Column  Non-Null Count  Dtype  \n",
      "---  ------  --------------  -----  \n",
      " 0   price   100 non-null    float64\n",
      " 1   size    100 non-null    float64\n",
      " 2   year    100 non-null    int64  \n",
      "dtypes: float64(2), int64(1)\n",
      "memory usage: 2.5 KB\n"
     ]
    }
   ],
   "source": [
    "data.info(memory_usage=\"deep\")"
   ],
   "metadata": {
    "collapsed": false,
    "ExecuteTime": {
     "end_time": "2023-08-31T17:41:48.291044500Z",
     "start_time": "2023-08-31T17:41:48.087966400Z"
    }
   },
   "id": "fc4612baa0997b58"
  },
  {
   "cell_type": "markdown",
   "source": [
    "## Dependent and Independent Variable"
   ],
   "metadata": {
    "collapsed": false
   },
   "id": "2d2ce4edbab0c0d0"
  },
  {
   "cell_type": "code",
   "execution_count": 264,
   "outputs": [],
   "source": [
    "x = data.iloc[:, 1:3].values\n",
    "y = data.iloc[:, 0].values"
   ],
   "metadata": {
    "collapsed": false,
    "ExecuteTime": {
     "end_time": "2023-08-31T17:41:48.337907100Z",
     "start_time": "2023-08-31T17:41:48.150451600Z"
    }
   },
   "id": "61f88fddfac86a81"
  },
  {
   "cell_type": "markdown",
   "source": [
    "## Creating Model"
   ],
   "metadata": {
    "collapsed": false
   },
   "id": "1a519af3cea6ee4f"
  },
  {
   "cell_type": "code",
   "execution_count": 265,
   "outputs": [],
   "source": [
    "import statsmodels.api as sm"
   ],
   "metadata": {
    "collapsed": false,
    "ExecuteTime": {
     "end_time": "2023-08-31T17:41:48.525363600Z",
     "start_time": "2023-08-31T17:41:48.322291500Z"
    }
   },
   "id": "3de5433bf291417f"
  },
  {
   "cell_type": "code",
   "execution_count": 266,
   "outputs": [],
   "source": [
    "new_x = sm.add_constant(x)"
   ],
   "metadata": {
    "collapsed": false,
    "ExecuteTime": {
     "end_time": "2023-08-31T17:41:48.587850300Z",
     "start_time": "2023-08-31T17:41:48.541000300Z"
    }
   },
   "id": "2f1a3eed35b00808"
  },
  {
   "cell_type": "code",
   "execution_count": 267,
   "outputs": [],
   "source": [
    "x_opt = new_x[:, [0, 1]]"
   ],
   "metadata": {
    "collapsed": false,
    "ExecuteTime": {
     "end_time": "2023-08-31T17:41:48.656787500Z",
     "start_time": "2023-08-31T17:41:48.572235100Z"
    }
   },
   "id": "367ee759a729ecb9"
  },
  {
   "cell_type": "code",
   "execution_count": 268,
   "outputs": [
    {
     "data": {
      "text/plain": "<class 'statsmodels.iolib.summary.Summary'>\n\"\"\"\n                            OLS Regression Results                            \n==============================================================================\nDep. Variable:                      y   R-squared:                       0.745\nModel:                            OLS   Adj. R-squared:                  0.742\nMethod:                 Least Squares   F-statistic:                     285.9\nDate:                Thu, 31 Aug 2023   Prob (F-statistic):           8.13e-31\nTime:                        23:11:48   Log-Likelihood:                -1198.3\nNo. Observations:                 100   AIC:                             2401.\nDf Residuals:                      98   BIC:                             2406.\nDf Model:                           1                                         \nCovariance Type:            nonrobust                                         \n==============================================================================\n                 coef    std err          t      P>|t|      [0.025      0.975]\n------------------------------------------------------------------------------\nconst       1.019e+05   1.19e+04      8.550      0.000    7.83e+04    1.26e+05\nx1           223.1787     13.199     16.909      0.000     196.986     249.371\n==============================================================================\nOmnibus:                        6.262   Durbin-Watson:                   2.267\nProb(Omnibus):                  0.044   Jarque-Bera (JB):                2.938\nSkew:                           0.117   Prob(JB):                        0.230\nKurtosis:                       2.194   Cond. No.                     2.75e+03\n==============================================================================\n\nNotes:\n[1] Standard Errors assume that the covariance matrix of the errors is correctly specified.\n[2] The condition number is large, 2.75e+03. This might indicate that there are\nstrong multicollinearity or other numerical problems.\n\"\"\"",
      "text/html": "<table class=\"simpletable\">\n<caption>OLS Regression Results</caption>\n<tr>\n  <th>Dep. Variable:</th>            <td>y</td>        <th>  R-squared:         </th> <td>   0.745</td>\n</tr>\n<tr>\n  <th>Model:</th>                   <td>OLS</td>       <th>  Adj. R-squared:    </th> <td>   0.742</td>\n</tr>\n<tr>\n  <th>Method:</th>             <td>Least Squares</td>  <th>  F-statistic:       </th> <td>   285.9</td>\n</tr>\n<tr>\n  <th>Date:</th>             <td>Thu, 31 Aug 2023</td> <th>  Prob (F-statistic):</th> <td>8.13e-31</td>\n</tr>\n<tr>\n  <th>Time:</th>                 <td>23:11:48</td>     <th>  Log-Likelihood:    </th> <td> -1198.3</td>\n</tr>\n<tr>\n  <th>No. Observations:</th>      <td>   100</td>      <th>  AIC:               </th> <td>   2401.</td>\n</tr>\n<tr>\n  <th>Df Residuals:</th>          <td>    98</td>      <th>  BIC:               </th> <td>   2406.</td>\n</tr>\n<tr>\n  <th>Df Model:</th>              <td>     1</td>      <th>                     </th>     <td> </td>   \n</tr>\n<tr>\n  <th>Covariance Type:</th>      <td>nonrobust</td>    <th>                     </th>     <td> </td>   \n</tr>\n</table>\n<table class=\"simpletable\">\n<tr>\n    <td></td>       <th>coef</th>     <th>std err</th>      <th>t</th>      <th>P>|t|</th>  <th>[0.025</th>    <th>0.975]</th>  \n</tr>\n<tr>\n  <th>const</th> <td> 1.019e+05</td> <td> 1.19e+04</td> <td>    8.550</td> <td> 0.000</td> <td> 7.83e+04</td> <td> 1.26e+05</td>\n</tr>\n<tr>\n  <th>x1</th>    <td>  223.1787</td> <td>   13.199</td> <td>   16.909</td> <td> 0.000</td> <td>  196.986</td> <td>  249.371</td>\n</tr>\n</table>\n<table class=\"simpletable\">\n<tr>\n  <th>Omnibus:</th>       <td> 6.262</td> <th>  Durbin-Watson:     </th> <td>   2.267</td>\n</tr>\n<tr>\n  <th>Prob(Omnibus):</th> <td> 0.044</td> <th>  Jarque-Bera (JB):  </th> <td>   2.938</td>\n</tr>\n<tr>\n  <th>Skew:</th>          <td> 0.117</td> <th>  Prob(JB):          </th> <td>   0.230</td>\n</tr>\n<tr>\n  <th>Kurtosis:</th>      <td> 2.194</td> <th>  Cond. No.          </th> <td>2.75e+03</td>\n</tr>\n</table><br/><br/>Notes:<br/>[1] Standard Errors assume that the covariance matrix of the errors is correctly specified.<br/>[2] The condition number is large, 2.75e+03. This might indicate that there are<br/>strong multicollinearity or other numerical problems."
     },
     "execution_count": 268,
     "metadata": {},
     "output_type": "execute_result"
    }
   ],
   "source": [
    "regressor_OLS = sm.OLS(endog=y, exog=x_opt).fit()\n",
    "regressor_OLS.summary()"
   ],
   "metadata": {
    "collapsed": false,
    "ExecuteTime": {
     "end_time": "2023-08-31T17:41:48.716562700Z",
     "start_time": "2023-08-31T17:41:48.619091900Z"
    }
   },
   "id": "c8979e1c474fdd05"
  },
  {
   "cell_type": "markdown",
   "source": [
    "# Split the data"
   ],
   "metadata": {
    "collapsed": false
   },
   "id": "1555ee79b197ae98"
  },
  {
   "cell_type": "code",
   "execution_count": 269,
   "outputs": [],
   "source": [
    "from sklearn.model_selection import train_test_split\n",
    "\n",
    "x_train, x_test, y_train, y_test = train_test_split(x_opt, y)"
   ],
   "metadata": {
    "collapsed": false,
    "ExecuteTime": {
     "end_time": "2023-08-31T17:41:48.777598700Z",
     "start_time": "2023-08-31T17:41:48.703493700Z"
    }
   },
   "id": "85e9a7284b84b9e1"
  },
  {
   "cell_type": "markdown",
   "source": [
    "## SVR Regressor"
   ],
   "metadata": {
    "collapsed": false
   },
   "id": "8bceb534c8677449"
  },
  {
   "cell_type": "markdown",
   "source": [
    "We need to scale the data before giving to SVR\n",
    "We dont need the extra constant term"
   ],
   "metadata": {
    "collapsed": false
   },
   "id": "891ae9fd7f4923d7"
  },
  {
   "cell_type": "code",
   "execution_count": 270,
   "outputs": [],
   "source": [
    "x_opt = x_opt[:, [1]]  ## Only using Price"
   ],
   "metadata": {
    "collapsed": false,
    "ExecuteTime": {
     "end_time": "2023-08-31T17:41:48.814542100Z",
     "start_time": "2023-08-31T17:41:48.732187700Z"
    }
   },
   "id": "9a321cc56b7dd29b"
  },
  {
   "cell_type": "code",
   "execution_count": 271,
   "outputs": [],
   "source": [
    "from sklearn.preprocessing import StandardScaler"
   ],
   "metadata": {
    "collapsed": false,
    "ExecuteTime": {
     "end_time": "2023-08-31T17:41:48.895132900Z",
     "start_time": "2023-08-31T17:41:48.817026Z"
    }
   },
   "id": "1cff16e8fc2d224"
  },
  {
   "cell_type": "code",
   "execution_count": 272,
   "outputs": [],
   "source": [
    "scaler_x = StandardScaler()  ## Creating scaler from both x and y\n",
    "scaler_y = StandardScaler()"
   ],
   "metadata": {
    "collapsed": false,
    "ExecuteTime": {
     "end_time": "2023-08-31T17:41:48.973252300Z",
     "start_time": "2023-08-31T17:41:48.910753800Z"
    }
   },
   "id": "eb22ba60fc70736d"
  },
  {
   "cell_type": "code",
   "execution_count": 273,
   "outputs": [],
   "source": [
    "std_x = scaler_x.fit_transform(x_train)\n",
    "std_y = scaler_y.fit_transform(y_train.reshape(-1, 1))"
   ],
   "metadata": {
    "collapsed": false,
    "ExecuteTime": {
     "end_time": "2023-08-31T17:41:49.020102500Z",
     "start_time": "2023-08-31T17:41:48.973252300Z"
    }
   },
   "id": "f431edeab400bd23"
  },
  {
   "cell_type": "code",
   "execution_count": 274,
   "outputs": [],
   "source": [
    "from sklearn.svm import SVR\n",
    "\n",
    "svr_regressor = SVR(kernel=\"linear\")"
   ],
   "metadata": {
    "collapsed": false,
    "ExecuteTime": {
     "end_time": "2023-08-31T17:41:49.079366800Z",
     "start_time": "2023-08-31T17:41:49.004482100Z"
    }
   },
   "id": "89ecc474bd835139"
  },
  {
   "cell_type": "code",
   "execution_count": 275,
   "outputs": [
    {
     "data": {
      "text/plain": "SVR(kernel='linear')",
      "text/html": "<style>#sk-container-id-11 {color: black;background-color: white;}#sk-container-id-11 pre{padding: 0;}#sk-container-id-11 div.sk-toggleable {background-color: white;}#sk-container-id-11 label.sk-toggleable__label {cursor: pointer;display: block;width: 100%;margin-bottom: 0;padding: 0.3em;box-sizing: border-box;text-align: center;}#sk-container-id-11 label.sk-toggleable__label-arrow:before {content: \"▸\";float: left;margin-right: 0.25em;color: #696969;}#sk-container-id-11 label.sk-toggleable__label-arrow:hover:before {color: black;}#sk-container-id-11 div.sk-estimator:hover label.sk-toggleable__label-arrow:before {color: black;}#sk-container-id-11 div.sk-toggleable__content {max-height: 0;max-width: 0;overflow: hidden;text-align: left;background-color: #f0f8ff;}#sk-container-id-11 div.sk-toggleable__content pre {margin: 0.2em;color: black;border-radius: 0.25em;background-color: #f0f8ff;}#sk-container-id-11 input.sk-toggleable__control:checked~div.sk-toggleable__content {max-height: 200px;max-width: 100%;overflow: auto;}#sk-container-id-11 input.sk-toggleable__control:checked~label.sk-toggleable__label-arrow:before {content: \"▾\";}#sk-container-id-11 div.sk-estimator input.sk-toggleable__control:checked~label.sk-toggleable__label {background-color: #d4ebff;}#sk-container-id-11 div.sk-label input.sk-toggleable__control:checked~label.sk-toggleable__label {background-color: #d4ebff;}#sk-container-id-11 input.sk-hidden--visually {border: 0;clip: rect(1px 1px 1px 1px);clip: rect(1px, 1px, 1px, 1px);height: 1px;margin: -1px;overflow: hidden;padding: 0;position: absolute;width: 1px;}#sk-container-id-11 div.sk-estimator {font-family: monospace;background-color: #f0f8ff;border: 1px dotted black;border-radius: 0.25em;box-sizing: border-box;margin-bottom: 0.5em;}#sk-container-id-11 div.sk-estimator:hover {background-color: #d4ebff;}#sk-container-id-11 div.sk-parallel-item::after {content: \"\";width: 100%;border-bottom: 1px solid gray;flex-grow: 1;}#sk-container-id-11 div.sk-label:hover label.sk-toggleable__label {background-color: #d4ebff;}#sk-container-id-11 div.sk-serial::before {content: \"\";position: absolute;border-left: 1px solid gray;box-sizing: border-box;top: 0;bottom: 0;left: 50%;z-index: 0;}#sk-container-id-11 div.sk-serial {display: flex;flex-direction: column;align-items: center;background-color: white;padding-right: 0.2em;padding-left: 0.2em;position: relative;}#sk-container-id-11 div.sk-item {position: relative;z-index: 1;}#sk-container-id-11 div.sk-parallel {display: flex;align-items: stretch;justify-content: center;background-color: white;position: relative;}#sk-container-id-11 div.sk-item::before, #sk-container-id-11 div.sk-parallel-item::before {content: \"\";position: absolute;border-left: 1px solid gray;box-sizing: border-box;top: 0;bottom: 0;left: 50%;z-index: -1;}#sk-container-id-11 div.sk-parallel-item {display: flex;flex-direction: column;z-index: 1;position: relative;background-color: white;}#sk-container-id-11 div.sk-parallel-item:first-child::after {align-self: flex-end;width: 50%;}#sk-container-id-11 div.sk-parallel-item:last-child::after {align-self: flex-start;width: 50%;}#sk-container-id-11 div.sk-parallel-item:only-child::after {width: 0;}#sk-container-id-11 div.sk-dashed-wrapped {border: 1px dashed gray;margin: 0 0.4em 0.5em 0.4em;box-sizing: border-box;padding-bottom: 0.4em;background-color: white;}#sk-container-id-11 div.sk-label label {font-family: monospace;font-weight: bold;display: inline-block;line-height: 1.2em;}#sk-container-id-11 div.sk-label-container {text-align: center;}#sk-container-id-11 div.sk-container {/* jupyter's `normalize.less` sets `[hidden] { display: none; }` but bootstrap.min.css set `[hidden] { display: none !important; }` so we also need the `!important` here to be able to override the default hidden behavior on the sphinx rendered scikit-learn.org. See: https://github.com/scikit-learn/scikit-learn/issues/21755 */display: inline-block !important;position: relative;}#sk-container-id-11 div.sk-text-repr-fallback {display: none;}</style><div id=\"sk-container-id-11\" class=\"sk-top-container\"><div class=\"sk-text-repr-fallback\"><pre>SVR(kernel=&#x27;linear&#x27;)</pre><b>In a Jupyter environment, please rerun this cell to show the HTML representation or trust the notebook. <br />On GitHub, the HTML representation is unable to render, please try loading this page with nbviewer.org.</b></div><div class=\"sk-container\" hidden><div class=\"sk-item\"><div class=\"sk-estimator sk-toggleable\"><input class=\"sk-toggleable__control sk-hidden--visually\" id=\"sk-estimator-id-11\" type=\"checkbox\" checked><label for=\"sk-estimator-id-11\" class=\"sk-toggleable__label sk-toggleable__label-arrow\">SVR</label><div class=\"sk-toggleable__content\"><pre>SVR(kernel=&#x27;linear&#x27;)</pre></div></div></div></div></div>"
     },
     "execution_count": 275,
     "metadata": {},
     "output_type": "execute_result"
    }
   ],
   "source": [
    "svr_regressor.fit(std_x, std_y[:, 0])"
   ],
   "metadata": {
    "collapsed": false,
    "ExecuteTime": {
     "end_time": "2023-08-31T17:41:49.098302300Z",
     "start_time": "2023-08-31T17:41:49.020102500Z"
    }
   },
   "id": "2c90e519d180dcd"
  },
  {
   "cell_type": "code",
   "execution_count": 276,
   "outputs": [
    {
     "data": {
      "text/plain": "0.7382162745635003"
     },
     "execution_count": 276,
     "metadata": {},
     "output_type": "execute_result"
    }
   ],
   "source": [
    "svr_regressor.score(std_x, std_y[:, 0])"
   ],
   "metadata": {
    "collapsed": false,
    "ExecuteTime": {
     "end_time": "2023-08-31T17:41:49.232175800Z",
     "start_time": "2023-08-31T17:41:49.113925600Z"
    }
   },
   "id": "46726c2bdc5a0980"
  },
  {
   "cell_type": "markdown",
   "source": [
    "The Accuracy is almost the same"
   ],
   "metadata": {
    "collapsed": false
   },
   "id": "dc100a5f8365c10e"
  },
  {
   "cell_type": "markdown",
   "source": [
    "## Prediction"
   ],
   "metadata": {
    "collapsed": false
   },
   "id": "fb5b9eda36a795a7"
  },
  {
   "cell_type": "code",
   "execution_count": 277,
   "outputs": [
    {
     "data": {
      "text/plain": "       Size  Predicted Value  Actual Value\n0    570.89    227956.316071    271793.312\n1    685.48    252818.319279    228313.024\n2    685.48    252818.319279    294582.944\n3    681.07    251861.504250    297760.440\n4    648.29    244749.396168    225145.248\n5    705.29    257116.393138    274922.856\n6    685.48    252818.319279    286161.600\n7   1379.72    403444.003081    440201.616\n8    694.52    254779.681606    298170.880\n9    597.90    233816.536917    207742.248\n10  1334.10    393546.066208    365863.936\n11   623.94    239466.301848    234178.160\n12   694.52    254779.681606    251140.656\n13   682.26    252119.692433    217468.224\n14   601.66    234632.324787    211904.536\n15  1060.36    334154.105670    279555.096\n16   570.25    227817.458562    233493.208\n17  1275.46    380823.246868    458674.256\n18  1504.75    430571.119418    383635.568\n19   682.26    252119.692433    331101.344\n20   549.80    223380.527192    271726.752\n21  1496.36    428750.784250    454512.760\n22   656.22    246469.927501    228581.528\n23  1021.95    325820.485430    310045.712\n24  1334.10    393546.066208    406852.304",
      "text/html": "<div>\n<style scoped>\n    .dataframe tbody tr th:only-of-type {\n        vertical-align: middle;\n    }\n\n    .dataframe tbody tr th {\n        vertical-align: top;\n    }\n\n    .dataframe thead th {\n        text-align: right;\n    }\n</style>\n<table border=\"1\" class=\"dataframe\">\n  <thead>\n    <tr style=\"text-align: right;\">\n      <th></th>\n      <th>Size</th>\n      <th>Predicted Value</th>\n      <th>Actual Value</th>\n    </tr>\n  </thead>\n  <tbody>\n    <tr>\n      <th>0</th>\n      <td>570.89</td>\n      <td>227956.316071</td>\n      <td>271793.312</td>\n    </tr>\n    <tr>\n      <th>1</th>\n      <td>685.48</td>\n      <td>252818.319279</td>\n      <td>228313.024</td>\n    </tr>\n    <tr>\n      <th>2</th>\n      <td>685.48</td>\n      <td>252818.319279</td>\n      <td>294582.944</td>\n    </tr>\n    <tr>\n      <th>3</th>\n      <td>681.07</td>\n      <td>251861.504250</td>\n      <td>297760.440</td>\n    </tr>\n    <tr>\n      <th>4</th>\n      <td>648.29</td>\n      <td>244749.396168</td>\n      <td>225145.248</td>\n    </tr>\n    <tr>\n      <th>5</th>\n      <td>705.29</td>\n      <td>257116.393138</td>\n      <td>274922.856</td>\n    </tr>\n    <tr>\n      <th>6</th>\n      <td>685.48</td>\n      <td>252818.319279</td>\n      <td>286161.600</td>\n    </tr>\n    <tr>\n      <th>7</th>\n      <td>1379.72</td>\n      <td>403444.003081</td>\n      <td>440201.616</td>\n    </tr>\n    <tr>\n      <th>8</th>\n      <td>694.52</td>\n      <td>254779.681606</td>\n      <td>298170.880</td>\n    </tr>\n    <tr>\n      <th>9</th>\n      <td>597.90</td>\n      <td>233816.536917</td>\n      <td>207742.248</td>\n    </tr>\n    <tr>\n      <th>10</th>\n      <td>1334.10</td>\n      <td>393546.066208</td>\n      <td>365863.936</td>\n    </tr>\n    <tr>\n      <th>11</th>\n      <td>623.94</td>\n      <td>239466.301848</td>\n      <td>234178.160</td>\n    </tr>\n    <tr>\n      <th>12</th>\n      <td>694.52</td>\n      <td>254779.681606</td>\n      <td>251140.656</td>\n    </tr>\n    <tr>\n      <th>13</th>\n      <td>682.26</td>\n      <td>252119.692433</td>\n      <td>217468.224</td>\n    </tr>\n    <tr>\n      <th>14</th>\n      <td>601.66</td>\n      <td>234632.324787</td>\n      <td>211904.536</td>\n    </tr>\n    <tr>\n      <th>15</th>\n      <td>1060.36</td>\n      <td>334154.105670</td>\n      <td>279555.096</td>\n    </tr>\n    <tr>\n      <th>16</th>\n      <td>570.25</td>\n      <td>227817.458562</td>\n      <td>233493.208</td>\n    </tr>\n    <tr>\n      <th>17</th>\n      <td>1275.46</td>\n      <td>380823.246868</td>\n      <td>458674.256</td>\n    </tr>\n    <tr>\n      <th>18</th>\n      <td>1504.75</td>\n      <td>430571.119418</td>\n      <td>383635.568</td>\n    </tr>\n    <tr>\n      <th>19</th>\n      <td>682.26</td>\n      <td>252119.692433</td>\n      <td>331101.344</td>\n    </tr>\n    <tr>\n      <th>20</th>\n      <td>549.80</td>\n      <td>223380.527192</td>\n      <td>271726.752</td>\n    </tr>\n    <tr>\n      <th>21</th>\n      <td>1496.36</td>\n      <td>428750.784250</td>\n      <td>454512.760</td>\n    </tr>\n    <tr>\n      <th>22</th>\n      <td>656.22</td>\n      <td>246469.927501</td>\n      <td>228581.528</td>\n    </tr>\n    <tr>\n      <th>23</th>\n      <td>1021.95</td>\n      <td>325820.485430</td>\n      <td>310045.712</td>\n    </tr>\n    <tr>\n      <th>24</th>\n      <td>1334.10</td>\n      <td>393546.066208</td>\n      <td>406852.304</td>\n    </tr>\n  </tbody>\n</table>\n</div>"
     },
     "execution_count": 277,
     "metadata": {},
     "output_type": "execute_result"
    }
   ],
   "source": [
    "y_pred = svr_regressor.predict(scaler_x.transform(x_test))\n",
    "y_pred = scaler_y.inverse_transform(y_pred.reshape(-1, 1))\n",
    "pd.DataFrame({\"Size\": x_test[:, 1], \"Predicted Value\": y_pred[:, 0], \"Actual Value\": y_test})"
   ],
   "metadata": {
    "collapsed": false,
    "ExecuteTime": {
     "end_time": "2023-08-31T17:41:49.294661200Z",
     "start_time": "2023-08-31T17:41:49.207190200Z"
    }
   },
   "id": "6840e8788163cdd8"
  },
  {
   "cell_type": "code",
   "execution_count": 278,
   "outputs": [
    {
     "data": {
      "text/plain": "<Figure size 640x480 with 1 Axes>",
      "image/png": "[encoded data removed]"
     },
     "metadata": {},
     "output_type": "display_data"
    }
   ],
   "source": [
    "plt.scatter(x=x_test[:, 1], y=y_test)\n",
    "plt.plot(x_test[:, 1], y_pred)\n",
    "plt.title(\"Size vs Price\")\n",
    "plt.xlabel(\"Size\")\n",
    "plt.ylabel(\"Price\")\n",
    "plt.show()"
   ],
   "metadata": {
    "collapsed": false,
    "ExecuteTime": {
     "end_time": "2023-08-31T17:41:49.649473800Z",
     "start_time": "2023-08-31T17:41:49.247798700Z"
    }
   },
   "id": "c331ea3e7cfa45fd"
  },
  {
   "cell_type": "code",
   "execution_count": 279,
   "outputs": [
    {
     "data": {
      "text/plain": "0.7532087721570822"
     },
     "execution_count": 279,
     "metadata": {},
     "output_type": "execute_result"
    }
   ],
   "source": [
    "svr_regressor.score(scaler_x.transform(x_test), scaler_y.transform(y_test.reshape(-1, 1)))"
   ],
   "metadata": {
    "collapsed": false,
    "ExecuteTime": {
     "end_time": "2023-08-31T17:41:49.743209100Z",
     "start_time": "2023-08-31T17:41:49.633854400Z"
    }
   },
   "id": "715dc29f48ed9da2"
  },
  {
   "cell_type": "markdown",
   "source": [
    "We conclude the model is 75% accurate.\n",
    "So maybe there are some factors that affect the house price such as \"LOCATION\" , \"ARCHITECTURE\" , etc.."
   ],
   "metadata": {
    "collapsed": false
   },
   "id": "89f9caa9413eaedb"
  }
 ],
 "metadata": {
  "kernelspec": {
   "display_name": "Python 3",
   "language": "python",
   "name": "python3"
  },
  "language_info": {
   "codemirror_mode": {
    "name": "ipython",
    "version": 2
   },
   "file_extension": ".py",
   "mimetype": "text/x-python",
   "name": "python",
   "nbconvert_exporter": "python",
   "pygments_lexer": "ipython2",
   "version": "2.7.6"
  }
 },
 "nbformat": 4,
 "nbformat_minor": 5
}
