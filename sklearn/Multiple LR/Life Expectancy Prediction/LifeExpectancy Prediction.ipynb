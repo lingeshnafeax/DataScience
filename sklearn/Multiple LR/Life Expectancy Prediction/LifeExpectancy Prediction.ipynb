{
 "cells": [
  {
   "cell_type": "markdown",
   "source": [
    "# Life Expectancy Predictor"
   ],
   "metadata": {
    "collapsed": false
   }
  },
  {
   "cell_type": "code",
   "execution_count": 176,
   "outputs": [],
   "source": [
    "import numpy as np\n",
    "import pandas as pd\n",
    "from sklearn.linear_model import LinearRegression\n",
    "from sklearn.feature_selection import f_regression\n",
    "from sklearn.model_selection import train_test_split\n",
    "from sklearn.preprocessing import StandardScaler\n",
    "import matplotlib.pyplot as plt"
   ],
   "metadata": {
    "collapsed": false
   }
  },
  {
   "cell_type": "markdown",
   "source": [
    "## Loading the data"
   ],
   "metadata": {
    "collapsed": false
   }
  },
  {
   "cell_type": "code",
   "execution_count": 177,
   "outputs": [
    {
     "data": {
      "text/plain": "       Country  Year      Status  Life expectancy   Adult Mortality  \\\n0  Afghanistan  2015  Developing              65.0            263.0   \n1  Afghanistan  2014  Developing              59.9            271.0   \n2  Afghanistan  2013  Developing              59.9            268.0   \n3  Afghanistan  2012  Developing              59.5            272.0   \n4  Afghanistan  2011  Developing              59.2            275.0   \n\n   infant deaths  Alcohol  percentage expenditure  Hepatitis B  Measles   ...  \\\n0             62     0.01               71.279624         65.0      1154  ...   \n1             64     0.01               73.523582         62.0       492  ...   \n2             66     0.01               73.219243         64.0       430  ...   \n3             69     0.01               78.184215         67.0      2787  ...   \n4             71     0.01                7.097109         68.0      3013  ...   \n\n   Polio  Total expenditure  Diphtheria    HIV/AIDS         GDP  Population  \\\n0    6.0               8.16         65.0        0.1  584.259210  33736494.0   \n1   58.0               8.18         62.0        0.1  612.696514    327582.0   \n2   62.0               8.13         64.0        0.1  631.744976  31731688.0   \n3   67.0               8.52         67.0        0.1  669.959000   3696958.0   \n4   68.0               7.87         68.0        0.1   63.537231   2978599.0   \n\n    thinness  1-19 years   thinness 5-9 years  \\\n0                   17.2                 17.3   \n1                   17.5                 17.5   \n2                   17.7                 17.7   \n3                   17.9                 18.0   \n4                   18.2                 18.2   \n\n   Income composition of resources  Schooling  \n0                            0.479       10.1  \n1                            0.476       10.0  \n2                            0.470        9.9  \n3                            0.463        9.8  \n4                            0.454        9.5  \n\n[5 rows x 22 columns]",
      "text/html": "<div>\n<style scoped>\n    .dataframe tbody tr th:only-of-type {\n        vertical-align: middle;\n    }\n\n    .dataframe tbody tr th {\n        vertical-align: top;\n    }\n\n    .dataframe thead th {\n        text-align: right;\n    }\n</style>\n<table border=\"1\" class=\"dataframe\">\n  <thead>\n    <tr style=\"text-align: right;\">\n      <th></th>\n      <th>Country</th>\n      <th>Year</th>\n      <th>Status</th>\n      <th>Life expectancy</th>\n      <th>Adult Mortality</th>\n      <th>infant deaths</th>\n      <th>Alcohol</th>\n      <th>percentage expenditure</th>\n      <th>Hepatitis B</th>\n      <th>Measles</th>\n      <th>...</th>\n      <th>Polio</th>\n      <th>Total expenditure</th>\n      <th>Diphtheria</th>\n      <th>HIV/AIDS</th>\n      <th>GDP</th>\n      <th>Population</th>\n      <th>thinness  1-19 years</th>\n      <th>thinness 5-9 years</th>\n      <th>Income composition of resources</th>\n      <th>Schooling</th>\n    </tr>\n  </thead>\n  <tbody>\n    <tr>\n      <th>0</th>\n      <td>Afghanistan</td>\n      <td>2015</td>\n      <td>Developing</td>\n      <td>65.0</td>\n      <td>263.0</td>\n      <td>62</td>\n      <td>0.01</td>\n      <td>71.279624</td>\n      <td>65.0</td>\n      <td>1154</td>\n      <td>...</td>\n      <td>6.0</td>\n      <td>8.16</td>\n      <td>65.0</td>\n      <td>0.1</td>\n      <td>584.259210</td>\n      <td>33736494.0</td>\n      <td>17.2</td>\n      <td>17.3</td>\n      <td>0.479</td>\n      <td>10.1</td>\n    </tr>\n    <tr>\n      <th>1</th>\n      <td>Afghanistan</td>\n      <td>2014</td>\n      <td>Developing</td>\n      <td>59.9</td>\n      <td>271.0</td>\n      <td>64</td>\n      <td>0.01</td>\n      <td>73.523582</td>\n      <td>62.0</td>\n      <td>492</td>\n      <td>...</td>\n      <td>58.0</td>\n      <td>8.18</td>\n      <td>62.0</td>\n      <td>0.1</td>\n      <td>612.696514</td>\n      <td>327582.0</td>\n      <td>17.5</td>\n      <td>17.5</td>\n      <td>0.476</td>\n      <td>10.0</td>\n    </tr>\n    <tr>\n      <th>2</th>\n      <td>Afghanistan</td>\n      <td>2013</td>\n      <td>Developing</td>\n      <td>59.9</td>\n      <td>268.0</td>\n      <td>66</td>\n      <td>0.01</td>\n      <td>73.219243</td>\n      <td>64.0</td>\n      <td>430</td>\n      <td>...</td>\n      <td>62.0</td>\n      <td>8.13</td>\n      <td>64.0</td>\n      <td>0.1</td>\n      <td>631.744976</td>\n      <td>31731688.0</td>\n      <td>17.7</td>\n      <td>17.7</td>\n      <td>0.470</td>\n      <td>9.9</td>\n    </tr>\n    <tr>\n      <th>3</th>\n      <td>Afghanistan</td>\n      <td>2012</td>\n      <td>Developing</td>\n      <td>59.5</td>\n      <td>272.0</td>\n      <td>69</td>\n      <td>0.01</td>\n      <td>78.184215</td>\n      <td>67.0</td>\n      <td>2787</td>\n      <td>...</td>\n      <td>67.0</td>\n      <td>8.52</td>\n      <td>67.0</td>\n      <td>0.1</td>\n      <td>669.959000</td>\n      <td>3696958.0</td>\n      <td>17.9</td>\n      <td>18.0</td>\n      <td>0.463</td>\n      <td>9.8</td>\n    </tr>\n    <tr>\n      <th>4</th>\n      <td>Afghanistan</td>\n      <td>2011</td>\n      <td>Developing</td>\n      <td>59.2</td>\n      <td>275.0</td>\n      <td>71</td>\n      <td>0.01</td>\n      <td>7.097109</td>\n      <td>68.0</td>\n      <td>3013</td>\n      <td>...</td>\n      <td>68.0</td>\n      <td>7.87</td>\n      <td>68.0</td>\n      <td>0.1</td>\n      <td>63.537231</td>\n      <td>2978599.0</td>\n      <td>18.2</td>\n      <td>18.2</td>\n      <td>0.454</td>\n      <td>9.5</td>\n    </tr>\n  </tbody>\n</table>\n<p>5 rows × 22 columns</p>\n</div>"
     },
     "execution_count": 177,
     "metadata": {},
     "output_type": "execute_result"
    }
   ],
   "source": [
    "data=pd.read_csv(\"Life Expectancy Data.csv\")\n",
    "data.head()"
   ],
   "metadata": {
    "collapsed": false
   }
  },
  {
   "cell_type": "code",
   "execution_count": 178,
   "outputs": [
    {
     "data": {
      "text/plain": "Country                             193\nYear                                 16\nStatus                                2\nLife expectancy                     362\nAdult Mortality                     425\ninfant deaths                       209\nAlcohol                            1076\npercentage expenditure             2328\nHepatitis B                          87\nMeasles                             958\n BMI                                608\nunder-five deaths                   252\nPolio                                73\nTotal expenditure                   818\nDiphtheria                           81\n HIV/AIDS                           200\nGDP                                2490\nPopulation                         2278\n thinness  1-19 years               200\n thinness 5-9 years                 207\nIncome composition of resources     625\nSchooling                           173\ndtype: int64"
     },
     "execution_count": 178,
     "metadata": {},
     "output_type": "execute_result"
    }
   ],
   "source": [
    "data.nunique()"
   ],
   "metadata": {
    "collapsed": false
   }
  },
  {
   "cell_type": "markdown",
   "source": [
    "## Creating Dummy Variables"
   ],
   "metadata": {
    "collapsed": false
   }
  },
  {
   "cell_type": "code",
   "execution_count": 179,
   "outputs": [
    {
     "data": {
      "text/plain": "       Country  Year  Status  Life expectancy   Adult Mortality  \\\n0  Afghanistan  2015       0              65.0            263.0   \n1  Afghanistan  2014       0              59.9            271.0   \n2  Afghanistan  2013       0              59.9            268.0   \n3  Afghanistan  2012       0              59.5            272.0   \n4  Afghanistan  2011       0              59.2            275.0   \n\n   infant deaths  Alcohol  percentage expenditure  Hepatitis B  Measles   ...  \\\n0             62     0.01               71.279624         65.0      1154  ...   \n1             64     0.01               73.523582         62.0       492  ...   \n2             66     0.01               73.219243         64.0       430  ...   \n3             69     0.01               78.184215         67.0      2787  ...   \n4             71     0.01                7.097109         68.0      3013  ...   \n\n   Polio  Total expenditure  Diphtheria    HIV/AIDS         GDP  Population  \\\n0    6.0               8.16         65.0        0.1  584.259210  33736494.0   \n1   58.0               8.18         62.0        0.1  612.696514    327582.0   \n2   62.0               8.13         64.0        0.1  631.744976  31731688.0   \n3   67.0               8.52         67.0        0.1  669.959000   3696958.0   \n4   68.0               7.87         68.0        0.1   63.537231   2978599.0   \n\n    thinness  1-19 years   thinness 5-9 years  \\\n0                   17.2                 17.3   \n1                   17.5                 17.5   \n2                   17.7                 17.7   \n3                   17.9                 18.0   \n4                   18.2                 18.2   \n\n   Income composition of resources  Schooling  \n0                            0.479       10.1  \n1                            0.476       10.0  \n2                            0.470        9.9  \n3                            0.463        9.8  \n4                            0.454        9.5  \n\n[5 rows x 22 columns]",
      "text/html": "<div>\n<style scoped>\n    .dataframe tbody tr th:only-of-type {\n        vertical-align: middle;\n    }\n\n    .dataframe tbody tr th {\n        vertical-align: top;\n    }\n\n    .dataframe thead th {\n        text-align: right;\n    }\n</style>\n<table border=\"1\" class=\"dataframe\">\n  <thead>\n    <tr style=\"text-align: right;\">\n      <th></th>\n      <th>Country</th>\n      <th>Year</th>\n      <th>Status</th>\n      <th>Life expectancy</th>\n      <th>Adult Mortality</th>\n      <th>infant deaths</th>\n      <th>Alcohol</th>\n      <th>percentage expenditure</th>\n      <th>Hepatitis B</th>\n      <th>Measles</th>\n      <th>...</th>\n      <th>Polio</th>\n      <th>Total expenditure</th>\n      <th>Diphtheria</th>\n      <th>HIV/AIDS</th>\n      <th>GDP</th>\n      <th>Population</th>\n      <th>thinness  1-19 years</th>\n      <th>thinness 5-9 years</th>\n      <th>Income composition of resources</th>\n      <th>Schooling</th>\n    </tr>\n  </thead>\n  <tbody>\n    <tr>\n      <th>0</th>\n      <td>Afghanistan</td>\n      <td>2015</td>\n      <td>0</td>\n      <td>65.0</td>\n      <td>263.0</td>\n      <td>62</td>\n      <td>0.01</td>\n      <td>71.279624</td>\n      <td>65.0</td>\n      <td>1154</td>\n      <td>...</td>\n      <td>6.0</td>\n      <td>8.16</td>\n      <td>65.0</td>\n      <td>0.1</td>\n      <td>584.259210</td>\n      <td>33736494.0</td>\n      <td>17.2</td>\n      <td>17.3</td>\n      <td>0.479</td>\n      <td>10.1</td>\n    </tr>\n    <tr>\n      <th>1</th>\n      <td>Afghanistan</td>\n      <td>2014</td>\n      <td>0</td>\n      <td>59.9</td>\n      <td>271.0</td>\n      <td>64</td>\n      <td>0.01</td>\n      <td>73.523582</td>\n      <td>62.0</td>\n      <td>492</td>\n      <td>...</td>\n      <td>58.0</td>\n      <td>8.18</td>\n      <td>62.0</td>\n      <td>0.1</td>\n      <td>612.696514</td>\n      <td>327582.0</td>\n      <td>17.5</td>\n      <td>17.5</td>\n      <td>0.476</td>\n      <td>10.0</td>\n    </tr>\n    <tr>\n      <th>2</th>\n      <td>Afghanistan</td>\n      <td>2013</td>\n      <td>0</td>\n      <td>59.9</td>\n      <td>268.0</td>\n      <td>66</td>\n      <td>0.01</td>\n      <td>73.219243</td>\n      <td>64.0</td>\n      <td>430</td>\n      <td>...</td>\n      <td>62.0</td>\n      <td>8.13</td>\n      <td>64.0</td>\n      <td>0.1</td>\n      <td>631.744976</td>\n      <td>31731688.0</td>\n      <td>17.7</td>\n      <td>17.7</td>\n      <td>0.470</td>\n      <td>9.9</td>\n    </tr>\n    <tr>\n      <th>3</th>\n      <td>Afghanistan</td>\n      <td>2012</td>\n      <td>0</td>\n      <td>59.5</td>\n      <td>272.0</td>\n      <td>69</td>\n      <td>0.01</td>\n      <td>78.184215</td>\n      <td>67.0</td>\n      <td>2787</td>\n      <td>...</td>\n      <td>67.0</td>\n      <td>8.52</td>\n      <td>67.0</td>\n      <td>0.1</td>\n      <td>669.959000</td>\n      <td>3696958.0</td>\n      <td>17.9</td>\n      <td>18.0</td>\n      <td>0.463</td>\n      <td>9.8</td>\n    </tr>\n    <tr>\n      <th>4</th>\n      <td>Afghanistan</td>\n      <td>2011</td>\n      <td>0</td>\n      <td>59.2</td>\n      <td>275.0</td>\n      <td>71</td>\n      <td>0.01</td>\n      <td>7.097109</td>\n      <td>68.0</td>\n      <td>3013</td>\n      <td>...</td>\n      <td>68.0</td>\n      <td>7.87</td>\n      <td>68.0</td>\n      <td>0.1</td>\n      <td>63.537231</td>\n      <td>2978599.0</td>\n      <td>18.2</td>\n      <td>18.2</td>\n      <td>0.454</td>\n      <td>9.5</td>\n    </tr>\n  </tbody>\n</table>\n<p>5 rows × 22 columns</p>\n</div>"
     },
     "execution_count": 179,
     "metadata": {},
     "output_type": "execute_result"
    }
   ],
   "source": [
    "data[\"Status\"]=data[\"Status\"].map({\"Developing\":0,\"Developed\":1})\n",
    "data.head()"
   ],
   "metadata": {
    "collapsed": false
   }
  },
  {
   "cell_type": "code",
   "execution_count": 180,
   "outputs": [
    {
     "data": {
      "text/plain": "              Year       Status  Life expectancy   Adult Mortality  \\\ncount  2938.000000  2938.000000       2928.000000      2928.000000   \nmean   2007.518720     0.174268         69.224932       164.796448   \nstd       4.613841     0.379405          9.523867       124.292079   \nmin    2000.000000     0.000000         36.300000         1.000000   \n25%    2004.000000     0.000000         63.100000        74.000000   \n50%    2008.000000     0.000000         72.100000       144.000000   \n75%    2012.000000     0.000000         75.700000       228.000000   \nmax    2015.000000     1.000000         89.000000       723.000000   \n\n       infant deaths      Alcohol  percentage expenditure  Hepatitis B  \\\ncount    2938.000000  2744.000000             2938.000000  2385.000000   \nmean       30.303948     4.602861              738.251295    80.940461   \nstd       117.926501     4.052413             1987.914858    25.070016   \nmin         0.000000     0.010000                0.000000     1.000000   \n25%         0.000000     0.877500                4.685343    77.000000   \n50%         3.000000     3.755000               64.912906    92.000000   \n75%        22.000000     7.702500              441.534144    97.000000   \nmax      1800.000000    17.870000            19479.911610    99.000000   \n\n            Measles          BMI   ...        Polio  Total expenditure  \\\ncount    2938.000000  2904.000000  ...  2919.000000         2712.00000   \nmean     2419.592240    38.321247  ...    82.550188            5.93819   \nstd     11467.272489    20.044034  ...    23.428046            2.49832   \nmin         0.000000     1.000000  ...     3.000000            0.37000   \n25%         0.000000    19.300000  ...    78.000000            4.26000   \n50%        17.000000    43.500000  ...    93.000000            5.75500   \n75%       360.250000    56.200000  ...    97.000000            7.49250   \nmax    212183.000000    87.300000  ...    99.000000           17.60000   \n\n       Diphtheria      HIV/AIDS            GDP    Population  \\\ncount  2919.000000  2938.000000    2490.000000  2.286000e+03   \nmean     82.324084     1.742103    7483.158469  1.275338e+07   \nstd      23.716912     5.077785   14270.169342  6.101210e+07   \nmin       2.000000     0.100000       1.681350  3.400000e+01   \n25%      78.000000     0.100000     463.935626  1.957932e+05   \n50%      93.000000     0.100000    1766.947595  1.386542e+06   \n75%      97.000000     0.800000    5910.806335  7.420359e+06   \nmax      99.000000    50.600000  119172.741800  1.293859e+09   \n\n        thinness  1-19 years   thinness 5-9 years  \\\ncount            2904.000000          2904.000000   \nmean                4.839704             4.870317   \nstd                 4.420195             4.508882   \nmin                 0.100000             0.100000   \n25%                 1.600000             1.500000   \n50%                 3.300000             3.300000   \n75%                 7.200000             7.200000   \nmax                27.700000            28.600000   \n\n       Income composition of resources    Schooling  \ncount                      2771.000000  2775.000000  \nmean                          0.627551    11.992793  \nstd                           0.210904     3.358920  \nmin                           0.000000     0.000000  \n25%                           0.493000    10.100000  \n50%                           0.677000    12.300000  \n75%                           0.779000    14.300000  \nmax                           0.948000    20.700000  \n\n[8 rows x 21 columns]",
      "text/html": "<div>\n<style scoped>\n    .dataframe tbody tr th:only-of-type {\n        vertical-align: middle;\n    }\n\n    .dataframe tbody tr th {\n        vertical-align: top;\n    }\n\n    .dataframe thead th {\n        text-align: right;\n    }\n</style>\n<table border=\"1\" class=\"dataframe\">\n  <thead>\n    <tr style=\"text-align: right;\">\n      <th></th>\n      <th>Year</th>\n      <th>Status</th>\n      <th>Life expectancy</th>\n      <th>Adult Mortality</th>\n      <th>infant deaths</th>\n      <th>Alcohol</th>\n      <th>percentage expenditure</th>\n      <th>Hepatitis B</th>\n      <th>Measles</th>\n      <th>BMI</th>\n      <th>...</th>\n      <th>Polio</th>\n      <th>Total expenditure</th>\n      <th>Diphtheria</th>\n      <th>HIV/AIDS</th>\n      <th>GDP</th>\n      <th>Population</th>\n      <th>thinness  1-19 years</th>\n      <th>thinness 5-9 years</th>\n      <th>Income composition of resources</th>\n      <th>Schooling</th>\n    </tr>\n  </thead>\n  <tbody>\n    <tr>\n      <th>count</th>\n      <td>2938.000000</td>\n      <td>2938.000000</td>\n      <td>2928.000000</td>\n      <td>2928.000000</td>\n      <td>2938.000000</td>\n      <td>2744.000000</td>\n      <td>2938.000000</td>\n      <td>2385.000000</td>\n      <td>2938.000000</td>\n      <td>2904.000000</td>\n      <td>...</td>\n      <td>2919.000000</td>\n      <td>2712.00000</td>\n      <td>2919.000000</td>\n      <td>2938.000000</td>\n      <td>2490.000000</td>\n      <td>2.286000e+03</td>\n      <td>2904.000000</td>\n      <td>2904.000000</td>\n      <td>2771.000000</td>\n      <td>2775.000000</td>\n    </tr>\n    <tr>\n      <th>mean</th>\n      <td>2007.518720</td>\n      <td>0.174268</td>\n      <td>69.224932</td>\n      <td>164.796448</td>\n      <td>30.303948</td>\n      <td>4.602861</td>\n      <td>738.251295</td>\n      <td>80.940461</td>\n      <td>2419.592240</td>\n      <td>38.321247</td>\n      <td>...</td>\n      <td>82.550188</td>\n      <td>5.93819</td>\n      <td>82.324084</td>\n      <td>1.742103</td>\n      <td>7483.158469</td>\n      <td>1.275338e+07</td>\n      <td>4.839704</td>\n      <td>4.870317</td>\n      <td>0.627551</td>\n      <td>11.992793</td>\n    </tr>\n    <tr>\n      <th>std</th>\n      <td>4.613841</td>\n      <td>0.379405</td>\n      <td>9.523867</td>\n      <td>124.292079</td>\n      <td>117.926501</td>\n      <td>4.052413</td>\n      <td>1987.914858</td>\n      <td>25.070016</td>\n      <td>11467.272489</td>\n      <td>20.044034</td>\n      <td>...</td>\n      <td>23.428046</td>\n      <td>2.49832</td>\n      <td>23.716912</td>\n      <td>5.077785</td>\n      <td>14270.169342</td>\n      <td>6.101210e+07</td>\n      <td>4.420195</td>\n      <td>4.508882</td>\n      <td>0.210904</td>\n      <td>3.358920</td>\n    </tr>\n    <tr>\n      <th>min</th>\n      <td>2000.000000</td>\n      <td>0.000000</td>\n      <td>36.300000</td>\n      <td>1.000000</td>\n      <td>0.000000</td>\n      <td>0.010000</td>\n      <td>0.000000</td>\n      <td>1.000000</td>\n      <td>0.000000</td>\n      <td>1.000000</td>\n      <td>...</td>\n      <td>3.000000</td>\n      <td>0.37000</td>\n      <td>2.000000</td>\n      <td>0.100000</td>\n      <td>1.681350</td>\n      <td>3.400000e+01</td>\n      <td>0.100000</td>\n      <td>0.100000</td>\n      <td>0.000000</td>\n      <td>0.000000</td>\n    </tr>\n    <tr>\n      <th>25%</th>\n      <td>2004.000000</td>\n      <td>0.000000</td>\n      <td>63.100000</td>\n      <td>74.000000</td>\n      <td>0.000000</td>\n      <td>0.877500</td>\n      <td>4.685343</td>\n      <td>77.000000</td>\n      <td>0.000000</td>\n      <td>19.300000</td>\n      <td>...</td>\n      <td>78.000000</td>\n      <td>4.26000</td>\n      <td>78.000000</td>\n      <td>0.100000</td>\n      <td>463.935626</td>\n      <td>1.957932e+05</td>\n      <td>1.600000</td>\n      <td>1.500000</td>\n      <td>0.493000</td>\n      <td>10.100000</td>\n    </tr>\n    <tr>\n      <th>50%</th>\n      <td>2008.000000</td>\n      <td>0.000000</td>\n      <td>72.100000</td>\n      <td>144.000000</td>\n      <td>3.000000</td>\n      <td>3.755000</td>\n      <td>64.912906</td>\n      <td>92.000000</td>\n      <td>17.000000</td>\n      <td>43.500000</td>\n      <td>...</td>\n      <td>93.000000</td>\n      <td>5.75500</td>\n      <td>93.000000</td>\n      <td>0.100000</td>\n      <td>1766.947595</td>\n      <td>1.386542e+06</td>\n      <td>3.300000</td>\n      <td>3.300000</td>\n      <td>0.677000</td>\n      <td>12.300000</td>\n    </tr>\n    <tr>\n      <th>75%</th>\n      <td>2012.000000</td>\n      <td>0.000000</td>\n      <td>75.700000</td>\n      <td>228.000000</td>\n      <td>22.000000</td>\n      <td>7.702500</td>\n      <td>441.534144</td>\n      <td>97.000000</td>\n      <td>360.250000</td>\n      <td>56.200000</td>\n      <td>...</td>\n      <td>97.000000</td>\n      <td>7.49250</td>\n      <td>97.000000</td>\n      <td>0.800000</td>\n      <td>5910.806335</td>\n      <td>7.420359e+06</td>\n      <td>7.200000</td>\n      <td>7.200000</td>\n      <td>0.779000</td>\n      <td>14.300000</td>\n    </tr>\n    <tr>\n      <th>max</th>\n      <td>2015.000000</td>\n      <td>1.000000</td>\n      <td>89.000000</td>\n      <td>723.000000</td>\n      <td>1800.000000</td>\n      <td>17.870000</td>\n      <td>19479.911610</td>\n      <td>99.000000</td>\n      <td>212183.000000</td>\n      <td>87.300000</td>\n      <td>...</td>\n      <td>99.000000</td>\n      <td>17.60000</td>\n      <td>99.000000</td>\n      <td>50.600000</td>\n      <td>119172.741800</td>\n      <td>1.293859e+09</td>\n      <td>27.700000</td>\n      <td>28.600000</td>\n      <td>0.948000</td>\n      <td>20.700000</td>\n    </tr>\n  </tbody>\n</table>\n<p>8 rows × 21 columns</p>\n</div>"
     },
     "execution_count": 180,
     "metadata": {},
     "output_type": "execute_result"
    }
   ],
   "source": [
    "data.describe()"
   ],
   "metadata": {
    "collapsed": false
   }
  },
  {
   "cell_type": "markdown",
   "source": [
    "## Checking for missing values"
   ],
   "metadata": {
    "collapsed": false
   }
  },
  {
   "cell_type": "code",
   "execution_count": 181,
   "outputs": [
    {
     "data": {
      "text/plain": "Country                              0\nYear                                 0\nStatus                               0\nLife expectancy                     10\nAdult Mortality                     10\ninfant deaths                        0\nAlcohol                            194\npercentage expenditure               0\nHepatitis B                        553\nMeasles                              0\n BMI                                34\nunder-five deaths                    0\nPolio                               19\nTotal expenditure                  226\nDiphtheria                          19\n HIV/AIDS                            0\nGDP                                448\nPopulation                         652\n thinness  1-19 years               34\n thinness 5-9 years                 34\nIncome composition of resources    167\nSchooling                          163\ndtype: int64"
     },
     "execution_count": 181,
     "metadata": {},
     "output_type": "execute_result"
    }
   ],
   "source": [
    "data.isna().sum()"
   ],
   "metadata": {
    "collapsed": false
   }
  },
  {
   "cell_type": "code",
   "execution_count": 182,
   "outputs": [
    {
     "data": {
      "text/plain": "       Country  Year  Status  Life expectancy   Adult Mortality  \\\n0  Afghanistan  2015       0              65.0            263.0   \n1  Afghanistan  2014       0              59.9            271.0   \n2  Afghanistan  2013       0              59.9            268.0   \n3  Afghanistan  2012       0              59.5            272.0   \n4  Afghanistan  2011       0              59.2            275.0   \n\n   infant deaths  Alcohol  percentage expenditure  Hepatitis B  Measles   ...  \\\n0             62     0.01               71.279624         65.0      1154  ...   \n1             64     0.01               73.523582         62.0       492  ...   \n2             66     0.01               73.219243         64.0       430  ...   \n3             69     0.01               78.184215         67.0      2787  ...   \n4             71     0.01                7.097109         68.0      3013  ...   \n\n   Polio  Total expenditure  Diphtheria    HIV/AIDS         GDP  Population  \\\n0    6.0               8.16         65.0        0.1  584.259210  33736494.0   \n1   58.0               8.18         62.0        0.1  612.696514    327582.0   \n2   62.0               8.13         64.0        0.1  631.744976  31731688.0   \n3   67.0               8.52         67.0        0.1  669.959000   3696958.0   \n4   68.0               7.87         68.0        0.1   63.537231   2978599.0   \n\n    thinness  1-19 years   thinness 5-9 years  \\\n0                   17.2                 17.3   \n1                   17.5                 17.5   \n2                   17.7                 17.7   \n3                   17.9                 18.0   \n4                   18.2                 18.2   \n\n   Income composition of resources  Schooling  \n0                            0.479       10.1  \n1                            0.476       10.0  \n2                            0.470        9.9  \n3                            0.463        9.8  \n4                            0.454        9.5  \n\n[5 rows x 22 columns]",
      "text/html": "<div>\n<style scoped>\n    .dataframe tbody tr th:only-of-type {\n        vertical-align: middle;\n    }\n\n    .dataframe tbody tr th {\n        vertical-align: top;\n    }\n\n    .dataframe thead th {\n        text-align: right;\n    }\n</style>\n<table border=\"1\" class=\"dataframe\">\n  <thead>\n    <tr style=\"text-align: right;\">\n      <th></th>\n      <th>Country</th>\n      <th>Year</th>\n      <th>Status</th>\n      <th>Life expectancy</th>\n      <th>Adult Mortality</th>\n      <th>infant deaths</th>\n      <th>Alcohol</th>\n      <th>percentage expenditure</th>\n      <th>Hepatitis B</th>\n      <th>Measles</th>\n      <th>...</th>\n      <th>Polio</th>\n      <th>Total expenditure</th>\n      <th>Diphtheria</th>\n      <th>HIV/AIDS</th>\n      <th>GDP</th>\n      <th>Population</th>\n      <th>thinness  1-19 years</th>\n      <th>thinness 5-9 years</th>\n      <th>Income composition of resources</th>\n      <th>Schooling</th>\n    </tr>\n  </thead>\n  <tbody>\n    <tr>\n      <th>0</th>\n      <td>Afghanistan</td>\n      <td>2015</td>\n      <td>0</td>\n      <td>65.0</td>\n      <td>263.0</td>\n      <td>62</td>\n      <td>0.01</td>\n      <td>71.279624</td>\n      <td>65.0</td>\n      <td>1154</td>\n      <td>...</td>\n      <td>6.0</td>\n      <td>8.16</td>\n      <td>65.0</td>\n      <td>0.1</td>\n      <td>584.259210</td>\n      <td>33736494.0</td>\n      <td>17.2</td>\n      <td>17.3</td>\n      <td>0.479</td>\n      <td>10.1</td>\n    </tr>\n    <tr>\n      <th>1</th>\n      <td>Afghanistan</td>\n      <td>2014</td>\n      <td>0</td>\n      <td>59.9</td>\n      <td>271.0</td>\n      <td>64</td>\n      <td>0.01</td>\n      <td>73.523582</td>\n      <td>62.0</td>\n      <td>492</td>\n      <td>...</td>\n      <td>58.0</td>\n      <td>8.18</td>\n      <td>62.0</td>\n      <td>0.1</td>\n      <td>612.696514</td>\n      <td>327582.0</td>\n      <td>17.5</td>\n      <td>17.5</td>\n      <td>0.476</td>\n      <td>10.0</td>\n    </tr>\n    <tr>\n      <th>2</th>\n      <td>Afghanistan</td>\n      <td>2013</td>\n      <td>0</td>\n      <td>59.9</td>\n      <td>268.0</td>\n      <td>66</td>\n      <td>0.01</td>\n      <td>73.219243</td>\n      <td>64.0</td>\n      <td>430</td>\n      <td>...</td>\n      <td>62.0</td>\n      <td>8.13</td>\n      <td>64.0</td>\n      <td>0.1</td>\n      <td>631.744976</td>\n      <td>31731688.0</td>\n      <td>17.7</td>\n      <td>17.7</td>\n      <td>0.470</td>\n      <td>9.9</td>\n    </tr>\n    <tr>\n      <th>3</th>\n      <td>Afghanistan</td>\n      <td>2012</td>\n      <td>0</td>\n      <td>59.5</td>\n      <td>272.0</td>\n      <td>69</td>\n      <td>0.01</td>\n      <td>78.184215</td>\n      <td>67.0</td>\n      <td>2787</td>\n      <td>...</td>\n      <td>67.0</td>\n      <td>8.52</td>\n      <td>67.0</td>\n      <td>0.1</td>\n      <td>669.959000</td>\n      <td>3696958.0</td>\n      <td>17.9</td>\n      <td>18.0</td>\n      <td>0.463</td>\n      <td>9.8</td>\n    </tr>\n    <tr>\n      <th>4</th>\n      <td>Afghanistan</td>\n      <td>2011</td>\n      <td>0</td>\n      <td>59.2</td>\n      <td>275.0</td>\n      <td>71</td>\n      <td>0.01</td>\n      <td>7.097109</td>\n      <td>68.0</td>\n      <td>3013</td>\n      <td>...</td>\n      <td>68.0</td>\n      <td>7.87</td>\n      <td>68.0</td>\n      <td>0.1</td>\n      <td>63.537231</td>\n      <td>2978599.0</td>\n      <td>18.2</td>\n      <td>18.2</td>\n      <td>0.454</td>\n      <td>9.5</td>\n    </tr>\n  </tbody>\n</table>\n<p>5 rows × 22 columns</p>\n</div>"
     },
     "execution_count": 182,
     "metadata": {},
     "output_type": "execute_result"
    }
   ],
   "source": [
    "data.dropna(inplace=True)\n",
    "data.head()"
   ],
   "metadata": {
    "collapsed": false
   }
  },
  {
   "cell_type": "code",
   "execution_count": 183,
   "outputs": [
    {
     "data": {
      "text/plain": "Country                            0\nYear                               0\nStatus                             0\nLife expectancy                    0\nAdult Mortality                    0\ninfant deaths                      0\nAlcohol                            0\npercentage expenditure             0\nHepatitis B                        0\nMeasles                            0\n BMI                               0\nunder-five deaths                  0\nPolio                              0\nTotal expenditure                  0\nDiphtheria                         0\n HIV/AIDS                          0\nGDP                                0\nPopulation                         0\n thinness  1-19 years              0\n thinness 5-9 years                0\nIncome composition of resources    0\nSchooling                          0\ndtype: int64"
     },
     "execution_count": 183,
     "metadata": {},
     "output_type": "execute_result"
    }
   ],
   "source": [
    "data.isna().sum()"
   ],
   "metadata": {
    "collapsed": false
   }
  },
  {
   "cell_type": "markdown",
   "source": [
    "## Splitting the Data"
   ],
   "metadata": {
    "collapsed": false
   }
  },
  {
   "cell_type": "markdown",
   "source": [
    "## LE vs GDP"
   ],
   "metadata": {
    "collapsed": false
   }
  },
  {
   "cell_type": "code",
   "execution_count": 184,
   "outputs": [],
   "source": [
    "x=data[\"GDP\"]\n",
    "y=data[\"Life expectancy \"]"
   ],
   "metadata": {
    "collapsed": false
   }
  },
  {
   "cell_type": "code",
   "execution_count": 185,
   "outputs": [
    {
     "data": {
      "text/plain": "(1319, 1)"
     },
     "execution_count": 185,
     "metadata": {},
     "output_type": "execute_result"
    }
   ],
   "source": [
    "x_train,x_test,y_train,y_test=train_test_split(x,y,test_size=0.2,random_state=42)\n",
    "x_train=np.array(x_train)\n",
    "x_train=x_train.reshape(-1,1)\n",
    "x_train.shape"
   ],
   "metadata": {
    "collapsed": false
   }
  },
  {
   "cell_type": "code",
   "execution_count": 186,
   "outputs": [
    {
     "data": {
      "text/plain": "LinearRegression()",
      "text/html": "<style>#sk-container-id-14 {color: black;background-color: white;}#sk-container-id-14 pre{padding: 0;}#sk-container-id-14 div.sk-toggleable {background-color: white;}#sk-container-id-14 label.sk-toggleable__label {cursor: pointer;display: block;width: 100%;margin-bottom: 0;padding: 0.3em;box-sizing: border-box;text-align: center;}#sk-container-id-14 label.sk-toggleable__label-arrow:before {content: \"▸\";float: left;margin-right: 0.25em;color: #696969;}#sk-container-id-14 label.sk-toggleable__label-arrow:hover:before {color: black;}#sk-container-id-14 div.sk-estimator:hover label.sk-toggleable__label-arrow:before {color: black;}#sk-container-id-14 div.sk-toggleable__content {max-height: 0;max-width: 0;overflow: hidden;text-align: left;background-color: #f0f8ff;}#sk-container-id-14 div.sk-toggleable__content pre {margin: 0.2em;color: black;border-radius: 0.25em;background-color: #f0f8ff;}#sk-container-id-14 input.sk-toggleable__control:checked~div.sk-toggleable__content {max-height: 200px;max-width: 100%;overflow: auto;}#sk-container-id-14 input.sk-toggleable__control:checked~label.sk-toggleable__label-arrow:before {content: \"▾\";}#sk-container-id-14 div.sk-estimator input.sk-toggleable__control:checked~label.sk-toggleable__label {background-color: #d4ebff;}#sk-container-id-14 div.sk-label input.sk-toggleable__control:checked~label.sk-toggleable__label {background-color: #d4ebff;}#sk-container-id-14 input.sk-hidden--visually {border: 0;clip: rect(1px 1px 1px 1px);clip: rect(1px, 1px, 1px, 1px);height: 1px;margin: -1px;overflow: hidden;padding: 0;position: absolute;width: 1px;}#sk-container-id-14 div.sk-estimator {font-family: monospace;background-color: #f0f8ff;border: 1px dotted black;border-radius: 0.25em;box-sizing: border-box;margin-bottom: 0.5em;}#sk-container-id-14 div.sk-estimator:hover {background-color: #d4ebff;}#sk-container-id-14 div.sk-parallel-item::after {content: \"\";width: 100%;border-bottom: 1px solid gray;flex-grow: 1;}#sk-container-id-14 div.sk-label:hover label.sk-toggleable__label {background-color: #d4ebff;}#sk-container-id-14 div.sk-serial::before {content: \"\";position: absolute;border-left: 1px solid gray;box-sizing: border-box;top: 0;bottom: 0;left: 50%;z-index: 0;}#sk-container-id-14 div.sk-serial {display: flex;flex-direction: column;align-items: center;background-color: white;padding-right: 0.2em;padding-left: 0.2em;position: relative;}#sk-container-id-14 div.sk-item {position: relative;z-index: 1;}#sk-container-id-14 div.sk-parallel {display: flex;align-items: stretch;justify-content: center;background-color: white;position: relative;}#sk-container-id-14 div.sk-item::before, #sk-container-id-14 div.sk-parallel-item::before {content: \"\";position: absolute;border-left: 1px solid gray;box-sizing: border-box;top: 0;bottom: 0;left: 50%;z-index: -1;}#sk-container-id-14 div.sk-parallel-item {display: flex;flex-direction: column;z-index: 1;position: relative;background-color: white;}#sk-container-id-14 div.sk-parallel-item:first-child::after {align-self: flex-end;width: 50%;}#sk-container-id-14 div.sk-parallel-item:last-child::after {align-self: flex-start;width: 50%;}#sk-container-id-14 div.sk-parallel-item:only-child::after {width: 0;}#sk-container-id-14 div.sk-dashed-wrapped {border: 1px dashed gray;margin: 0 0.4em 0.5em 0.4em;box-sizing: border-box;padding-bottom: 0.4em;background-color: white;}#sk-container-id-14 div.sk-label label {font-family: monospace;font-weight: bold;display: inline-block;line-height: 1.2em;}#sk-container-id-14 div.sk-label-container {text-align: center;}#sk-container-id-14 div.sk-container {/* jupyter's `normalize.less` sets `[hidden] { display: none; }` but bootstrap.min.css set `[hidden] { display: none !important; }` so we also need the `!important` here to be able to override the default hidden behavior on the sphinx rendered scikit-learn.org. See: https://github.com/scikit-learn/scikit-learn/issues/21755 */display: inline-block !important;position: relative;}#sk-container-id-14 div.sk-text-repr-fallback {display: none;}</style><div id=\"sk-container-id-14\" class=\"sk-top-container\"><div class=\"sk-text-repr-fallback\"><pre>LinearRegression()</pre><b>In a Jupyter environment, please rerun this cell to show the HTML representation or trust the notebook. <br />On GitHub, the HTML representation is unable to render, please try loading this page with nbviewer.org.</b></div><div class=\"sk-container\" hidden><div class=\"sk-item\"><div class=\"sk-estimator sk-toggleable\"><input class=\"sk-toggleable__control sk-hidden--visually\" id=\"sk-estimator-id-14\" type=\"checkbox\" checked><label for=\"sk-estimator-id-14\" class=\"sk-toggleable__label sk-toggleable__label-arrow\">LinearRegression</label><div class=\"sk-toggleable__content\"><pre>LinearRegression()</pre></div></div></div></div></div>"
     },
     "execution_count": 186,
     "metadata": {},
     "output_type": "execute_result"
    }
   ],
   "source": [
    "reg=LinearRegression()\n",
    "reg.fit(x_train,y_train)"
   ],
   "metadata": {
    "collapsed": false
   }
  },
  {
   "cell_type": "code",
   "execution_count": 187,
   "outputs": [
    {
     "data": {
      "text/plain": "0.19478660652776247"
     },
     "execution_count": 187,
     "metadata": {},
     "output_type": "execute_result"
    }
   ],
   "source": [
    "reg.score(x_train,y_train)"
   ],
   "metadata": {
    "collapsed": false
   }
  }
 ],
 "metadata": {
  "kernelspec": {
   "display_name": "Python 3",
   "language": "python",
   "name": "python3"
  },
  "language_info": {
   "codemirror_mode": {
    "name": "ipython",
    "version": 2
   },
   "file_extension": ".py",
   "mimetype": "text/x-python",
   "name": "python",
   "nbconvert_exporter": "python",
   "pygments_lexer": "ipython2",
   "version": "2.7.6"
  }
 },
 "nbformat": 4,
 "nbformat_minor": 0
}
